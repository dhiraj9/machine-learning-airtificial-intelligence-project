{
  "cells": [
    {
      "cell_type": "markdown",
      "metadata": {
        "id": "-w49lFbKGdhq"
      },
      "source": [
        "# **PROJECT OBJECTIVE:** *Build a sequential NLP classifier which can use input text parameters to determine the customer sentiments.*"
      ]
    },
    {
      "cell_type": "code",
      "execution_count": 1,
      "metadata": {
        "colab": {
          "base_uri": "https://localhost:8080/"
        },
        "id": "Wy3txP7GBVwu",
        "outputId": "dba2dfec-eae3-4518-df94-944c461d76b6"
      },
      "outputs": [
        {
          "name": "stdout",
          "output_type": "stream",
          "text": [
            "Mounted at /content/drive/\n"
          ]
        }
      ],
      "source": [
        "from google.colab import drive\n",
        "drive.mount('/content/drive/',force_remount=True)"
      ]
    },
    {
      "cell_type": "code",
      "execution_count": 2,
      "metadata": {
        "colab": {
          "base_uri": "https://localhost:8080/"
        },
        "id": "i3hwDVOHFbwh",
        "outputId": "179dab10-e697-4d13-e753-d0e84f6032b7"
      },
      "outputs": [
        {
          "name": "stdout",
          "output_type": "stream",
          "text": [
            "2.5.0\n"
          ]
        }
      ],
      "source": [
        "#Importing all the necessary libraries\n",
        "import string\n",
        "import numpy as np\n",
        "import pandas as pd\n",
        "import matplotlib.pyplot as plt\n",
        "%matplotlib inline\n",
        "import seaborn as sns\n",
        "import warnings\n",
        "warnings.filterwarnings(\"ignore\") # To ignore any warnings\n",
        "\n",
        "import tensorflow as tf\n",
        "from tensorflow.keras.datasets import imdb # Loading Data\n",
        "from tensorflow.keras.preprocessing.sequence import pad_sequences # Preprocessing\n",
        "\n",
        "# Importing the libraries for model building\n",
        "from tensorflow.keras.models import Sequential\n",
        "from tensorflow.keras.layers import Embedding, Dense, Dropout, Flatten\n",
        "from tensorflow.keras.backend import clear_session\n",
        "\n",
        "# Metrics\n",
        "from sklearn.metrics import accuracy_score, confusion_matrix, classification_report\n",
        "\n",
        "print(tf.__version__)"
      ]
    },
    {
      "cell_type": "markdown",
      "metadata": {
        "id": "w_04k-VrGZdD"
      },
      "source": [
        "## 1. Import and analyse the data set."
      ]
    },
    {
      "cell_type": "code",
      "execution_count": 3,
      "metadata": {
        "id": "8wZ0UyjycvAK"
      },
      "outputs": [],
      "source": [
        "top_words = 10000\n",
        "max_len = 500\n",
        "embedding_size = 32"
      ]
    },
    {
      "cell_type": "code",
      "execution_count": 4,
      "metadata": {
        "id": "jmnzu5HsFsSb"
      },
      "outputs": [],
      "source": [
        "# Loading the dataset but only keep the top 10000 words, zero the rest\n",
        "(X_train, y_train), (X_test, y_test) = imdb.load_data(num_words=top_words)"
      ]
    },
    {
      "cell_type": "code",
      "execution_count": 5,
      "metadata": {
        "colab": {
          "base_uri": "https://localhost:8080/",
          "height": 195
        },
        "id": "rgIamEp5Ha1a",
        "outputId": "f70fad0d-0559-4f02-fd3b-6d2f67a5c05b"
      },
      "outputs": [
        {
          "data": {
            "text/html": [
              "<div>\n",
              "<style scoped>\n",
              "    .dataframe tbody tr th:only-of-type {\n",
              "        vertical-align: middle;\n",
              "    }\n",
              "\n",
              "    .dataframe tbody tr th {\n",
              "        vertical-align: top;\n",
              "    }\n",
              "\n",
              "    .dataframe thead th {\n",
              "        text-align: right;\n",
              "    }\n",
              "</style>\n",
              "<table border=\"1\" class=\"dataframe\">\n",
              "  <thead>\n",
              "    <tr style=\"text-align: right;\">\n",
              "      <th></th>\n",
              "      <th>Review</th>\n",
              "      <th>Sentiment</th>\n",
              "    </tr>\n",
              "  </thead>\n",
              "  <tbody>\n",
              "    <tr>\n",
              "      <th>26204</th>\n",
              "      <td>[1, 89, 70, 14, 20, 30, 2209, 449, 1243, 207, ...</td>\n",
              "      <td>0</td>\n",
              "    </tr>\n",
              "    <tr>\n",
              "      <th>20716</th>\n",
              "      <td>[1, 13, 40, 1016, 5213, 2868, 13, 119, 3114, 5...</td>\n",
              "      <td>0</td>\n",
              "    </tr>\n",
              "    <tr>\n",
              "      <th>46744</th>\n",
              "      <td>[1, 2, 9, 61, 514, 1143, 38, 54, 13, 557, 15, ...</td>\n",
              "      <td>1</td>\n",
              "    </tr>\n",
              "    <tr>\n",
              "      <th>32403</th>\n",
              "      <td>[1, 42, 144, 13, 135, 3386, 642, 345, 96, 14, ...</td>\n",
              "      <td>0</td>\n",
              "    </tr>\n",
              "    <tr>\n",
              "      <th>6064</th>\n",
              "      <td>[1, 14, 22, 65, 9, 78, 195, 63, 70, 593, 11, 1...</td>\n",
              "      <td>0</td>\n",
              "    </tr>\n",
              "  </tbody>\n",
              "</table>\n",
              "</div>"
            ],
            "text/plain": [
              "                                                  Review  Sentiment\n",
              "26204  [1, 89, 70, 14, 20, 30, 2209, 449, 1243, 207, ...          0\n",
              "20716  [1, 13, 40, 1016, 5213, 2868, 13, 119, 3114, 5...          0\n",
              "46744  [1, 2, 9, 61, 514, 1143, 38, 54, 13, 557, 15, ...          1\n",
              "32403  [1, 42, 144, 13, 135, 3386, 642, 345, 96, 14, ...          0\n",
              "6064   [1, 14, 22, 65, 9, 78, 195, 63, 70, 593, 11, 1...          0"
            ]
          },
          "execution_count": 5,
          "metadata": {
            "tags": []
          },
          "output_type": "execute_result"
        }
      ],
      "source": [
        "# Merging data to create features, labels and DataFrame\n",
        "X = np.concatenate((X_train, X_test), axis=0) # Features\n",
        "y = np.concatenate((y_train, y_test), axis=0) #Labels\n",
        "\n",
        "data_raw = pd.DataFrame({'Review': X, 'Sentiment': y}) #DataFrame\n",
        "data_raw.sample(5)"
      ]
    },
    {
      "cell_type": "markdown",
      "metadata": {
        "id": "jppZGu5OkNgq"
      },
      "source": [
        "### Inference:- Reviews is already preprocessed and sentiments are in binary format.\n"
      ]
    },
    {
      "cell_type": "code",
      "execution_count": 6,
      "metadata": {
        "colab": {
          "base_uri": "https://localhost:8080/"
        },
        "id": "FVUSxgC5t_24",
        "outputId": "3a7d157b-6b3e-4f26-97c9-0aa6625dfe05"
      },
      "outputs": [
        {
          "name": "stdout",
          "output_type": "stream",
          "text": [
            "Total training data shape: \n",
            "------------------------------\n",
            "Features:  (50000,)\n",
            "Labels:  (50000,)\n"
          ]
        }
      ],
      "source": [
        "# Summarizing dataset size\n",
        "print(\"Total training data shape: \")\n",
        "print(\"-\" * 30)\n",
        "print(\"Features: \", X.shape)\n",
        "print(\"Labels: \", y.shape)"
      ]
    },
    {
      "cell_type": "markdown",
      "metadata": {
        "id": "lSgZxNWNklBt"
      },
      "source": [
        "### Inference:- Total of 50000 movie reviews."
      ]
    },
    {
      "cell_type": "code",
      "execution_count": 7,
      "metadata": {
        "colab": {
          "base_uri": "https://localhost:8080/"
        },
        "id": "G1Hxkop8IRUa",
        "outputId": "337cfebe-7993-4e0c-884e-e50edc89f3c5"
      },
      "outputs": [
        {
          "name": "stdout",
          "output_type": "stream",
          "text": [
            "Labels:  [0 1]\n"
          ]
        }
      ],
      "source": [
        "# Summarizing number of labels\n",
        "print(\"Labels: \", np.unique(y))"
      ]
    },
    {
      "cell_type": "code",
      "execution_count": 8,
      "metadata": {
        "colab": {
          "base_uri": "https://localhost:8080/"
        },
        "id": "Amtwj9JS33dB",
        "outputId": "5674483a-463e-4ba3-9a7b-037652c43def"
      },
      "outputs": [
        {
          "data": {
            "text/plain": [
              "1    25000\n",
              "0    25000\n",
              "Name: Sentiment, dtype: int64"
            ]
          },
          "execution_count": 8,
          "metadata": {
            "tags": []
          },
          "output_type": "execute_result"
        }
      ],
      "source": [
        "# Summarizing label count\n",
        "data_raw['Sentiment'].value_counts()"
      ]
    },
    {
      "cell_type": "markdown",
      "metadata": {
        "id": "5fns6d63ktPk"
      },
      "source": [
        "### Inference:- The two sentiments are distributed equally in the dataset. "
      ]
    },
    {
      "cell_type": "code",
      "execution_count": 9,
      "metadata": {
        "colab": {
          "base_uri": "https://localhost:8080/"
        },
        "id": "TxdhqmdDIt8A",
        "outputId": "8f2c3cda-c744-456f-f7d6-fb4d8d5abc19"
      },
      "outputs": [
        {
          "name": "stdout",
          "output_type": "stream",
          "text": [
            "Number of words:  9998\n"
          ]
        }
      ],
      "source": [
        "# Summarizing number of words \n",
        "print(\"Number of words: \", len(np.unique(np.hstack(X))))"
      ]
    },
    {
      "cell_type": "code",
      "execution_count": 10,
      "metadata": {
        "colab": {
          "base_uri": "https://localhost:8080/",
          "height": 682
        },
        "id": "3elAnzNCJBiY",
        "outputId": "764b0f3c-d3c1-45ef-8f5e-7ec84ed6c6ab"
      },
      "outputs": [
        {
          "name": "stdout",
          "output_type": "stream",
          "text": [
            "Average Review length: 234.76\n",
            "Standard Deviation: 172.91\n"
          ]
        },
        {
          "data": {
            "text/plain": [
              "<matplotlib.axes._subplots.AxesSubplot at 0x7f0fae22ce90>"
            ]
          },
          "execution_count": 10,
          "metadata": {
            "tags": []
          },
          "output_type": "execute_result"
        },
        {
          "data": {
            "image/png": "[encoded data removed]",
            "text/plain": [
              "<Figure size 1440x720 with 1 Axes>"
            ]
          },
          "metadata": {
            "tags": []
          },
          "output_type": "display_data"
        }
      ],
      "source": [
        "# Summarizing review length\n",
        "length = [len(x) for x in X]\n",
        "print(\"Average Review length: %.2f\" % np.mean(length))\n",
        "print(\"Standard Deviation: %.2f\" % np.std(length))\n",
        "\n",
        "# Plotting review length\n",
        "plt.style.use('fivethirtyeight')\n",
        "plt.figure(figsize= (20,10))\n",
        "sns.boxplot(length)"
      ]
    },
    {
      "cell_type": "markdown",
      "metadata": {
        "id": "TNqKHZh0lJ7R"
      },
      "source": [
        "### Inference:- Range of review length lies between 0 and 525."
      ]
    },
    {
      "cell_type": "markdown",
      "metadata": {
        "id": "GUmU8E79lcHl"
      },
      "source": [
        "## 2. Perform relevant sequence adding on the data"
      ]
    },
    {
      "cell_type": "code",
      "execution_count": 11,
      "metadata": {
        "id": "uklBLNb-jBKk"
      },
      "outputs": [],
      "source": [
        "# pad dataset to a maximum review length in words\n",
        "X_train = pad_sequences(X_train, maxlen=max_len)\n",
        "X_test = pad_sequences(X_test, maxlen=max_len)"
      ]
    },
    {
      "cell_type": "markdown",
      "metadata": {
        "id": "qHehSaWoldsV"
      },
      "source": [
        "## 3. Perform following data analysis:\n",
        "\n",
        "### a.Print shape of features and labels."
      ]
    },
    {
      "cell_type": "code",
      "execution_count": 12,
      "metadata": {
        "colab": {
          "base_uri": "https://localhost:8080/"
        },
        "id": "gQww83xEGOda",
        "outputId": "3b479da4-1a87-430b-fb1b-3bb607ed3208"
      },
      "outputs": [
        {
          "name": "stdout",
          "output_type": "stream",
          "text": [
            "Shape of features:  (50000,)\n",
            "------------------------------\n",
            "Shape of labels:  (50000,)\n"
          ]
        }
      ],
      "source": [
        "print(\"Shape of features: \", X.shape)\n",
        "print(\"-\" * 30)\n",
        "print(\"Shape of labels: \", y.shape)"
      ]
    },
    {
      "cell_type": "markdown",
      "metadata": {
        "id": "0CP2_jyalpU5"
      },
      "source": [
        "### b.Print value of any one feature and it's label."
      ]
    },
    {
      "cell_type": "code",
      "execution_count": 13,
      "metadata": {
        "colab": {
          "base_uri": "https://localhost:8080/"
        },
        "id": "35VEumFkluIR",
        "outputId": "4d43942b-bf6e-4c95-9844-8930e0a339da"
      },
      "outputs": [
        {
          "name": "stdout",
          "output_type": "stream",
          "text": [
            "Label: 1\n",
            "------------------------------\n",
            "Feature: \n",
            "[1, 14, 22, 16, 43, 530, 973, 1622, 1385, 65, 458, 4468, 66, 3941, 4, 173, 36, 256, 5, 25, 100, 43, 838, 112, 50, 670, 2, 9, 35, 480, 284, 5, 150, 4, 172, 112, 167, 2, 336, 385, 39, 4, 172, 4536, 1111, 17, 546, 38, 13, 447, 4, 192, 50, 16, 6, 147, 2025, 19, 14, 22, 4, 1920, 4613, 469, 4, 22, 71, 87, 12, 16, 43, 530, 38, 76, 15, 13, 1247, 4, 22, 17, 515, 17, 12, 16, 626, 18, 2, 5, 62, 386, 12, 8, 316, 8, 106, 5, 4, 2223, 5244, 16, 480, 66, 3785, 33, 4, 130, 12, 16, 38, 619, 5, 25, 124, 51, 36, 135, 48, 25, 1415, 33, 6, 22, 12, 215, 28, 77, 52, 5, 14, 407, 16, 82, 2, 8, 4, 107, 117, 5952, 15, 256, 4, 2, 7, 3766, 5, 723, 36, 71, 43, 530, 476, 26, 400, 317, 46, 7, 4, 2, 1029, 13, 104, 88, 4, 381, 15, 297, 98, 32, 2071, 56, 26, 141, 6, 194, 7486, 18, 4, 226, 22, 21, 134, 476, 26, 480, 5, 144, 30, 5535, 18, 51, 36, 28, 224, 92, 25, 104, 4, 226, 65, 16, 38, 1334, 88, 12, 16, 283, 5, 16, 4472, 113, 103, 32, 15, 16, 5345, 19, 178, 32]\n"
          ]
        }
      ],
      "source": [
        "print(\"Label:\", y[0])\n",
        "print(\"-\" * 30)\n",
        "print(\"Feature: \")\n",
        "print(X[0])"
      ]
    },
    {
      "cell_type": "markdown",
      "metadata": {
        "id": "Sr3Hw-XFlwlE"
      },
      "source": [
        "## 4. Decode the feature value to get original sentence."
      ]
    },
    {
      "cell_type": "code",
      "execution_count": 14,
      "metadata": {
        "colab": {
          "base_uri": "https://localhost:8080/"
        },
        "id": "5ard9UA5rSun",
        "outputId": "eb086fb6-9564-444e-ad4b-6a997c80c12d"
      },
      "outputs": [
        {
          "name": "stdout",
          "output_type": "stream",
          "text": [
            "# this film was just brilliant casting location scenery story direction everyone's really suited the part they played and you could just imagine being there robert # is an amazing actor and now the same being director # father came from the same scottish island as myself so i loved the fact there was a real connection with this film the witty remarks throughout the film were great it was just brilliant so much that i bought the film as soon as it was released for # and would recommend it to everyone to watch and the fly fishing was amazing really cried at the end it was so sad and you know what they say if you cry at a film it must have been good and this definitely was also # to the two little boy's that played the # of norman and paul they were just brilliant children are often left out of the # list i think because the stars that play them all grown up are such a big profile for the whole film but these children are amazing and should be praised for what they have done don't you think the whole story was so lovely because it was true and was someone's life after all that was shared with us all\n"
          ]
        }
      ],
      "source": [
        "index = imdb.get_word_index()\n",
        "reverse_index = dict([(value, key) for (key, value) in index.items()]) \n",
        "decoded = \" \".join( [reverse_index.get(i - 3, \"#\") for i in X[0]] )\n",
        "print(decoded) "
      ]
    },
    {
      "cell_type": "markdown",
      "metadata": {
        "id": "cKQjtjVgrWkJ"
      },
      "source": [
        "## 5. Design, train, tune and test a sequential model."
      ]
    },
    {
      "cell_type": "code",
      "execution_count": 15,
      "metadata": {
        "colab": {
          "base_uri": "https://localhost:8080/"
        },
        "id": "RhsxgLNFUvv1",
        "outputId": "82e9017b-240f-4dd9-8843-04f3883a1aec"
      },
      "outputs": [
        {
          "name": "stdout",
          "output_type": "stream",
          "text": [
            "Shape of Training Data:  (25000, 500)\n",
            "------------------------------\n",
            "Shape of Testing Data:  (25000, 500)\n"
          ]
        }
      ],
      "source": [
        "print(\"Shape of Training Data: \", X_train.shape)\n",
        "print('-' * 30)\n",
        "print(\"Shape of Testing Data: \", X_test.shape)"
      ]
    },
    {
      "cell_type": "code",
      "execution_count": 16,
      "metadata": {
        "colab": {
          "base_uri": "https://localhost:8080/"
        },
        "id": "6R7rudrrU2kI",
        "outputId": "ae01c234-d414-4d17-fee0-5f6b779489c9"
      },
      "outputs": [
        {
          "name": "stdout",
          "output_type": "stream",
          "text": [
            "Model: \"sequential\"\n",
            "_________________________________________________________________\n",
            "Layer (type)                 Output Shape              Param #   \n",
            "=================================================================\n",
            "embedding (Embedding)        (None, 500, 32)           320000    \n",
            "_________________________________________________________________\n",
            "dense (Dense)                (None, 500, 250)          8250      \n",
            "_________________________________________________________________\n",
            "dropout (Dropout)            (None, 500, 250)          0         \n",
            "_________________________________________________________________\n",
            "flatten (Flatten)            (None, 125000)            0         \n",
            "_________________________________________________________________\n",
            "dense_1 (Dense)              (None, 150)               18750150  \n",
            "_________________________________________________________________\n",
            "dropout_1 (Dropout)          (None, 150)               0         \n",
            "_________________________________________________________________\n",
            "dense_2 (Dense)              (None, 1)                 151       \n",
            "=================================================================\n",
            "Total params: 19,078,551\n",
            "Trainable params: 19,078,551\n",
            "Non-trainable params: 0\n",
            "_________________________________________________________________\n"
          ]
        }
      ],
      "source": [
        "# Base Model Architechture\n",
        "clear_session()\n",
        "# Create the model\n",
        "model = Sequential()\n",
        "# Input Layer\n",
        "model.add(Embedding(top_words, embedding_size, input_length=max_len))\n",
        "model.add(Dense(250, activation='relu'))\n",
        "model.add(Dropout(0.3, noise_shape=None, seed=None))\n",
        "model.add(Flatten())\n",
        "model.add(Dense(150, activation='relu'))\n",
        "model.add(Dropout(0.2, noise_shape=None, seed=None))\n",
        "# Output Layer\n",
        "model.add(Dense(1, activation='sigmoid'))\n",
        "# Compling Model\n",
        "adam_opt = tf.keras.optimizers.Adam(lr=0.001)\n",
        "model.compile(loss='binary_crossentropy', optimizer= adam_opt, metrics=['accuracy'])\n",
        "#Model Summary\n",
        "model.summary()"
      ]
    },
    {
      "cell_type": "code",
      "execution_count": 17,
      "metadata": {
        "id": "YymJKKmHXJSu"
      },
      "outputs": [],
      "source": [
        "batch_size = 128\n",
        "epochs = 2"
      ]
    },
    {
      "cell_type": "code",
      "execution_count": 18,
      "metadata": {
        "colab": {
          "base_uri": "https://localhost:8080/"
        },
        "id": "vah2JMlla0Ry",
        "outputId": "4cc55a6c-6a87-4995-c7d3-2eac37fb3431"
      },
      "outputs": [
        {
          "name": "stdout",
          "output_type": "stream",
          "text": [
            "Epoch 1/2\n",
            "196/196 - 186s - loss: 0.4838 - accuracy: 0.7322 - val_loss: 0.2803 - val_accuracy: 0.8828\n",
            "Epoch 2/2\n",
            "196/196 - 185s - loss: 0.2097 - accuracy: 0.9207 - val_loss: 0.2828 - val_accuracy: 0.8821\n"
          ]
        }
      ],
      "source": [
        "# Fit the model\n",
        "history = model.fit(X_train, y_train, validation_data=(X_test, y_test), epochs = epochs, batch_size = batch_size, verbose=2)"
      ]
    },
    {
      "cell_type": "code",
      "execution_count": 19,
      "metadata": {
        "colab": {
          "base_uri": "https://localhost:8080/"
        },
        "id": "j4vH4AYLa2O3",
        "outputId": "d22ae321-2c65-47e3-f2f5-05db4950434d"
      },
      "outputs": [
        {
          "name": "stdout",
          "output_type": "stream",
          "text": [
            "Train Accuracy: 96.472%\n",
            "Train Loss: 0.121\n",
            "------------------------------\n",
            "Test Accuracy: 88.208%\n",
            "Test Loss: 0.283\n"
          ]
        }
      ],
      "source": [
        "# Final evaluation of the model\n",
        "loss, acc = model.evaluate(X_train, y_train, verbose=0)\n",
        "print('Train Accuracy: %.3f%%' % (acc*100))\n",
        "print('Train Loss: %.3f'% loss)\n",
        "print(\"-\" * 30)\n",
        "\n",
        "loss, acc = model.evaluate(X_test, y_test, verbose=0)\n",
        "print('Test Accuracy: %.3f%%' % (acc*100))\n",
        "print('Test Loss: %.3f'% loss)"
      ]
    },
    {
      "cell_type": "code",
      "execution_count": 20,
      "metadata": {
        "colab": {
          "base_uri": "https://localhost:8080/"
        },
        "id": "kaWbtf0Wa6m_",
        "outputId": "233f50d1-9d3a-4604-bf22-99640e3dcbea"
      },
      "outputs": [
        {
          "data": {
            "text/plain": [
              "array([0.19063598], dtype=float32)"
            ]
          },
          "execution_count": 20,
          "metadata": {
            "tags": []
          },
          "output_type": "execute_result"
        }
      ],
      "source": [
        "# Predicting for all of test dataset \n",
        "predictions = model.predict(X_test)\n",
        "predictions[0]"
      ]
    },
    {
      "cell_type": "code",
      "execution_count": 21,
      "metadata": {
        "id": "-0K-oiYBx1EM"
      },
      "outputs": [],
      "source": [
        "# Inversing probability into test labels\n",
        "rounded = [round(x[0]) for x in predictions]\n",
        "predictions = rounded"
      ]
    },
    {
      "cell_type": "code",
      "execution_count": 22,
      "metadata": {
        "colab": {
          "base_uri": "https://localhost:8080/",
          "height": 923
        },
        "id": "7dZX3sWSbKqP",
        "outputId": "3fbc6a8c-820e-49db-d0ba-32a2514ffecf"
      },
      "outputs": [
        {
          "data": {
            "text/plain": [
              "Text(0.5, 1.0, 'Accuracy Score: 0.88208')"
            ]
          },
          "execution_count": 22,
          "metadata": {
            "tags": []
          },
          "output_type": "execute_result"
        },
        {
          "data": {
            "image/png": "[encoded data removed]",
            "text/plain": [
              "<Figure size 1080x1080 with 2 Axes>"
            ]
          },
          "metadata": {
            "tags": []
          },
          "output_type": "display_data"
        }
      ],
      "source": [
        "# Confusion Matrix\n",
        "\n",
        "cm = confusion_matrix(y_test,predictions)\n",
        "plt.figure(figsize=(15,15))\n",
        "sns.heatmap(cm, annot = True, fmt = '.3f', linewidths = .5, square = True, cmap=\"YlGnBu\")\n",
        "plt.ylabel('Actual Label')\n",
        "plt.xlabel('Predicted Label')\n",
        "all_sample_title = 'Accuracy Score: {0}'.format(accuracy_score(y_test,predictions))\n",
        "plt.title(all_sample_title, size = 20)"
      ]
    },
    {
      "cell_type": "markdown",
      "metadata": {
        "id": "uvBt6nproGHD"
      },
      "source": [
        "### Inferences:-\n",
        "### 1. About 1300 labels are wrongly classified in 0.\n",
        "### 2. About 1600 labels are wrongly classified in 1."
      ]
    },
    {
      "cell_type": "code",
      "execution_count": 23,
      "metadata": {
        "colab": {
          "base_uri": "https://localhost:8080/"
        },
        "id": "pT_K9JtWbMLH",
        "outputId": "e68611c6-17a2-496b-a250-82a782e22c27"
      },
      "outputs": [
        {
          "name": "stdout",
          "output_type": "stream",
          "text": [
            "              precision    recall  f1-score   support\n",
            "\n",
            "           0       0.89      0.87      0.88     12500\n",
            "           1       0.87      0.89      0.88     12500\n",
            "\n",
            "    accuracy                           0.88     25000\n",
            "   macro avg       0.88      0.88      0.88     25000\n",
            "weighted avg       0.88      0.88      0.88     25000\n",
            "\n"
          ]
        }
      ],
      "source": [
        "# Classification Report\n",
        "print(classification_report(y_test, predictions))"
      ]
    },
    {
      "cell_type": "markdown",
      "metadata": {
        "id": "ZYHD_08Xob_b"
      },
      "source": [
        "### Inference:- f1-score for 0's and 1's are same. Also macro avg f1-score is same to accuracy and weighted avg f1-score."
      ]
    },
    {
      "cell_type": "code",
      "execution_count": 24,
      "metadata": {
        "id": "D_hQ2s5qb6PO"
      },
      "outputs": [],
      "source": [
        "# Plotting History\n",
        "def plot_history(history):\n",
        "    # Storing Accuracies and Losses data of Training and Validation\n",
        "    acc = history.history['accuracy']\n",
        "    val_acc = history.history['val_accuracy']\n",
        "    loss = history.history['loss']\n",
        "    val_loss = history.history['val_loss']\n",
        "    x = range(1, len(acc) + 1)\n",
        "    # Features settings for plot\n",
        "    plt.figure(figsize=(12, 5))\n",
        "    plt.subplot(1, 2, 1)\n",
        "    plt.xlabel('Epoch ==>')\n",
        "    plt.ylabel('Accuracy (%) ==>')\n",
        "    plt.plot(x, acc, 'c', label='Training acc')\n",
        "    plt.plot(x, val_acc, 'm', label='Validation acc')\n",
        "    plt.title('Training and validation accuracy')\n",
        "    plt.legend()\n",
        "    plt.subplot(1, 2, 2)\n",
        "    plt.xlabel('Epoch ==>')\n",
        "    plt.ylabel('Loss ==>')\n",
        "    plt.plot(x, loss, 'c', label='Training loss')\n",
        "    plt.plot(x, val_loss, 'm', label='Validation loss')\n",
        "    plt.title('Training and validation loss')\n",
        "    plt.legend()"
      ]
    },
    {
      "cell_type": "code",
      "execution_count": 25,
      "metadata": {
        "colab": {
          "base_uri": "https://localhost:8080/",
          "height": 383
        },
        "id": "mEQTAKxXmqH5",
        "outputId": "8003deb6-70db-441d-d593-8a031be25884"
      },
      "outputs": [
        {
          "data": {
            "image/png": "[encoded data removed]",
            "text/plain": [
              "<Figure size 864x360 with 2 Axes>"
            ]
          },
          "metadata": {
            "tags": []
          },
          "output_type": "display_data"
        }
      ],
      "source": [
        "plot_history(history)"
      ]
    },
    {
      "cell_type": "markdown",
      "metadata": {
        "id": "EzOAgv6TqeK1"
      },
      "source": [
        "### Inference:- From the above plot it can be concluded that this model has low learning rate and has a little problem of overfitting."
      ]
    },
    {
      "cell_type": "markdown",
      "metadata": {
        "id": "XCpE00DjrkE-"
      },
      "source": [
        "## 6. Use the designed model to print the prediction on any one sample."
      ]
    },
    {
      "cell_type": "code",
      "execution_count": 26,
      "metadata": {
        "id": "NcIYlK6zMpwO"
      },
      "outputs": [],
      "source": [
        "# Creating word dictionary for comparing with the random input sample\n",
        "word_dict = imdb.get_word_index()\n",
        "word_dict = { key:(value + 3) for key, value in word_dict.items() }\n",
        "word_dict[''] = 0  # Padding\n",
        "word_dict['>'] = 1 # Start\n",
        "word_dict['?'] = 2 # Unknown word\n",
        "reverse_word_dict = { value:key for key, value in word_dict.items() }"
      ]
    },
    {
      "cell_type": "code",
      "execution_count": 27,
      "metadata": {
        "id": "6EaZ5c8ACK2A"
      },
      "outputs": [],
      "source": [
        "def predict_on_sample(text):\n",
        "    # Preparing the input by removing punctuation characters, converting characters to lower case, and removing words containing numbers\n",
        "    translator = str.maketrans('', '', string.punctuation)\n",
        "    text = text.translate(translator)\n",
        "    text = text.lower().split(' ')\n",
        "    text = [word for word in text if word.isalpha()]\n",
        "\n",
        "    # Generating an input tensor\n",
        "    input = [1]\n",
        "    for word in text:\n",
        "        if word in word_dict and word_dict[word] < top_words:\n",
        "            input.append(word_dict[word])\n",
        "        else:\n",
        "            input.append(2)\n",
        "    padded_input = pad_sequences([input], maxlen=max_len)\n",
        "\n",
        "    # Predicting on sample using the model and returning the result\n",
        "    result = model.predict(np.array([padded_input][0]))[0][0]\n",
        "\n",
        "    # Checking the result for Positive or Negative Prediction\n",
        "    predicted_sentiment = \"\"\n",
        "    if round(result) == 1:\n",
        "      predicted_sentiment = \"Predicted Sentiment is Positive\"\n",
        "    else:\n",
        "      predicted_sentiment = \"Predicted Sentiment is Negative\" \n",
        "\n",
        "    return result, predicted_sentiment"
      ]
    },
    {
      "cell_type": "code",
      "execution_count": 28,
      "metadata": {
        "colab": {
          "base_uri": "https://localhost:8080/"
        },
        "id": "ejaOR3vFCjoT",
        "outputId": "0b31beea-634a-4902-da16-1ddd7187101c"
      },
      "outputs": [
        {
          "name": "stdout",
          "output_type": "stream",
          "text": [
            "Predicted Probability :  0.78588355\n",
            "------------------------------\n",
            "Predicted Sentiment is Positive\n"
          ]
        }
      ],
      "source": [
        "# Passing a random positive movie review of from google for prediction\n",
        "result, predicted_sentiment = predict_on_sample(\"This movie, as far as J-Statham films goes, was phenomenal. If you are going into this expecting an action film, you are definitely getting more than you bargained for.\")\n",
        "print(\"Predicted Probability : \", result)\n",
        "print(\"-\" * 30)\n",
        "print(predicted_sentiment)"
      ]
    },
    {
      "cell_type": "code",
      "execution_count": 29,
      "metadata": {
        "colab": {
          "base_uri": "https://localhost:8080/"
        },
        "id": "Om7ufgJgPECY",
        "outputId": "39dc29a7-7b89-428a-ecfe-754bad58d6a0"
      },
      "outputs": [
        {
          "name": "stdout",
          "output_type": "stream",
          "text": [
            "Predicted Probability :  0.015874863\n",
            "------------------------------\n",
            "Predicted Sentiment is Negative\n"
          ]
        }
      ],
      "source": [
        "# Passing a random negative movie review from google for prediction\n",
        "result, predicted_sentiment = predict_on_sample(\"I was completely wrong.  The acting and dialogue were horrible.  Couldn’t decide if the screenwriter hurt the acting or the actors butchered the script.  Both were equally awful.\")\n",
        "print(\"Predicted Probability : \", result)\n",
        "print(\"-\" * 30)\n",
        "print(predicted_sentiment)"
      ]
    },
    {
      "cell_type": "markdown",
      "metadata": {
        "id": "gKF0Rl4jq3qq"
      },
      "source": [
        "### Inference:- The model is predicting very good on the random sample taken from google for the same movie. This is probably because these reviews contains the words from top 10000 words used from dataset."
      ]
    }
  ],
  "metadata": {
    "colab": {
      "collapsed_sections": [],
      "name": "pgp_aiml_pune_feb20_R9_Sequential_NLP_Project_1.ipynb",
      "provenance": []
    },
    "interpreter": {
      "hash": "3c3b1f68f84beab8382f21a915ede04862a3ee36b0db72f203c6e0d4c6345b06"
    },
    "kernelspec": {
      "display_name": "Python 3.8.10 64-bit ('base': conda)",
      "name": "python3"
    },
    "language_info": {
      "name": "python",
      "version": ""
    }
  },
  "nbformat": 4,
  "nbformat_minor": 0
}