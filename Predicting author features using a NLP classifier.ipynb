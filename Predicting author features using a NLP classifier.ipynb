{
  "nbformat": 4,
  "nbformat_minor": 0,
  "metadata": {
    "colab": {
      "name": "pgp-aiml-pune-feb20-R8_Statistical_NLP-Project.ipynb",
      "provenance": [],
      "collapsed_sections": []
    },
    "kernelspec": {
      "display_name": "Python 3",
      "name": "python3"
    },
    "language_info": {
      "name": "python"
    }
  },
  "cells": [
    {
      "cell_type": "markdown",
      "metadata": {
        "id": "__ky2tSviLrN"
      },
      "source": [
        "# PART 1\n",
        "\n",
        "---\n",
        "\n",
        "---"
      ]
    },
    {
      "cell_type": "markdown",
      "metadata": {
        "id": "nFyc9uPpgtu1"
      },
      "source": [
        "# 1. Import and analyse the data set."
      ]
    },
    {
      "cell_type": "code",
      "metadata": {
        "colab": {
          "base_uri": "https://localhost:8080/"
        },
        "id": "6aawoOQCiqPV",
        "outputId": "902e8be6-f853-4399-a625-65532825c0a4"
      },
      "source": [
        "from google.colab import drive\n",
        "drive.mount('/content/drive/',force_remount=True)"
      ],
      "execution_count": 1,
      "outputs": [
        {
          "output_type": "stream",
          "text": [
            "Mounted at /content/drive/\n"
          ],
          "name": "stdout"
        }
      ]
    },
    {
      "cell_type": "code",
      "metadata": {
        "id": "b1MQSypY0et2"
      },
      "source": [
        "!pip install -q --upgrade ipython\n",
        "!pip install -q --upgrade ipykernel"
      ],
      "execution_count": 2,
      "outputs": []
    },
    {
      "cell_type": "code",
      "metadata": {
        "id": "9vP903PFwmPS"
      },
      "source": [
        "!pip install nltk --quiet"
      ],
      "execution_count": 3,
      "outputs": []
    },
    {
      "cell_type": "code",
      "metadata": {
        "colab": {
          "base_uri": "https://localhost:8080/"
        },
        "id": "-9rEM03GigkC",
        "outputId": "9c180e81-fc8a-43ec-f300-358b0af12718"
      },
      "source": [
        "!pip install scikit-multilearn"
      ],
      "execution_count": 4,
      "outputs": [
        {
          "output_type": "stream",
          "text": [
            "Requirement already satisfied: scikit-multilearn in /usr/local/lib/python3.7/dist-packages (0.2.0)\n"
          ],
          "name": "stdout"
        }
      ]
    },
    {
      "cell_type": "code",
      "metadata": {
        "colab": {
          "base_uri": "https://localhost:8080/"
        },
        "id": "XwLW0xELeLA1",
        "outputId": "53f78850-2ae4-4e11-f335-82ce199ed3a6"
      },
      "source": [
        "#Importing all the necessary libraries\n",
        "import os\n",
        "import json \n",
        "import string\n",
        "import random\n",
        "import numpy as np\n",
        "import pandas as pd\n",
        "import seaborn as sns\n",
        "import matplotlib.pyplot as plt\n",
        "%matplotlib inline\n",
        "\n",
        "from sklearn.model_selection import train_test_split\n",
        "from sklearn.utils import shuffle\n",
        "from sklearn.multiclass import OneVsRestClassifier\n",
        "from sklearn.linear_model import LogisticRegression\n",
        "from sklearn.svm import LinearSVC\n",
        "from skmultilearn.problem_transform import ClassifierChain\n",
        "from sklearn.preprocessing import MultiLabelBinarizer\n",
        "from sklearn.metrics import accuracy_score,confusion_matrix,classification_report\n",
        "\n",
        "import re\n",
        "import nltk\n",
        "nltk.download('stopwords')  #downloading stopwords\n",
        "nltk.download(\"punkt\")  #downloading sentence tokenizer\n",
        "nltk.download(\"wordnet\") #downloading english dictionary corpus\n",
        "from nltk.corpus import stopwords\n",
        "from nltk.stem import WordNetLemmatizer \n",
        "from sklearn.feature_extraction.text import CountVectorizer\n",
        "from sklearn.model_selection import train_test_split\n",
        "from nltk.stem.snowball import SnowballStemmer\n",
        "\n",
        "import tensorflow as tf \n",
        "from tensorflow.keras import Sequential \n",
        "from tensorflow.keras.layers import Dense, Dropout\n",
        "\n",
        "import warnings\n",
        "warnings.filterwarnings('ignore')"
      ],
      "execution_count": 5,
      "outputs": [
        {
          "output_type": "stream",
          "text": [
            "[nltk_data] Downloading package stopwords to /root/nltk_data...\n",
            "[nltk_data]   Package stopwords is already up-to-date!\n",
            "[nltk_data] Downloading package punkt to /root/nltk_data...\n",
            "[nltk_data]   Package punkt is already up-to-date!\n",
            "[nltk_data] Downloading package wordnet to /root/nltk_data...\n",
            "[nltk_data]   Package wordnet is already up-to-date!\n"
          ],
          "name": "stdout"
        }
      ]
    },
    {
      "cell_type": "code",
      "metadata": {
        "colab": {
          "base_uri": "https://localhost:8080/",
          "height": 35
        },
        "id": "bze8B08qjPoP",
        "outputId": "bc61ee3a-a342-4e11-9960-9750dc2d2106"
      },
      "source": [
        "project_path = r\"/content/drive/MyDrive/Colab Notebooks/Great_Learning/NLP/Statistical_NLP_Project/\"\n",
        "os.chdir(project_path)\n",
        "os.getcwd()"
      ],
      "execution_count": 6,
      "outputs": [
        {
          "output_type": "execute_result",
          "data": {
            "application/vnd.google.colaboratory.intrinsic+json": {
              "type": "string"
            },
            "text/plain": [
              "'/content/drive/MyDrive/Colab Notebooks/Great_Learning/NLP/Statistical_NLP_Project'"
            ]
          },
          "metadata": {
            "tags": []
          },
          "execution_count": 6
        }
      ]
    },
    {
      "cell_type": "code",
      "metadata": {
        "id": "XFfllABbgs5C"
      },
      "source": [
        "df = pd.read_csv(\"blogtext.csv\")"
      ],
      "execution_count": 7,
      "outputs": []
    },
    {
      "cell_type": "code",
      "metadata": {
        "colab": {
          "base_uri": "https://localhost:8080/"
        },
        "id": "4NlxzKqHjhPT",
        "outputId": "8d26c2b1-ae59-48ea-ca30-2ec323527091"
      },
      "source": [
        "print(\"Dimesions of data : \", df.shape)"
      ],
      "execution_count": 8,
      "outputs": [
        {
          "output_type": "stream",
          "text": [
            "Dimesions of data :  (681284, 7)\n"
          ],
          "name": "stdout"
        }
      ]
    },
    {
      "cell_type": "markdown",
      "metadata": {
        "id": "fmhUW9fuMtYx"
      },
      "source": [
        "### ***Inference:-*** We have huge dataset of 6 lakhs+ records and 7 attributes."
      ]
    },
    {
      "cell_type": "code",
      "metadata": {
        "colab": {
          "base_uri": "https://localhost:8080/",
          "height": 195
        },
        "id": "IPbMZ_wijrpU",
        "outputId": "248c913f-c9b8-4e9a-9e69-b28ac4423806"
      },
      "source": [
        "df.sample(5)"
      ],
      "execution_count": 9,
      "outputs": [
        {
          "output_type": "execute_result",
          "data": {
            "text/html": [
              "<div>\n",
              "<style scoped>\n",
              "    .dataframe tbody tr th:only-of-type {\n",
              "        vertical-align: middle;\n",
              "    }\n",
              "\n",
              "    .dataframe tbody tr th {\n",
              "        vertical-align: top;\n",
              "    }\n",
              "\n",
              "    .dataframe thead th {\n",
              "        text-align: right;\n",
              "    }\n",
              "</style>\n",
              "<table border=\"1\" class=\"dataframe\">\n",
              "  <thead>\n",
              "    <tr style=\"text-align: right;\">\n",
              "      <th></th>\n",
              "      <th>id</th>\n",
              "      <th>gender</th>\n",
              "      <th>age</th>\n",
              "      <th>topic</th>\n",
              "      <th>sign</th>\n",
              "      <th>date</th>\n",
              "      <th>text</th>\n",
              "    </tr>\n",
              "  </thead>\n",
              "  <tbody>\n",
              "    <tr>\n",
              "      <th>405792</th>\n",
              "      <td>730427</td>\n",
              "      <td>male</td>\n",
              "      <td>15</td>\n",
              "      <td>Arts</td>\n",
              "      <td>Capricorn</td>\n",
              "      <td>15,August,2002</td>\n",
              "      <td>hello</td>\n",
              "    </tr>\n",
              "    <tr>\n",
              "      <th>284219</th>\n",
              "      <td>692449</td>\n",
              "      <td>male</td>\n",
              "      <td>24</td>\n",
              "      <td>Technology</td>\n",
              "      <td>Scorpio</td>\n",
              "      <td>01,August,2004</td>\n",
              "      <td>urlLink Here  is a cool article about ...</td>\n",
              "    </tr>\n",
              "    <tr>\n",
              "      <th>354323</th>\n",
              "      <td>2414493</td>\n",
              "      <td>female</td>\n",
              "      <td>16</td>\n",
              "      <td>Student</td>\n",
              "      <td>Aries</td>\n",
              "      <td>28,June,2004</td>\n",
              "      <td>Day three.  I've finally bought, ...</td>\n",
              "    </tr>\n",
              "    <tr>\n",
              "      <th>658825</th>\n",
              "      <td>1337805</td>\n",
              "      <td>female</td>\n",
              "      <td>17</td>\n",
              "      <td>Student</td>\n",
              "      <td>Aquarius</td>\n",
              "      <td>01,August,2004</td>\n",
              "      <td>I dreamed again.   This time, me and Bo...</td>\n",
              "    </tr>\n",
              "    <tr>\n",
              "      <th>280923</th>\n",
              "      <td>958176</td>\n",
              "      <td>male</td>\n",
              "      <td>17</td>\n",
              "      <td>Non-Profit</td>\n",
              "      <td>Gemini</td>\n",
              "      <td>02,June,2004</td>\n",
              "      <td>Yeah, so we definitely don't have to fi...</td>\n",
              "    </tr>\n",
              "  </tbody>\n",
              "</table>\n",
              "</div>"
            ],
            "text/plain": [
              "             id  ...                                               text\n",
              "405792   730427  ...                                    hello          \n",
              "284219   692449  ...          urlLink Here  is a cool article about ...\n",
              "354323  2414493  ...               Day three.  I've finally bought, ...\n",
              "658825  1337805  ...         I dreamed again.   This time, me and Bo...\n",
              "280923   958176  ...         Yeah, so we definitely don't have to fi...\n",
              "\n",
              "[5 rows x 7 columns]"
            ]
          },
          "metadata": {
            "tags": []
          },
          "execution_count": 9
        }
      ]
    },
    {
      "cell_type": "markdown",
      "metadata": {
        "id": "1v3srW0iM8WA"
      },
      "source": [
        "### ***Inference:-*** Useful attributes are  **\"Gender\" , \"Age\", \"Topic\", \"Sign\" and \"Text\".** "
      ]
    },
    {
      "cell_type": "code",
      "metadata": {
        "colab": {
          "base_uri": "https://localhost:8080/"
        },
        "id": "aZhYmhKF2Bas",
        "outputId": "56f7e7d9-f37a-4526-d83f-efad95198b31"
      },
      "source": [
        "df.topic.value_counts()"
      ],
      "execution_count": 10,
      "outputs": [
        {
          "output_type": "execute_result",
          "data": {
            "text/plain": [
              "indUnk                     251015\n",
              "Student                    153903\n",
              "Technology                  42055\n",
              "Arts                        32449\n",
              "Education                   29633\n",
              "Communications-Media        20140\n",
              "Internet                    16006\n",
              "Non-Profit                  14700\n",
              "Engineering                 11653\n",
              "Law                          9040\n",
              "Publishing                   7753\n",
              "Science                      7269\n",
              "Government                   6907\n",
              "Consulting                   5862\n",
              "Religion                     5235\n",
              "Fashion                      4851\n",
              "Marketing                    4769\n",
              "Advertising                  4676\n",
              "BusinessServices             4500\n",
              "Banking                      4049\n",
              "Chemicals                    3928\n",
              "Telecommunications           3891\n",
              "Accounting                   3832\n",
              "Military                     3128\n",
              "Museums-Libraries            3096\n",
              "Sports-Recreation            3038\n",
              "HumanResources               3010\n",
              "RealEstate                   2870\n",
              "Transportation               2326\n",
              "Manufacturing                2272\n",
              "Biotech                      2234\n",
              "Tourism                      1942\n",
              "LawEnforcement-Security      1878\n",
              "Architecture                 1638\n",
              "InvestmentBanking            1292\n",
              "Automotive                   1244\n",
              "Agriculture                  1235\n",
              "Construction                 1093\n",
              "Environment                   592\n",
              "Maritime                      280\n",
              "Name: topic, dtype: int64"
            ]
          },
          "metadata": {
            "tags": []
          },
          "execution_count": 10
        }
      ]
    },
    {
      "cell_type": "markdown",
      "metadata": {
        "id": "ZvjqdlVeNSVB"
      },
      "source": [
        "### ***Inference:-*** We have a dataset that is **baised** towards **Topics** like **\"indUnk\"** and **\"Student\"**."
      ]
    },
    {
      "cell_type": "code",
      "metadata": {
        "colab": {
          "base_uri": "https://localhost:8080/"
        },
        "id": "5L15HM9Qq6S4",
        "outputId": "98476390-a5fd-4d37-b3bd-263dbb75a9db"
      },
      "source": [
        "df.sign.value_counts()"
      ],
      "execution_count": 11,
      "outputs": [
        {
          "output_type": "execute_result",
          "data": {
            "text/plain": [
              "Cancer         65048\n",
              "Aries          64979\n",
              "Taurus         62561\n",
              "Libra          62363\n",
              "Virgo          60399\n",
              "Scorpio        57161\n",
              "Pisces         54053\n",
              "Leo            53811\n",
              "Gemini         51985\n",
              "Sagittarius    50036\n",
              "Aquarius       49687\n",
              "Capricorn      49201\n",
              "Name: sign, dtype: int64"
            ]
          },
          "metadata": {
            "tags": []
          },
          "execution_count": 11
        }
      ]
    },
    {
      "cell_type": "markdown",
      "metadata": {
        "id": "KBHOCZGvOfw9"
      },
      "source": [
        "### ***Inference:-*** Fairly balanced dataset on the sun **signs.**"
      ]
    },
    {
      "cell_type": "code",
      "metadata": {
        "colab": {
          "base_uri": "https://localhost:8080/"
        },
        "id": "40xs1335rBzM",
        "outputId": "b343bfb7-4e6a-4cda-a679-b3fee5960a3f"
      },
      "source": [
        "df.gender.value_counts()"
      ],
      "execution_count": 12,
      "outputs": [
        {
          "output_type": "execute_result",
          "data": {
            "text/plain": [
              "male      345193\n",
              "female    336091\n",
              "Name: gender, dtype: int64"
            ]
          },
          "metadata": {
            "tags": []
          },
          "execution_count": 12
        }
      ]
    },
    {
      "cell_type": "markdown",
      "metadata": {
        "id": "EfIxmhpkO0dj"
      },
      "source": [
        "### ***Inference:-*** The dataset is balanced on the **\"Gender\"** front."
      ]
    },
    {
      "cell_type": "code",
      "metadata": {
        "id": "vBfxQCPcpyN9"
      },
      "source": [
        "#Stratified sampling functions\n",
        "def stratified_sample(df, strata, size=None, seed=None, keep_index= True):\n",
        "    population = len(df)\n",
        "    size = __smpl_size(population, size)\n",
        "    tmp = df[strata]\n",
        "    tmp['size'] = 1\n",
        "    tmp_grpd = tmp.groupby(strata).count().reset_index()\n",
        "    tmp_grpd['samp_size'] = round(size/population * tmp_grpd['size']).astype(int)\n",
        "\n",
        "    # controlling variable to create the dataframe or append to it\n",
        "    first = True \n",
        "    for i in range(len(tmp_grpd)):\n",
        "        # query generator for each iteration\n",
        "        qry=''\n",
        "        for s in range(len(strata)):\n",
        "            stratum = strata[s]\n",
        "            value = tmp_grpd.iloc[i][stratum]\n",
        "            n = tmp_grpd.iloc[i]['samp_size']\n",
        "\n",
        "            if type(value) == str:\n",
        "                value = \"'\" + str(value) + \"'\"\n",
        "            \n",
        "            if s != len(strata)-1:\n",
        "                qry = qry + stratum + ' == ' + str(value) +' & '\n",
        "            else:\n",
        "                qry = qry + stratum + ' == ' + str(value)\n",
        "        \n",
        "        # final dataframe\n",
        "        if first:\n",
        "            stratified_df = df.query(qry).sample(n=n, random_state=seed).reset_index(drop=(not keep_index))\n",
        "            first = False\n",
        "        else:\n",
        "            tmp_df = df.query(qry).sample(n=n, random_state=seed).reset_index(drop=(not keep_index))\n",
        "            stratified_df = stratified_df.append(tmp_df, ignore_index=True)\n",
        "    \n",
        "    return stratified_df\n",
        "\n",
        "\n",
        "\n",
        "def stratified_sample_report(df, strata, size=None):\n",
        "    population = len(df)\n",
        "    size = __smpl_size(population, size)\n",
        "    tmp = df[strata]\n",
        "    tmp['size'] = 1\n",
        "    tmp_grpd = tmp.groupby(strata).count().reset_index()\n",
        "    tmp_grpd['samp_size'] = round(size/population * tmp_grpd['size']).astype(int)\n",
        "    return tmp_grpd\n",
        "\n",
        "\n",
        "def __smpl_size(population, size):\n",
        "    if size is None:\n",
        "        cochran_n = round(((1.96)**2 * 0.5 * 0.5)/ 0.02**2)\n",
        "        n = round(cochran_n/(1+((cochran_n -1) /population)))\n",
        "    elif size >= 0 and size < 1:\n",
        "        n = round(population * size)\n",
        "    elif size < 0:\n",
        "        raise ValueError('Parameter \"size\" must be an integer or a proportion between 0 and 0.99.')\n",
        "    elif size >= 1:\n",
        "        n = size\n",
        "    return n"
      ],
      "execution_count": 13,
      "outputs": []
    },
    {
      "cell_type": "code",
      "metadata": {
        "colab": {
          "base_uri": "https://localhost:8080/",
          "height": 402
        },
        "id": "GVu7lfScqBLO",
        "outputId": "860d2c5f-01b2-4916-cfa9-fb9e01226439"
      },
      "source": [
        "stratified_sample_report(df, ['sign', 'gender','topic', 'age'], 50000)"
      ],
      "execution_count": 14,
      "outputs": [
        {
          "output_type": "execute_result",
          "data": {
            "text/html": [
              "<div>\n",
              "<style scoped>\n",
              "    .dataframe tbody tr th:only-of-type {\n",
              "        vertical-align: middle;\n",
              "    }\n",
              "\n",
              "    .dataframe tbody tr th {\n",
              "        vertical-align: top;\n",
              "    }\n",
              "\n",
              "    .dataframe thead th {\n",
              "        text-align: right;\n",
              "    }\n",
              "</style>\n",
              "<table border=\"1\" class=\"dataframe\">\n",
              "  <thead>\n",
              "    <tr style=\"text-align: right;\">\n",
              "      <th></th>\n",
              "      <th>sign</th>\n",
              "      <th>gender</th>\n",
              "      <th>topic</th>\n",
              "      <th>age</th>\n",
              "      <th>size</th>\n",
              "      <th>samp_size</th>\n",
              "    </tr>\n",
              "  </thead>\n",
              "  <tbody>\n",
              "    <tr>\n",
              "      <th>0</th>\n",
              "      <td>Aquarius</td>\n",
              "      <td>female</td>\n",
              "      <td>Accounting</td>\n",
              "      <td>16</td>\n",
              "      <td>23</td>\n",
              "      <td>2</td>\n",
              "    </tr>\n",
              "    <tr>\n",
              "      <th>1</th>\n",
              "      <td>Aquarius</td>\n",
              "      <td>female</td>\n",
              "      <td>Accounting</td>\n",
              "      <td>23</td>\n",
              "      <td>8</td>\n",
              "      <td>1</td>\n",
              "    </tr>\n",
              "    <tr>\n",
              "      <th>2</th>\n",
              "      <td>Aquarius</td>\n",
              "      <td>female</td>\n",
              "      <td>Accounting</td>\n",
              "      <td>24</td>\n",
              "      <td>316</td>\n",
              "      <td>23</td>\n",
              "    </tr>\n",
              "    <tr>\n",
              "      <th>3</th>\n",
              "      <td>Aquarius</td>\n",
              "      <td>female</td>\n",
              "      <td>Accounting</td>\n",
              "      <td>25</td>\n",
              "      <td>3</td>\n",
              "      <td>0</td>\n",
              "    </tr>\n",
              "    <tr>\n",
              "      <th>4</th>\n",
              "      <td>Aquarius</td>\n",
              "      <td>female</td>\n",
              "      <td>Accounting</td>\n",
              "      <td>26</td>\n",
              "      <td>21</td>\n",
              "      <td>2</td>\n",
              "    </tr>\n",
              "    <tr>\n",
              "      <th>...</th>\n",
              "      <td>...</td>\n",
              "      <td>...</td>\n",
              "      <td>...</td>\n",
              "      <td>...</td>\n",
              "      <td>...</td>\n",
              "      <td>...</td>\n",
              "    </tr>\n",
              "    <tr>\n",
              "      <th>5234</th>\n",
              "      <td>Virgo</td>\n",
              "      <td>male</td>\n",
              "      <td>indUnk</td>\n",
              "      <td>42</td>\n",
              "      <td>46</td>\n",
              "      <td>3</td>\n",
              "    </tr>\n",
              "    <tr>\n",
              "      <th>5235</th>\n",
              "      <td>Virgo</td>\n",
              "      <td>male</td>\n",
              "      <td>indUnk</td>\n",
              "      <td>43</td>\n",
              "      <td>25</td>\n",
              "      <td>2</td>\n",
              "    </tr>\n",
              "    <tr>\n",
              "      <th>5236</th>\n",
              "      <td>Virgo</td>\n",
              "      <td>male</td>\n",
              "      <td>indUnk</td>\n",
              "      <td>44</td>\n",
              "      <td>6</td>\n",
              "      <td>0</td>\n",
              "    </tr>\n",
              "    <tr>\n",
              "      <th>5237</th>\n",
              "      <td>Virgo</td>\n",
              "      <td>male</td>\n",
              "      <td>indUnk</td>\n",
              "      <td>46</td>\n",
              "      <td>49</td>\n",
              "      <td>4</td>\n",
              "    </tr>\n",
              "    <tr>\n",
              "      <th>5238</th>\n",
              "      <td>Virgo</td>\n",
              "      <td>male</td>\n",
              "      <td>indUnk</td>\n",
              "      <td>48</td>\n",
              "      <td>3</td>\n",
              "      <td>0</td>\n",
              "    </tr>\n",
              "  </tbody>\n",
              "</table>\n",
              "<p>5239 rows × 6 columns</p>\n",
              "</div>"
            ],
            "text/plain": [
              "          sign  gender       topic  age  size  samp_size\n",
              "0     Aquarius  female  Accounting   16    23          2\n",
              "1     Aquarius  female  Accounting   23     8          1\n",
              "2     Aquarius  female  Accounting   24   316         23\n",
              "3     Aquarius  female  Accounting   25     3          0\n",
              "4     Aquarius  female  Accounting   26    21          2\n",
              "...        ...     ...         ...  ...   ...        ...\n",
              "5234     Virgo    male      indUnk   42    46          3\n",
              "5235     Virgo    male      indUnk   43    25          2\n",
              "5236     Virgo    male      indUnk   44     6          0\n",
              "5237     Virgo    male      indUnk   46    49          4\n",
              "5238     Virgo    male      indUnk   48     3          0\n",
              "\n",
              "[5239 rows x 6 columns]"
            ]
          },
          "metadata": {
            "tags": []
          },
          "execution_count": 14
        }
      ]
    },
    {
      "cell_type": "markdown",
      "metadata": {
        "id": "b7eruaG4Plhq"
      },
      "source": [
        "### ***Inference:-*** Stratifiying the sample data based on **\"Gender\", \"Sign\", \"Topic\"** and **\"age\"** to *maintain the distribution of the population dataset*. This helps to avoid introducing unnecessary bais in the dataset on top already present baises."
      ]
    },
    {
      "cell_type": "code",
      "metadata": {
        "id": "d-oZOIoIrNP2"
      },
      "source": [
        "#Limiting the data and using fewer rows as the data size is large using stratified sampling\n",
        "blog_df = stratified_sample(df, ['sign', 'gender', 'topic', 'age'], size=50000, seed=123, keep_index= True) "
      ],
      "execution_count": 15,
      "outputs": []
    },
    {
      "cell_type": "markdown",
      "metadata": {
        "id": "vjfi-ogoQfnI"
      },
      "source": [
        "### ***Inferences:-*** Limiting the data by using fewer records to cope up with the limited availabilty of computational resources at hand."
      ]
    },
    {
      "cell_type": "code",
      "metadata": {
        "colab": {
          "base_uri": "https://localhost:8080/",
          "height": 343
        },
        "id": "0P7xk01hkmgS",
        "outputId": "759bdf53-c5ee-4c8e-c575-d95d481a9545"
      },
      "source": [
        "blog_df.head().append(blog_df.tail())"
      ],
      "execution_count": 16,
      "outputs": [
        {
          "output_type": "execute_result",
          "data": {
            "text/html": [
              "<div>\n",
              "<style scoped>\n",
              "    .dataframe tbody tr th:only-of-type {\n",
              "        vertical-align: middle;\n",
              "    }\n",
              "\n",
              "    .dataframe tbody tr th {\n",
              "        vertical-align: top;\n",
              "    }\n",
              "\n",
              "    .dataframe thead th {\n",
              "        text-align: right;\n",
              "    }\n",
              "</style>\n",
              "<table border=\"1\" class=\"dataframe\">\n",
              "  <thead>\n",
              "    <tr style=\"text-align: right;\">\n",
              "      <th></th>\n",
              "      <th>index</th>\n",
              "      <th>id</th>\n",
              "      <th>gender</th>\n",
              "      <th>age</th>\n",
              "      <th>topic</th>\n",
              "      <th>sign</th>\n",
              "      <th>date</th>\n",
              "      <th>text</th>\n",
              "    </tr>\n",
              "  </thead>\n",
              "  <tbody>\n",
              "    <tr>\n",
              "      <th>0</th>\n",
              "      <td>462991</td>\n",
              "      <td>3692727</td>\n",
              "      <td>female</td>\n",
              "      <td>16</td>\n",
              "      <td>Accounting</td>\n",
              "      <td>Aquarius</td>\n",
              "      <td>25,June,2004</td>\n",
              "      <td>How Did You Know    by Gary Valenciano...</td>\n",
              "    </tr>\n",
              "    <tr>\n",
              "      <th>1</th>\n",
              "      <td>463005</td>\n",
              "      <td>3692727</td>\n",
              "      <td>female</td>\n",
              "      <td>16</td>\n",
              "      <td>Accounting</td>\n",
              "      <td>Aquarius</td>\n",
              "      <td>05,July,2004</td>\n",
              "      <td>6, 8, 12    by Brian McKnight    Do yo...</td>\n",
              "    </tr>\n",
              "    <tr>\n",
              "      <th>2</th>\n",
              "      <td>431781</td>\n",
              "      <td>3493337</td>\n",
              "      <td>female</td>\n",
              "      <td>23</td>\n",
              "      <td>Accounting</td>\n",
              "      <td>Aquarius</td>\n",
              "      <td>29,May,2004</td>\n",
              "      <td>I have a number of blogs all ...</td>\n",
              "    </tr>\n",
              "    <tr>\n",
              "      <th>3</th>\n",
              "      <td>612419</td>\n",
              "      <td>878554</td>\n",
              "      <td>female</td>\n",
              "      <td>24</td>\n",
              "      <td>Accounting</td>\n",
              "      <td>Aquarius</td>\n",
              "      <td>29,May,2003</td>\n",
              "      <td>Went to the dentist, whew, not a good  ...</td>\n",
              "    </tr>\n",
              "    <tr>\n",
              "      <th>4</th>\n",
              "      <td>612388</td>\n",
              "      <td>878554</td>\n",
              "      <td>female</td>\n",
              "      <td>24</td>\n",
              "      <td>Accounting</td>\n",
              "      <td>Aquarius</td>\n",
              "      <td>11,December,2002</td>\n",
              "      <td>For the last couple of days, i have bee...</td>\n",
              "    </tr>\n",
              "    <tr>\n",
              "      <th>49926</th>\n",
              "      <td>328010</td>\n",
              "      <td>908196</td>\n",
              "      <td>male</td>\n",
              "      <td>43</td>\n",
              "      <td>indUnk</td>\n",
              "      <td>Virgo</td>\n",
              "      <td>29,June,2004</td>\n",
              "      <td>urlLink    David McCullough &amp; Bonnie B...</td>\n",
              "    </tr>\n",
              "    <tr>\n",
              "      <th>49927</th>\n",
              "      <td>84050</td>\n",
              "      <td>3586075</td>\n",
              "      <td>male</td>\n",
              "      <td>46</td>\n",
              "      <td>indUnk</td>\n",
              "      <td>Virgo</td>\n",
              "      <td>09,June,2004</td>\n",
              "      <td>urlLink    Street view 2003&amp;nbsp; urlLink</td>\n",
              "    </tr>\n",
              "    <tr>\n",
              "      <th>49928</th>\n",
              "      <td>84053</td>\n",
              "      <td>3586075</td>\n",
              "      <td>male</td>\n",
              "      <td>46</td>\n",
              "      <td>indUnk</td>\n",
              "      <td>Virgo</td>\n",
              "      <td>09,June,2004</td>\n",
              "      <td>urlLink    Richar and Erin&amp;nbsp; urlLink</td>\n",
              "    </tr>\n",
              "    <tr>\n",
              "      <th>49929</th>\n",
              "      <td>606066</td>\n",
              "      <td>1786125</td>\n",
              "      <td>male</td>\n",
              "      <td>46</td>\n",
              "      <td>indUnk</td>\n",
              "      <td>Virgo</td>\n",
              "      <td>28,July,2004</td>\n",
              "      <td>This week at  urlLink Forbeck.com ,...</td>\n",
              "    </tr>\n",
              "    <tr>\n",
              "      <th>49930</th>\n",
              "      <td>606084</td>\n",
              "      <td>1786125</td>\n",
              "      <td>male</td>\n",
              "      <td>46</td>\n",
              "      <td>indUnk</td>\n",
              "      <td>Virgo</td>\n",
              "      <td>03,August,2004</td>\n",
              "      <td>The new D&amp;D Demo is live at  urlLin...</td>\n",
              "    </tr>\n",
              "  </tbody>\n",
              "</table>\n",
              "</div>"
            ],
            "text/plain": [
              "        index  ...                                               text\n",
              "0      462991  ...          How Did You Know    by Gary Valenciano...\n",
              "1      463005  ...          6, 8, 12    by Brian McKnight    Do yo...\n",
              "2      431781  ...                   I have a number of blogs all ...\n",
              "3      612419  ...         Went to the dentist, whew, not a good  ...\n",
              "4      612388  ...         For the last couple of days, i have bee...\n",
              "49926  328010  ...          urlLink    David McCullough & Bonnie B...\n",
              "49927   84050  ...      urlLink    Street view 2003&nbsp; urlLink    \n",
              "49928   84053  ...       urlLink    Richar and Erin&nbsp; urlLink    \n",
              "49929  606066  ...             This week at  urlLink Forbeck.com ,...\n",
              "49930  606084  ...             The new D&D Demo is live at  urlLin...\n",
              "\n",
              "[10 rows x 8 columns]"
            ]
          },
          "metadata": {
            "tags": []
          },
          "execution_count": 16
        }
      ]
    },
    {
      "cell_type": "code",
      "metadata": {
        "colab": {
          "base_uri": "https://localhost:8080/"
        },
        "id": "KIetEd8rl3-J",
        "outputId": "7718cc03-e685-43a6-ce05-01784b24ffd1"
      },
      "source": [
        "#check the feature/column using the info method\n",
        "blog_df.info()"
      ],
      "execution_count": 17,
      "outputs": [
        {
          "output_type": "stream",
          "text": [
            "<class 'pandas.core.frame.DataFrame'>\n",
            "RangeIndex: 49931 entries, 0 to 49930\n",
            "Data columns (total 8 columns):\n",
            " #   Column  Non-Null Count  Dtype \n",
            "---  ------  --------------  ----- \n",
            " 0   index   49931 non-null  int64 \n",
            " 1   id      49931 non-null  int64 \n",
            " 2   gender  49931 non-null  object\n",
            " 3   age     49931 non-null  int64 \n",
            " 4   topic   49931 non-null  object\n",
            " 5   sign    49931 non-null  object\n",
            " 6   date    49931 non-null  object\n",
            " 7   text    49931 non-null  object\n",
            "dtypes: int64(3), object(5)\n",
            "memory usage: 3.0+ MB\n"
          ],
          "name": "stdout"
        }
      ]
    },
    {
      "cell_type": "markdown",
      "metadata": {
        "id": "kcFtGE0aRAO1"
      },
      "source": [
        "### ***Inferences:-***\n",
        "### 1. \"Gender\" , \"Topic\", \"Sign\", \"Date\" and \"Text\" are of object datatype.\n",
        "### 2. \"Index\", \"Id\" and \"Age\" have int datatype."
      ]
    },
    {
      "cell_type": "code",
      "metadata": {
        "colab": {
          "base_uri": "https://localhost:8080/",
          "height": 81
        },
        "id": "_0_NdTs3mfL4",
        "outputId": "aa06ad9e-4f69-4e67-9fc5-5c8c9e0531b1"
      },
      "source": [
        "# Checking for missing values\n",
        "def missing_zero_values_table(df):\n",
        "        zero_val = (df == 0.00).astype(int).sum(axis=0)\n",
        "        mis_val = df.isnull().sum()\n",
        "        mis_val_percent = 100 * df.isnull().sum() / len(df)\n",
        "        mz_table = pd.concat([zero_val, mis_val, mis_val_percent], axis=1)\n",
        "        mz_table = mz_table.rename(\n",
        "        columns = {0 : 'Zero Values', 1 : 'Missing Values', 2 : '% of Total Values'})\n",
        "        mz_table['Total Zero Missing Values'] = mz_table['Zero Values'] + mz_table['Missing Values']\n",
        "        mz_table['% Total Zero Missing Values'] = 100 * mz_table['Total Zero Missing Values'] / len(df)\n",
        "        mz_table['Data Type'] = df.dtypes\n",
        "        mz_table = mz_table[\n",
        "            mz_table.iloc[:,1] != 0].sort_values(\n",
        "        '% of Total Values', ascending=False).round(1)\n",
        "        print (\"Your selected dataframe has \" + str(df.shape[1]) + \" columns and \" + str(df.shape[0]) + \" Rows.\\n\"      \n",
        "            \"There are \" + str(mz_table.shape[0]) +\n",
        "              \" columns that have missing values.\")\n",
        "        return mz_table\n",
        "\n",
        "missing_zero_values_table(blog_df)"
      ],
      "execution_count": 18,
      "outputs": [
        {
          "output_type": "stream",
          "text": [
            "Your selected dataframe has 8 columns and 49931 Rows.\n",
            "There are 0 columns that have missing values.\n"
          ],
          "name": "stdout"
        },
        {
          "output_type": "execute_result",
          "data": {
            "text/html": [
              "<div>\n",
              "<style scoped>\n",
              "    .dataframe tbody tr th:only-of-type {\n",
              "        vertical-align: middle;\n",
              "    }\n",
              "\n",
              "    .dataframe tbody tr th {\n",
              "        vertical-align: top;\n",
              "    }\n",
              "\n",
              "    .dataframe thead th {\n",
              "        text-align: right;\n",
              "    }\n",
              "</style>\n",
              "<table border=\"1\" class=\"dataframe\">\n",
              "  <thead>\n",
              "    <tr style=\"text-align: right;\">\n",
              "      <th></th>\n",
              "      <th>Zero Values</th>\n",
              "      <th>Missing Values</th>\n",
              "      <th>% of Total Values</th>\n",
              "      <th>Total Zero Missing Values</th>\n",
              "      <th>% Total Zero Missing Values</th>\n",
              "      <th>Data Type</th>\n",
              "    </tr>\n",
              "  </thead>\n",
              "  <tbody>\n",
              "  </tbody>\n",
              "</table>\n",
              "</div>"
            ],
            "text/plain": [
              "Empty DataFrame\n",
              "Columns: [Zero Values, Missing Values, % of Total Values, Total Zero Missing Values, % Total Zero Missing Values, Data Type]\n",
              "Index: []"
            ]
          },
          "metadata": {
            "tags": []
          },
          "execution_count": 18
        }
      ]
    },
    {
      "cell_type": "markdown",
      "metadata": {
        "id": "16V51zktRujz"
      },
      "source": [
        "### ***Inference:-*** No missing values prsent in the dataset."
      ]
    },
    {
      "cell_type": "code",
      "metadata": {
        "colab": {
          "base_uri": "https://localhost:8080/",
          "height": 458
        },
        "id": "aPSGNi5tneps",
        "outputId": "db9b71ac-617d-47bf-8496-a5b29ff4a566"
      },
      "source": [
        "fig, ax =plt.subplots(1,2, figsize=(15, 7))\n",
        "sns.countplot(x=\"gender\", data=df, palette=\"husl\",order = df['gender'].value_counts().index, ax=ax[0])\n",
        "ax[0].set_title(\"Population Data\")\n",
        "sns.countplot(x=\"gender\", data=blog_df, palette=\"Set3\", order = blog_df['gender'].value_counts().index, ax=ax[1])\n",
        "ax[1].set_title(\"Stratified Data\")\n",
        "fig.show()"
      ],
      "execution_count": 19,
      "outputs": [
        {
          "output_type": "display_data",
          "data": {
            "image/png": "[encoded data removed]",
            "text/plain": [
              "<Figure size 1080x504 with 2 Axes>"
            ]
          },
          "metadata": {
            "tags": [],
            "needs_background": "light"
          }
        }
      ]
    },
    {
      "cell_type": "markdown",
      "metadata": {
        "id": "nUEog7qMR7cd"
      },
      "source": [
        "### ***Inference:-*** Stratifed data has maintained the gender distribution from population data."
      ]
    },
    {
      "cell_type": "code",
      "metadata": {
        "colab": {
          "base_uri": "https://localhost:8080/",
          "height": 456
        },
        "id": "Xk_jmm1xnvSn",
        "outputId": "d937d327-52d4-41bc-db2a-2d632e15a883"
      },
      "source": [
        "fig, ax =plt.subplots(1,2, figsize=(15, 7))\n",
        "fig.autofmt_xdate(rotation=45)\n",
        "sns.countplot(x=\"sign\", data=df, order = df['sign'].value_counts().index, ax=ax[0])\n",
        "ax[0].set_title(\"Population Data\")\n",
        "sns.countplot(x=\"sign\", data=blog_df, order = blog_df['sign'].value_counts().index, ax=ax[1])\n",
        "ax[1].set_title(\"Stratified Data\")\n",
        "fig.show()"
      ],
      "execution_count": 20,
      "outputs": [
        {
          "output_type": "display_data",
          "data": {
            "image/png": "[encoded data removed]",
            "text/plain": [
              "<Figure size 1080x504 with 2 Axes>"
            ]
          },
          "metadata": {
            "tags": [],
            "needs_background": "light"
          }
        }
      ]
    },
    {
      "cell_type": "markdown",
      "metadata": {
        "id": "7LSsZQhLSU9T"
      },
      "source": [
        "### ***Inference:-*** Stratified data has maintained the Sun signs distribution from the population data."
      ]
    },
    {
      "cell_type": "code",
      "metadata": {
        "colab": {
          "base_uri": "https://localhost:8080/",
          "height": 756
        },
        "id": "037CiGvt3b7_",
        "outputId": "84000018-4fd0-415a-cf64-43101457c899"
      },
      "source": [
        "fig, ax = plt.subplots(1, 2, figsize=(30, 15))\n",
        "fig.autofmt_xdate(rotation=90)\n",
        "\n",
        "sns.countplot(x='topic', data=df, order = df['topic'].value_counts().index, ax=ax[0])\n",
        "ax[0].set_title(\"Population Data\")\n",
        "\n",
        "sns.countplot(x='topic', data=blog_df,order = blog_df['topic'].value_counts().index, ax=ax[1])\n",
        "ax[1].set_title(\"Stratified Data\")\n",
        "\n",
        "fig.show()"
      ],
      "execution_count": 21,
      "outputs": [
        {
          "output_type": "display_data",
          "data": {
            "image/png": "[encoded data removed]",
            "text/plain": [
              "<Figure size 2160x1080 with 2 Axes>"
            ]
          },
          "metadata": {
            "tags": [],
            "needs_background": "light"
          }
        }
      ]
    },
    {
      "cell_type": "markdown",
      "metadata": {
        "id": "JbJDlpQtSixW"
      },
      "source": [
        "### ***Inference:-*** Stratified data has maintained the topic distribution from the population data."
      ]
    },
    {
      "cell_type": "code",
      "metadata": {
        "colab": {
          "base_uri": "https://localhost:8080/",
          "height": 458
        },
        "id": "0Ki8Trnt7DOp",
        "outputId": "5afd14a2-87cb-4d89-9bb8-ecf377b9988a"
      },
      "source": [
        "fig, ax =plt.subplots(1,2, figsize=(15, 7))\n",
        "sns.countplot(x=\"age\", data=df, ax=ax[0])\n",
        "ax[0].set_title(\"Population Data\")\n",
        "sns.countplot(x=\"age\", data=blog_df, ax=ax[1])\n",
        "ax[1].set_title(\"Stratified Data\")\n",
        "fig.show()"
      ],
      "execution_count": 22,
      "outputs": [
        {
          "output_type": "display_data",
          "data": {
            "image/png": "[encoded data removed]",
            "text/plain": [
              "<Figure size 1080x504 with 2 Axes>"
            ]
          },
          "metadata": {
            "tags": [],
            "needs_background": "light"
          }
        }
      ]
    },
    {
      "cell_type": "markdown",
      "metadata": {
        "id": "3BXOO_aqS5af"
      },
      "source": [
        "### ***Inference:-*** Stratified data has kept the age distribution according to the population data."
      ]
    },
    {
      "cell_type": "code",
      "metadata": {
        "colab": {
          "base_uri": "https://localhost:8080/",
          "height": 300
        },
        "id": "BseHbCUj7Scu",
        "outputId": "f558325e-b83a-4950-e2de-7df7887f9b34"
      },
      "source": [
        "sns.countplot(x=\"age\", hue=\"gender\", data=blog_df)"
      ],
      "execution_count": 23,
      "outputs": [
        {
          "output_type": "execute_result",
          "data": {
            "text/plain": [
              "<matplotlib.axes._subplots.AxesSubplot at 0x7fb828d70210>"
            ]
          },
          "metadata": {
            "tags": []
          },
          "execution_count": 23
        },
        {
          "output_type": "display_data",
          "data": {
            "image/png": "[encoded data removed]",
            "text/plain": [
              "<Figure size 432x288 with 1 Axes>"
            ]
          },
          "metadata": {
            "tags": [],
            "needs_background": "light"
          }
        }
      ]
    },
    {
      "cell_type": "markdown",
      "metadata": {
        "id": "Cc4OL54hTZ-u"
      },
      "source": [
        "### ***Inference:-*** Gender distribution is more or less balanced in the age category except for some."
      ]
    },
    {
      "cell_type": "markdown",
      "metadata": {
        "id": "7ZpAy8u4gwC1"
      },
      "source": [
        "# 2. Perform data pre-processing on the data:"
      ]
    },
    {
      "cell_type": "code",
      "metadata": {
        "colab": {
          "base_uri": "https://localhost:8080/"
        },
        "id": "zl0FenGYhLc-",
        "outputId": "6e462acb-2c4e-4b3a-8df2-defd7de28d64"
      },
      "source": [
        "blog_df.text.head(5)"
      ],
      "execution_count": 24,
      "outputs": [
        {
          "output_type": "execute_result",
          "data": {
            "text/plain": [
              "0            How Did You Know    by Gary Valenciano...\n",
              "1            6, 8, 12    by Brian McKnight    Do yo...\n",
              "2                     I have a number of blogs all ...\n",
              "3           Went to the dentist, whew, not a good  ...\n",
              "4           For the last couple of days, i have bee...\n",
              "Name: text, dtype: object"
            ]
          },
          "metadata": {
            "tags": []
          },
          "execution_count": 24
        }
      ]
    },
    {
      "cell_type": "markdown",
      "metadata": {
        "id": "leHgswbBhNn1"
      },
      "source": [
        "### 2.1 Data cleansing by removing unwanted characters, spaces, stop words etc. Convert text to lowercase."
      ]
    },
    {
      "cell_type": "code",
      "metadata": {
        "colab": {
          "base_uri": "https://localhost:8080/"
        },
        "id": "nBR09FPThSxr",
        "outputId": "d1946915-2317-4684-fa47-dc3b70f2946c"
      },
      "source": [
        "# removing unwanted characters other than alphanumeric\n",
        "pattern = \"[^\\w ]\"\n",
        "blog_df.text = blog_df.text.apply(lambda s : re.sub(pattern,\"\",s))\n",
        "blog_df.text.head(5)"
      ],
      "execution_count": 25,
      "outputs": [
        {
          "output_type": "execute_result",
          "data": {
            "text/plain": [
              "0            How Did You Know    by Gary Valenciano...\n",
              "1            6 8 12    by Brian McKnight    Do you ...\n",
              "2                     I have a number of blogs all ...\n",
              "3           Went to the dentist whew not a good  th...\n",
              "4           For the last couple of days i have been...\n",
              "Name: text, dtype: object"
            ]
          },
          "metadata": {
            "tags": []
          },
          "execution_count": 25
        }
      ]
    },
    {
      "cell_type": "code",
      "metadata": {
        "colab": {
          "base_uri": "https://localhost:8080/"
        },
        "id": "DD6lo4OXsZMH",
        "outputId": "50369e0a-db97-447c-e9b7-516be874eb2e"
      },
      "source": [
        "#converting text to lower\n",
        "blog_df.text = blog_df.text.apply(lambda s: s.lower())\n",
        "blog_df.text.head(5)"
      ],
      "execution_count": 26,
      "outputs": [
        {
          "output_type": "execute_result",
          "data": {
            "text/plain": [
              "0            how did you know    by gary valenciano...\n",
              "1            6 8 12    by brian mcknight    do you ...\n",
              "2                     i have a number of blogs all ...\n",
              "3           went to the dentist whew not a good  th...\n",
              "4           for the last couple of days i have been...\n",
              "Name: text, dtype: object"
            ]
          },
          "metadata": {
            "tags": []
          },
          "execution_count": 26
        }
      ]
    },
    {
      "cell_type": "code",
      "metadata": {
        "colab": {
          "base_uri": "https://localhost:8080/"
        },
        "id": "lB8oOn9EtKxa",
        "outputId": "12198982-2135-447d-fd9a-26477f1551f1"
      },
      "source": [
        "#removing unwanted spaces\n",
        "blog_df.text = blog_df.text.apply(lambda s: s.strip())\n",
        "blog_df.text.head(5)"
      ],
      "execution_count": 27,
      "outputs": [
        {
          "output_type": "execute_result",
          "data": {
            "text/plain": [
              "0    how did you know    by gary valenciano    intr...\n",
              "1    6 8 12    by brian mcknight    do you ever thi...\n",
              "2    i have a number of blogs all over the wide ope...\n",
              "3    went to the dentist whew not a good  thing i h...\n",
              "4    for the last couple of days i have been having...\n",
              "Name: text, dtype: object"
            ]
          },
          "metadata": {
            "tags": []
          },
          "execution_count": 27
        }
      ]
    },
    {
      "cell_type": "code",
      "metadata": {
        "colab": {
          "base_uri": "https://localhost:8080/"
        },
        "id": "kttyfNJktStu",
        "outputId": "124ff54a-66bc-4359-d00b-2bb99c809baf"
      },
      "source": [
        "#removing stopwords\n",
        "stopwords = set(stopwords.words('english'))\n",
        "\n",
        "blog_df.text = blog_df.text.apply(lambda t: ' '.join([words for words in t.split() if words not in stopwords]))\n",
        "blog_df.text.head(5)"
      ],
      "execution_count": 28,
      "outputs": [
        {
          "output_type": "execute_result",
          "data": {
            "text/plain": [
              "0    know gary valenciano intro remember well day c...\n",
              "1    6 8 12 brian mcknight ever think ever cry slee...\n",
              "2    number blogs wide open plains known world wide...\n",
              "3    went dentist whew good thing get work done 2 c...\n",
              "4    last couple days problems blogger allowed post...\n",
              "Name: text, dtype: object"
            ]
          },
          "metadata": {
            "tags": []
          },
          "execution_count": 28
        }
      ]
    },
    {
      "cell_type": "code",
      "metadata": {
        "colab": {
          "base_uri": "https://localhost:8080/",
          "height": 195
        },
        "id": "Xtv1J5TqxJCN",
        "outputId": "bd25d283-f040-4794-f0b0-5a72f80d1e88"
      },
      "source": [
        "# drop id and date columns\n",
        "blog_df.drop(labels=['id','date','index'], axis=1,inplace=True)\n",
        "blog_df.head(5)"
      ],
      "execution_count": 29,
      "outputs": [
        {
          "output_type": "execute_result",
          "data": {
            "text/html": [
              "<div>\n",
              "<style scoped>\n",
              "    .dataframe tbody tr th:only-of-type {\n",
              "        vertical-align: middle;\n",
              "    }\n",
              "\n",
              "    .dataframe tbody tr th {\n",
              "        vertical-align: top;\n",
              "    }\n",
              "\n",
              "    .dataframe thead th {\n",
              "        text-align: right;\n",
              "    }\n",
              "</style>\n",
              "<table border=\"1\" class=\"dataframe\">\n",
              "  <thead>\n",
              "    <tr style=\"text-align: right;\">\n",
              "      <th></th>\n",
              "      <th>gender</th>\n",
              "      <th>age</th>\n",
              "      <th>topic</th>\n",
              "      <th>sign</th>\n",
              "      <th>text</th>\n",
              "    </tr>\n",
              "  </thead>\n",
              "  <tbody>\n",
              "    <tr>\n",
              "      <th>0</th>\n",
              "      <td>female</td>\n",
              "      <td>16</td>\n",
              "      <td>Accounting</td>\n",
              "      <td>Aquarius</td>\n",
              "      <td>know gary valenciano intro remember well day c...</td>\n",
              "    </tr>\n",
              "    <tr>\n",
              "      <th>1</th>\n",
              "      <td>female</td>\n",
              "      <td>16</td>\n",
              "      <td>Accounting</td>\n",
              "      <td>Aquarius</td>\n",
              "      <td>6 8 12 brian mcknight ever think ever cry slee...</td>\n",
              "    </tr>\n",
              "    <tr>\n",
              "      <th>2</th>\n",
              "      <td>female</td>\n",
              "      <td>23</td>\n",
              "      <td>Accounting</td>\n",
              "      <td>Aquarius</td>\n",
              "      <td>number blogs wide open plains known world wide...</td>\n",
              "    </tr>\n",
              "    <tr>\n",
              "      <th>3</th>\n",
              "      <td>female</td>\n",
              "      <td>24</td>\n",
              "      <td>Accounting</td>\n",
              "      <td>Aquarius</td>\n",
              "      <td>went dentist whew good thing get work done 2 c...</td>\n",
              "    </tr>\n",
              "    <tr>\n",
              "      <th>4</th>\n",
              "      <td>female</td>\n",
              "      <td>24</td>\n",
              "      <td>Accounting</td>\n",
              "      <td>Aquarius</td>\n",
              "      <td>last couple days problems blogger allowed post...</td>\n",
              "    </tr>\n",
              "  </tbody>\n",
              "</table>\n",
              "</div>"
            ],
            "text/plain": [
              "   gender  age  ...      sign                                               text\n",
              "0  female   16  ...  Aquarius  know gary valenciano intro remember well day c...\n",
              "1  female   16  ...  Aquarius  6 8 12 brian mcknight ever think ever cry slee...\n",
              "2  female   23  ...  Aquarius  number blogs wide open plains known world wide...\n",
              "3  female   24  ...  Aquarius  went dentist whew good thing get work done 2 c...\n",
              "4  female   24  ...  Aquarius  last couple days problems blogger allowed post...\n",
              "\n",
              "[5 rows x 5 columns]"
            ]
          },
          "metadata": {
            "tags": []
          },
          "execution_count": 29
        }
      ]
    },
    {
      "cell_type": "markdown",
      "metadata": {
        "id": "ceKA_g4mhTaF"
      },
      "source": [
        "### 2.2 Target/label merger and transformation"
      ]
    },
    {
      "cell_type": "code",
      "metadata": {
        "colab": {
          "base_uri": "https://localhost:8080/",
          "height": 195
        },
        "id": "en6ul0CPhYIv",
        "outputId": "da2cea29-be96-47ac-8b8e-2b25c0807232"
      },
      "source": [
        "blog_df['labels'] = blog_df.apply(lambda col : [col['gender'],col['age'],col['topic'],col['sign']], axis=1)\n",
        "blog_df.head()"
      ],
      "execution_count": 30,
      "outputs": [
        {
          "output_type": "execute_result",
          "data": {
            "text/html": [
              "<div>\n",
              "<style scoped>\n",
              "    .dataframe tbody tr th:only-of-type {\n",
              "        vertical-align: middle;\n",
              "    }\n",
              "\n",
              "    .dataframe tbody tr th {\n",
              "        vertical-align: top;\n",
              "    }\n",
              "\n",
              "    .dataframe thead th {\n",
              "        text-align: right;\n",
              "    }\n",
              "</style>\n",
              "<table border=\"1\" class=\"dataframe\">\n",
              "  <thead>\n",
              "    <tr style=\"text-align: right;\">\n",
              "      <th></th>\n",
              "      <th>gender</th>\n",
              "      <th>age</th>\n",
              "      <th>topic</th>\n",
              "      <th>sign</th>\n",
              "      <th>text</th>\n",
              "      <th>labels</th>\n",
              "    </tr>\n",
              "  </thead>\n",
              "  <tbody>\n",
              "    <tr>\n",
              "      <th>0</th>\n",
              "      <td>female</td>\n",
              "      <td>16</td>\n",
              "      <td>Accounting</td>\n",
              "      <td>Aquarius</td>\n",
              "      <td>know gary valenciano intro remember well day c...</td>\n",
              "      <td>[female, 16, Accounting, Aquarius]</td>\n",
              "    </tr>\n",
              "    <tr>\n",
              "      <th>1</th>\n",
              "      <td>female</td>\n",
              "      <td>16</td>\n",
              "      <td>Accounting</td>\n",
              "      <td>Aquarius</td>\n",
              "      <td>6 8 12 brian mcknight ever think ever cry slee...</td>\n",
              "      <td>[female, 16, Accounting, Aquarius]</td>\n",
              "    </tr>\n",
              "    <tr>\n",
              "      <th>2</th>\n",
              "      <td>female</td>\n",
              "      <td>23</td>\n",
              "      <td>Accounting</td>\n",
              "      <td>Aquarius</td>\n",
              "      <td>number blogs wide open plains known world wide...</td>\n",
              "      <td>[female, 23, Accounting, Aquarius]</td>\n",
              "    </tr>\n",
              "    <tr>\n",
              "      <th>3</th>\n",
              "      <td>female</td>\n",
              "      <td>24</td>\n",
              "      <td>Accounting</td>\n",
              "      <td>Aquarius</td>\n",
              "      <td>went dentist whew good thing get work done 2 c...</td>\n",
              "      <td>[female, 24, Accounting, Aquarius]</td>\n",
              "    </tr>\n",
              "    <tr>\n",
              "      <th>4</th>\n",
              "      <td>female</td>\n",
              "      <td>24</td>\n",
              "      <td>Accounting</td>\n",
              "      <td>Aquarius</td>\n",
              "      <td>last couple days problems blogger allowed post...</td>\n",
              "      <td>[female, 24, Accounting, Aquarius]</td>\n",
              "    </tr>\n",
              "  </tbody>\n",
              "</table>\n",
              "</div>"
            ],
            "text/plain": [
              "   gender  ...                              labels\n",
              "0  female  ...  [female, 16, Accounting, Aquarius]\n",
              "1  female  ...  [female, 16, Accounting, Aquarius]\n",
              "2  female  ...  [female, 23, Accounting, Aquarius]\n",
              "3  female  ...  [female, 24, Accounting, Aquarius]\n",
              "4  female  ...  [female, 24, Accounting, Aquarius]\n",
              "\n",
              "[5 rows x 6 columns]"
            ]
          },
          "metadata": {
            "tags": []
          },
          "execution_count": 30
        }
      ]
    },
    {
      "cell_type": "markdown",
      "metadata": {
        "id": "ZhpVPdLwy2Cf"
      },
      "source": [
        "### ***Inference:-*** As we want to make this into a multi-label classification problem, we are required to merge all the label columns together, so that we have all the labels together for a particular sentence."
      ]
    },
    {
      "cell_type": "code",
      "metadata": {
        "colab": {
          "base_uri": "https://localhost:8080/",
          "height": 195
        },
        "id": "0pVPLwVgzRl-",
        "outputId": "0b41fffd-fabb-4f75-a433-541975ffbe75"
      },
      "source": [
        "#Droping gender,age,topic & sign as they are already merged to labels column\n",
        "blog_dff = blog_df.drop(columns=['gender','age','topic','sign'], axis=1)\n",
        "blog_dff.head()"
      ],
      "execution_count": 31,
      "outputs": [
        {
          "output_type": "execute_result",
          "data": {
            "text/html": [
              "<div>\n",
              "<style scoped>\n",
              "    .dataframe tbody tr th:only-of-type {\n",
              "        vertical-align: middle;\n",
              "    }\n",
              "\n",
              "    .dataframe tbody tr th {\n",
              "        vertical-align: top;\n",
              "    }\n",
              "\n",
              "    .dataframe thead th {\n",
              "        text-align: right;\n",
              "    }\n",
              "</style>\n",
              "<table border=\"1\" class=\"dataframe\">\n",
              "  <thead>\n",
              "    <tr style=\"text-align: right;\">\n",
              "      <th></th>\n",
              "      <th>text</th>\n",
              "      <th>labels</th>\n",
              "    </tr>\n",
              "  </thead>\n",
              "  <tbody>\n",
              "    <tr>\n",
              "      <th>0</th>\n",
              "      <td>know gary valenciano intro remember well day c...</td>\n",
              "      <td>[female, 16, Accounting, Aquarius]</td>\n",
              "    </tr>\n",
              "    <tr>\n",
              "      <th>1</th>\n",
              "      <td>6 8 12 brian mcknight ever think ever cry slee...</td>\n",
              "      <td>[female, 16, Accounting, Aquarius]</td>\n",
              "    </tr>\n",
              "    <tr>\n",
              "      <th>2</th>\n",
              "      <td>number blogs wide open plains known world wide...</td>\n",
              "      <td>[female, 23, Accounting, Aquarius]</td>\n",
              "    </tr>\n",
              "    <tr>\n",
              "      <th>3</th>\n",
              "      <td>went dentist whew good thing get work done 2 c...</td>\n",
              "      <td>[female, 24, Accounting, Aquarius]</td>\n",
              "    </tr>\n",
              "    <tr>\n",
              "      <th>4</th>\n",
              "      <td>last couple days problems blogger allowed post...</td>\n",
              "      <td>[female, 24, Accounting, Aquarius]</td>\n",
              "    </tr>\n",
              "  </tbody>\n",
              "</table>\n",
              "</div>"
            ],
            "text/plain": [
              "                                                text                              labels\n",
              "0  know gary valenciano intro remember well day c...  [female, 16, Accounting, Aquarius]\n",
              "1  6 8 12 brian mcknight ever think ever cry slee...  [female, 16, Accounting, Aquarius]\n",
              "2  number blogs wide open plains known world wide...  [female, 23, Accounting, Aquarius]\n",
              "3  went dentist whew good thing get work done 2 c...  [female, 24, Accounting, Aquarius]\n",
              "4  last couple days problems blogger allowed post...  [female, 24, Accounting, Aquarius]"
            ]
          },
          "metadata": {
            "tags": []
          },
          "execution_count": 31
        }
      ]
    },
    {
      "cell_type": "markdown",
      "metadata": {
        "id": "UfdwKqpMhZO1"
      },
      "source": [
        "### 2.3 Train and test split"
      ]
    },
    {
      "cell_type": "code",
      "metadata": {
        "id": "n3gKTZeuheDF"
      },
      "source": [
        "X= blog_dff.text\n",
        "y = blog_dff.labels"
      ],
      "execution_count": 32,
      "outputs": []
    },
    {
      "cell_type": "code",
      "metadata": {
        "id": "qhdnr3I_zge5"
      },
      "source": [
        "# split X and y into training and testing sets\n",
        "X_train, X_test, y_train, y_test = train_test_split(X,y, random_state=2,test_size = 0.2)"
      ],
      "execution_count": 33,
      "outputs": []
    },
    {
      "cell_type": "code",
      "metadata": {
        "id": "YsNkp23vziN9"
      },
      "source": [
        "# Randomly shuffle the training data\n",
        "X_train, y_train = shuffle(X_train, y_train)"
      ],
      "execution_count": 34,
      "outputs": []
    },
    {
      "cell_type": "code",
      "metadata": {
        "colab": {
          "base_uri": "https://localhost:8080/"
        },
        "id": "KgbeExfQzsJ9",
        "outputId": "8d4ac4c3-9c8c-468d-ca52-7e996941f186"
      },
      "source": [
        "print(\"Dimesions of training data : \", X_train.shape)\n",
        "print()\n",
        "print(\"Dimesions of testing data : \", X_test.shape)"
      ],
      "execution_count": 35,
      "outputs": [
        {
          "output_type": "stream",
          "text": [
            "Dimesions of training data :  (39944,)\n",
            "\n",
            "Dimesions of testing data :  (9987,)\n"
          ],
          "name": "stdout"
        }
      ]
    },
    {
      "cell_type": "markdown",
      "metadata": {
        "id": "MQqEBc6XhleV"
      },
      "source": [
        "### 2.4 Vectorisation, etc."
      ]
    },
    {
      "cell_type": "code",
      "metadata": {
        "colab": {
          "base_uri": "https://localhost:8080/"
        },
        "id": "hkTq1fXIhrGs",
        "outputId": "1f70b619-6dcc-4c7b-9d09-4611bf462001"
      },
      "source": [
        "cvect = CountVectorizer(ngram_range=(1,2))\n",
        "#Feeding training data to CountVectorizer\n",
        "cvect.fit(X_train)\n",
        "\n",
        "#Check the vocablury size\n",
        "len(cvect.vocabulary_)"
      ],
      "execution_count": 36,
      "outputs": [
        {
          "output_type": "execute_result",
          "data": {
            "text/plain": [
              "2695561"
            ]
          },
          "metadata": {
            "tags": []
          },
          "execution_count": 36
        }
      ]
    },
    {
      "cell_type": "code",
      "metadata": {
        "colab": {
          "base_uri": "https://localhost:8080/"
        },
        "id": "KjrYRKON9cow",
        "outputId": "66e7a6fa-3ec3-4d83-95cc-fe8ea6768ef6"
      },
      "source": [
        "cvect.get_feature_names()[:10]"
      ],
      "execution_count": 37,
      "outputs": [
        {
          "output_type": "execute_result",
          "data": {
            "text/plain": [
              "['00',\n",
              " '00 055384020296',\n",
              " '00 41',\n",
              " '00 bridge',\n",
              " '00 chance',\n",
              " '00 crushed',\n",
              " '00 den',\n",
              " '00 draw',\n",
              " '00 freezing',\n",
              " '00 iraqis']"
            ]
          },
          "metadata": {
            "tags": []
          },
          "execution_count": 37
        }
      ]
    },
    {
      "cell_type": "code",
      "metadata": {
        "colab": {
          "base_uri": "https://localhost:8080/"
        },
        "id": "Cn_wUaFq-af3",
        "outputId": "021d08b4-3cec-4234-b841-5cf2b1232616"
      },
      "source": [
        "X_train_ct = cvect.transform(X_train)\n",
        "X_train_ct"
      ],
      "execution_count": 38,
      "outputs": [
        {
          "output_type": "execute_result",
          "data": {
            "text/plain": [
              "<39944x2695561 sparse matrix of type '<class 'numpy.int64'>'\n",
              "\twith 7153175 stored elements in Compressed Sparse Row format>"
            ]
          },
          "metadata": {
            "tags": []
          },
          "execution_count": 38
        }
      ]
    },
    {
      "cell_type": "code",
      "metadata": {
        "colab": {
          "base_uri": "https://localhost:8080/"
        },
        "id": "gXrQu0EuAuU6",
        "outputId": "5dedcb4e-5757-4bae-a338-0043e9cdb57d"
      },
      "source": [
        "print(X_train_ct)"
      ],
      "execution_count": 39,
      "outputs": [
        {
          "output_type": "stream",
          "text": [
            "  (0, 34034)\t1\n",
            "  (0, 34083)\t1\n",
            "  (0, 97725)\t1\n",
            "  (0, 97734)\t1\n",
            "  (0, 115896)\t1\n",
            "  (0, 117071)\t1\n",
            "  (0, 244884)\t1\n",
            "  (0, 245069)\t1\n",
            "  (0, 276113)\t1\n",
            "  (0, 276114)\t1\n",
            "  (0, 284249)\t1\n",
            "  (0, 284358)\t1\n",
            "  (0, 356476)\t1\n",
            "  (0, 356904)\t1\n",
            "  (0, 360779)\t1\n",
            "  (0, 360785)\t1\n",
            "  (0, 369289)\t1\n",
            "  (0, 369315)\t1\n",
            "  (0, 398937)\t1\n",
            "  (0, 399304)\t1\n",
            "  (0, 468750)\t1\n",
            "  (0, 468841)\t1\n",
            "  (0, 514982)\t1\n",
            "  (0, 516290)\t1\n",
            "  (0, 581728)\t1\n",
            "  :\t:\n",
            "  (39943, 1952309)\t1\n",
            "  (39943, 1952310)\t1\n",
            "  (39943, 2010195)\t1\n",
            "  (39943, 2011232)\t1\n",
            "  (39943, 2098837)\t1\n",
            "  (39943, 2098839)\t1\n",
            "  (39943, 2202875)\t1\n",
            "  (39943, 2204244)\t1\n",
            "  (39943, 2204434)\t1\n",
            "  (39943, 2205647)\t1\n",
            "  (39943, 2218308)\t1\n",
            "  (39943, 2220573)\t1\n",
            "  (39943, 2244163)\t1\n",
            "  (39943, 2244736)\t1\n",
            "  (39943, 2318093)\t1\n",
            "  (39943, 2318104)\t1\n",
            "  (39943, 2334024)\t1\n",
            "  (39943, 2334025)\t1\n",
            "  (39943, 2356816)\t1\n",
            "  (39943, 2357306)\t1\n",
            "  (39943, 2387850)\t1\n",
            "  (39943, 2392944)\t1\n",
            "  (39943, 2394241)\t1\n",
            "  (39943, 2512509)\t1\n",
            "  (39943, 2512563)\t1\n"
          ],
          "name": "stdout"
        }
      ]
    },
    {
      "cell_type": "code",
      "metadata": {
        "colab": {
          "base_uri": "https://localhost:8080/"
        },
        "id": "O_uB00wO-hJn",
        "outputId": "047ae8e0-bde7-4f3d-e67d-ef4f6f853745"
      },
      "source": [
        "X_test_ct = cvect.transform(X_test)\n",
        "X_test_ct"
      ],
      "execution_count": 40,
      "outputs": [
        {
          "output_type": "execute_result",
          "data": {
            "text/plain": [
              "<9987x2695561 sparse matrix of type '<class 'numpy.int64'>'\n",
              "\twith 1248534 stored elements in Compressed Sparse Row format>"
            ]
          },
          "metadata": {
            "tags": []
          },
          "execution_count": 40
        }
      ]
    },
    {
      "cell_type": "code",
      "metadata": {
        "colab": {
          "base_uri": "https://localhost:8080/"
        },
        "id": "AA5OWYX0A0Wo",
        "outputId": "fb6d8e95-4af1-4d9a-c859-ff2aa5319afe"
      },
      "source": [
        "print(X_test_ct)"
      ],
      "execution_count": 41,
      "outputs": [
        {
          "output_type": "stream",
          "text": [
            "  (0, 85482)\t1\n",
            "  (0, 113561)\t1\n",
            "  (0, 140730)\t1\n",
            "  (0, 140966)\t1\n",
            "  (0, 292189)\t2\n",
            "  (0, 292618)\t1\n",
            "  (0, 292747)\t1\n",
            "  (0, 352831)\t2\n",
            "  (0, 353538)\t1\n",
            "  (0, 413941)\t1\n",
            "  (0, 414171)\t1\n",
            "  (0, 463412)\t1\n",
            "  (0, 590522)\t1\n",
            "  (0, 590961)\t1\n",
            "  (0, 662002)\t1\n",
            "  (0, 662649)\t1\n",
            "  (0, 672256)\t1\n",
            "  (0, 782367)\t1\n",
            "  (0, 782554)\t1\n",
            "  (0, 832467)\t1\n",
            "  (0, 832489)\t1\n",
            "  (0, 850716)\t1\n",
            "  (0, 852315)\t1\n",
            "  (0, 911822)\t1\n",
            "  (0, 913303)\t1\n",
            "  :\t:\n",
            "  (9986, 2323322)\t1\n",
            "  (9986, 2323619)\t1\n",
            "  (9986, 2326351)\t1\n",
            "  (9986, 2343966)\t1\n",
            "  (9986, 2346641)\t1\n",
            "  (9986, 2387082)\t1\n",
            "  (9986, 2387997)\t3\n",
            "  (9986, 2389521)\t1\n",
            "  (9986, 2390717)\t1\n",
            "  (9986, 2427229)\t1\n",
            "  (9986, 2438284)\t1\n",
            "  (9986, 2448848)\t1\n",
            "  (9986, 2449124)\t1\n",
            "  (9986, 2519420)\t1\n",
            "  (9986, 2576047)\t1\n",
            "  (9986, 2613110)\t1\n",
            "  (9986, 2613118)\t1\n",
            "  (9986, 2620325)\t1\n",
            "  (9986, 2628145)\t1\n",
            "  (9986, 2635605)\t1\n",
            "  (9986, 2636836)\t1\n",
            "  (9986, 2658746)\t3\n",
            "  (9986, 2685042)\t1\n",
            "  (9986, 2685150)\t1\n",
            "  (9986, 2688140)\t1\n"
          ],
          "name": "stdout"
        }
      ]
    },
    {
      "cell_type": "code",
      "metadata": {
        "id": "SR7GLhkM-xrm"
      },
      "source": [
        "label_counts=dict()\n",
        "\n",
        "for labels in blog_df.labels.values:\n",
        "    for label in labels:\n",
        "        if label in label_counts:\n",
        "            label_counts[str(label)]+=1\n",
        "        else:\n",
        "            label_counts[str(label)]=1"
      ],
      "execution_count": 42,
      "outputs": []
    },
    {
      "cell_type": "markdown",
      "metadata": {
        "id": "d0Ow7GKG_2fs"
      },
      "source": [
        "### ***Inference:-*** Creating a dictionary to get the count of every label *i.e.* the key will be label name and value will be the total count of the label. "
      ]
    },
    {
      "cell_type": "code",
      "metadata": {
        "colab": {
          "base_uri": "https://localhost:8080/"
        },
        "id": "owGGcgKx_z6p",
        "outputId": "dffd9e58-ae25-48fc-d6f7-769f6d3a7d89"
      },
      "source": [
        "label_counts"
      ],
      "execution_count": 43,
      "outputs": [
        {
          "output_type": "execute_result",
          "data": {
            "text/plain": [
              "{'female': 24630,\n",
              " '16': 1,\n",
              " 'Accounting': 286,\n",
              " 'Aquarius': 3655,\n",
              " '23': 1,\n",
              " '24': 1,\n",
              " '26': 1,\n",
              " 'Advertising': 342,\n",
              " '25': 1,\n",
              " '33': 1,\n",
              " '15': 1,\n",
              " 'Agriculture': 89,\n",
              " 'Architecture': 118,\n",
              " '13': 1,\n",
              " 'Arts': 2378,\n",
              " '14': 1,\n",
              " '27': 1,\n",
              " '35': 1,\n",
              " '36': 1,\n",
              " '37': 1,\n",
              " '42': 1,\n",
              " '47': 1,\n",
              " 'Automotive': 90,\n",
              " 'Banking': 293,\n",
              " 'Biotech': 165,\n",
              " 'BusinessServices': 330,\n",
              " 'Chemicals': 287,\n",
              " 'Communications-Media': 1473,\n",
              " '38': 1,\n",
              " 'Construction': 81,\n",
              " '48': 1,\n",
              " '17': 1,\n",
              " 'Consulting': 431,\n",
              " '34': 1,\n",
              " 'Education': 2176,\n",
              " '40': 1,\n",
              " '44': 1,\n",
              " 'Engineering': 853,\n",
              " '41': 1,\n",
              " 'Environment': 41,\n",
              " 'Fashion': 351,\n",
              " 'Government': 504,\n",
              " 'HumanResources': 220,\n",
              " 'Internet': 1168,\n",
              " 'Law': 663,\n",
              " 'LawEnforcement-Security': 136,\n",
              " 'Manufacturing': 170,\n",
              " 'Marketing': 351,\n",
              " '43': 1,\n",
              " 'Museums-Libraries': 224,\n",
              " 'Non-Profit': 1071,\n",
              " 'Publishing': 568,\n",
              " 'RealEstate': 209,\n",
              " 'Religion': 383,\n",
              " 'Science': 531,\n",
              " 'Sports-Recreation': 221,\n",
              " 'Student': 11286,\n",
              " 'Technology': 3084,\n",
              " 'Telecommunications': 279,\n",
              " 'Tourism': 138,\n",
              " 'Transportation': 174,\n",
              " 'indUnk': 18425,\n",
              " '39': 1,\n",
              " '46': 1,\n",
              " 'male': 25301,\n",
              " '45': 1,\n",
              " 'InvestmentBanking': 94,\n",
              " 'Military': 228,\n",
              " 'Aries': 4757,\n",
              " 'Maritime': 20,\n",
              " 'Cancer': 4765,\n",
              " 'Capricorn': 3602,\n",
              " 'Gemini': 3817,\n",
              " 'Leo': 3950,\n",
              " 'Libra': 4558,\n",
              " 'Pisces': 3957,\n",
              " 'Sagittarius': 3673,\n",
              " 'Scorpio': 4194,\n",
              " 'Taurus': 4578,\n",
              " 'Virgo': 4425}"
            ]
          },
          "metadata": {
            "tags": []
          },
          "execution_count": 43
        }
      ]
    },
    {
      "cell_type": "code",
      "metadata": {
        "id": "4Mh9apow-6Ue"
      },
      "source": [
        "binarizer=MultiLabelBinarizer(classes=sorted(label_counts.keys()))"
      ],
      "execution_count": 44,
      "outputs": []
    },
    {
      "cell_type": "markdown",
      "metadata": {
        "id": "WVXiQAuHAWcF"
      },
      "source": [
        "### ***Inference:-*** We have multiple labels and to deal with such kind of prediction, we need to transform labels in a binary form and the prediction will be a mask of 0s and 1s."
      ]
    },
    {
      "cell_type": "code",
      "metadata": {
        "colab": {
          "base_uri": "https://localhost:8080/"
        },
        "id": "U-jBXxRm-9UE",
        "outputId": "3390c169-0c4d-42aa-e311-57cfd8e08781"
      },
      "source": [
        "y_train = binarizer.fit_transform(y_train)\n",
        "y_train"
      ],
      "execution_count": 45,
      "outputs": [
        {
          "output_type": "execute_result",
          "data": {
            "text/plain": [
              "array([[0, 0, 0, ..., 0, 0, 1],\n",
              "       [0, 0, 0, ..., 1, 1, 0],\n",
              "       [0, 0, 0, ..., 1, 1, 0],\n",
              "       ...,\n",
              "       [0, 0, 0, ..., 0, 1, 1],\n",
              "       [0, 0, 0, ..., 0, 0, 1],\n",
              "       [0, 0, 0, ..., 0, 0, 1]])"
            ]
          },
          "metadata": {
            "tags": []
          },
          "execution_count": 45
        }
      ]
    },
    {
      "cell_type": "code",
      "metadata": {
        "colab": {
          "base_uri": "https://localhost:8080/"
        },
        "id": "DlrS5UU4--AT",
        "outputId": "003a5252-422a-46ab-f832-53bbffec18dd"
      },
      "source": [
        "y_test = binarizer.transform(y_test)\n",
        "y_test"
      ],
      "execution_count": 46,
      "outputs": [
        {
          "output_type": "execute_result",
          "data": {
            "text/plain": [
              "array([[0, 0, 0, ..., 0, 0, 1],\n",
              "       [0, 0, 0, ..., 1, 1, 0],\n",
              "       [0, 0, 0, ..., 0, 0, 1],\n",
              "       ...,\n",
              "       [0, 0, 0, ..., 0, 0, 1],\n",
              "       [0, 0, 0, ..., 1, 0, 0],\n",
              "       [0, 0, 0, ..., 0, 1, 1]])"
            ]
          },
          "metadata": {
            "tags": []
          },
          "execution_count": 46
        }
      ]
    },
    {
      "cell_type": "markdown",
      "metadata": {
        "id": "NSADy_H8hr1h"
      },
      "source": [
        "# 3. Design, train, tune and test the best text classifier."
      ]
    },
    {
      "cell_type": "code",
      "metadata": {
        "colab": {
          "base_uri": "https://localhost:8080/"
        },
        "id": "I_Pkn8xThwER",
        "outputId": "e963953d-c31e-4ed6-9ca1-21ad9e1c6bb1"
      },
      "source": [
        "model=LogisticRegression(C=1.0, penalty='l1', dual=False, solver='liblinear', random_state=42, class_weight= 'balanced', max_iter=100) \n",
        "model=OneVsRestClassifier(model)\n",
        "model.fit(X_train_ct,y_train)"
      ],
      "execution_count": 47,
      "outputs": [
        {
          "output_type": "execute_result",
          "data": {
            "text/plain": [
              "OneVsRestClassifier(estimator=LogisticRegression(C=1.0, class_weight='balanced',\n",
              "                                                 dual=False, fit_intercept=True,\n",
              "                                                 intercept_scaling=1,\n",
              "                                                 l1_ratio=None, max_iter=100,\n",
              "                                                 multi_class='auto',\n",
              "                                                 n_jobs=None, penalty='l1',\n",
              "                                                 random_state=42,\n",
              "                                                 solver='liblinear', tol=0.0001,\n",
              "                                                 verbose=0, warm_start=False),\n",
              "                    n_jobs=None)"
            ]
          },
          "metadata": {
            "tags": []
          },
          "execution_count": 47
        }
      ]
    },
    {
      "cell_type": "code",
      "metadata": {
        "colab": {
          "base_uri": "https://localhost:8080/"
        },
        "id": "HXY3HbGQLhoq",
        "outputId": "a4a4bc80-2896-4bce-f67f-3f5e4c4a7792"
      },
      "source": [
        "model1 = LinearSVC(C=1.0, penalty='l1', dual=False, loss='squared_hinge')\n",
        "model1 = OneVsRestClassifier(model1)\n",
        "model1.fit(X_train_ct,y_train)"
      ],
      "execution_count": 48,
      "outputs": [
        {
          "output_type": "execute_result",
          "data": {
            "text/plain": [
              "OneVsRestClassifier(estimator=LinearSVC(C=1.0, class_weight=None, dual=False,\n",
              "                                        fit_intercept=True, intercept_scaling=1,\n",
              "                                        loss='squared_hinge', max_iter=1000,\n",
              "                                        multi_class='ovr', penalty='l1',\n",
              "                                        random_state=None, tol=0.0001,\n",
              "                                        verbose=0),\n",
              "                    n_jobs=None)"
            ]
          },
          "metadata": {
            "tags": []
          },
          "execution_count": 48
        }
      ]
    },
    {
      "cell_type": "code",
      "metadata": {
        "colab": {
          "base_uri": "https://localhost:8080/"
        },
        "id": "-32jsFo3_YNB",
        "outputId": "9ac18e11-f113-4374-954e-d70819516bd2"
      },
      "source": [
        "Ypred=model.predict(X_test_ct)\n",
        "print(\"Accuracy : \",accuracy_score(y_test,Ypred))"
      ],
      "execution_count": 49,
      "outputs": [
        {
          "output_type": "stream",
          "text": [
            "Accuracy :  0.01842395113647742\n"
          ],
          "name": "stdout"
        }
      ]
    },
    {
      "cell_type": "code",
      "metadata": {
        "colab": {
          "base_uri": "https://localhost:8080/"
        },
        "id": "9VR4pLAYLqaC",
        "outputId": "9ae85f32-7b0d-4c73-f99e-7de71727b704"
      },
      "source": [
        "Y_pred=model1.predict(X_test_ct)\n",
        "print(\"Accuracy : \",accuracy_score(y_test,Y_pred))"
      ],
      "execution_count": 50,
      "outputs": [
        {
          "output_type": "stream",
          "text": [
            "Accuracy :  0.017622909782717532\n"
          ],
          "name": "stdout"
        }
      ]
    },
    {
      "cell_type": "markdown",
      "metadata": {
        "id": "hQdMzPt_fh8p"
      },
      "source": [
        "### ***Inferences:-*** \n",
        "### 1.Trained model on OnevsRest Classifer using Logistics Regression classifer and SVC. \n",
        "### 2.OnevsRest with Logistic Regression gave better results in terms of test accuracy.\n",
        "### 3.Comparing models based on loss or accuracy will not give correct results as we are dealing with Multi-label classification on an imbalanced dataset with baises."
      ]
    },
    {
      "cell_type": "markdown",
      "metadata": {
        "id": "gLpGYNp2hwjw"
      },
      "source": [
        "# 4. Display and explain detail the classification report"
      ]
    },
    {
      "cell_type": "code",
      "metadata": {
        "colab": {
          "base_uri": "https://localhost:8080/"
        },
        "id": "q2gJsxEJhzTe",
        "outputId": "c9b1715c-19e1-4c7b-f5d2-355fd0171591"
      },
      "source": [
        "# Classification Report\n",
        "cr = classification_report(y_test, Ypred)\n",
        "print(\"Classification Report 1:- \")\n",
        "print(cr)"
      ],
      "execution_count": 51,
      "outputs": [
        {
          "output_type": "stream",
          "text": [
            "Classification Report 1:- \n",
            "              precision    recall  f1-score   support\n",
            "\n",
            "           0       0.00      0.00      0.00         0\n",
            "           1       0.00      0.00      0.00         0\n",
            "           2       0.00      0.00      0.00         0\n",
            "           3       0.00      0.00      0.00         0\n",
            "           4       0.00      0.00      0.00         0\n",
            "           5       0.00      0.00      0.00         0\n",
            "           6       0.00      0.00      0.00         0\n",
            "           7       0.00      0.00      0.00         0\n",
            "           8       0.00      0.00      0.00         0\n",
            "           9       0.00      0.00      0.00         0\n",
            "          10       0.00      0.00      0.00         0\n",
            "          11       0.00      0.00      0.00         0\n",
            "          12       0.00      0.00      0.00         0\n",
            "          13       0.00      0.00      0.00         0\n",
            "          14       0.00      0.00      0.00         0\n",
            "          15       0.00      0.00      0.00         0\n",
            "          16       0.00      0.00      0.00         0\n",
            "          17       0.00      0.00      0.00         0\n",
            "          18       0.00      0.00      0.00         0\n",
            "          19       0.00      0.00      0.00         0\n",
            "          20       0.00      0.00      0.00         0\n",
            "          21       0.00      0.00      0.00         0\n",
            "          22       0.00      0.00      0.00         0\n",
            "          23       0.00      0.00      0.00         0\n",
            "          24       0.00      0.00      0.00         0\n",
            "          25       0.00      0.00      0.00         0\n",
            "          26       0.06      0.07      0.06        45\n",
            "          27       0.04      0.03      0.03        73\n",
            "          28       0.00      0.00      0.00        21\n",
            "          29       0.18      0.11      0.14       769\n",
            "          30       0.17      0.12      0.14        24\n",
            "          31       0.19      0.15      0.16       927\n",
            "          32       0.13      0.10      0.11       488\n",
            "          33       0.00      0.00      0.00        22\n",
            "          34       0.05      0.04      0.04        52\n",
            "          35       0.04      0.03      0.03        33\n",
            "          36       0.13      0.12      0.13        64\n",
            "          37       0.20      0.15      0.18       932\n",
            "          38       0.11      0.07      0.09       717\n",
            "          39       0.05      0.03      0.04        59\n",
            "          40       0.08      0.06      0.07       274\n",
            "          41       0.09      0.08      0.08        13\n",
            "          42       0.06      0.04      0.05        83\n",
            "          43       0.16      0.12      0.14       412\n",
            "          44       0.12      0.07      0.09       173\n",
            "          45       0.00      0.00      0.00         9\n",
            "          46       0.38      0.23      0.29        60\n",
            "          47       0.16      0.11      0.13       767\n",
            "          48       0.09      0.06      0.07       106\n",
            "          49       0.00      0.00      0.00        35\n",
            "          50       0.11      0.08      0.09       233\n",
            "          51       0.00      0.00      0.00        19\n",
            "          52       0.07      0.05      0.06       128\n",
            "          53       0.00      0.00      0.00        28\n",
            "          54       0.14      0.10      0.12       777\n",
            "          55       0.17      0.11      0.13       919\n",
            "          56       0.07      0.07      0.07        40\n",
            "          57       0.00      0.00      0.00         5\n",
            "          58       0.06      0.03      0.04        73\n",
            "          59       0.00      0.00      0.00        50\n",
            "          60       0.14      0.12      0.13        49\n",
            "          61       0.10      0.08      0.09       221\n",
            "          62       0.20      0.14      0.17       795\n",
            "          63       0.23      0.17      0.19       109\n",
            "          64       0.17      0.11      0.14        44\n",
            "          65       0.15      0.12      0.13        86\n",
            "          66       0.14      0.09      0.11       811\n",
            "          67       0.12      0.10      0.11       101\n",
            "          68       0.19      0.14      0.16       790\n",
            "          69       0.13      0.09      0.11        45\n",
            "          70       0.40      0.30      0.34      2298\n",
            "          71       0.16      0.11      0.13       911\n",
            "          72       0.21      0.16      0.18       621\n",
            "          73       0.06      0.04      0.04        56\n",
            "          74       0.04      0.04      0.04        28\n",
            "          75       0.18      0.10      0.12        31\n",
            "          76       0.15      0.11      0.13       872\n",
            "          77       0.67      0.49      0.56      4890\n",
            "          78       0.45      0.31      0.37      3676\n",
            "          79       0.67      0.50      0.57      5097\n",
            "\n",
            "   micro avg       0.38      0.28      0.32     29961\n",
            "   macro avg       0.10      0.07      0.08     29961\n",
            "weighted avg       0.38      0.28      0.32     29961\n",
            " samples avg       0.37      0.28      0.30     29961\n",
            "\n"
          ],
          "name": "stdout"
        }
      ]
    },
    {
      "cell_type": "code",
      "metadata": {
        "colab": {
          "base_uri": "https://localhost:8080/"
        },
        "id": "ZCUnDy09MfOr",
        "outputId": "e353da63-05a4-480e-9348-7a1c99828099"
      },
      "source": [
        "# Classification Report\n",
        "cr1 = classification_report(y_test, Y_pred)\n",
        "print(\"Classification Report 2:- \")\n",
        "print(cr1)"
      ],
      "execution_count": 52,
      "outputs": [
        {
          "output_type": "stream",
          "text": [
            "Classification Report 2:- \n",
            "              precision    recall  f1-score   support\n",
            "\n",
            "           0       0.00      0.00      0.00         0\n",
            "           1       0.00      0.00      0.00         0\n",
            "           2       0.00      0.00      0.00         0\n",
            "           3       0.00      0.00      0.00         0\n",
            "           4       0.00      0.00      0.00         0\n",
            "           5       0.00      0.00      0.00         0\n",
            "           6       0.00      0.00      0.00         0\n",
            "           7       0.00      0.00      0.00         0\n",
            "           8       0.00      0.00      0.00         0\n",
            "           9       0.00      0.00      0.00         0\n",
            "          10       0.00      0.00      0.00         0\n",
            "          11       0.00      0.00      0.00         0\n",
            "          12       0.00      0.00      0.00         0\n",
            "          13       0.00      0.00      0.00         0\n",
            "          14       0.00      0.00      0.00         0\n",
            "          15       0.00      0.00      0.00         0\n",
            "          16       0.00      0.00      0.00         0\n",
            "          17       0.00      0.00      0.00         0\n",
            "          18       0.00      0.00      0.00         0\n",
            "          19       0.00      0.00      0.00         0\n",
            "          20       0.00      0.00      0.00         0\n",
            "          21       0.00      0.00      0.00         0\n",
            "          22       0.00      0.00      0.00         0\n",
            "          23       0.00      0.00      0.00         0\n",
            "          24       0.00      0.00      0.00         0\n",
            "          25       0.00      0.00      0.00         0\n",
            "          26       0.00      0.00      0.00        45\n",
            "          27       0.20      0.03      0.05        73\n",
            "          28       0.00      0.00      0.00        21\n",
            "          29       0.25      0.04      0.07       769\n",
            "          30       0.50      0.04      0.08        24\n",
            "          31       0.27      0.06      0.10       927\n",
            "          32       0.24      0.03      0.06       488\n",
            "          33       0.00      0.00      0.00        22\n",
            "          34       0.17      0.02      0.03        52\n",
            "          35       0.00      0.00      0.00        33\n",
            "          36       0.60      0.09      0.16        64\n",
            "          37       0.29      0.08      0.12       932\n",
            "          38       0.18      0.03      0.05       717\n",
            "          39       0.00      0.00      0.00        59\n",
            "          40       0.12      0.01      0.03       274\n",
            "          41       0.00      0.00      0.00        13\n",
            "          42       0.17      0.01      0.02        83\n",
            "          43       0.34      0.07      0.11       412\n",
            "          44       0.18      0.01      0.02       173\n",
            "          45       0.00      0.00      0.00         9\n",
            "          46       0.80      0.20      0.32        60\n",
            "          47       0.22      0.04      0.07       767\n",
            "          48       0.38      0.05      0.08       106\n",
            "          49       0.00      0.00      0.00        35\n",
            "          50       0.18      0.03      0.05       233\n",
            "          51       0.00      0.00      0.00        19\n",
            "          52       0.31      0.03      0.06       128\n",
            "          53       0.00      0.00      0.00        28\n",
            "          54       0.26      0.05      0.08       777\n",
            "          55       0.22      0.04      0.07       919\n",
            "          56       0.00      0.00      0.00        40\n",
            "          57       0.00      0.00      0.00         5\n",
            "          58       0.50      0.01      0.03        73\n",
            "          59       0.00      0.00      0.00        50\n",
            "          60       0.50      0.04      0.08        49\n",
            "          61       0.27      0.03      0.05       221\n",
            "          62       0.38      0.08      0.13       795\n",
            "          63       0.53      0.08      0.14       109\n",
            "          64       0.00      0.00      0.00        44\n",
            "          65       0.45      0.06      0.10        86\n",
            "          66       0.23      0.05      0.08       811\n",
            "          67       0.27      0.03      0.05       101\n",
            "          68       0.28      0.06      0.11       790\n",
            "          69       0.50      0.07      0.12        45\n",
            "          70       0.46      0.18      0.26      2298\n",
            "          71       0.24      0.05      0.08       911\n",
            "          72       0.34      0.07      0.11       621\n",
            "          73       0.14      0.02      0.03        56\n",
            "          74       0.00      0.00      0.00        28\n",
            "          75       1.00      0.10      0.18        31\n",
            "          76       0.20      0.04      0.07       872\n",
            "          77       0.67      0.42      0.51      4890\n",
            "          78       0.46      0.22      0.29      3676\n",
            "          79       0.67      0.43      0.53      5097\n",
            "\n",
            "   micro avg       0.53      0.21      0.30     29961\n",
            "   macro avg       0.17      0.04      0.06     29961\n",
            "weighted avg       0.44      0.21      0.27     29961\n",
            " samples avg       0.40      0.21      0.26     29961\n",
            "\n"
          ],
          "name": "stdout"
        }
      ]
    },
    {
      "cell_type": "markdown",
      "metadata": {
        "id": "tpgd3kM6h-_0"
      },
      "source": [
        "# ***Inferences:-***\n",
        "### 1. F1-Score usually lies between Precison and Recall and hence we can compare based on Precision and Recall only.\n",
        "### 2. Now based different buisness use cases whether high precision or high recall is needed will be decided.\n",
        "### 3. In our case since we are dealing with an imbalanced dataset, micro - average score will be appropriate as it takes into account each instances equally rather than its counter part macro - avgerage score which considers all classes equally.\n",
        "### 4. The micro-average precision and recall score is calculated from the individual classes’ true positives (TPs), true negatives (TNs), false positives (FPs), and false negatives (FNs) of the model. \n",
        "### 5. In OnevsRest with Logistic Regression micro-avg recall is higher than OnevsRest with SVC.\n",
        "### 6. In OnevsRest with SVC micro-avg precision is higher than OnevsRest with Logistic Regression.\n",
        "\n",
        "## *Reason for low score:-*\n",
        "### a. The dataset is a imbalanced multi-label classification problem.\n",
        "### b. Using Statistical NLP approach limits from learning the context from the textual data which can exponentially help in proper classification.\n",
        "### c. Here we have only used 7% of the total data while maintaining the imbalance due to less availabilty of computational resources."
      ]
    },
    {
      "cell_type": "markdown",
      "metadata": {
        "id": "sU-QjwsMhz2N"
      },
      "source": [
        "# 5. Print the true vs predicted labels for any 5 entries from the dataset."
      ]
    },
    {
      "cell_type": "code",
      "metadata": {
        "id": "zovEj4RTh3yx",
        "colab": {
          "base_uri": "https://localhost:8080/"
        },
        "outputId": "4fb9a956-1be4-4183-91e6-6a080f75e090"
      },
      "source": [
        "j=[]\n",
        "for i in range(5):\n",
        "  j.append(random.randint(300,len(Ypred)))\n",
        "   \n",
        "print(\"Records selected at random: \",j)\n",
        "\n",
        "cnt=0\n",
        "for k in j:\n",
        "  print(\"\\n\\nPredicted Labels[\"+str(cnt)+\"] : \", binarizer.inverse_transform(Ypred)[k])\n",
        "  print(\"\\nTrue Labels[\"+str(cnt)+\"] : \", binarizer.inverse_transform(y_test)[k])\n",
        "  cnt+=1"
      ],
      "execution_count": 53,
      "outputs": [
        {
          "output_type": "stream",
          "text": [
            "Records selected at random:  [2763, 3705, 3888, 7318, 8160]\n",
            "\n",
            "\n",
            "Predicted Labels[0] :  ('Aries', 'Cancer', 'male')\n",
            "\n",
            "True Labels[0] :  ('Capricorn', 'indUnk', 'male')\n",
            "\n",
            "\n",
            "Predicted Labels[1] :  ('Sagittarius', 'indUnk', 'male')\n",
            "\n",
            "True Labels[1] :  ('Non-Profit', 'Pisces', 'male')\n",
            "\n",
            "\n",
            "Predicted Labels[2] :  ('indUnk',)\n",
            "\n",
            "True Labels[2] :  ('Capricorn', 'Sports-Recreation', 'male')\n",
            "\n",
            "\n",
            "Predicted Labels[3] :  ()\n",
            "\n",
            "True Labels[3] :  ('Gemini', 'Non-Profit', 'male')\n",
            "\n",
            "\n",
            "Predicted Labels[4] :  ('Education',)\n",
            "\n",
            "True Labels[4] :  ('Aquarius', 'Education', 'female')\n"
          ],
          "name": "stdout"
        }
      ]
    },
    {
      "cell_type": "markdown",
      "metadata": {
        "id": "nwWJCqmdmD4b"
      },
      "source": [
        "### ***Inferences:-*** Due to less score and modelling on partial data, some predictions are incomplete."
      ]
    },
    {
      "cell_type": "markdown",
      "metadata": {
        "id": "3d6ctaG8L62I"
      },
      "source": [
        "# PART 2\n",
        "\n",
        "\n",
        "---\n",
        "\n",
        "\n",
        "\n",
        "---\n"
      ]
    },
    {
      "cell_type": "code",
      "metadata": {
        "id": "E1732XMYMOYE"
      },
      "source": [
        "#import corpus file\n",
        "with open(\"intents.json\") as file:\n",
        "    data = json.load(file)"
      ],
      "execution_count": 54,
      "outputs": []
    },
    {
      "cell_type": "code",
      "metadata": {
        "colab": {
          "base_uri": "https://localhost:8080/"
        },
        "id": "ET42cXTcUWDy",
        "outputId": "0b4e5e17-0cc5-4893-88e3-e0e66a46fd9b"
      },
      "source": [
        "#Display corpus\n",
        "print(data)"
      ],
      "execution_count": 55,
      "outputs": [
        {
          "output_type": "stream",
          "text": [
            "{'intents': [{'tag': 'Intro', 'patterns': ['hi', 'how are you', 'is anyone there', 'hello', 'whats up', 'hey', 'yo', 'listen', 'please help me', 'i am learner from', 'i belong to', 'aiml batch', 'aifl batch', 'i am from', 'my pm is', 'blended', 'online', 'i am from', 'hey ya', 'knock knock', 'please guide me', 'talking to you for first time'], 'responses': ['Hi there, How can I help?', 'Hi! What are you looking for ?', 'Hello! How may I assist you ?'], 'context_set': ''}, {'tag': 'Exit', 'patterns': ['thank you', 'thanks', 'cya', 'see you', 'later', 'see you later', 'goodbye', 'i am leaving', 'have a Good day', 'you helped me', 'thanks a lot', 'thanks a ton', 'you are the best', 'great help', 'too good', 'you are a good learning buddy'], 'responses': ['Hope my assist was helpful, Good Bye', 'Talk to you later,Good Bye!', 'Good Bye, I hope your query is resolved'], 'context_set': ''}, {'tag': 'Olympus', 'patterns': ['olympus', 'explain me how olympus works', 'I am not able to understand olympus', 'olympus window not working', 'no access to olympus', 'unable to see link in olympus', 'no link visible on olympus', 'whom to contact for olympus', 'lot of problem with olympus', 'olympus is not a good tool', 'lot of problems with olympus', 'how to use olympus', 'teach me olympus'], 'responses': ['Link: Olympus wiki', 'Olympus is your LMS', 'Connect with your Program Manager'], 'context_set': ''}, {'tag': 'SL', 'patterns': ['i am not able to understand svm', 'explain me how machine learning works', 'i am not able to understand naive bayes', 'i am not able to understand logistic regression', 'i am not able to understand ensemble techb=niques', 'i am not able to understand knn', 'i am not able to understand knn imputer', 'i am not able to understand cross validation', 'i am not able to understand boosting', 'i am not able to understand random forest', 'i am not able to understand ada boosting', 'i am not able to understand gradient boosting', 'machine learning', 'ML', 'SL', 'supervised learning', 'knn', 'logistic regression', 'regression', 'classification', 'naive bayes', 'nb', 'ensemble techniques', 'bagging', 'boosting', 'ada boosting', 'ada', 'gradient boosting', 'hyper parameters'], 'responses': ['Link: Machine Learning wiki', 'Go to the Machine Learning module in Olympus portal', 'Checkout Great Learning Blog'], 'context_set': ''}, {'tag': 'NN', 'patterns': ['what is deep learning', 'unable to understand deep learning', 'explain me how deep learning works', 'i am not able to understand deep learning', 'not able to understand neural nets', 'very diffult to understand neural networks', 'unable to understand neural nets', 'ann', 'artificial intelligence', 'artificial neural networks', 'weights', 'activation function', 'hidden layers', 'softmax', 'sigmoid', 'relu', 'otimizer', 'forward propagation', 'backward propagation', 'epochs', 'epoch', 'what is an epoch', 'adam', 'sgd'], 'responses': ['Link: Neural Network wiki', 'Go to the Neural Network Section in Olympus portal', 'Checkout Great Learning Blog'], 'context_set': ''}, {'tag': 'Bot', 'patterns': ['what is your name', 'who are you', 'name please', 'how do you do', 'when are your hours of opertions', 'what are your working hours', 'hours of operation', 'working hours', 'hours'], 'responses': [\"I'm your virtual learning assistant\", \"I'm available 24 X 7\", \"I'm your VLA available 24 X 7\"], 'context_set': ''}, {'tag': 'Profane', 'patterns': ['what the hell', 'bloody stupid bot', 'do you think you are very smart', 'screw you', 'i hate you', 'you are stupid', \"you can't understand shit\", 'jerk', 'you are a joke', 'useless piece of shit'], 'responses': ['Please use respectful words', 'Stop using disrespectful words here', \"You'll be banned if you don't stop now\"], 'context_set': ''}, {'tag': 'Ticket', 'patterns': ['my problem is not solved', 'you did not help me', 'not a good solution', 'bad solution', 'not good solution', 'no help', 'wasted my time', 'how to raise a ticket', 'useless bot', 'create a ticket', 'delayed resoultion'], 'responses': ['Transferring the request to your Program Manager', 'Please raise a ticket for further assistance', 'Request you to connect with your PM for better guidance'], 'context_set': ''}]}\n"
          ],
          "name": "stdout"
        }
      ]
    },
    {
      "cell_type": "code",
      "metadata": {
        "id": "lCR461w8UYyt"
      },
      "source": [
        "# initializing lemmatizer to get stem of words\n",
        "lemmatizer = WordNetLemmatizer()\n",
        "# Each list to create\n",
        "words = []\n",
        "classes = []\n",
        "doc_X = []\n",
        "doc_y = []\n",
        "# Loop through all the intents\n",
        "# tokenize each pattern and append tokens to words, the patterns and\n",
        "# the associated tag to their associated list\n",
        "for intent in data[\"intents\"]:\n",
        "    for pattern in intent[\"patterns\"]:\n",
        "        tokens = nltk.word_tokenize(pattern)\n",
        "        words.extend(tokens)\n",
        "        doc_X.append(pattern)\n",
        "        doc_y.append(intent[\"tag\"])\n",
        "    \n",
        "    # add the tag to the classes if it's not there already \n",
        "    if intent[\"tag\"] not in classes:\n",
        "        classes.append(intent[\"tag\"])\n",
        "# lemmatize all the words in the vocab and convert them to lowercase\n",
        "# if the words don't appear in punctuation\n",
        "words = [lemmatizer.lemmatize(word.lower()) for word in words if word not in string.punctuation]\n",
        "# sorting the vocab and classes in alphabetical order and taking the # set to ensure no duplicates occur\n",
        "words = sorted(set(words))\n",
        "classes = sorted(set(classes))"
      ],
      "execution_count": 56,
      "outputs": []
    },
    {
      "cell_type": "code",
      "metadata": {
        "colab": {
          "base_uri": "https://localhost:8080/"
        },
        "id": "P5rVbZF8Ucqd",
        "outputId": "5d644175-f6af-4371-8dd5-1a13c09b4e83"
      },
      "source": [
        "print(\"Words:\\n\", words)"
      ],
      "execution_count": 57,
      "outputs": [
        {
          "output_type": "stream",
          "text": [
            "Words:\n",
            " ['a', 'able', 'access', 'activation', 'ada', 'adam', 'aifl', 'aiml', 'am', 'an', 'ann', 'anyone', 'are', 'artificial', 'backward', 'bad', 'bagging', 'batch', 'bayes', 'belong', 'best', 'blended', 'bloody', 'boosting', 'bot', 'buddy', 'ca', 'classification', 'contact', 'create', 'cross', 'cya', 'day', 'deep', 'delayed', 'did', 'diffult', 'do', 'ensemble', 'epoch', 'explain', 'first', 'for', 'forest', 'forward', 'from', 'function', 'good', 'goodbye', 'gradient', 'great', 'guide', 'hate', 'have', 'hell', 'hello', 'help', 'helped', 'hey', 'hi', 'hidden', 'hour', 'how', 'hyper', 'i', 'imputer', 'in', 'intelligence', 'is', 'jerk', 'joke', 'knn', 'knock', 'later', 'layer', 'learner', 'learning', 'leaving', 'link', 'listen', 'logistic', 'lot', 'machine', 'me', 'ml', 'my', \"n't\", 'naive', 'name', 'nb', 'net', 'network', 'neural', 'no', 'not', 'of', 'olympus', 'on', 'online', 'operation', 'opertions', 'otimizer', 'parameter', 'piece', 'please', 'pm', 'problem', 'propagation', 'raise', 'random', 'regression', 'relu', 'resoultion', 'screw', 'see', 'sgd', 'shit', 'sigmoid', 'sl', 'smart', 'softmax', 'solution', 'solved', 'stupid', 'supervised', 'svm', 'talking', 'teach', 'techb=niques', 'technique', 'thank', 'thanks', 'the', 'there', 'think', 'ticket', 'time', 'to', 'ton', 'too', 'tool', 'unable', 'understand', 'up', 'use', 'useless', 'validation', 'very', 'visible', 'wasted', 'weight', 'what', 'whats', 'when', 'who', 'whom', 'window', 'with', 'work', 'working', 'ya', 'yo', 'you', 'your']\n"
          ],
          "name": "stdout"
        }
      ]
    },
    {
      "cell_type": "code",
      "metadata": {
        "colab": {
          "base_uri": "https://localhost:8080/"
        },
        "id": "yEyyqrbHUfcF",
        "outputId": "435e27db-5bfb-4845-cc56-22103d223957"
      },
      "source": [
        "print(\"Labels:\\n\", classes)"
      ],
      "execution_count": 58,
      "outputs": [
        {
          "output_type": "stream",
          "text": [
            "Labels:\n",
            " ['Bot', 'Exit', 'Intro', 'NN', 'Olympus', 'Profane', 'SL', 'Ticket']\n"
          ],
          "name": "stdout"
        }
      ]
    },
    {
      "cell_type": "code",
      "metadata": {
        "colab": {
          "base_uri": "https://localhost:8080/"
        },
        "id": "G0TrNM16UfMF",
        "outputId": "0a034a00-7ec7-4493-9d67-30d7041d79fe"
      },
      "source": [
        "print(doc_X)"
      ],
      "execution_count": 59,
      "outputs": [
        {
          "output_type": "stream",
          "text": [
            "['hi', 'how are you', 'is anyone there', 'hello', 'whats up', 'hey', 'yo', 'listen', 'please help me', 'i am learner from', 'i belong to', 'aiml batch', 'aifl batch', 'i am from', 'my pm is', 'blended', 'online', 'i am from', 'hey ya', 'knock knock', 'please guide me', 'talking to you for first time', 'thank you', 'thanks', 'cya', 'see you', 'later', 'see you later', 'goodbye', 'i am leaving', 'have a Good day', 'you helped me', 'thanks a lot', 'thanks a ton', 'you are the best', 'great help', 'too good', 'you are a good learning buddy', 'olympus', 'explain me how olympus works', 'I am not able to understand olympus', 'olympus window not working', 'no access to olympus', 'unable to see link in olympus', 'no link visible on olympus', 'whom to contact for olympus', 'lot of problem with olympus', 'olympus is not a good tool', 'lot of problems with olympus', 'how to use olympus', 'teach me olympus', 'i am not able to understand svm', 'explain me how machine learning works', 'i am not able to understand naive bayes', 'i am not able to understand logistic regression', 'i am not able to understand ensemble techb=niques', 'i am not able to understand knn', 'i am not able to understand knn imputer', 'i am not able to understand cross validation', 'i am not able to understand boosting', 'i am not able to understand random forest', 'i am not able to understand ada boosting', 'i am not able to understand gradient boosting', 'machine learning', 'ML', 'SL', 'supervised learning', 'knn', 'logistic regression', 'regression', 'classification', 'naive bayes', 'nb', 'ensemble techniques', 'bagging', 'boosting', 'ada boosting', 'ada', 'gradient boosting', 'hyper parameters', 'what is deep learning', 'unable to understand deep learning', 'explain me how deep learning works', 'i am not able to understand deep learning', 'not able to understand neural nets', 'very diffult to understand neural networks', 'unable to understand neural nets', 'ann', 'artificial intelligence', 'artificial neural networks', 'weights', 'activation function', 'hidden layers', 'softmax', 'sigmoid', 'relu', 'otimizer', 'forward propagation', 'backward propagation', 'epochs', 'epoch', 'what is an epoch', 'adam', 'sgd', 'what is your name', 'who are you', 'name please', 'how do you do', 'when are your hours of opertions', 'what are your working hours', 'hours of operation', 'working hours', 'hours', 'what the hell', 'bloody stupid bot', 'do you think you are very smart', 'screw you', 'i hate you', 'you are stupid', \"you can't understand shit\", 'jerk', 'you are a joke', 'useless piece of shit', 'my problem is not solved', 'you did not help me', 'not a good solution', 'bad solution', 'not good solution', 'no help', 'wasted my time', 'how to raise a ticket', 'useless bot', 'create a ticket', 'delayed resoultion']\n"
          ],
          "name": "stdout"
        }
      ]
    },
    {
      "cell_type": "code",
      "metadata": {
        "colab": {
          "base_uri": "https://localhost:8080/"
        },
        "id": "cj5sYNB4Ue-S",
        "outputId": "c221f0c3-d627-496a-e087-924e3dd7eb3e"
      },
      "source": [
        "print(doc_y)"
      ],
      "execution_count": 60,
      "outputs": [
        {
          "output_type": "stream",
          "text": [
            "['Intro', 'Intro', 'Intro', 'Intro', 'Intro', 'Intro', 'Intro', 'Intro', 'Intro', 'Intro', 'Intro', 'Intro', 'Intro', 'Intro', 'Intro', 'Intro', 'Intro', 'Intro', 'Intro', 'Intro', 'Intro', 'Intro', 'Exit', 'Exit', 'Exit', 'Exit', 'Exit', 'Exit', 'Exit', 'Exit', 'Exit', 'Exit', 'Exit', 'Exit', 'Exit', 'Exit', 'Exit', 'Exit', 'Olympus', 'Olympus', 'Olympus', 'Olympus', 'Olympus', 'Olympus', 'Olympus', 'Olympus', 'Olympus', 'Olympus', 'Olympus', 'Olympus', 'Olympus', 'SL', 'SL', 'SL', 'SL', 'SL', 'SL', 'SL', 'SL', 'SL', 'SL', 'SL', 'SL', 'SL', 'SL', 'SL', 'SL', 'SL', 'SL', 'SL', 'SL', 'SL', 'SL', 'SL', 'SL', 'SL', 'SL', 'SL', 'SL', 'SL', 'NN', 'NN', 'NN', 'NN', 'NN', 'NN', 'NN', 'NN', 'NN', 'NN', 'NN', 'NN', 'NN', 'NN', 'NN', 'NN', 'NN', 'NN', 'NN', 'NN', 'NN', 'NN', 'NN', 'NN', 'Bot', 'Bot', 'Bot', 'Bot', 'Bot', 'Bot', 'Bot', 'Bot', 'Bot', 'Profane', 'Profane', 'Profane', 'Profane', 'Profane', 'Profane', 'Profane', 'Profane', 'Profane', 'Profane', 'Ticket', 'Ticket', 'Ticket', 'Ticket', 'Ticket', 'Ticket', 'Ticket', 'Ticket', 'Ticket', 'Ticket', 'Ticket']\n"
          ],
          "name": "stdout"
        }
      ]
    },
    {
      "cell_type": "code",
      "metadata": {
        "id": "4AA5DiELUmC5"
      },
      "source": [
        "# list for training data\n",
        "training = []\n",
        "out_empty = [0] * len(classes)\n",
        "# creating the bag of words model\n",
        "for idx, doc in enumerate(doc_X):\n",
        "    bow = []\n",
        "    text = lemmatizer.lemmatize(doc.lower())\n",
        "    for word in words:\n",
        "        bow.append(1) if word in text else bow.append(0)\n",
        "    # mark the index of class that the current pattern is associated\n",
        "    # to\n",
        "    output_row = list(out_empty)\n",
        "    output_row[classes.index(doc_y[idx])] = 1\n",
        "    # add the one hot encoded BoW and associated classes to training \n",
        "    training.append([bow, output_row])\n",
        "# shuffle the data and convert it to an array\n",
        "random.shuffle(training)\n",
        "training = np.array(training, dtype=object)\n",
        "# split the features and target labels\n",
        "train_X = np.array(list(training[:, 0]))\n",
        "train_y = np.array(list(training[:, 1]))# list for training data\n",
        "training = []\n",
        "out_empty = [0] * len(classes)\n",
        "# creating the bag of words model\n",
        "for idx, doc in enumerate(doc_X):\n",
        "    bow = []\n",
        "    text = lemmatizer.lemmatize(doc.lower())\n",
        "    for word in words:\n",
        "        bow.append(1) if word in text else bow.append(0)\n",
        "    # mark the index of class that the current pattern is associated to\n",
        "    output_row = list(out_empty)\n",
        "    output_row[classes.index(doc_y[idx])] = 1\n",
        "    # add the one hot encoded BoW and associated classes to training \n",
        "    training.append([bow, output_row])\n",
        "# shuffle the data and convert it to an array\n",
        "random.shuffle(training)\n",
        "training = np.array(training, dtype=object)\n",
        "# split the features and target labels\n",
        "train_X = np.array(list(training[:, 0]))\n",
        "train_y = np.array(list(training[:, 1]))"
      ],
      "execution_count": 61,
      "outputs": []
    },
    {
      "cell_type": "code",
      "metadata": {
        "colab": {
          "base_uri": "https://localhost:8080/"
        },
        "id": "eZA8nDenUlzh",
        "outputId": "5504f814-57a7-444e-e57a-cd45328bb285"
      },
      "source": [
        "# defining some parameters\n",
        "input_shape = (len(train_X[0]),)\n",
        "output_shape = len(train_y[0])\n",
        "epochs = 200\n",
        "\n",
        "#Clear any existing model in memory\n",
        "tf.keras.backend.clear_session()\n",
        "\n",
        "# the deep learning model\n",
        "\n",
        "#Initialize model\n",
        "model = Sequential()\n",
        "\n",
        "# Input layer \n",
        "model.add(Dense(128, input_shape=input_shape, activation=\"relu\"))\n",
        "model.add(Dropout(0.5))\n",
        "model.add(Dense(64, activation=\"relu\"))\n",
        "model.add(Dropout(0.3))\n",
        "\n",
        "#Output layer\n",
        "model.add(Dense(output_shape, activation = \"softmax\"))\n",
        "\n",
        "#Defining optimizer\n",
        "adam = tf.keras.optimizers.Adam(learning_rate=0.01, decay=1e-6)\n",
        "#Configuring the model for training\n",
        "model.compile(loss='categorical_crossentropy',\n",
        "              optimizer=adam,\n",
        "              metrics=[\"accuracy\"])\n",
        "\n",
        "# Model summary\n",
        "print(model.summary())\n",
        "\n",
        "# Training the model\n",
        "model.fit(x=train_X, y=train_y, epochs=200, verbose=1)"
      ],
      "execution_count": 62,
      "outputs": [
        {
          "output_type": "stream",
          "text": [
            "Model: \"sequential\"\n",
            "_________________________________________________________________\n",
            "Layer (type)                 Output Shape              Param #   \n",
            "=================================================================\n",
            "dense (Dense)                (None, 128)               21120     \n",
            "_________________________________________________________________\n",
            "dropout (Dropout)            (None, 128)               0         \n",
            "_________________________________________________________________\n",
            "dense_1 (Dense)              (None, 64)                8256      \n",
            "_________________________________________________________________\n",
            "dropout_1 (Dropout)          (None, 64)                0         \n",
            "_________________________________________________________________\n",
            "dense_2 (Dense)              (None, 8)                 520       \n",
            "=================================================================\n",
            "Total params: 29,896\n",
            "Trainable params: 29,896\n",
            "Non-trainable params: 0\n",
            "_________________________________________________________________\n",
            "None\n",
            "Epoch 1/200\n",
            "5/5 [==============================] - 1s 3ms/step - loss: 2.0727 - accuracy: 0.1142\n",
            "Epoch 2/200\n",
            "5/5 [==============================] - 0s 3ms/step - loss: 1.7831 - accuracy: 0.3183\n",
            "Epoch 3/200\n",
            "5/5 [==============================] - 0s 2ms/step - loss: 1.6277 - accuracy: 0.3877\n",
            "Epoch 4/200\n",
            "5/5 [==============================] - 0s 2ms/step - loss: 1.3591 - accuracy: 0.5509\n",
            "Epoch 5/200\n",
            "5/5 [==============================] - 0s 2ms/step - loss: 1.0325 - accuracy: 0.7010\n",
            "Epoch 6/200\n",
            "5/5 [==============================] - 0s 2ms/step - loss: 0.8152 - accuracy: 0.7525\n",
            "Epoch 7/200\n",
            "5/5 [==============================] - 0s 2ms/step - loss: 0.6281 - accuracy: 0.7920\n",
            "Epoch 8/200\n",
            "5/5 [==============================] - 0s 2ms/step - loss: 0.5641 - accuracy: 0.8136\n",
            "Epoch 9/200\n",
            "5/5 [==============================] - 0s 3ms/step - loss: 0.3060 - accuracy: 0.8867\n",
            "Epoch 10/200\n",
            "5/5 [==============================] - 0s 2ms/step - loss: 0.3232 - accuracy: 0.9099\n",
            "Epoch 11/200\n",
            "5/5 [==============================] - 0s 4ms/step - loss: 0.2443 - accuracy: 0.9508\n",
            "Epoch 12/200\n",
            "5/5 [==============================] - 0s 5ms/step - loss: 0.2260 - accuracy: 0.9216\n",
            "Epoch 13/200\n",
            "5/5 [==============================] - 0s 3ms/step - loss: 0.1473 - accuracy: 0.9596\n",
            "Epoch 14/200\n",
            "5/5 [==============================] - 0s 3ms/step - loss: 0.1138 - accuracy: 0.9706\n",
            "Epoch 15/200\n",
            "5/5 [==============================] - 0s 3ms/step - loss: 0.0739 - accuracy: 0.9826\n",
            "Epoch 16/200\n",
            "5/5 [==============================] - 0s 3ms/step - loss: 0.1076 - accuracy: 0.9538\n",
            "Epoch 17/200\n",
            "5/5 [==============================] - 0s 2ms/step - loss: 0.0449 - accuracy: 0.9962\n",
            "Epoch 18/200\n",
            "5/5 [==============================] - 0s 3ms/step - loss: 0.0583 - accuracy: 0.9962\n",
            "Epoch 19/200\n",
            "5/5 [==============================] - 0s 2ms/step - loss: 0.0262 - accuracy: 0.9867\n",
            "Epoch 20/200\n",
            "5/5 [==============================] - 0s 6ms/step - loss: 0.0399 - accuracy: 0.9950\n",
            "Epoch 21/200\n",
            "5/5 [==============================] - 0s 2ms/step - loss: 0.0419 - accuracy: 0.9907\n",
            "Epoch 22/200\n",
            "5/5 [==============================] - 0s 3ms/step - loss: 0.0765 - accuracy: 0.9811\n",
            "Epoch 23/200\n",
            "5/5 [==============================] - 0s 3ms/step - loss: 0.0436 - accuracy: 0.9907\n",
            "Epoch 24/200\n",
            "5/5 [==============================] - 0s 3ms/step - loss: 0.0491 - accuracy: 0.9863\n",
            "Epoch 25/200\n",
            "5/5 [==============================] - 0s 3ms/step - loss: 0.0198 - accuracy: 0.9924\n",
            "Epoch 26/200\n",
            "5/5 [==============================] - 0s 3ms/step - loss: 0.0258 - accuracy: 1.0000\n",
            "Epoch 27/200\n",
            "5/5 [==============================] - 0s 3ms/step - loss: 0.0158 - accuracy: 1.0000\n",
            "Epoch 28/200\n",
            "5/5 [==============================] - 0s 3ms/step - loss: 0.0063 - accuracy: 1.0000\n",
            "Epoch 29/200\n",
            "5/5 [==============================] - 0s 2ms/step - loss: 0.0184 - accuracy: 1.0000\n",
            "Epoch 30/200\n",
            "5/5 [==============================] - 0s 2ms/step - loss: 0.0171 - accuracy: 1.0000\n",
            "Epoch 31/200\n",
            "5/5 [==============================] - 0s 2ms/step - loss: 0.0110 - accuracy: 1.0000\n",
            "Epoch 32/200\n",
            "5/5 [==============================] - 0s 3ms/step - loss: 0.0071 - accuracy: 1.0000\n",
            "Epoch 33/200\n",
            "5/5 [==============================] - 0s 2ms/step - loss: 0.0076 - accuracy: 1.0000\n",
            "Epoch 34/200\n",
            "5/5 [==============================] - 0s 3ms/step - loss: 0.0249 - accuracy: 0.9889\n",
            "Epoch 35/200\n",
            "5/5 [==============================] - 0s 3ms/step - loss: 0.0038 - accuracy: 1.0000\n",
            "Epoch 36/200\n",
            "5/5 [==============================] - 0s 2ms/step - loss: 0.0175 - accuracy: 1.0000\n",
            "Epoch 37/200\n",
            "5/5 [==============================] - 0s 3ms/step - loss: 0.0212 - accuracy: 0.9945\n",
            "Epoch 38/200\n",
            "5/5 [==============================] - 0s 3ms/step - loss: 0.0458 - accuracy: 0.9829\n",
            "Epoch 39/200\n",
            "5/5 [==============================] - 0s 4ms/step - loss: 0.0153 - accuracy: 0.9962\n",
            "Epoch 40/200\n",
            "5/5 [==============================] - 0s 3ms/step - loss: 0.0225 - accuracy: 0.9919\n",
            "Epoch 41/200\n",
            "5/5 [==============================] - 0s 3ms/step - loss: 0.0147 - accuracy: 1.0000\n",
            "Epoch 42/200\n",
            "5/5 [==============================] - 0s 3ms/step - loss: 0.0334 - accuracy: 0.9962\n",
            "Epoch 43/200\n",
            "5/5 [==============================] - 0s 3ms/step - loss: 0.0306 - accuracy: 0.9919\n",
            "Epoch 44/200\n",
            "5/5 [==============================] - 0s 2ms/step - loss: 0.0083 - accuracy: 1.0000\n",
            "Epoch 45/200\n",
            "5/5 [==============================] - 0s 3ms/step - loss: 0.0041 - accuracy: 1.0000\n",
            "Epoch 46/200\n",
            "5/5 [==============================] - 0s 2ms/step - loss: 0.0074 - accuracy: 1.0000\n",
            "Epoch 47/200\n",
            "5/5 [==============================] - 0s 3ms/step - loss: 0.0053 - accuracy: 1.0000\n",
            "Epoch 48/200\n",
            "5/5 [==============================] - 0s 3ms/step - loss: 0.0260 - accuracy: 0.9867\n",
            "Epoch 49/200\n",
            "5/5 [==============================] - 0s 3ms/step - loss: 0.0193 - accuracy: 1.0000\n",
            "Epoch 50/200\n",
            "5/5 [==============================] - 0s 3ms/step - loss: 0.0211 - accuracy: 1.0000\n",
            "Epoch 51/200\n",
            "5/5 [==============================] - 0s 3ms/step - loss: 0.0383 - accuracy: 0.9882\n",
            "Epoch 52/200\n",
            "5/5 [==============================] - 0s 3ms/step - loss: 0.0672 - accuracy: 0.9695\n",
            "Epoch 53/200\n",
            "5/5 [==============================] - 0s 3ms/step - loss: 0.0313 - accuracy: 0.9829\n",
            "Epoch 54/200\n",
            "5/5 [==============================] - 0s 3ms/step - loss: 0.0357 - accuracy: 0.9937\n",
            "Epoch 55/200\n",
            "5/5 [==============================] - 0s 3ms/step - loss: 0.0202 - accuracy: 0.9945\n",
            "Epoch 56/200\n",
            "5/5 [==============================] - 0s 4ms/step - loss: 0.0197 - accuracy: 1.0000\n",
            "Epoch 57/200\n",
            "5/5 [==============================] - 0s 3ms/step - loss: 0.0383 - accuracy: 0.9907\n",
            "Epoch 58/200\n",
            "5/5 [==============================] - 0s 2ms/step - loss: 0.0069 - accuracy: 1.0000\n",
            "Epoch 59/200\n",
            "5/5 [==============================] - 0s 3ms/step - loss: 0.0321 - accuracy: 0.9919\n",
            "Epoch 60/200\n",
            "5/5 [==============================] - 0s 3ms/step - loss: 0.0117 - accuracy: 1.0000\n",
            "Epoch 61/200\n",
            "5/5 [==============================] - 0s 3ms/step - loss: 0.0057 - accuracy: 1.0000\n",
            "Epoch 62/200\n",
            "5/5 [==============================] - 0s 3ms/step - loss: 0.0091 - accuracy: 1.0000\n",
            "Epoch 63/200\n",
            "5/5 [==============================] - 0s 3ms/step - loss: 0.0182 - accuracy: 1.0000\n",
            "Epoch 64/200\n",
            "5/5 [==============================] - 0s 3ms/step - loss: 0.0066 - accuracy: 1.0000\n",
            "Epoch 65/200\n",
            "5/5 [==============================] - 0s 2ms/step - loss: 0.0299 - accuracy: 0.9881\n",
            "Epoch 66/200\n",
            "5/5 [==============================] - 0s 3ms/step - loss: 0.0081 - accuracy: 0.9962\n",
            "Epoch 67/200\n",
            "5/5 [==============================] - 0s 2ms/step - loss: 0.0188 - accuracy: 0.9919\n",
            "Epoch 68/200\n",
            "5/5 [==============================] - 0s 3ms/step - loss: 0.0162 - accuracy: 0.9919\n",
            "Epoch 69/200\n",
            "5/5 [==============================] - 0s 3ms/step - loss: 0.0134 - accuracy: 0.9945\n",
            "Epoch 70/200\n",
            "5/5 [==============================] - 0s 4ms/step - loss: 0.0041 - accuracy: 1.0000\n",
            "Epoch 71/200\n",
            "5/5 [==============================] - 0s 3ms/step - loss: 0.0095 - accuracy: 1.0000\n",
            "Epoch 72/200\n",
            "5/5 [==============================] - 0s 2ms/step - loss: 0.0127 - accuracy: 1.0000\n",
            "Epoch 73/200\n",
            "5/5 [==============================] - 0s 3ms/step - loss: 0.0015 - accuracy: 1.0000\n",
            "Epoch 74/200\n",
            "5/5 [==============================] - 0s 3ms/step - loss: 0.0011 - accuracy: 1.0000\n",
            "Epoch 75/200\n",
            "5/5 [==============================] - 0s 3ms/step - loss: 0.0095 - accuracy: 1.0000\n",
            "Epoch 76/200\n",
            "5/5 [==============================] - 0s 4ms/step - loss: 0.0092 - accuracy: 0.9962\n",
            "Epoch 77/200\n",
            "5/5 [==============================] - 0s 3ms/step - loss: 0.0400 - accuracy: 0.9867\n",
            "Epoch 78/200\n",
            "5/5 [==============================] - 0s 4ms/step - loss: 0.0372 - accuracy: 0.9867\n",
            "Epoch 79/200\n",
            "5/5 [==============================] - 0s 3ms/step - loss: 0.0049 - accuracy: 1.0000\n",
            "Epoch 80/200\n",
            "5/5 [==============================] - 0s 3ms/step - loss: 0.0083 - accuracy: 1.0000\n",
            "Epoch 81/200\n",
            "5/5 [==============================] - 0s 4ms/step - loss: 0.0085 - accuracy: 1.0000\n",
            "Epoch 82/200\n",
            "5/5 [==============================] - 0s 2ms/step - loss: 0.0169 - accuracy: 0.9919\n",
            "Epoch 83/200\n",
            "5/5 [==============================] - 0s 4ms/step - loss: 0.0363 - accuracy: 0.9919\n",
            "Epoch 84/200\n",
            "5/5 [==============================] - 0s 3ms/step - loss: 0.0014 - accuracy: 1.0000\n",
            "Epoch 85/200\n",
            "5/5 [==============================] - 0s 3ms/step - loss: 0.0014 - accuracy: 1.0000\n",
            "Epoch 86/200\n",
            "5/5 [==============================] - 0s 3ms/step - loss: 0.0099 - accuracy: 0.9919\n",
            "Epoch 87/200\n",
            "5/5 [==============================] - 0s 3ms/step - loss: 0.0055 - accuracy: 1.0000\n",
            "Epoch 88/200\n",
            "5/5 [==============================] - 0s 3ms/step - loss: 0.0022 - accuracy: 1.0000\n",
            "Epoch 89/200\n",
            "5/5 [==============================] - 0s 2ms/step - loss: 0.0302 - accuracy: 0.9867\n",
            "Epoch 90/200\n",
            "5/5 [==============================] - 0s 3ms/step - loss: 0.1511 - accuracy: 0.9733\n",
            "Epoch 91/200\n",
            "5/5 [==============================] - 0s 2ms/step - loss: 0.0068 - accuracy: 1.0000\n",
            "Epoch 92/200\n",
            "5/5 [==============================] - 0s 3ms/step - loss: 0.0071 - accuracy: 1.0000\n",
            "Epoch 93/200\n",
            "5/5 [==============================] - 0s 3ms/step - loss: 0.0457 - accuracy: 0.9867\n",
            "Epoch 94/200\n",
            "5/5 [==============================] - 0s 3ms/step - loss: 0.0377 - accuracy: 0.9867\n",
            "Epoch 95/200\n",
            "5/5 [==============================] - 0s 3ms/step - loss: 0.0106 - accuracy: 1.0000\n",
            "Epoch 96/200\n",
            "5/5 [==============================] - 0s 3ms/step - loss: 0.0129 - accuracy: 0.9919\n",
            "Epoch 97/200\n",
            "5/5 [==============================] - 0s 3ms/step - loss: 0.0021 - accuracy: 1.0000\n",
            "Epoch 98/200\n",
            "5/5 [==============================] - 0s 3ms/step - loss: 0.0474 - accuracy: 0.9811\n",
            "Epoch 99/200\n",
            "5/5 [==============================] - 0s 3ms/step - loss: 0.0181 - accuracy: 0.9919\n",
            "Epoch 100/200\n",
            "5/5 [==============================] - 0s 4ms/step - loss: 0.0062 - accuracy: 1.0000\n",
            "Epoch 101/200\n",
            "5/5 [==============================] - 0s 3ms/step - loss: 0.0234 - accuracy: 0.9962\n",
            "Epoch 102/200\n",
            "5/5 [==============================] - 0s 4ms/step - loss: 0.0058 - accuracy: 1.0000\n",
            "Epoch 103/200\n",
            "5/5 [==============================] - 0s 4ms/step - loss: 0.0023 - accuracy: 1.0000\n",
            "Epoch 104/200\n",
            "5/5 [==============================] - 0s 3ms/step - loss: 0.0021 - accuracy: 1.0000\n",
            "Epoch 105/200\n",
            "5/5 [==============================] - 0s 3ms/step - loss: 0.0030 - accuracy: 1.0000\n",
            "Epoch 106/200\n",
            "5/5 [==============================] - 0s 3ms/step - loss: 0.0120 - accuracy: 1.0000\n",
            "Epoch 107/200\n",
            "5/5 [==============================] - 0s 3ms/step - loss: 0.0029 - accuracy: 1.0000\n",
            "Epoch 108/200\n",
            "5/5 [==============================] - 0s 3ms/step - loss: 0.1149 - accuracy: 0.9919\n",
            "Epoch 109/200\n",
            "5/5 [==============================] - 0s 3ms/step - loss: 0.0780 - accuracy: 0.9785\n",
            "Epoch 110/200\n",
            "5/5 [==============================] - 0s 4ms/step - loss: 0.0107 - accuracy: 0.9962\n",
            "Epoch 111/200\n",
            "5/5 [==============================] - 0s 2ms/step - loss: 0.1393 - accuracy: 0.9733\n",
            "Epoch 112/200\n",
            "5/5 [==============================] - 0s 2ms/step - loss: 0.0027 - accuracy: 1.0000\n",
            "Epoch 113/200\n",
            "5/5 [==============================] - 0s 3ms/step - loss: 0.1267 - accuracy: 0.9829\n",
            "Epoch 114/200\n",
            "5/5 [==============================] - 0s 2ms/step - loss: 0.0291 - accuracy: 0.9881\n",
            "Epoch 115/200\n",
            "5/5 [==============================] - 0s 3ms/step - loss: 0.0012 - accuracy: 1.0000\n",
            "Epoch 116/200\n",
            "5/5 [==============================] - 0s 3ms/step - loss: 0.0304 - accuracy: 0.9785\n",
            "Epoch 117/200\n",
            "5/5 [==============================] - 0s 3ms/step - loss: 0.0176 - accuracy: 0.9937\n",
            "Epoch 118/200\n",
            "5/5 [==============================] - 0s 3ms/step - loss: 0.0096 - accuracy: 1.0000\n",
            "Epoch 119/200\n",
            "5/5 [==============================] - 0s 3ms/step - loss: 0.0365 - accuracy: 0.9837\n",
            "Epoch 120/200\n",
            "5/5 [==============================] - 0s 2ms/step - loss: 0.0146 - accuracy: 0.9919\n",
            "Epoch 121/200\n",
            "5/5 [==============================] - 0s 3ms/step - loss: 0.0570 - accuracy: 0.9614\n",
            "Epoch 122/200\n",
            "5/5 [==============================] - 0s 2ms/step - loss: 0.0498 - accuracy: 0.9919\n",
            "Epoch 123/200\n",
            "5/5 [==============================] - 0s 3ms/step - loss: 0.0415 - accuracy: 0.9894\n",
            "Epoch 124/200\n",
            "5/5 [==============================] - 0s 2ms/step - loss: 0.0040 - accuracy: 1.0000\n",
            "Epoch 125/200\n",
            "5/5 [==============================] - 0s 3ms/step - loss: 0.0705 - accuracy: 0.9756\n",
            "Epoch 126/200\n",
            "5/5 [==============================] - 0s 3ms/step - loss: 0.0086 - accuracy: 1.0000\n",
            "Epoch 127/200\n",
            "5/5 [==============================] - 0s 3ms/step - loss: 0.0788 - accuracy: 0.9791\n",
            "Epoch 128/200\n",
            "5/5 [==============================] - 0s 5ms/step - loss: 0.0023 - accuracy: 1.0000\n",
            "Epoch 129/200\n",
            "5/5 [==============================] - 0s 3ms/step - loss: 0.1523 - accuracy: 0.9747\n",
            "Epoch 130/200\n",
            "5/5 [==============================] - 0s 3ms/step - loss: 0.0417 - accuracy: 0.9889\n",
            "Epoch 131/200\n",
            "5/5 [==============================] - 0s 3ms/step - loss: 0.0127 - accuracy: 0.9962\n",
            "Epoch 132/200\n",
            "5/5 [==============================] - 0s 3ms/step - loss: 0.3256 - accuracy: 0.9408\n",
            "Epoch 133/200\n",
            "5/5 [==============================] - 0s 3ms/step - loss: 0.0109 - accuracy: 1.0000\n",
            "Epoch 134/200\n",
            "5/5 [==============================] - 0s 2ms/step - loss: 0.0746 - accuracy: 0.9829\n",
            "Epoch 135/200\n",
            "5/5 [==============================] - 0s 2ms/step - loss: 0.0302 - accuracy: 0.9919\n",
            "Epoch 136/200\n",
            "5/5 [==============================] - 0s 3ms/step - loss: 0.0182 - accuracy: 0.9867\n",
            "Epoch 137/200\n",
            "5/5 [==============================] - 0s 3ms/step - loss: 0.1201 - accuracy: 0.9649\n",
            "Epoch 138/200\n",
            "5/5 [==============================] - 0s 3ms/step - loss: 0.0029 - accuracy: 1.0000\n",
            "Epoch 139/200\n",
            "5/5 [==============================] - 0s 3ms/step - loss: 4.0992e-04 - accuracy: 1.0000\n",
            "Epoch 140/200\n",
            "5/5 [==============================] - 0s 2ms/step - loss: 0.0331 - accuracy: 0.9945\n",
            "Epoch 141/200\n",
            "5/5 [==============================] - 0s 3ms/step - loss: 0.0170 - accuracy: 0.9962\n",
            "Epoch 142/200\n",
            "5/5 [==============================] - 0s 3ms/step - loss: 0.0710 - accuracy: 0.9907\n",
            "Epoch 143/200\n",
            "5/5 [==============================] - 0s 3ms/step - loss: 0.0103 - accuracy: 0.9975\n",
            "Epoch 144/200\n",
            "5/5 [==============================] - 0s 2ms/step - loss: 0.0672 - accuracy: 0.9785\n",
            "Epoch 145/200\n",
            "5/5 [==============================] - 0s 4ms/step - loss: 0.1832 - accuracy: 0.9642\n",
            "Epoch 146/200\n",
            "5/5 [==============================] - 0s 4ms/step - loss: 0.0096 - accuracy: 1.0000\n",
            "Epoch 147/200\n",
            "5/5 [==============================] - 0s 4ms/step - loss: 0.0043 - accuracy: 1.0000\n",
            "Epoch 148/200\n",
            "5/5 [==============================] - 0s 4ms/step - loss: 0.0466 - accuracy: 0.9733\n",
            "Epoch 149/200\n",
            "5/5 [==============================] - 0s 2ms/step - loss: 0.0117 - accuracy: 0.9924\n",
            "Epoch 150/200\n",
            "5/5 [==============================] - 0s 2ms/step - loss: 0.0042 - accuracy: 1.0000\n",
            "Epoch 151/200\n",
            "5/5 [==============================] - 0s 4ms/step - loss: 0.0457 - accuracy: 0.9733\n",
            "Epoch 152/200\n",
            "5/5 [==============================] - 0s 3ms/step - loss: 0.1675 - accuracy: 0.9829\n",
            "Epoch 153/200\n",
            "5/5 [==============================] - 0s 3ms/step - loss: 0.0153 - accuracy: 0.9945\n",
            "Epoch 154/200\n",
            "5/5 [==============================] - 0s 3ms/step - loss: 0.0415 - accuracy: 0.9919\n",
            "Epoch 155/200\n",
            "5/5 [==============================] - 0s 4ms/step - loss: 0.0052 - accuracy: 0.9962\n",
            "Epoch 156/200\n",
            "5/5 [==============================] - 0s 3ms/step - loss: 0.1072 - accuracy: 0.9678\n",
            "Epoch 157/200\n",
            "5/5 [==============================] - 0s 3ms/step - loss: 0.0046 - accuracy: 0.9962\n",
            "Epoch 158/200\n",
            "5/5 [==============================] - 0s 3ms/step - loss: 0.0442 - accuracy: 0.9829\n",
            "Epoch 159/200\n",
            "5/5 [==============================] - 0s 4ms/step - loss: 0.0228 - accuracy: 0.9785\n",
            "Epoch 160/200\n",
            "5/5 [==============================] - 0s 2ms/step - loss: 0.0057 - accuracy: 1.0000\n",
            "Epoch 161/200\n",
            "5/5 [==============================] - 0s 4ms/step - loss: 0.0473 - accuracy: 0.9945\n",
            "Epoch 162/200\n",
            "5/5 [==============================] - 0s 2ms/step - loss: 5.0901e-04 - accuracy: 1.0000\n",
            "Epoch 163/200\n",
            "5/5 [==============================] - 0s 3ms/step - loss: 0.0070 - accuracy: 1.0000\n",
            "Epoch 164/200\n",
            "5/5 [==============================] - 0s 3ms/step - loss: 0.0044 - accuracy: 1.0000\n",
            "Epoch 165/200\n",
            "5/5 [==============================] - 0s 3ms/step - loss: 0.0485 - accuracy: 0.9842\n",
            "Epoch 166/200\n",
            "5/5 [==============================] - 0s 3ms/step - loss: 0.0045 - accuracy: 1.0000\n",
            "Epoch 167/200\n",
            "5/5 [==============================] - 0s 2ms/step - loss: 0.0124 - accuracy: 0.9907\n",
            "Epoch 168/200\n",
            "5/5 [==============================] - 0s 3ms/step - loss: 0.0018 - accuracy: 1.0000\n",
            "Epoch 169/200\n",
            "5/5 [==============================] - 0s 2ms/step - loss: 0.0466 - accuracy: 0.9945\n",
            "Epoch 170/200\n",
            "5/5 [==============================] - 0s 3ms/step - loss: 0.0362 - accuracy: 0.9867\n",
            "Epoch 171/200\n",
            "5/5 [==============================] - 0s 3ms/step - loss: 0.0066 - accuracy: 1.0000\n",
            "Epoch 172/200\n",
            "5/5 [==============================] - 0s 3ms/step - loss: 0.0150 - accuracy: 1.0000\n",
            "Epoch 173/200\n",
            "5/5 [==============================] - 0s 2ms/step - loss: 0.0125 - accuracy: 0.9975\n",
            "Epoch 174/200\n",
            "5/5 [==============================] - 0s 2ms/step - loss: 4.4759e-04 - accuracy: 1.0000\n",
            "Epoch 175/200\n",
            "5/5 [==============================] - 0s 3ms/step - loss: 0.0076 - accuracy: 0.9962\n",
            "Epoch 176/200\n",
            "5/5 [==============================] - 0s 3ms/step - loss: 0.0401 - accuracy: 0.9919\n",
            "Epoch 177/200\n",
            "5/5 [==============================] - 0s 3ms/step - loss: 0.0326 - accuracy: 0.9829\n",
            "Epoch 178/200\n",
            "5/5 [==============================] - 0s 2ms/step - loss: 0.0113 - accuracy: 0.9907\n",
            "Epoch 179/200\n",
            "5/5 [==============================] - 0s 3ms/step - loss: 0.0743 - accuracy: 0.9695\n",
            "Epoch 180/200\n",
            "5/5 [==============================] - 0s 4ms/step - loss: 0.0021 - accuracy: 1.0000\n",
            "Epoch 181/200\n",
            "5/5 [==============================] - 0s 3ms/step - loss: 0.2038 - accuracy: 0.9695\n",
            "Epoch 182/200\n",
            "5/5 [==============================] - 0s 4ms/step - loss: 0.0168 - accuracy: 0.9962\n",
            "Epoch 183/200\n",
            "5/5 [==============================] - 0s 4ms/step - loss: 0.0037 - accuracy: 1.0000\n",
            "Epoch 184/200\n",
            "5/5 [==============================] - 0s 3ms/step - loss: 0.0013 - accuracy: 1.0000\n",
            "Epoch 185/200\n",
            "5/5 [==============================] - 0s 4ms/step - loss: 0.0845 - accuracy: 0.9867\n",
            "Epoch 186/200\n",
            "5/5 [==============================] - 0s 2ms/step - loss: 0.0078 - accuracy: 0.9919\n",
            "Epoch 187/200\n",
            "5/5 [==============================] - 0s 3ms/step - loss: 0.0896 - accuracy: 0.9867\n",
            "Epoch 188/200\n",
            "5/5 [==============================] - 0s 2ms/step - loss: 0.0202 - accuracy: 0.9881\n",
            "Epoch 189/200\n",
            "5/5 [==============================] - 0s 3ms/step - loss: 0.0542 - accuracy: 0.9867\n",
            "Epoch 190/200\n",
            "5/5 [==============================] - 0s 3ms/step - loss: 0.0504 - accuracy: 0.9867\n",
            "Epoch 191/200\n",
            "5/5 [==============================] - 0s 3ms/step - loss: 0.0121 - accuracy: 1.0000\n",
            "Epoch 192/200\n",
            "5/5 [==============================] - 0s 5ms/step - loss: 0.0106 - accuracy: 0.9881\n",
            "Epoch 193/200\n",
            "5/5 [==============================] - 0s 3ms/step - loss: 0.0283 - accuracy: 0.9867\n",
            "Epoch 194/200\n",
            "5/5 [==============================] - 0s 4ms/step - loss: 0.0258 - accuracy: 0.9919\n",
            "Epoch 195/200\n",
            "5/5 [==============================] - 0s 3ms/step - loss: 0.0120 - accuracy: 0.9945\n",
            "Epoch 196/200\n",
            "5/5 [==============================] - 0s 3ms/step - loss: 0.0425 - accuracy: 0.9863\n",
            "Epoch 197/200\n",
            "5/5 [==============================] - 0s 2ms/step - loss: 0.0056 - accuracy: 1.0000\n",
            "Epoch 198/200\n",
            "5/5 [==============================] - 0s 3ms/step - loss: 0.0177 - accuracy: 0.9919\n",
            "Epoch 199/200\n",
            "5/5 [==============================] - 0s 3ms/step - loss: 0.0096 - accuracy: 0.9945\n",
            "Epoch 200/200\n",
            "5/5 [==============================] - 0s 3ms/step - loss: 0.1086 - accuracy: 0.9829\n"
          ],
          "name": "stdout"
        },
        {
          "output_type": "execute_result",
          "data": {
            "text/plain": [
              "<tensorflow.python.keras.callbacks.History at 0x7fb8153ea3d0>"
            ]
          },
          "metadata": {
            "tags": []
          },
          "execution_count": 62
        }
      ]
    },
    {
      "cell_type": "code",
      "metadata": {
        "id": "7-8g4xOUUlot"
      },
      "source": [
        "#Functions for Chatbot Sessions\n",
        "def clean_text(text): \n",
        "  tokens = nltk.word_tokenize(text)\n",
        "  tokens = [lemmatizer.lemmatize(word) for word in tokens]\n",
        "  return tokens\n",
        "\n",
        "def bag_of_words(text, vocab): \n",
        "  tokens = clean_text(text)\n",
        "  bow = [0] * len(vocab)\n",
        "  for w in tokens: \n",
        "    for idx, word in enumerate(vocab):\n",
        "      if word == w: \n",
        "        bow[idx] = 1\n",
        "  return np.array(bow)\n",
        "\n",
        "def pred_class(text, vocab, labels): \n",
        "  bow = bag_of_words(text, vocab)\n",
        "  result = model.predict(np.array([bow]))[0]\n",
        "  thresh = 0.2\n",
        "  y_pred = [[idx, res] for idx, res in enumerate(result) if res > thresh]\n",
        "\n",
        "  y_pred.sort(key=lambda x: x[1], reverse=True)\n",
        "  return_list = []\n",
        "  for r in y_pred:\n",
        "    return_list.append(labels[r[0]])\n",
        "  return return_list\n",
        "\n",
        "def get_response(intents_list, intents_json): \n",
        "  tag = intents_list[0]\n",
        "  list_of_intents = intents_json[\"intents\"]\n",
        "  for i in list_of_intents: \n",
        "    if i[\"tag\"] == tag:\n",
        "      result = random.choice(i[\"responses\"])\n",
        "      break\n",
        "  return result"
      ],
      "execution_count": 63,
      "outputs": []
    },
    {
      "cell_type": "code",
      "metadata": {
        "colab": {
          "base_uri": "https://localhost:8080/"
        },
        "id": "h3Lsn7XJUs5O",
        "outputId": "fba2d109-2608-43df-b955-029d169349c0"
      },
      "source": [
        "# Running the chatbot\n",
        "print(\"BOT : Chat with the bot[Type 'quit' to stop] !\")\n",
        "print(\"\\nBOT : If answer is not  right[Type '*'] !\")\n",
        "while True:\n",
        "  #Reading Input\n",
        "  message = input(\"\\n\\nYou: \")\n",
        "  #Correcting chat\n",
        "  if message.lower() == \"*\":\n",
        "    print(\"\\nBOT:Please rephrase your question and try again\")\n",
        "  #Stopping Chat\n",
        "  if message.lower() == \"quit\":\n",
        "    break\n",
        "  #Predicting and printing response  \n",
        "  intents = pred_class(message, words, classes)\n",
        "  result = get_response(intents, data)\n",
        "  print(\"\\nBOT : \", result)"
      ],
      "execution_count": 64,
      "outputs": [
        {
          "output_type": "stream",
          "text": [
            "BOT : Chat with the bot[Type 'quit' to stop] !\n",
            "\n",
            "BOT : If answer is not  right[Type '*'] !\n",
            "\n",
            "\n",
            "You: yo\n",
            "\n",
            "BOT :  Hi! What are you looking for ?\n",
            "\n",
            "\n",
            "You: no access to olympus\n",
            "\n",
            "BOT :  Connect with your Program Manager\n",
            "\n",
            "\n",
            "You: *\n",
            "\n",
            "BOT:Please rephrase your question and try again\n",
            "\n",
            "BOT :  Hi! What are you looking for ?\n",
            "\n",
            "\n",
            "You: what the hell\n",
            "\n",
            "BOT :  Please use respectful words\n",
            "\n",
            "\n",
            "You: what is deep learning\n",
            "\n",
            "BOT :  Go to the Neural Network Section in Olympus portal\n",
            "\n",
            "\n",
            "You: ada boosting\n",
            "\n",
            "BOT :  Go to the Machine Learning module in Olympus portal\n",
            "\n",
            "\n",
            "You: you did not help me\n",
            "\n",
            "BOT :  Transferring the request to your Program Manager\n",
            "\n",
            "\n",
            "You: name please\n",
            "\n",
            "BOT :  I'm your virtual learning assistant\n",
            "\n",
            "\n",
            "You: cya\n",
            "\n",
            "BOT :  Talk to you later,Good Bye!\n",
            "\n",
            "\n",
            "You: quit\n"
          ],
          "name": "stdout"
        }
      ]
    }
  ]
}