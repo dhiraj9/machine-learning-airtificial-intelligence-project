{
  "nbformat": 4,
  "nbformat_minor": 0,
  "metadata": {
    "accelerator": "GPU",
    "colab": {
      "name": "Updated_questions_Lab_on_NNDL (1).ipynb",
      "provenance": [],
      "collapsed_sections": [],
      "toc_visible": true
    },
    "kernelspec": {
      "display_name": "Python 3",
      "language": "python",
      "name": "python3"
    },
    "language_info": {
      "codemirror_mode": {
        "name": "ipython",
        "version": 3
      },
      "file_extension": ".py",
      "mimetype": "text/x-python",
      "name": "python",
      "nbconvert_exporter": "python",
      "pygments_lexer": "ipython3",
      "version": "3.8.5"
    }
  },
  "cells": [
    {
      "cell_type": "markdown",
      "metadata": {
        "id": "3ukwOXvX_EV1"
      },
      "source": [
        "<img src=\"http://drive.google.com/uc?export=view&id=1tpOCamr9aWz817atPnyXus8w5gJ3mIts\" width=500px>"
      ]
    },
    {
      "cell_type": "markdown",
      "metadata": {
        "id": "j9QC42UQq5Lk"
      },
      "source": [
        "## Lab on NNDL Part 1: Tensorflow Basic"
      ]
    },
    {
      "cell_type": "markdown",
      "metadata": {
        "id": "g_vbQDYan7_7"
      },
      "source": [
        "### Tensors\n",
        "\n",
        "Tensors are multi-dimensional arrays with a uniform type"
      ]
    },
    {
      "cell_type": "markdown",
      "metadata": {
        "id": "tCkxkFqIoUIR"
      },
      "source": [
        "##Question 1\n"
      ]
    },
    {
      "cell_type": "markdown",
      "metadata": {
        "id": "7V8C8aa0rGgN"
      },
      "source": [
        "### Create a rank-0 tensor\n",
        "- A \"scalar\" is called \"rank-0\" tensor\n",
        "- the tensor should contain value 99.99"
      ]
    },
    {
      "cell_type": "code",
      "metadata": {
        "id": "CmKTQCizra4b"
      },
      "source": [
        "import tensorflow as t"
      ],
      "execution_count": 2,
      "outputs": []
    },
    {
      "cell_type": "code",
      "metadata": {
        "id": "B6H2X7SinZbZ"
      },
      "source": [
        "s=t.constant(99.99)"
      ],
      "execution_count": 3,
      "outputs": []
    },
    {
      "cell_type": "markdown",
      "metadata": {
        "id": "xRm8MfpVrkyz"
      },
      "source": [
        "### Create a rank-1 tensor\n",
        "\n",
        "- A \"vector\" (list) is called \"rank-1\" tensor [9,8,7,6,5]\n",
        "- A vector has one axis"
      ]
    },
    {
      "cell_type": "code",
      "metadata": {
        "id": "_TvWoaBOnZXX"
      },
      "source": [
        "v=t.constant([9,8,7,6,5])"
      ],
      "execution_count": 4,
      "outputs": []
    },
    {
      "cell_type": "markdown",
      "metadata": {
        "id": "KtiVmuAAsJjP"
      },
      "source": [
        "### Add 7 to all the elements of the above created tensor\n",
        "- Use Broadcasting"
      ]
    },
    {
      "cell_type": "code",
      "metadata": {
        "id": "lENBbpfIsskl"
      },
      "source": [
        "v=t.add(v,7)"
      ],
      "execution_count": 5,
      "outputs": []
    },
    {
      "cell_type": "markdown",
      "metadata": {
        "id": "U9QVsYQwtR9u"
      },
      "source": [
        "### Create a rank-2 tensor\n",
        "[[1, 2, 3], [ 4,5,6]]\n",
        "- A \"matrix\"  \"is called rank-2\" tensor\n",
        "- It has 2 axes"
      ]
    },
    {
      "cell_type": "code",
      "metadata": {
        "id": "IZx8BooXnZUr"
      },
      "source": [
        "m=t.constant([[1, 2, 3], [ 4,5,6]])"
      ],
      "execution_count": 6,
      "outputs": []
    },
    {
      "cell_type": "markdown",
      "metadata": {
        "id": "mrnIxOUmvX_M"
      },
      "source": [
        "### Change the shape of the above created tensor to shape (3,2)"
      ]
    },
    {
      "cell_type": "code",
      "metadata": {
        "id": "YdSy6RQLvXbi"
      },
      "source": [
        "m=t.reshape(m,[3,2])"
      ],
      "execution_count": 7,
      "outputs": []
    },
    {
      "cell_type": "code",
      "metadata": {
        "id": "IZfvYZ_8wH4S"
      },
      "source": [
        ""
      ],
      "execution_count": 7,
      "outputs": []
    },
    {
      "cell_type": "markdown",
      "metadata": {
        "id": "1ZXjABdNuWAT"
      },
      "source": [
        "### Check the dtype, number of axes and the shape of tensor"
      ]
    },
    {
      "cell_type": "code",
      "metadata": {
        "id": "vXj5xnbEuUwz",
        "colab": {
          "base_uri": "https://localhost:8080/"
        },
        "outputId": "77cb1041-5622-4213-b191-937b2b000763"
      },
      "source": [
        "m.dtype"
      ],
      "execution_count": 8,
      "outputs": [
        {
          "output_type": "execute_result",
          "data": {
            "text/plain": [
              "tf.int32"
            ]
          },
          "metadata": {
            "tags": []
          },
          "execution_count": 8
        }
      ]
    },
    {
      "cell_type": "code",
      "metadata": {
        "colab": {
          "base_uri": "https://localhost:8080/"
        },
        "id": "CgI7mCpJgyCD",
        "outputId": "45ddc113-4fb3-4636-eca3-535e22dac9b0"
      },
      "source": [
        "m.ndim"
      ],
      "execution_count": 9,
      "outputs": [
        {
          "output_type": "execute_result",
          "data": {
            "text/plain": [
              "2"
            ]
          },
          "metadata": {
            "tags": []
          },
          "execution_count": 9
        }
      ]
    },
    {
      "cell_type": "code",
      "metadata": {
        "colab": {
          "base_uri": "https://localhost:8080/"
        },
        "id": "dFUQRWAbgyCD",
        "outputId": "50e40791-0cf0-4105-b282-da0d949614b0"
      },
      "source": [
        "m.shape"
      ],
      "execution_count": 10,
      "outputs": [
        {
          "output_type": "execute_result",
          "data": {
            "text/plain": [
              "TensorShape([3, 2])"
            ]
          },
          "metadata": {
            "tags": []
          },
          "execution_count": 10
        }
      ]
    },
    {
      "cell_type": "markdown",
      "metadata": {
        "id": "yGsgzedZvB54"
      },
      "source": [
        "- Tensors can have more axes, like rank-3 or rank-4 tensor"
      ]
    },
    {
      "cell_type": "markdown",
      "metadata": {
        "id": "qYvGihNn_D2K"
      },
      "source": [
        "##Lab on NNDL Part 2: Cars selling price prediction"
      ]
    },
    {
      "cell_type": "markdown",
      "metadata": {
        "id": "S7nm5pOt_DkP"
      },
      "source": [
        "### Data Set -\n",
        "Domain: Finance, Business \n",
        "Data: https://www.kaggle.com/nehalbirla/vehicle-dataset-from-cardekho?select=Car+details+v3.csv\n",
        "\n",
        "The data contains various features of used cars.\n",
        "\n",
        "#### Features\n",
        "\n",
        "1. year\n",
        "\n",
        "2. selling_price: Price at which it was sold (**Target Feature**)\n",
        "\n",
        "3. km_driven\n",
        "\n",
        "4. fuel\n",
        "\n",
        "5. seller_type\n",
        "\n",
        "6. transmission\n",
        "\n",
        "7. Owner\n",
        "\n",
        "8. mileage\n",
        "\n",
        "9. engine\n",
        "\n",
        "10. max_power\n",
        "\n",
        "11. seats\n",
        "\n",
        " - - - - - - - - - - - - - - - - - - - - - - - - - - - - - - - - - - - - - - - - - - - - - - - "
      ]
    },
    {
      "cell_type": "markdown",
      "metadata": {
        "id": "YeoiMbH7djEv"
      },
      "source": [
        "##Objective\n",
        "\n",
        "Predict the selling price of used cars based on the given features"
      ]
    },
    {
      "cell_type": "markdown",
      "metadata": {
        "id": "sZXp-T3-xRNN"
      },
      "source": [
        "## Steps to perform:\n",
        "\n",
        "#### 1. Import important Libraries\n",
        "#### 2. Import Dataset and exploration\n",
        "#### 3. Data Pre-processing\n",
        "#### 4. Training a Neural Network Model\n",
        "#### 5. Evaluating the model\n",
        "#### 6. Conclusion\n",
        "\n",
        "\n",
        "- - - - - - - - - - - - - - - - - - - - - - - - - - - - - - - - - - - - - - - - - - - - - - - - - - -\n",
        "\n",
        "\n",
        "- - - - - - - - - - - - - - - - - - - - - - - - - - - - - - - - - - - - - - - - - - - - - - - - - - -\n"
      ]
    },
    {
      "cell_type": "markdown",
      "metadata": {
        "id": "pvJ1pMTuzUkv"
      },
      "source": [
        "### Import important libraries"
      ]
    },
    {
      "cell_type": "code",
      "metadata": {
        "id": "PGqq9f8VdLba"
      },
      "source": [
        "import pandas as p"
      ],
      "execution_count": 11,
      "outputs": []
    },
    {
      "cell_type": "code",
      "metadata": {
        "colab": {
          "resources": {
            "http://localhost:8080/nbextensions/google.colab/files.js": {
              "data": "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",
              "ok": true,
              "headers": [
                [
                  "content-type",
                  "application/javascript"
                ]
              ],
              "status": 200,
              "status_text": ""
            }
          },
          "base_uri": "https://localhost:8080/",
          "height": 72
        },
        "id": "KYQh4CSwg_iD",
        "outputId": "8e839fec-7347-4def-c1f3-8d27515dd8af"
      },
      "source": [
        "from google.colab import files\r\n",
        "\r\n",
        "uploaded = files.upload()"
      ],
      "execution_count": 12,
      "outputs": [
        {
          "output_type": "display_data",
          "data": {
            "text/html": [
              "\n",
              "     <input type=\"file\" id=\"files-5e0f37aa-9124-4791-b8df-f56a7f2c4428\" name=\"files[]\" multiple disabled\n",
              "        style=\"border:none\" />\n",
              "     <output id=\"result-5e0f37aa-9124-4791-b8df-f56a7f2c4428\">\n",
              "      Upload widget is only available when the cell has been executed in the\n",
              "      current browser session. Please rerun this cell to enable.\n",
              "      </output>\n",
              "      <script src=\"/nbextensions/google.colab/files.js\"></script> "
            ],
            "text/plain": [
              "<IPython.core.display.HTML object>"
            ]
          },
          "metadata": {
            "tags": []
          }
        },
        {
          "output_type": "stream",
          "text": [
            "Saving car_data-1.csv to car_data-1.csv\n"
          ],
          "name": "stdout"
        }
      ]
    },
    {
      "cell_type": "markdown",
      "metadata": {
        "id": "_88voqAH-O6J"
      },
      "source": [
        "## Question 1"
      ]
    },
    {
      "cell_type": "markdown",
      "metadata": {
        "id": "dRHCeJqP-evf"
      },
      "source": [
        "### Load the data\n",
        "- Load the data, check the shape of data"
      ]
    },
    {
      "cell_type": "code",
      "metadata": {
        "id": "Gr4YcffYd1FQ"
      },
      "source": [
        "d=p.read_csv('car_data-1.csv')"
      ],
      "execution_count": 13,
      "outputs": []
    },
    {
      "cell_type": "code",
      "metadata": {
        "id": "-gDC6cSW_FSK",
        "colab": {
          "base_uri": "https://localhost:8080/"
        },
        "outputId": "5cb95401-9ff4-436a-87cf-3b27cb81095b"
      },
      "source": [
        "d.shape"
      ],
      "execution_count": 14,
      "outputs": [
        {
          "output_type": "execute_result",
          "data": {
            "text/plain": [
              "(8128, 11)"
            ]
          },
          "metadata": {
            "tags": []
          },
          "execution_count": 14
        }
      ]
    },
    {
      "cell_type": "code",
      "metadata": {
        "id": "cgAAxzef1m37",
        "colab": {
          "base_uri": "https://localhost:8080/",
          "height": 589
        },
        "outputId": "a4931379-e5ff-4709-dad8-2170bb1744cc"
      },
      "source": [
        "d"
      ],
      "execution_count": 15,
      "outputs": [
        {
          "output_type": "execute_result",
          "data": {
            "text/html": [
              "<div>\n",
              "<style scoped>\n",
              "    .dataframe tbody tr th:only-of-type {\n",
              "        vertical-align: middle;\n",
              "    }\n",
              "\n",
              "    .dataframe tbody tr th {\n",
              "        vertical-align: top;\n",
              "    }\n",
              "\n",
              "    .dataframe thead th {\n",
              "        text-align: right;\n",
              "    }\n",
              "</style>\n",
              "<table border=\"1\" class=\"dataframe\">\n",
              "  <thead>\n",
              "    <tr style=\"text-align: right;\">\n",
              "      <th></th>\n",
              "      <th>year</th>\n",
              "      <th>selling_price</th>\n",
              "      <th>km_driven</th>\n",
              "      <th>fuel</th>\n",
              "      <th>seller_type</th>\n",
              "      <th>transmission</th>\n",
              "      <th>owner</th>\n",
              "      <th>mileage</th>\n",
              "      <th>engine</th>\n",
              "      <th>max_power</th>\n",
              "      <th>seats</th>\n",
              "    </tr>\n",
              "  </thead>\n",
              "  <tbody>\n",
              "    <tr>\n",
              "      <th>0</th>\n",
              "      <td>2014</td>\n",
              "      <td>450000</td>\n",
              "      <td>145500</td>\n",
              "      <td>Diesel</td>\n",
              "      <td>Individual</td>\n",
              "      <td>Manual</td>\n",
              "      <td>First Owner</td>\n",
              "      <td>23.4 kmpl</td>\n",
              "      <td>1248 CC</td>\n",
              "      <td>74 bhp</td>\n",
              "      <td>5.0</td>\n",
              "    </tr>\n",
              "    <tr>\n",
              "      <th>1</th>\n",
              "      <td>2014</td>\n",
              "      <td>370000</td>\n",
              "      <td>120000</td>\n",
              "      <td>Diesel</td>\n",
              "      <td>Individual</td>\n",
              "      <td>Manual</td>\n",
              "      <td>Second Owner</td>\n",
              "      <td>21.14 kmpl</td>\n",
              "      <td>1498 CC</td>\n",
              "      <td>103.52 bhp</td>\n",
              "      <td>5.0</td>\n",
              "    </tr>\n",
              "    <tr>\n",
              "      <th>2</th>\n",
              "      <td>2006</td>\n",
              "      <td>158000</td>\n",
              "      <td>140000</td>\n",
              "      <td>Petrol</td>\n",
              "      <td>Individual</td>\n",
              "      <td>Manual</td>\n",
              "      <td>Third Owner</td>\n",
              "      <td>17.7 kmpl</td>\n",
              "      <td>1497 CC</td>\n",
              "      <td>78 bhp</td>\n",
              "      <td>5.0</td>\n",
              "    </tr>\n",
              "    <tr>\n",
              "      <th>3</th>\n",
              "      <td>2010</td>\n",
              "      <td>225000</td>\n",
              "      <td>127000</td>\n",
              "      <td>Diesel</td>\n",
              "      <td>Individual</td>\n",
              "      <td>Manual</td>\n",
              "      <td>First Owner</td>\n",
              "      <td>23.0 kmpl</td>\n",
              "      <td>1396 CC</td>\n",
              "      <td>90 bhp</td>\n",
              "      <td>5.0</td>\n",
              "    </tr>\n",
              "    <tr>\n",
              "      <th>4</th>\n",
              "      <td>2007</td>\n",
              "      <td>130000</td>\n",
              "      <td>120000</td>\n",
              "      <td>Petrol</td>\n",
              "      <td>Individual</td>\n",
              "      <td>Manual</td>\n",
              "      <td>First Owner</td>\n",
              "      <td>16.1 kmpl</td>\n",
              "      <td>1298 CC</td>\n",
              "      <td>88.2 bhp</td>\n",
              "      <td>5.0</td>\n",
              "    </tr>\n",
              "    <tr>\n",
              "      <th>...</th>\n",
              "      <td>...</td>\n",
              "      <td>...</td>\n",
              "      <td>...</td>\n",
              "      <td>...</td>\n",
              "      <td>...</td>\n",
              "      <td>...</td>\n",
              "      <td>...</td>\n",
              "      <td>...</td>\n",
              "      <td>...</td>\n",
              "      <td>...</td>\n",
              "      <td>...</td>\n",
              "    </tr>\n",
              "    <tr>\n",
              "      <th>8123</th>\n",
              "      <td>2013</td>\n",
              "      <td>320000</td>\n",
              "      <td>110000</td>\n",
              "      <td>Petrol</td>\n",
              "      <td>Individual</td>\n",
              "      <td>Manual</td>\n",
              "      <td>First Owner</td>\n",
              "      <td>18.5 kmpl</td>\n",
              "      <td>1197 CC</td>\n",
              "      <td>82.85 bhp</td>\n",
              "      <td>5.0</td>\n",
              "    </tr>\n",
              "    <tr>\n",
              "      <th>8124</th>\n",
              "      <td>2007</td>\n",
              "      <td>135000</td>\n",
              "      <td>119000</td>\n",
              "      <td>Diesel</td>\n",
              "      <td>Individual</td>\n",
              "      <td>Manual</td>\n",
              "      <td>Fourth &amp; Above Owner</td>\n",
              "      <td>16.8 kmpl</td>\n",
              "      <td>1493 CC</td>\n",
              "      <td>110 bhp</td>\n",
              "      <td>5.0</td>\n",
              "    </tr>\n",
              "    <tr>\n",
              "      <th>8125</th>\n",
              "      <td>2009</td>\n",
              "      <td>382000</td>\n",
              "      <td>120000</td>\n",
              "      <td>Diesel</td>\n",
              "      <td>Individual</td>\n",
              "      <td>Manual</td>\n",
              "      <td>First Owner</td>\n",
              "      <td>19.3 kmpl</td>\n",
              "      <td>1248 CC</td>\n",
              "      <td>73.9 bhp</td>\n",
              "      <td>5.0</td>\n",
              "    </tr>\n",
              "    <tr>\n",
              "      <th>8126</th>\n",
              "      <td>2013</td>\n",
              "      <td>290000</td>\n",
              "      <td>25000</td>\n",
              "      <td>Diesel</td>\n",
              "      <td>Individual</td>\n",
              "      <td>Manual</td>\n",
              "      <td>First Owner</td>\n",
              "      <td>23.57 kmpl</td>\n",
              "      <td>1396 CC</td>\n",
              "      <td>70 bhp</td>\n",
              "      <td>5.0</td>\n",
              "    </tr>\n",
              "    <tr>\n",
              "      <th>8127</th>\n",
              "      <td>2013</td>\n",
              "      <td>290000</td>\n",
              "      <td>25000</td>\n",
              "      <td>Diesel</td>\n",
              "      <td>Individual</td>\n",
              "      <td>Manual</td>\n",
              "      <td>First Owner</td>\n",
              "      <td>23.57 kmpl</td>\n",
              "      <td>1396 CC</td>\n",
              "      <td>70 bhp</td>\n",
              "      <td>5.0</td>\n",
              "    </tr>\n",
              "  </tbody>\n",
              "</table>\n",
              "<p>8128 rows × 11 columns</p>\n",
              "</div>"
            ],
            "text/plain": [
              "      year  selling_price  km_driven  ...   engine   max_power seats\n",
              "0     2014         450000     145500  ...  1248 CC      74 bhp   5.0\n",
              "1     2014         370000     120000  ...  1498 CC  103.52 bhp   5.0\n",
              "2     2006         158000     140000  ...  1497 CC      78 bhp   5.0\n",
              "3     2010         225000     127000  ...  1396 CC      90 bhp   5.0\n",
              "4     2007         130000     120000  ...  1298 CC    88.2 bhp   5.0\n",
              "...    ...            ...        ...  ...      ...         ...   ...\n",
              "8123  2013         320000     110000  ...  1197 CC   82.85 bhp   5.0\n",
              "8124  2007         135000     119000  ...  1493 CC     110 bhp   5.0\n",
              "8125  2009         382000     120000  ...  1248 CC    73.9 bhp   5.0\n",
              "8126  2013         290000      25000  ...  1396 CC      70 bhp   5.0\n",
              "8127  2013         290000      25000  ...  1396 CC      70 bhp   5.0\n",
              "\n",
              "[8128 rows x 11 columns]"
            ]
          },
          "metadata": {
            "tags": []
          },
          "execution_count": 15
        }
      ]
    },
    {
      "cell_type": "markdown",
      "metadata": {
        "id": "HlLKVPVH_BCT"
      },
      "source": [
        "## Question 2"
      ]
    },
    {
      "cell_type": "markdown",
      "metadata": {
        "id": "ZxoGynuBeO4t"
      },
      "source": [
        "### Preprocess the data\n",
        "- Convert mileage, engine and max_power to numerical by extract numerical values from the strings\n",
        "- Label Encode: 'owner' column\n",
        "- One Hot Encode: 'fuel','seller_type','transmission' columns\n",
        "- Drop all the instances with null values"
      ]
    },
    {
      "cell_type": "code",
      "metadata": {
        "id": "WMsPLgUw4XED"
      },
      "source": [
        "d['engine']=d['engine'].str.extract('(\\d*\\.\\d+|\\d+)',expand=False).astype(float)"
      ],
      "execution_count": 16,
      "outputs": []
    },
    {
      "cell_type": "code",
      "metadata": {
        "id": "FPAQ-IBf4Z9k"
      },
      "source": [
        "d['mileage']=d['mileage'].str.extract('(\\d*\\.\\d+|\\d+)',expand=False).astype(float)"
      ],
      "execution_count": 17,
      "outputs": []
    },
    {
      "cell_type": "code",
      "metadata": {
        "id": "aXweg7mb4gMo"
      },
      "source": [
        "d['max_power']=d['max_power'].str.extract('(\\d*\\.\\d+|\\d+)',expand=False).astype(float)"
      ],
      "execution_count": 18,
      "outputs": []
    },
    {
      "cell_type": "code",
      "metadata": {
        "id": "nVjmsyJc4kpO",
        "colab": {
          "base_uri": "https://localhost:8080/"
        },
        "outputId": "b2e0fe67-2373-4bef-84e2-426115456b24"
      },
      "source": [
        "d.owner.unique()"
      ],
      "execution_count": 19,
      "outputs": [
        {
          "output_type": "execute_result",
          "data": {
            "text/plain": [
              "array(['First Owner', 'Second Owner', 'Third Owner',\n",
              "       'Fourth & Above Owner', 'Test Drive Car'], dtype=object)"
            ]
          },
          "metadata": {
            "tags": []
          },
          "execution_count": 19
        }
      ]
    },
    {
      "cell_type": "code",
      "metadata": {
        "id": "q7fwyFQn4qD2"
      },
      "source": [
        "s={'First Owner':2, 'Second Owner':3, 'Third Owner':4,\n",
        "       'Fourth & Above Owner':5, 'Test Drive Car':1}\n",
        "d['owner']=d['owner'].map(s)"
      ],
      "execution_count": 20,
      "outputs": []
    },
    {
      "cell_type": "code",
      "metadata": {
        "id": "hrtGjfu84tZY",
        "colab": {
          "base_uri": "https://localhost:8080/",
          "height": 456
        },
        "outputId": "91ffa028-db90-42f5-d817-077ab940c0d7"
      },
      "source": [
        "d=p.get_dummies(d,columns=['fuel','seller_type','transmission'])\n",
        "d"
      ],
      "execution_count": 21,
      "outputs": [
        {
          "output_type": "execute_result",
          "data": {
            "text/html": [
              "<div>\n",
              "<style scoped>\n",
              "    .dataframe tbody tr th:only-of-type {\n",
              "        vertical-align: middle;\n",
              "    }\n",
              "\n",
              "    .dataframe tbody tr th {\n",
              "        vertical-align: top;\n",
              "    }\n",
              "\n",
              "    .dataframe thead th {\n",
              "        text-align: right;\n",
              "    }\n",
              "</style>\n",
              "<table border=\"1\" class=\"dataframe\">\n",
              "  <thead>\n",
              "    <tr style=\"text-align: right;\">\n",
              "      <th></th>\n",
              "      <th>year</th>\n",
              "      <th>selling_price</th>\n",
              "      <th>km_driven</th>\n",
              "      <th>owner</th>\n",
              "      <th>mileage</th>\n",
              "      <th>engine</th>\n",
              "      <th>max_power</th>\n",
              "      <th>seats</th>\n",
              "      <th>fuel_CNG</th>\n",
              "      <th>fuel_Diesel</th>\n",
              "      <th>fuel_LPG</th>\n",
              "      <th>fuel_Petrol</th>\n",
              "      <th>seller_type_Dealer</th>\n",
              "      <th>seller_type_Individual</th>\n",
              "      <th>seller_type_Trustmark Dealer</th>\n",
              "      <th>transmission_Automatic</th>\n",
              "      <th>transmission_Manual</th>\n",
              "    </tr>\n",
              "  </thead>\n",
              "  <tbody>\n",
              "    <tr>\n",
              "      <th>0</th>\n",
              "      <td>2014</td>\n",
              "      <td>450000</td>\n",
              "      <td>145500</td>\n",
              "      <td>2</td>\n",
              "      <td>23.40</td>\n",
              "      <td>1248.0</td>\n",
              "      <td>74.00</td>\n",
              "      <td>5.0</td>\n",
              "      <td>0</td>\n",
              "      <td>1</td>\n",
              "      <td>0</td>\n",
              "      <td>0</td>\n",
              "      <td>0</td>\n",
              "      <td>1</td>\n",
              "      <td>0</td>\n",
              "      <td>0</td>\n",
              "      <td>1</td>\n",
              "    </tr>\n",
              "    <tr>\n",
              "      <th>1</th>\n",
              "      <td>2014</td>\n",
              "      <td>370000</td>\n",
              "      <td>120000</td>\n",
              "      <td>3</td>\n",
              "      <td>21.14</td>\n",
              "      <td>1498.0</td>\n",
              "      <td>103.52</td>\n",
              "      <td>5.0</td>\n",
              "      <td>0</td>\n",
              "      <td>1</td>\n",
              "      <td>0</td>\n",
              "      <td>0</td>\n",
              "      <td>0</td>\n",
              "      <td>1</td>\n",
              "      <td>0</td>\n",
              "      <td>0</td>\n",
              "      <td>1</td>\n",
              "    </tr>\n",
              "    <tr>\n",
              "      <th>2</th>\n",
              "      <td>2006</td>\n",
              "      <td>158000</td>\n",
              "      <td>140000</td>\n",
              "      <td>4</td>\n",
              "      <td>17.70</td>\n",
              "      <td>1497.0</td>\n",
              "      <td>78.00</td>\n",
              "      <td>5.0</td>\n",
              "      <td>0</td>\n",
              "      <td>0</td>\n",
              "      <td>0</td>\n",
              "      <td>1</td>\n",
              "      <td>0</td>\n",
              "      <td>1</td>\n",
              "      <td>0</td>\n",
              "      <td>0</td>\n",
              "      <td>1</td>\n",
              "    </tr>\n",
              "    <tr>\n",
              "      <th>3</th>\n",
              "      <td>2010</td>\n",
              "      <td>225000</td>\n",
              "      <td>127000</td>\n",
              "      <td>2</td>\n",
              "      <td>23.00</td>\n",
              "      <td>1396.0</td>\n",
              "      <td>90.00</td>\n",
              "      <td>5.0</td>\n",
              "      <td>0</td>\n",
              "      <td>1</td>\n",
              "      <td>0</td>\n",
              "      <td>0</td>\n",
              "      <td>0</td>\n",
              "      <td>1</td>\n",
              "      <td>0</td>\n",
              "      <td>0</td>\n",
              "      <td>1</td>\n",
              "    </tr>\n",
              "    <tr>\n",
              "      <th>4</th>\n",
              "      <td>2007</td>\n",
              "      <td>130000</td>\n",
              "      <td>120000</td>\n",
              "      <td>2</td>\n",
              "      <td>16.10</td>\n",
              "      <td>1298.0</td>\n",
              "      <td>88.20</td>\n",
              "      <td>5.0</td>\n",
              "      <td>0</td>\n",
              "      <td>0</td>\n",
              "      <td>0</td>\n",
              "      <td>1</td>\n",
              "      <td>0</td>\n",
              "      <td>1</td>\n",
              "      <td>0</td>\n",
              "      <td>0</td>\n",
              "      <td>1</td>\n",
              "    </tr>\n",
              "    <tr>\n",
              "      <th>...</th>\n",
              "      <td>...</td>\n",
              "      <td>...</td>\n",
              "      <td>...</td>\n",
              "      <td>...</td>\n",
              "      <td>...</td>\n",
              "      <td>...</td>\n",
              "      <td>...</td>\n",
              "      <td>...</td>\n",
              "      <td>...</td>\n",
              "      <td>...</td>\n",
              "      <td>...</td>\n",
              "      <td>...</td>\n",
              "      <td>...</td>\n",
              "      <td>...</td>\n",
              "      <td>...</td>\n",
              "      <td>...</td>\n",
              "      <td>...</td>\n",
              "    </tr>\n",
              "    <tr>\n",
              "      <th>8123</th>\n",
              "      <td>2013</td>\n",
              "      <td>320000</td>\n",
              "      <td>110000</td>\n",
              "      <td>2</td>\n",
              "      <td>18.50</td>\n",
              "      <td>1197.0</td>\n",
              "      <td>82.85</td>\n",
              "      <td>5.0</td>\n",
              "      <td>0</td>\n",
              "      <td>0</td>\n",
              "      <td>0</td>\n",
              "      <td>1</td>\n",
              "      <td>0</td>\n",
              "      <td>1</td>\n",
              "      <td>0</td>\n",
              "      <td>0</td>\n",
              "      <td>1</td>\n",
              "    </tr>\n",
              "    <tr>\n",
              "      <th>8124</th>\n",
              "      <td>2007</td>\n",
              "      <td>135000</td>\n",
              "      <td>119000</td>\n",
              "      <td>5</td>\n",
              "      <td>16.80</td>\n",
              "      <td>1493.0</td>\n",
              "      <td>110.00</td>\n",
              "      <td>5.0</td>\n",
              "      <td>0</td>\n",
              "      <td>1</td>\n",
              "      <td>0</td>\n",
              "      <td>0</td>\n",
              "      <td>0</td>\n",
              "      <td>1</td>\n",
              "      <td>0</td>\n",
              "      <td>0</td>\n",
              "      <td>1</td>\n",
              "    </tr>\n",
              "    <tr>\n",
              "      <th>8125</th>\n",
              "      <td>2009</td>\n",
              "      <td>382000</td>\n",
              "      <td>120000</td>\n",
              "      <td>2</td>\n",
              "      <td>19.30</td>\n",
              "      <td>1248.0</td>\n",
              "      <td>73.90</td>\n",
              "      <td>5.0</td>\n",
              "      <td>0</td>\n",
              "      <td>1</td>\n",
              "      <td>0</td>\n",
              "      <td>0</td>\n",
              "      <td>0</td>\n",
              "      <td>1</td>\n",
              "      <td>0</td>\n",
              "      <td>0</td>\n",
              "      <td>1</td>\n",
              "    </tr>\n",
              "    <tr>\n",
              "      <th>8126</th>\n",
              "      <td>2013</td>\n",
              "      <td>290000</td>\n",
              "      <td>25000</td>\n",
              "      <td>2</td>\n",
              "      <td>23.57</td>\n",
              "      <td>1396.0</td>\n",
              "      <td>70.00</td>\n",
              "      <td>5.0</td>\n",
              "      <td>0</td>\n",
              "      <td>1</td>\n",
              "      <td>0</td>\n",
              "      <td>0</td>\n",
              "      <td>0</td>\n",
              "      <td>1</td>\n",
              "      <td>0</td>\n",
              "      <td>0</td>\n",
              "      <td>1</td>\n",
              "    </tr>\n",
              "    <tr>\n",
              "      <th>8127</th>\n",
              "      <td>2013</td>\n",
              "      <td>290000</td>\n",
              "      <td>25000</td>\n",
              "      <td>2</td>\n",
              "      <td>23.57</td>\n",
              "      <td>1396.0</td>\n",
              "      <td>70.00</td>\n",
              "      <td>5.0</td>\n",
              "      <td>0</td>\n",
              "      <td>1</td>\n",
              "      <td>0</td>\n",
              "      <td>0</td>\n",
              "      <td>0</td>\n",
              "      <td>1</td>\n",
              "      <td>0</td>\n",
              "      <td>0</td>\n",
              "      <td>1</td>\n",
              "    </tr>\n",
              "  </tbody>\n",
              "</table>\n",
              "<p>8128 rows × 17 columns</p>\n",
              "</div>"
            ],
            "text/plain": [
              "      year  selling_price  ...  transmission_Automatic  transmission_Manual\n",
              "0     2014         450000  ...                       0                    1\n",
              "1     2014         370000  ...                       0                    1\n",
              "2     2006         158000  ...                       0                    1\n",
              "3     2010         225000  ...                       0                    1\n",
              "4     2007         130000  ...                       0                    1\n",
              "...    ...            ...  ...                     ...                  ...\n",
              "8123  2013         320000  ...                       0                    1\n",
              "8124  2007         135000  ...                       0                    1\n",
              "8125  2009         382000  ...                       0                    1\n",
              "8126  2013         290000  ...                       0                    1\n",
              "8127  2013         290000  ...                       0                    1\n",
              "\n",
              "[8128 rows x 17 columns]"
            ]
          },
          "metadata": {
            "tags": []
          },
          "execution_count": 21
        }
      ]
    },
    {
      "cell_type": "code",
      "metadata": {
        "id": "btbL2MeO4wTs"
      },
      "source": [
        "d=d.dropna()"
      ],
      "execution_count": 22,
      "outputs": []
    },
    {
      "cell_type": "markdown",
      "metadata": {
        "id": "ez91ID6AEgPm"
      },
      "source": [
        "## Question 3"
      ]
    },
    {
      "cell_type": "markdown",
      "metadata": {
        "id": "9J4BlzVA_gZd"
      },
      "source": [
        "### Split the data and then scale the data\n",
        "- Split the data into ratio of 75:25 with random state=12\n",
        "- Perform standard scaling on X_train and X_test data\n"
      ]
    },
    {
      "cell_type": "code",
      "metadata": {
        "id": "IKEK8aEE_Csx"
      },
      "source": [
        "from sklearn.model_selection import train_test_split\n",
        "from sklearn.preprocessing import StandardScaler"
      ],
      "execution_count": 23,
      "outputs": []
    },
    {
      "cell_type": "code",
      "metadata": {
        "id": "5JVP_jjlgyCJ"
      },
      "source": [
        "x=d.drop('selling_price',axis=1)\n",
        "y=d['selling_price']"
      ],
      "execution_count": 24,
      "outputs": []
    },
    {
      "cell_type": "code",
      "metadata": {
        "id": "59F0lA4z8SH-"
      },
      "source": [
        "xt,xte,yt,yte=train_test_split(x,y,test_size=.25,random_state=12)\n",
        "s=StandardScaler()"
      ],
      "execution_count": 25,
      "outputs": []
    },
    {
      "cell_type": "code",
      "metadata": {
        "colab": {
          "base_uri": "https://localhost:8080/",
          "height": 456
        },
        "id": "VYzS6y2cgyCJ",
        "outputId": "395de39f-9b01-4fab-ec54-aac1e21de5fd"
      },
      "source": [
        "xt"
      ],
      "execution_count": 26,
      "outputs": [
        {
          "output_type": "execute_result",
          "data": {
            "text/html": [
              "<div>\n",
              "<style scoped>\n",
              "    .dataframe tbody tr th:only-of-type {\n",
              "        vertical-align: middle;\n",
              "    }\n",
              "\n",
              "    .dataframe tbody tr th {\n",
              "        vertical-align: top;\n",
              "    }\n",
              "\n",
              "    .dataframe thead th {\n",
              "        text-align: right;\n",
              "    }\n",
              "</style>\n",
              "<table border=\"1\" class=\"dataframe\">\n",
              "  <thead>\n",
              "    <tr style=\"text-align: right;\">\n",
              "      <th></th>\n",
              "      <th>year</th>\n",
              "      <th>km_driven</th>\n",
              "      <th>owner</th>\n",
              "      <th>mileage</th>\n",
              "      <th>engine</th>\n",
              "      <th>max_power</th>\n",
              "      <th>seats</th>\n",
              "      <th>fuel_CNG</th>\n",
              "      <th>fuel_Diesel</th>\n",
              "      <th>fuel_LPG</th>\n",
              "      <th>fuel_Petrol</th>\n",
              "      <th>seller_type_Dealer</th>\n",
              "      <th>seller_type_Individual</th>\n",
              "      <th>seller_type_Trustmark Dealer</th>\n",
              "      <th>transmission_Automatic</th>\n",
              "      <th>transmission_Manual</th>\n",
              "    </tr>\n",
              "  </thead>\n",
              "  <tbody>\n",
              "    <tr>\n",
              "      <th>3828</th>\n",
              "      <td>2010</td>\n",
              "      <td>100000</td>\n",
              "      <td>4</td>\n",
              "      <td>17.00</td>\n",
              "      <td>1497.0</td>\n",
              "      <td>118.00</td>\n",
              "      <td>5.0</td>\n",
              "      <td>0</td>\n",
              "      <td>0</td>\n",
              "      <td>0</td>\n",
              "      <td>1</td>\n",
              "      <td>0</td>\n",
              "      <td>1</td>\n",
              "      <td>0</td>\n",
              "      <td>0</td>\n",
              "      <td>1</td>\n",
              "    </tr>\n",
              "    <tr>\n",
              "      <th>5783</th>\n",
              "      <td>2011</td>\n",
              "      <td>40000</td>\n",
              "      <td>4</td>\n",
              "      <td>19.70</td>\n",
              "      <td>796.0</td>\n",
              "      <td>46.30</td>\n",
              "      <td>5.0</td>\n",
              "      <td>0</td>\n",
              "      <td>0</td>\n",
              "      <td>0</td>\n",
              "      <td>1</td>\n",
              "      <td>0</td>\n",
              "      <td>1</td>\n",
              "      <td>0</td>\n",
              "      <td>0</td>\n",
              "      <td>1</td>\n",
              "    </tr>\n",
              "    <tr>\n",
              "      <th>7882</th>\n",
              "      <td>2017</td>\n",
              "      <td>43235</td>\n",
              "      <td>2</td>\n",
              "      <td>24.29</td>\n",
              "      <td>1498.0</td>\n",
              "      <td>99.00</td>\n",
              "      <td>5.0</td>\n",
              "      <td>0</td>\n",
              "      <td>1</td>\n",
              "      <td>0</td>\n",
              "      <td>0</td>\n",
              "      <td>1</td>\n",
              "      <td>0</td>\n",
              "      <td>0</td>\n",
              "      <td>0</td>\n",
              "      <td>1</td>\n",
              "    </tr>\n",
              "    <tr>\n",
              "      <th>272</th>\n",
              "      <td>2012</td>\n",
              "      <td>193000</td>\n",
              "      <td>2</td>\n",
              "      <td>19.30</td>\n",
              "      <td>1248.0</td>\n",
              "      <td>73.90</td>\n",
              "      <td>5.0</td>\n",
              "      <td>0</td>\n",
              "      <td>1</td>\n",
              "      <td>0</td>\n",
              "      <td>0</td>\n",
              "      <td>0</td>\n",
              "      <td>1</td>\n",
              "      <td>0</td>\n",
              "      <td>0</td>\n",
              "      <td>1</td>\n",
              "    </tr>\n",
              "    <tr>\n",
              "      <th>7898</th>\n",
              "      <td>2017</td>\n",
              "      <td>120000</td>\n",
              "      <td>2</td>\n",
              "      <td>24.52</td>\n",
              "      <td>1248.0</td>\n",
              "      <td>88.50</td>\n",
              "      <td>7.0</td>\n",
              "      <td>0</td>\n",
              "      <td>1</td>\n",
              "      <td>0</td>\n",
              "      <td>0</td>\n",
              "      <td>0</td>\n",
              "      <td>1</td>\n",
              "      <td>0</td>\n",
              "      <td>0</td>\n",
              "      <td>1</td>\n",
              "    </tr>\n",
              "    <tr>\n",
              "      <th>...</th>\n",
              "      <td>...</td>\n",
              "      <td>...</td>\n",
              "      <td>...</td>\n",
              "      <td>...</td>\n",
              "      <td>...</td>\n",
              "      <td>...</td>\n",
              "      <td>...</td>\n",
              "      <td>...</td>\n",
              "      <td>...</td>\n",
              "      <td>...</td>\n",
              "      <td>...</td>\n",
              "      <td>...</td>\n",
              "      <td>...</td>\n",
              "      <td>...</td>\n",
              "      <td>...</td>\n",
              "      <td>...</td>\n",
              "    </tr>\n",
              "    <tr>\n",
              "      <th>7623</th>\n",
              "      <td>2008</td>\n",
              "      <td>120000</td>\n",
              "      <td>3</td>\n",
              "      <td>17.80</td>\n",
              "      <td>1248.0</td>\n",
              "      <td>75.00</td>\n",
              "      <td>5.0</td>\n",
              "      <td>0</td>\n",
              "      <td>1</td>\n",
              "      <td>0</td>\n",
              "      <td>0</td>\n",
              "      <td>0</td>\n",
              "      <td>1</td>\n",
              "      <td>0</td>\n",
              "      <td>0</td>\n",
              "      <td>1</td>\n",
              "    </tr>\n",
              "    <tr>\n",
              "      <th>3430</th>\n",
              "      <td>2013</td>\n",
              "      <td>60000</td>\n",
              "      <td>3</td>\n",
              "      <td>21.27</td>\n",
              "      <td>1396.0</td>\n",
              "      <td>88.76</td>\n",
              "      <td>5.0</td>\n",
              "      <td>0</td>\n",
              "      <td>1</td>\n",
              "      <td>0</td>\n",
              "      <td>0</td>\n",
              "      <td>0</td>\n",
              "      <td>1</td>\n",
              "      <td>0</td>\n",
              "      <td>0</td>\n",
              "      <td>1</td>\n",
              "    </tr>\n",
              "    <tr>\n",
              "      <th>1460</th>\n",
              "      <td>2014</td>\n",
              "      <td>25000</td>\n",
              "      <td>2</td>\n",
              "      <td>16.02</td>\n",
              "      <td>1373.0</td>\n",
              "      <td>93.70</td>\n",
              "      <td>7.0</td>\n",
              "      <td>0</td>\n",
              "      <td>0</td>\n",
              "      <td>0</td>\n",
              "      <td>1</td>\n",
              "      <td>0</td>\n",
              "      <td>1</td>\n",
              "      <td>0</td>\n",
              "      <td>0</td>\n",
              "      <td>1</td>\n",
              "    </tr>\n",
              "    <tr>\n",
              "      <th>5956</th>\n",
              "      <td>2018</td>\n",
              "      <td>9000</td>\n",
              "      <td>2</td>\n",
              "      <td>19.10</td>\n",
              "      <td>1197.0</td>\n",
              "      <td>85.80</td>\n",
              "      <td>5.0</td>\n",
              "      <td>0</td>\n",
              "      <td>0</td>\n",
              "      <td>0</td>\n",
              "      <td>1</td>\n",
              "      <td>1</td>\n",
              "      <td>0</td>\n",
              "      <td>0</td>\n",
              "      <td>0</td>\n",
              "      <td>1</td>\n",
              "    </tr>\n",
              "    <tr>\n",
              "      <th>6136</th>\n",
              "      <td>2019</td>\n",
              "      <td>3177</td>\n",
              "      <td>2</td>\n",
              "      <td>18.50</td>\n",
              "      <td>1194.0</td>\n",
              "      <td>94.93</td>\n",
              "      <td>5.0</td>\n",
              "      <td>0</td>\n",
              "      <td>0</td>\n",
              "      <td>0</td>\n",
              "      <td>1</td>\n",
              "      <td>1</td>\n",
              "      <td>0</td>\n",
              "      <td>0</td>\n",
              "      <td>0</td>\n",
              "      <td>1</td>\n",
              "    </tr>\n",
              "  </tbody>\n",
              "</table>\n",
              "<p>5929 rows × 16 columns</p>\n",
              "</div>"
            ],
            "text/plain": [
              "      year  km_driven  ...  transmission_Automatic  transmission_Manual\n",
              "3828  2010     100000  ...                       0                    1\n",
              "5783  2011      40000  ...                       0                    1\n",
              "7882  2017      43235  ...                       0                    1\n",
              "272   2012     193000  ...                       0                    1\n",
              "7898  2017     120000  ...                       0                    1\n",
              "...    ...        ...  ...                     ...                  ...\n",
              "7623  2008     120000  ...                       0                    1\n",
              "3430  2013      60000  ...                       0                    1\n",
              "1460  2014      25000  ...                       0                    1\n",
              "5956  2018       9000  ...                       0                    1\n",
              "6136  2019       3177  ...                       0                    1\n",
              "\n",
              "[5929 rows x 16 columns]"
            ]
          },
          "metadata": {
            "tags": []
          },
          "execution_count": 26
        }
      ]
    },
    {
      "cell_type": "code",
      "metadata": {
        "colab": {
          "base_uri": "https://localhost:8080/",
          "height": 456
        },
        "id": "wAdWopNagyCK",
        "outputId": "7bf23bc4-657f-456d-8963-9dfdb37743a4"
      },
      "source": [
        "xte"
      ],
      "execution_count": 27,
      "outputs": [
        {
          "output_type": "execute_result",
          "data": {
            "text/html": [
              "<div>\n",
              "<style scoped>\n",
              "    .dataframe tbody tr th:only-of-type {\n",
              "        vertical-align: middle;\n",
              "    }\n",
              "\n",
              "    .dataframe tbody tr th {\n",
              "        vertical-align: top;\n",
              "    }\n",
              "\n",
              "    .dataframe thead th {\n",
              "        text-align: right;\n",
              "    }\n",
              "</style>\n",
              "<table border=\"1\" class=\"dataframe\">\n",
              "  <thead>\n",
              "    <tr style=\"text-align: right;\">\n",
              "      <th></th>\n",
              "      <th>year</th>\n",
              "      <th>km_driven</th>\n",
              "      <th>owner</th>\n",
              "      <th>mileage</th>\n",
              "      <th>engine</th>\n",
              "      <th>max_power</th>\n",
              "      <th>seats</th>\n",
              "      <th>fuel_CNG</th>\n",
              "      <th>fuel_Diesel</th>\n",
              "      <th>fuel_LPG</th>\n",
              "      <th>fuel_Petrol</th>\n",
              "      <th>seller_type_Dealer</th>\n",
              "      <th>seller_type_Individual</th>\n",
              "      <th>seller_type_Trustmark Dealer</th>\n",
              "      <th>transmission_Automatic</th>\n",
              "      <th>transmission_Manual</th>\n",
              "    </tr>\n",
              "  </thead>\n",
              "  <tbody>\n",
              "    <tr>\n",
              "      <th>1543</th>\n",
              "      <td>2017</td>\n",
              "      <td>52000</td>\n",
              "      <td>2</td>\n",
              "      <td>17.00</td>\n",
              "      <td>1197.0</td>\n",
              "      <td>81.86</td>\n",
              "      <td>5.0</td>\n",
              "      <td>0</td>\n",
              "      <td>0</td>\n",
              "      <td>0</td>\n",
              "      <td>1</td>\n",
              "      <td>0</td>\n",
              "      <td>1</td>\n",
              "      <td>0</td>\n",
              "      <td>0</td>\n",
              "      <td>1</td>\n",
              "    </tr>\n",
              "    <tr>\n",
              "      <th>1762</th>\n",
              "      <td>2011</td>\n",
              "      <td>168000</td>\n",
              "      <td>3</td>\n",
              "      <td>12.80</td>\n",
              "      <td>2494.0</td>\n",
              "      <td>102.00</td>\n",
              "      <td>8.0</td>\n",
              "      <td>0</td>\n",
              "      <td>1</td>\n",
              "      <td>0</td>\n",
              "      <td>0</td>\n",
              "      <td>0</td>\n",
              "      <td>1</td>\n",
              "      <td>0</td>\n",
              "      <td>0</td>\n",
              "      <td>1</td>\n",
              "    </tr>\n",
              "    <tr>\n",
              "      <th>3477</th>\n",
              "      <td>2016</td>\n",
              "      <td>50000</td>\n",
              "      <td>3</td>\n",
              "      <td>18.16</td>\n",
              "      <td>1196.0</td>\n",
              "      <td>86.80</td>\n",
              "      <td>5.0</td>\n",
              "      <td>0</td>\n",
              "      <td>0</td>\n",
              "      <td>0</td>\n",
              "      <td>1</td>\n",
              "      <td>0</td>\n",
              "      <td>1</td>\n",
              "      <td>0</td>\n",
              "      <td>0</td>\n",
              "      <td>1</td>\n",
              "    </tr>\n",
              "    <tr>\n",
              "      <th>63</th>\n",
              "      <td>2013</td>\n",
              "      <td>60000</td>\n",
              "      <td>2</td>\n",
              "      <td>21.27</td>\n",
              "      <td>1396.0</td>\n",
              "      <td>88.76</td>\n",
              "      <td>5.0</td>\n",
              "      <td>0</td>\n",
              "      <td>1</td>\n",
              "      <td>0</td>\n",
              "      <td>0</td>\n",
              "      <td>0</td>\n",
              "      <td>1</td>\n",
              "      <td>0</td>\n",
              "      <td>0</td>\n",
              "      <td>1</td>\n",
              "    </tr>\n",
              "    <tr>\n",
              "      <th>3950</th>\n",
              "      <td>2012</td>\n",
              "      <td>67000</td>\n",
              "      <td>2</td>\n",
              "      <td>20.77</td>\n",
              "      <td>1248.0</td>\n",
              "      <td>88.76</td>\n",
              "      <td>7.0</td>\n",
              "      <td>0</td>\n",
              "      <td>1</td>\n",
              "      <td>0</td>\n",
              "      <td>0</td>\n",
              "      <td>0</td>\n",
              "      <td>1</td>\n",
              "      <td>0</td>\n",
              "      <td>0</td>\n",
              "      <td>1</td>\n",
              "    </tr>\n",
              "    <tr>\n",
              "      <th>...</th>\n",
              "      <td>...</td>\n",
              "      <td>...</td>\n",
              "      <td>...</td>\n",
              "      <td>...</td>\n",
              "      <td>...</td>\n",
              "      <td>...</td>\n",
              "      <td>...</td>\n",
              "      <td>...</td>\n",
              "      <td>...</td>\n",
              "      <td>...</td>\n",
              "      <td>...</td>\n",
              "      <td>...</td>\n",
              "      <td>...</td>\n",
              "      <td>...</td>\n",
              "      <td>...</td>\n",
              "      <td>...</td>\n",
              "    </tr>\n",
              "    <tr>\n",
              "      <th>4788</th>\n",
              "      <td>2018</td>\n",
              "      <td>18000</td>\n",
              "      <td>2</td>\n",
              "      <td>15.04</td>\n",
              "      <td>1991.0</td>\n",
              "      <td>183.00</td>\n",
              "      <td>5.0</td>\n",
              "      <td>0</td>\n",
              "      <td>0</td>\n",
              "      <td>0</td>\n",
              "      <td>1</td>\n",
              "      <td>1</td>\n",
              "      <td>0</td>\n",
              "      <td>0</td>\n",
              "      <td>1</td>\n",
              "      <td>0</td>\n",
              "    </tr>\n",
              "    <tr>\n",
              "      <th>659</th>\n",
              "      <td>2017</td>\n",
              "      <td>56290</td>\n",
              "      <td>2</td>\n",
              "      <td>24.00</td>\n",
              "      <td>1186.0</td>\n",
              "      <td>73.97</td>\n",
              "      <td>5.0</td>\n",
              "      <td>0</td>\n",
              "      <td>1</td>\n",
              "      <td>0</td>\n",
              "      <td>0</td>\n",
              "      <td>1</td>\n",
              "      <td>0</td>\n",
              "      <td>0</td>\n",
              "      <td>0</td>\n",
              "      <td>1</td>\n",
              "    </tr>\n",
              "    <tr>\n",
              "      <th>798</th>\n",
              "      <td>2011</td>\n",
              "      <td>137500</td>\n",
              "      <td>4</td>\n",
              "      <td>19.30</td>\n",
              "      <td>1248.0</td>\n",
              "      <td>73.90</td>\n",
              "      <td>5.0</td>\n",
              "      <td>0</td>\n",
              "      <td>1</td>\n",
              "      <td>0</td>\n",
              "      <td>0</td>\n",
              "      <td>0</td>\n",
              "      <td>1</td>\n",
              "      <td>0</td>\n",
              "      <td>0</td>\n",
              "      <td>1</td>\n",
              "    </tr>\n",
              "    <tr>\n",
              "      <th>2548</th>\n",
              "      <td>2012</td>\n",
              "      <td>98000</td>\n",
              "      <td>2</td>\n",
              "      <td>25.44</td>\n",
              "      <td>936.0</td>\n",
              "      <td>57.60</td>\n",
              "      <td>5.0</td>\n",
              "      <td>0</td>\n",
              "      <td>1</td>\n",
              "      <td>0</td>\n",
              "      <td>0</td>\n",
              "      <td>0</td>\n",
              "      <td>1</td>\n",
              "      <td>0</td>\n",
              "      <td>0</td>\n",
              "      <td>1</td>\n",
              "    </tr>\n",
              "    <tr>\n",
              "      <th>6013</th>\n",
              "      <td>2016</td>\n",
              "      <td>7949</td>\n",
              "      <td>2</td>\n",
              "      <td>17.00</td>\n",
              "      <td>1198.0</td>\n",
              "      <td>73.75</td>\n",
              "      <td>5.0</td>\n",
              "      <td>0</td>\n",
              "      <td>0</td>\n",
              "      <td>0</td>\n",
              "      <td>1</td>\n",
              "      <td>1</td>\n",
              "      <td>0</td>\n",
              "      <td>0</td>\n",
              "      <td>0</td>\n",
              "      <td>1</td>\n",
              "    </tr>\n",
              "  </tbody>\n",
              "</table>\n",
              "<p>1977 rows × 16 columns</p>\n",
              "</div>"
            ],
            "text/plain": [
              "      year  km_driven  ...  transmission_Automatic  transmission_Manual\n",
              "1543  2017      52000  ...                       0                    1\n",
              "1762  2011     168000  ...                       0                    1\n",
              "3477  2016      50000  ...                       0                    1\n",
              "63    2013      60000  ...                       0                    1\n",
              "3950  2012      67000  ...                       0                    1\n",
              "...    ...        ...  ...                     ...                  ...\n",
              "4788  2018      18000  ...                       1                    0\n",
              "659   2017      56290  ...                       0                    1\n",
              "798   2011     137500  ...                       0                    1\n",
              "2548  2012      98000  ...                       0                    1\n",
              "6013  2016       7949  ...                       0                    1\n",
              "\n",
              "[1977 rows x 16 columns]"
            ]
          },
          "metadata": {
            "tags": []
          },
          "execution_count": 27
        }
      ]
    },
    {
      "cell_type": "code",
      "metadata": {
        "colab": {
          "base_uri": "https://localhost:8080/"
        },
        "id": "gs1pSdXQgyCK",
        "outputId": "a3a1c0fe-9fd5-4b20-9834-ad4d6e1a9610"
      },
      "source": [
        "xt=s.fit_transform(xt)\n",
        "xt"
      ],
      "execution_count": 28,
      "outputs": [
        {
          "output_type": "execute_result",
          "data": {
            "text/plain": [
              "array([[-1.02529947,  0.54222919,  2.22565283, ..., -0.17846076,\n",
              "        -0.39408131,  0.39408131],\n",
              "       [-0.76671763, -0.51181451,  2.22565283, ..., -0.17846076,\n",
              "        -0.39408131,  0.39408131],\n",
              "       [ 0.78477344, -0.45498398, -0.62689703, ..., -0.17846076,\n",
              "        -0.39408131,  0.39408131],\n",
              "       ...,\n",
              "       [ 0.0090279 , -0.77532543, -0.62689703, ..., -0.17846076,\n",
              "        -0.39408131,  0.39408131],\n",
              "       [ 1.04335528, -1.05640375, -0.62689703, ..., -0.17846076,\n",
              "        -0.39408131,  0.39408131],\n",
              "       [ 1.30193713, -1.15869869, -0.62689703, ..., -0.17846076,\n",
              "        -0.39408131,  0.39408131]])"
            ]
          },
          "metadata": {
            "tags": []
          },
          "execution_count": 28
        }
      ]
    },
    {
      "cell_type": "code",
      "metadata": {
        "colab": {
          "base_uri": "https://localhost:8080/"
        },
        "id": "x7roDl5AgyCK",
        "outputId": "99a09f26-2f74-4cb8-f34a-8c2ac4fd9d20"
      },
      "source": [
        "xte=s.fit_transform(xte)\n",
        "xte"
      ],
      "execution_count": 29,
      "outputs": [
        {
          "output_type": "execute_result",
          "data": {
            "text/plain": [
              "array([[ 0.76841299, -0.30775103, -0.63521176, ..., -0.16597222,\n",
              "        -0.37522834,  0.37522834],\n",
              "       [-0.78942583,  1.74965061,  0.75242764, ..., -0.16597222,\n",
              "        -0.37522834,  0.37522834],\n",
              "       [ 0.50877319, -0.34322347,  0.75242764, ..., -0.16597222,\n",
              "        -0.37522834,  0.37522834],\n",
              "       ...,\n",
              "       [-0.78942583,  1.20869587,  2.14006703, ..., -0.16597222,\n",
              "        -0.37522834,  0.37522834],\n",
              "       [-0.52978602,  0.50811514, -0.63521176, ..., -0.16597222,\n",
              "        -0.37522834,  0.37522834],\n",
              "       [ 0.50877319, -1.08904931, -0.63521176, ..., -0.16597222,\n",
              "        -0.37522834,  0.37522834]])"
            ]
          },
          "metadata": {
            "tags": []
          },
          "execution_count": 29
        }
      ]
    },
    {
      "cell_type": "markdown",
      "metadata": {
        "id": "cTPhO6v-AiZt"
      },
      "source": [
        "## Question 4"
      ]
    },
    {
      "cell_type": "markdown",
      "metadata": {
        "id": "SsZXmF3NAkna"
      },
      "source": [
        "### Create a Deep Neural Network Model for Regression\n",
        "- Initialize a Sequential model\n",
        "- Add 3 hidden layer with activation relu (Number of neurons = 64,128,32 respectively)\n",
        "- Add dropout layer after each hidden layer\n",
        "- Add a Dense layer with one neuron as output, use activation linear\n",
        "  \n"
      ]
    },
    {
      "cell_type": "code",
      "metadata": {
        "id": "aKs04iIHAjxN"
      },
      "source": [
        "from tensorflow.keras import Sequential,layers\n",
        "m=Sequential([layers.Input(shape=16),layers.Dense(64,activation='relu'),layers.Dropout(.2),layers.Dense(128,activation='relu'),layers.Dropout(.2),layers.Dense(32,activation='relu'),layers.Dropout(.2),layers.Dense(1,activation='linear')])"
      ],
      "execution_count": 30,
      "outputs": []
    },
    {
      "cell_type": "markdown",
      "metadata": {
        "id": "aHstM0fX_-kI"
      },
      "source": [
        "### Check model summary and visualize the model"
      ]
    },
    {
      "cell_type": "code",
      "metadata": {
        "id": "xQjCMzUXBJbg",
        "colab": {
          "base_uri": "https://localhost:8080/"
        },
        "outputId": "a654eeae-a38b-4189-bf23-caecc0114339"
      },
      "source": [
        "m.summary()"
      ],
      "execution_count": 31,
      "outputs": [
        {
          "output_type": "stream",
          "text": [
            "Model: \"sequential\"\n",
            "_________________________________________________________________\n",
            "Layer (type)                 Output Shape              Param #   \n",
            "=================================================================\n",
            "dense (Dense)                (None, 64)                1088      \n",
            "_________________________________________________________________\n",
            "dropout (Dropout)            (None, 64)                0         \n",
            "_________________________________________________________________\n",
            "dense_1 (Dense)              (None, 128)               8320      \n",
            "_________________________________________________________________\n",
            "dropout_1 (Dropout)          (None, 128)               0         \n",
            "_________________________________________________________________\n",
            "dense_2 (Dense)              (None, 32)                4128      \n",
            "_________________________________________________________________\n",
            "dropout_2 (Dropout)          (None, 32)                0         \n",
            "_________________________________________________________________\n",
            "dense_3 (Dense)              (None, 1)                 33        \n",
            "=================================================================\n",
            "Total params: 13,569\n",
            "Trainable params: 13,569\n",
            "Non-trainable params: 0\n",
            "_________________________________________________________________\n"
          ],
          "name": "stdout"
        }
      ]
    },
    {
      "cell_type": "code",
      "metadata": {
        "id": "SvX1oU0LgyCM"
      },
      "source": [
        "from keras.utils.vis_utils import plot_model"
      ],
      "execution_count": 32,
      "outputs": []
    },
    {
      "cell_type": "code",
      "metadata": {
        "colab": {
          "base_uri": "https://localhost:8080/",
          "height": 865
        },
        "id": "VJlT_kwtgyCM",
        "outputId": "2b522f26-4dbf-468d-809a-efa7fd99e2cf"
      },
      "source": [
        "plot_model(m,show_layer_names=True,show_shapes=True,to_file='model_plt.png')"
      ],
      "execution_count": 33,
      "outputs": [
        {
          "output_type": "execute_result",
          "data": {
            "image/png": "[encoded data removed]",
            "text/plain": [
              "<IPython.core.display.Image object>"
            ]
          },
          "metadata": {
            "tags": []
          },
          "execution_count": 33
        }
      ]
    },
    {
      "cell_type": "markdown",
      "metadata": {
        "id": "y7WTmUI-Ey95"
      },
      "source": [
        "## Question 5"
      ]
    },
    {
      "cell_type": "markdown",
      "metadata": {
        "id": "C8u_jlbABTip"
      },
      "source": [
        "### Compile the model\n",
        "\n",
        "- Compile the model\n",
        "- Use \"adam\" optimizer\n",
        "- for calculating loss, use mean absolute error\n",
        "- use R2 score (coefficient of determination) as the metric"
      ]
    },
    {
      "cell_type": "code",
      "metadata": {
        "id": "fptJcssfgyCN"
      },
      "source": [
        "def c(y,yp):\n",
        "    from keras import backend as b\n",
        "    s=b.sum(b.square(y-yp))\n",
        "    st=b.sum(b.square(y-b.mean(y)))\n",
        "    return (1-s/(st+b.epsilon()))"
      ],
      "execution_count": 34,
      "outputs": []
    },
    {
      "cell_type": "code",
      "metadata": {
        "id": "0aDDAcT7xHB0"
      },
      "source": [
        "m.compile(optimizer='adam',loss='mae',metrics=[c])"
      ],
      "execution_count": 35,
      "outputs": []
    },
    {
      "cell_type": "code",
      "metadata": {
        "id": "_bxtG5P9-5BP"
      },
      "source": [
        ""
      ],
      "execution_count": 35,
      "outputs": []
    },
    {
      "cell_type": "markdown",
      "metadata": {
        "id": "s-ntyk6k_EmT"
      },
      "source": [
        "Other metrics can also be used to track the learning of the model:\n",
        "\n",
        "To learn different metrics for classification and regression visit the following link:\n",
        "\n",
        "Link: https://keras.io/api/metrics/#usage-with-compile-amp-fit"
      ]
    },
    {
      "cell_type": "markdown",
      "metadata": {
        "id": "n9o45OHdjDhA"
      },
      "source": [
        "### Train your model\n",
        "\n",
        "- epochs: 1000\n",
        "- batch size: 32\n",
        "- Use test data as validation data\n",
        "- Also add callback, such that if validation loss doesn't decreases consecutively 10 times, stop the training and return the weights for the previous best model"
      ]
    },
    {
      "cell_type": "code",
      "metadata": {
        "id": "-Y6tA30XjOH2"
      },
      "source": [
        "from keras.callbacks import EarlyStopping,ModelCheckpoint\n"
      ],
      "execution_count": 36,
      "outputs": []
    },
    {
      "cell_type": "code",
      "metadata": {
        "colab": {
          "base_uri": "https://localhost:8080/"
        },
        "id": "S5RZzhDugyCO",
        "outputId": "4c921c67-2085-43db-e5a8-94c9a6b8472f"
      },
      "source": [
        "e=EarlyStopping(patience=10,restore_best_weights=True)\n",
        "# mc=ModelCheckpoint('m.h5',save_weights_only=True)\n",
        "h=m.fit(xt,yt,validation_data=(xte,yte),epochs=1000,callbacks=e)"
      ],
      "execution_count": 37,
      "outputs": [
        {
          "output_type": "stream",
          "text": [
            "Epoch 1/1000\n",
            "186/186 [==============================] - 4s 4ms/step - loss: 650673.8676 - c: -1.2324 - val_loss: 648561.4375 - val_c: -1.0133\n",
            "Epoch 2/1000\n",
            "186/186 [==============================] - 1s 3ms/step - loss: 629073.1683 - c: -1.1120 - val_loss: 536761.0000 - val_c: -0.6062\n",
            "Epoch 3/1000\n",
            "186/186 [==============================] - 1s 3ms/step - loss: 462816.1883 - c: -0.4738 - val_loss: 313925.7812 - val_c: 0.2739\n",
            "Epoch 4/1000\n",
            "186/186 [==============================] - 1s 3ms/step - loss: 286004.1367 - c: 0.3453 - val_loss: 248074.1719 - val_c: 0.5486\n",
            "Epoch 5/1000\n",
            "186/186 [==============================] - 0s 3ms/step - loss: 256085.7294 - c: 0.5211 - val_loss: 225336.2500 - val_c: 0.6193\n",
            "Epoch 6/1000\n",
            "186/186 [==============================] - 1s 3ms/step - loss: 219448.3838 - c: 0.5964 - val_loss: 212267.8281 - val_c: 0.6541\n",
            "Epoch 7/1000\n",
            "186/186 [==============================] - 1s 3ms/step - loss: 213548.5886 - c: 0.6052 - val_loss: 203567.3906 - val_c: 0.6762\n",
            "Epoch 8/1000\n",
            "186/186 [==============================] - 1s 3ms/step - loss: 205965.1984 - c: 0.6510 - val_loss: 198140.0000 - val_c: 0.6909\n",
            "Epoch 9/1000\n",
            "186/186 [==============================] - 1s 3ms/step - loss: 207802.2950 - c: 0.6545 - val_loss: 193815.7031 - val_c: 0.7029\n",
            "Epoch 10/1000\n",
            "186/186 [==============================] - 1s 3ms/step - loss: 207401.4646 - c: 0.6290 - val_loss: 192383.1406 - val_c: 0.7066\n",
            "Epoch 11/1000\n",
            "186/186 [==============================] - 0s 3ms/step - loss: 203613.5200 - c: 0.6607 - val_loss: 190203.9531 - val_c: 0.7131\n",
            "Epoch 12/1000\n",
            "186/186 [==============================] - 1s 3ms/step - loss: 197726.8663 - c: 0.6571 - val_loss: 187896.1719 - val_c: 0.7200\n",
            "Epoch 13/1000\n",
            "186/186 [==============================] - 1s 3ms/step - loss: 189282.8773 - c: 0.6766 - val_loss: 187090.9219 - val_c: 0.7223\n",
            "Epoch 14/1000\n",
            "186/186 [==============================] - 1s 3ms/step - loss: 191996.9340 - c: 0.6969 - val_loss: 185503.2656 - val_c: 0.7270\n",
            "Epoch 15/1000\n",
            "186/186 [==============================] - 1s 3ms/step - loss: 195791.2882 - c: 0.6885 - val_loss: 184976.3281 - val_c: 0.7279\n",
            "Epoch 16/1000\n",
            "186/186 [==============================] - 1s 3ms/step - loss: 194762.3613 - c: 0.6996 - val_loss: 183950.8125 - val_c: 0.7309\n",
            "Epoch 17/1000\n",
            "186/186 [==============================] - 1s 3ms/step - loss: 194207.1507 - c: 0.6957 - val_loss: 182760.2812 - val_c: 0.7341\n",
            "Epoch 18/1000\n",
            "186/186 [==============================] - 1s 3ms/step - loss: 187932.6705 - c: 0.6630 - val_loss: 181535.6875 - val_c: 0.7377\n",
            "Epoch 19/1000\n",
            "186/186 [==============================] - 1s 3ms/step - loss: 187389.6562 - c: 0.6931 - val_loss: 180934.8906 - val_c: 0.7390\n",
            "Epoch 20/1000\n",
            "186/186 [==============================] - 1s 3ms/step - loss: 192890.1682 - c: 0.7087 - val_loss: 179621.5156 - val_c: 0.7429\n",
            "Epoch 21/1000\n",
            "186/186 [==============================] - 1s 3ms/step - loss: 190618.6136 - c: 0.6794 - val_loss: 178678.6250 - val_c: 0.7454\n",
            "Epoch 22/1000\n",
            "186/186 [==============================] - 1s 3ms/step - loss: 191535.1056 - c: 0.7279 - val_loss: 177721.3594 - val_c: 0.7480\n",
            "Epoch 23/1000\n",
            "186/186 [==============================] - 1s 3ms/step - loss: 192854.2198 - c: 0.7268 - val_loss: 177626.7188 - val_c: 0.7490\n",
            "Epoch 24/1000\n",
            "186/186 [==============================] - 1s 3ms/step - loss: 191820.4189 - c: 0.7195 - val_loss: 177007.2031 - val_c: 0.7505\n",
            "Epoch 25/1000\n",
            "186/186 [==============================] - 1s 3ms/step - loss: 185074.4713 - c: 0.6948 - val_loss: 175961.3438 - val_c: 0.7529\n",
            "Epoch 26/1000\n",
            "186/186 [==============================] - 1s 3ms/step - loss: 187987.6791 - c: 0.7069 - val_loss: 175425.2031 - val_c: 0.7540\n",
            "Epoch 27/1000\n",
            "186/186 [==============================] - 1s 3ms/step - loss: 184427.4375 - c: 0.7216 - val_loss: 174490.6562 - val_c: 0.7560\n",
            "Epoch 28/1000\n",
            "186/186 [==============================] - 1s 3ms/step - loss: 190798.7431 - c: 0.7253 - val_loss: 173956.5938 - val_c: 0.7575\n",
            "Epoch 29/1000\n",
            "186/186 [==============================] - 1s 3ms/step - loss: 182540.9055 - c: 0.7145 - val_loss: 174070.1250 - val_c: 0.7582\n",
            "Epoch 30/1000\n",
            "186/186 [==============================] - 1s 3ms/step - loss: 179134.6985 - c: 0.7322 - val_loss: 172370.5938 - val_c: 0.7622\n",
            "Epoch 31/1000\n",
            "186/186 [==============================] - 1s 3ms/step - loss: 187060.2491 - c: 0.7005 - val_loss: 171160.0469 - val_c: 0.7637\n",
            "Epoch 32/1000\n",
            "186/186 [==============================] - 1s 3ms/step - loss: 181900.8588 - c: 0.7500 - val_loss: 171364.3750 - val_c: 0.7644\n",
            "Epoch 33/1000\n",
            "186/186 [==============================] - 1s 3ms/step - loss: 179764.8024 - c: 0.7307 - val_loss: 170454.4844 - val_c: 0.7652\n",
            "Epoch 34/1000\n",
            "186/186 [==============================] - 1s 3ms/step - loss: 189101.6476 - c: 0.7292 - val_loss: 170444.5625 - val_c: 0.7658\n",
            "Epoch 35/1000\n",
            "186/186 [==============================] - 1s 3ms/step - loss: 179642.3031 - c: 0.7238 - val_loss: 169197.1094 - val_c: 0.7687\n",
            "Epoch 36/1000\n",
            "186/186 [==============================] - 1s 3ms/step - loss: 174716.0904 - c: 0.7418 - val_loss: 168703.0781 - val_c: 0.7697\n",
            "Epoch 37/1000\n",
            "186/186 [==============================] - 1s 3ms/step - loss: 183356.8128 - c: 0.7151 - val_loss: 168019.0781 - val_c: 0.7698\n",
            "Epoch 38/1000\n",
            "186/186 [==============================] - 1s 3ms/step - loss: 176126.5053 - c: 0.7129 - val_loss: 167530.6719 - val_c: 0.7712\n",
            "Epoch 39/1000\n",
            "186/186 [==============================] - 1s 3ms/step - loss: 179072.4630 - c: 0.7271 - val_loss: 166715.4844 - val_c: 0.7722\n",
            "Epoch 40/1000\n",
            "186/186 [==============================] - 1s 3ms/step - loss: 176191.2391 - c: 0.7539 - val_loss: 165474.5625 - val_c: 0.7734\n",
            "Epoch 41/1000\n",
            "186/186 [==============================] - 1s 3ms/step - loss: 175998.0655 - c: 0.7347 - val_loss: 165003.4219 - val_c: 0.7742\n",
            "Epoch 42/1000\n",
            "186/186 [==============================] - 1s 3ms/step - loss: 183928.9294 - c: 0.7441 - val_loss: 165322.0938 - val_c: 0.7759\n",
            "Epoch 43/1000\n",
            "186/186 [==============================] - 1s 3ms/step - loss: 189399.5539 - c: 0.7194 - val_loss: 164476.1406 - val_c: 0.7767\n",
            "Epoch 44/1000\n",
            "186/186 [==============================] - 1s 3ms/step - loss: 180089.6042 - c: 0.7449 - val_loss: 163989.8438 - val_c: 0.7777\n",
            "Epoch 45/1000\n",
            "186/186 [==============================] - 1s 3ms/step - loss: 177651.5234 - c: 0.7381 - val_loss: 162354.1250 - val_c: 0.7791\n",
            "Epoch 46/1000\n",
            "186/186 [==============================] - 1s 3ms/step - loss: 173560.2829 - c: 0.7418 - val_loss: 162553.2031 - val_c: 0.7805\n",
            "Epoch 47/1000\n",
            "186/186 [==============================] - 1s 3ms/step - loss: 185846.2902 - c: 0.7174 - val_loss: 161456.5781 - val_c: 0.7818\n",
            "Epoch 48/1000\n",
            "186/186 [==============================] - 1s 3ms/step - loss: 174655.6913 - c: 0.7592 - val_loss: 161510.7344 - val_c: 0.7823\n",
            "Epoch 49/1000\n",
            "186/186 [==============================] - 1s 3ms/step - loss: 176239.1263 - c: 0.7366 - val_loss: 160448.3750 - val_c: 0.7836\n",
            "Epoch 50/1000\n",
            "186/186 [==============================] - 1s 3ms/step - loss: 168955.9596 - c: 0.7701 - val_loss: 160958.2031 - val_c: 0.7832\n",
            "Epoch 51/1000\n",
            "186/186 [==============================] - 1s 3ms/step - loss: 182648.3462 - c: 0.7488 - val_loss: 159380.2188 - val_c: 0.7851\n",
            "Epoch 52/1000\n",
            "186/186 [==============================] - 1s 3ms/step - loss: 177085.5187 - c: 0.7504 - val_loss: 159030.6250 - val_c: 0.7860\n",
            "Epoch 53/1000\n",
            "186/186 [==============================] - 1s 3ms/step - loss: 175673.5219 - c: 0.7042 - val_loss: 159203.4062 - val_c: 0.7865\n",
            "Epoch 54/1000\n",
            "186/186 [==============================] - 1s 3ms/step - loss: 176204.5096 - c: 0.7548 - val_loss: 158629.2344 - val_c: 0.7877\n",
            "Epoch 55/1000\n",
            "186/186 [==============================] - 1s 3ms/step - loss: 170165.6921 - c: 0.7526 - val_loss: 159001.8906 - val_c: 0.7885\n",
            "Epoch 56/1000\n",
            "186/186 [==============================] - 1s 3ms/step - loss: 180201.3847 - c: 0.7465 - val_loss: 158246.3594 - val_c: 0.7897\n",
            "Epoch 57/1000\n",
            "186/186 [==============================] - 1s 3ms/step - loss: 176262.5951 - c: 0.7541 - val_loss: 156652.3594 - val_c: 0.7902\n",
            "Epoch 58/1000\n",
            "186/186 [==============================] - 1s 3ms/step - loss: 174743.3313 - c: 0.7071 - val_loss: 156584.1250 - val_c: 0.7915\n",
            "Epoch 59/1000\n",
            "186/186 [==============================] - 1s 3ms/step - loss: 168802.3328 - c: 0.7683 - val_loss: 155966.3594 - val_c: 0.7909\n",
            "Epoch 60/1000\n",
            "186/186 [==============================] - 1s 3ms/step - loss: 161524.0020 - c: 0.7692 - val_loss: 155464.3594 - val_c: 0.7917\n",
            "Epoch 61/1000\n",
            "186/186 [==============================] - 1s 3ms/step - loss: 179493.2322 - c: 0.7404 - val_loss: 155159.9688 - val_c: 0.7922\n",
            "Epoch 62/1000\n",
            "186/186 [==============================] - 1s 3ms/step - loss: 170807.4876 - c: 0.7530 - val_loss: 154468.7969 - val_c: 0.7925\n",
            "Epoch 63/1000\n",
            "186/186 [==============================] - 1s 3ms/step - loss: 171315.1819 - c: 0.7466 - val_loss: 154389.3906 - val_c: 0.7947\n",
            "Epoch 64/1000\n",
            "186/186 [==============================] - 1s 3ms/step - loss: 170243.9261 - c: 0.7313 - val_loss: 154304.1719 - val_c: 0.7942\n",
            "Epoch 65/1000\n",
            "186/186 [==============================] - 1s 3ms/step - loss: 178678.2818 - c: 0.7592 - val_loss: 153781.4375 - val_c: 0.7956\n",
            "Epoch 66/1000\n",
            "186/186 [==============================] - 1s 3ms/step - loss: 168920.4066 - c: 0.7468 - val_loss: 153101.7031 - val_c: 0.7951\n",
            "Epoch 67/1000\n",
            "186/186 [==============================] - 1s 3ms/step - loss: 172223.3424 - c: 0.7474 - val_loss: 152609.9688 - val_c: 0.7946\n",
            "Epoch 68/1000\n",
            "186/186 [==============================] - 1s 3ms/step - loss: 169313.7269 - c: 0.7702 - val_loss: 152833.1875 - val_c: 0.7966\n",
            "Epoch 69/1000\n",
            "186/186 [==============================] - 1s 3ms/step - loss: 172030.5000 - c: 0.7817 - val_loss: 151797.7031 - val_c: 0.7964\n",
            "Epoch 70/1000\n",
            "186/186 [==============================] - 1s 3ms/step - loss: 165747.9522 - c: 0.7576 - val_loss: 151346.2812 - val_c: 0.7977\n",
            "Epoch 71/1000\n",
            "186/186 [==============================] - 1s 3ms/step - loss: 165563.8986 - c: 0.7636 - val_loss: 151280.8281 - val_c: 0.7968\n",
            "Epoch 72/1000\n",
            "186/186 [==============================] - 1s 3ms/step - loss: 155248.1434 - c: 0.7689 - val_loss: 150520.3906 - val_c: 0.7995\n",
            "Epoch 73/1000\n",
            "186/186 [==============================] - 1s 3ms/step - loss: 165831.6275 - c: 0.7788 - val_loss: 150558.7188 - val_c: 0.8001\n",
            "Epoch 74/1000\n",
            "186/186 [==============================] - 1s 3ms/step - loss: 162770.7027 - c: 0.7642 - val_loss: 149698.6562 - val_c: 0.8012\n",
            "Epoch 75/1000\n",
            "186/186 [==============================] - 1s 3ms/step - loss: 171804.9373 - c: 0.7562 - val_loss: 150287.7969 - val_c: 0.8025\n",
            "Epoch 76/1000\n",
            "186/186 [==============================] - 1s 3ms/step - loss: 171417.1125 - c: 0.7656 - val_loss: 149492.7344 - val_c: 0.8029\n",
            "Epoch 77/1000\n",
            "186/186 [==============================] - 1s 3ms/step - loss: 169987.0821 - c: 0.7257 - val_loss: 149087.8594 - val_c: 0.8041\n",
            "Epoch 78/1000\n",
            "186/186 [==============================] - 1s 3ms/step - loss: 169445.6374 - c: 0.7683 - val_loss: 148949.4219 - val_c: 0.8045\n",
            "Epoch 79/1000\n",
            "186/186 [==============================] - 1s 3ms/step - loss: 163134.0067 - c: 0.7603 - val_loss: 148310.4219 - val_c: 0.8038\n",
            "Epoch 80/1000\n",
            "186/186 [==============================] - 1s 3ms/step - loss: 165454.0262 - c: 0.7659 - val_loss: 147618.9375 - val_c: 0.8043\n",
            "Epoch 81/1000\n",
            "186/186 [==============================] - 1s 3ms/step - loss: 167395.7505 - c: 0.7946 - val_loss: 147862.5781 - val_c: 0.8049\n",
            "Epoch 82/1000\n",
            "186/186 [==============================] - 1s 3ms/step - loss: 165290.1945 - c: 0.7793 - val_loss: 148051.6406 - val_c: 0.8057\n",
            "Epoch 83/1000\n",
            "186/186 [==============================] - 1s 3ms/step - loss: 172368.4703 - c: 0.7838 - val_loss: 146983.7500 - val_c: 0.8068\n",
            "Epoch 84/1000\n",
            "186/186 [==============================] - 1s 3ms/step - loss: 162539.0581 - c: 0.7794 - val_loss: 146401.2031 - val_c: 0.8079\n",
            "Epoch 85/1000\n",
            "186/186 [==============================] - 1s 3ms/step - loss: 160304.7715 - c: 0.7949 - val_loss: 146758.4531 - val_c: 0.8077\n",
            "Epoch 86/1000\n",
            "186/186 [==============================] - 1s 3ms/step - loss: 167255.2785 - c: 0.7681 - val_loss: 146326.7188 - val_c: 0.8082\n",
            "Epoch 87/1000\n",
            "186/186 [==============================] - 1s 3ms/step - loss: 167809.7144 - c: 0.7762 - val_loss: 145699.8438 - val_c: 0.8079\n",
            "Epoch 88/1000\n",
            "186/186 [==============================] - 1s 3ms/step - loss: 164093.0605 - c: 0.7446 - val_loss: 145958.6250 - val_c: 0.8063\n",
            "Epoch 89/1000\n",
            "186/186 [==============================] - 1s 3ms/step - loss: 165624.2327 - c: 0.7716 - val_loss: 145312.0156 - val_c: 0.8068\n",
            "Epoch 90/1000\n",
            "186/186 [==============================] - 1s 3ms/step - loss: 164862.2311 - c: 0.7661 - val_loss: 145552.1250 - val_c: 0.8120\n",
            "Epoch 91/1000\n",
            "186/186 [==============================] - 1s 3ms/step - loss: 164397.4000 - c: 0.7786 - val_loss: 144809.5938 - val_c: 0.8109\n",
            "Epoch 92/1000\n",
            "186/186 [==============================] - 1s 3ms/step - loss: 168143.3063 - c: 0.7824 - val_loss: 144641.2188 - val_c: 0.8100\n",
            "Epoch 93/1000\n",
            "186/186 [==============================] - 1s 3ms/step - loss: 156570.4857 - c: 0.7891 - val_loss: 144187.7656 - val_c: 0.8122\n",
            "Epoch 94/1000\n",
            "186/186 [==============================] - 1s 3ms/step - loss: 163386.1285 - c: 0.7771 - val_loss: 143940.0156 - val_c: 0.8128\n",
            "Epoch 95/1000\n",
            "186/186 [==============================] - 1s 3ms/step - loss: 161394.3785 - c: 0.7991 - val_loss: 144211.8125 - val_c: 0.8108\n",
            "Epoch 96/1000\n",
            "186/186 [==============================] - 1s 3ms/step - loss: 156472.6954 - c: 0.6923 - val_loss: 143486.5156 - val_c: 0.8123\n",
            "Epoch 97/1000\n",
            "186/186 [==============================] - 1s 3ms/step - loss: 161234.2254 - c: 0.7905 - val_loss: 143134.1094 - val_c: 0.8139\n",
            "Epoch 98/1000\n",
            "186/186 [==============================] - 1s 3ms/step - loss: 167666.0657 - c: 0.7976 - val_loss: 142888.7344 - val_c: 0.8144\n",
            "Epoch 99/1000\n",
            "186/186 [==============================] - 1s 3ms/step - loss: 155842.0093 - c: 0.8006 - val_loss: 142281.3750 - val_c: 0.8149\n",
            "Epoch 100/1000\n",
            "186/186 [==============================] - 1s 3ms/step - loss: 163632.4305 - c: 0.7962 - val_loss: 141875.8906 - val_c: 0.8157\n",
            "Epoch 101/1000\n",
            "186/186 [==============================] - 1s 3ms/step - loss: 155845.0080 - c: 0.7752 - val_loss: 141891.5938 - val_c: 0.8150\n",
            "Epoch 102/1000\n",
            "186/186 [==============================] - 1s 3ms/step - loss: 156158.4053 - c: 0.8002 - val_loss: 141768.9062 - val_c: 0.8161\n",
            "Epoch 103/1000\n",
            "186/186 [==============================] - 1s 3ms/step - loss: 157940.4720 - c: 0.7886 - val_loss: 141528.8125 - val_c: 0.8172\n",
            "Epoch 104/1000\n",
            "186/186 [==============================] - 1s 3ms/step - loss: 164447.9058 - c: 0.7647 - val_loss: 141573.0625 - val_c: 0.8192\n",
            "Epoch 105/1000\n",
            "186/186 [==============================] - 1s 3ms/step - loss: 157340.9320 - c: 0.7953 - val_loss: 140862.9844 - val_c: 0.8196\n",
            "Epoch 106/1000\n",
            "186/186 [==============================] - 1s 3ms/step - loss: 158935.9492 - c: 0.7879 - val_loss: 140582.2500 - val_c: 0.8192\n",
            "Epoch 107/1000\n",
            "186/186 [==============================] - 1s 3ms/step - loss: 160090.3787 - c: 0.7716 - val_loss: 140261.9375 - val_c: 0.8176\n",
            "Epoch 108/1000\n",
            "186/186 [==============================] - 1s 3ms/step - loss: 154201.2056 - c: 0.7881 - val_loss: 140191.9062 - val_c: 0.8169\n",
            "Epoch 109/1000\n",
            "186/186 [==============================] - 1s 3ms/step - loss: 155478.9273 - c: 0.7707 - val_loss: 139484.1406 - val_c: 0.8165\n",
            "Epoch 110/1000\n",
            "186/186 [==============================] - 1s 3ms/step - loss: 151927.5960 - c: 0.7846 - val_loss: 139577.1250 - val_c: 0.8183\n",
            "Epoch 111/1000\n",
            "186/186 [==============================] - 1s 3ms/step - loss: 155321.1073 - c: 0.8025 - val_loss: 138966.9844 - val_c: 0.8205\n",
            "Epoch 112/1000\n",
            "186/186 [==============================] - 1s 3ms/step - loss: 149506.3732 - c: 0.8130 - val_loss: 138640.9844 - val_c: 0.8188\n",
            "Epoch 113/1000\n",
            "186/186 [==============================] - 1s 3ms/step - loss: 155119.8843 - c: 0.8043 - val_loss: 138617.5625 - val_c: 0.8228\n",
            "Epoch 114/1000\n",
            "186/186 [==============================] - 1s 3ms/step - loss: 149484.1947 - c: 0.7758 - val_loss: 138398.0312 - val_c: 0.8223\n",
            "Epoch 115/1000\n",
            "186/186 [==============================] - 1s 3ms/step - loss: 156571.9112 - c: 0.7924 - val_loss: 137793.0312 - val_c: 0.8240\n",
            "Epoch 116/1000\n",
            "186/186 [==============================] - 1s 3ms/step - loss: 156482.4243 - c: 0.8069 - val_loss: 138018.7031 - val_c: 0.8243\n",
            "Epoch 117/1000\n",
            "186/186 [==============================] - 1s 3ms/step - loss: 161459.2326 - c: 0.7995 - val_loss: 137261.6719 - val_c: 0.8266\n",
            "Epoch 118/1000\n",
            "186/186 [==============================] - 1s 3ms/step - loss: 152580.0697 - c: 0.7672 - val_loss: 136989.1562 - val_c: 0.8273\n",
            "Epoch 119/1000\n",
            "186/186 [==============================] - 1s 3ms/step - loss: 154622.5964 - c: 0.8132 - val_loss: 137070.5938 - val_c: 0.8274\n",
            "Epoch 120/1000\n",
            "186/186 [==============================] - 1s 3ms/step - loss: 155346.4195 - c: 0.8029 - val_loss: 137022.5938 - val_c: 0.8261\n",
            "Epoch 121/1000\n",
            "186/186 [==============================] - 1s 3ms/step - loss: 151307.8741 - c: 0.8001 - val_loss: 136371.5781 - val_c: 0.8280\n",
            "Epoch 122/1000\n",
            "186/186 [==============================] - 1s 3ms/step - loss: 156840.5627 - c: 0.7646 - val_loss: 136093.3281 - val_c: 0.8270\n",
            "Epoch 123/1000\n",
            "186/186 [==============================] - 1s 3ms/step - loss: 153551.1839 - c: 0.7933 - val_loss: 136440.5938 - val_c: 0.8302\n",
            "Epoch 124/1000\n",
            "186/186 [==============================] - 1s 3ms/step - loss: 152774.0955 - c: 0.7873 - val_loss: 136422.6562 - val_c: 0.8320\n",
            "Epoch 125/1000\n",
            "186/186 [==============================] - 1s 3ms/step - loss: 153849.9611 - c: 0.8039 - val_loss: 135261.9844 - val_c: 0.8316\n",
            "Epoch 126/1000\n",
            "186/186 [==============================] - 0s 3ms/step - loss: 150844.5762 - c: 0.8009 - val_loss: 134729.4062 - val_c: 0.8281\n",
            "Epoch 127/1000\n",
            "186/186 [==============================] - 1s 3ms/step - loss: 162899.7111 - c: 0.8084 - val_loss: 134803.6562 - val_c: 0.8305\n",
            "Epoch 128/1000\n",
            "186/186 [==============================] - 1s 3ms/step - loss: 156178.7503 - c: 0.8185 - val_loss: 134200.0469 - val_c: 0.8289\n",
            "Epoch 129/1000\n",
            "186/186 [==============================] - 1s 3ms/step - loss: 150978.9132 - c: 0.8030 - val_loss: 134202.7031 - val_c: 0.8269\n",
            "Epoch 130/1000\n",
            "186/186 [==============================] - 1s 3ms/step - loss: 152454.1598 - c: 0.7450 - val_loss: 133787.7188 - val_c: 0.8289\n",
            "Epoch 131/1000\n",
            "186/186 [==============================] - 1s 3ms/step - loss: 156167.0389 - c: 0.8063 - val_loss: 133829.5000 - val_c: 0.8334\n",
            "Epoch 132/1000\n",
            "186/186 [==============================] - 1s 3ms/step - loss: 155784.4378 - c: 0.8282 - val_loss: 133819.0156 - val_c: 0.8333\n",
            "Epoch 133/1000\n",
            "186/186 [==============================] - 1s 3ms/step - loss: 157445.7477 - c: 0.7504 - val_loss: 132914.1094 - val_c: 0.8331\n",
            "Epoch 134/1000\n",
            "186/186 [==============================] - 1s 3ms/step - loss: 155889.0719 - c: 0.8018 - val_loss: 132969.6250 - val_c: 0.8327\n",
            "Epoch 135/1000\n",
            "186/186 [==============================] - 1s 3ms/step - loss: 158237.5765 - c: 0.7895 - val_loss: 133398.6406 - val_c: 0.8327\n",
            "Epoch 136/1000\n",
            "186/186 [==============================] - 1s 3ms/step - loss: 150756.1859 - c: 0.8018 - val_loss: 132676.1094 - val_c: 0.8361\n",
            "Epoch 137/1000\n",
            "186/186 [==============================] - 1s 3ms/step - loss: 154303.7069 - c: 0.8239 - val_loss: 133010.3125 - val_c: 0.8354\n",
            "Epoch 138/1000\n",
            "186/186 [==============================] - 1s 3ms/step - loss: 154430.6300 - c: 0.7874 - val_loss: 132609.9531 - val_c: 0.8389\n",
            "Epoch 139/1000\n",
            "186/186 [==============================] - 1s 3ms/step - loss: 151928.0069 - c: 0.8197 - val_loss: 132290.9375 - val_c: 0.8379\n",
            "Epoch 140/1000\n",
            "186/186 [==============================] - 1s 3ms/step - loss: 145742.0814 - c: 0.8044 - val_loss: 132899.2188 - val_c: 0.8397\n",
            "Epoch 141/1000\n",
            "186/186 [==============================] - 1s 3ms/step - loss: 159255.2327 - c: 0.7993 - val_loss: 132417.5625 - val_c: 0.8426\n",
            "Epoch 142/1000\n",
            "186/186 [==============================] - 1s 3ms/step - loss: 162570.0232 - c: 0.7950 - val_loss: 132893.8906 - val_c: 0.8427\n",
            "Epoch 143/1000\n",
            "186/186 [==============================] - 1s 3ms/step - loss: 146635.7574 - c: 0.8123 - val_loss: 131462.2031 - val_c: 0.8403\n",
            "Epoch 144/1000\n",
            "186/186 [==============================] - 1s 3ms/step - loss: 144651.8960 - c: 0.8103 - val_loss: 131373.0000 - val_c: 0.8420\n",
            "Epoch 145/1000\n",
            "186/186 [==============================] - 1s 3ms/step - loss: 149901.3760 - c: 0.7604 - val_loss: 132746.9844 - val_c: 0.8444\n",
            "Epoch 146/1000\n",
            "186/186 [==============================] - 1s 3ms/step - loss: 154147.6409 - c: 0.7944 - val_loss: 131019.6562 - val_c: 0.8427\n",
            "Epoch 147/1000\n",
            "186/186 [==============================] - 1s 3ms/step - loss: 155827.1517 - c: 0.7915 - val_loss: 131154.3750 - val_c: 0.8442\n",
            "Epoch 148/1000\n",
            "186/186 [==============================] - 1s 3ms/step - loss: 153161.8374 - c: 0.8149 - val_loss: 130875.5312 - val_c: 0.8446\n",
            "Epoch 149/1000\n",
            "186/186 [==============================] - 1s 3ms/step - loss: 144890.1099 - c: 0.8119 - val_loss: 130901.3203 - val_c: 0.8477\n",
            "Epoch 150/1000\n",
            "186/186 [==============================] - 1s 3ms/step - loss: 146384.0940 - c: 0.7858 - val_loss: 131087.7188 - val_c: 0.8483\n",
            "Epoch 151/1000\n",
            "186/186 [==============================] - 1s 3ms/step - loss: 148284.3511 - c: 0.8133 - val_loss: 130806.0078 - val_c: 0.8494\n",
            "Epoch 152/1000\n",
            "186/186 [==============================] - 1s 3ms/step - loss: 157677.6274 - c: 0.7456 - val_loss: 130145.5078 - val_c: 0.8459\n",
            "Epoch 153/1000\n",
            "186/186 [==============================] - 1s 3ms/step - loss: 150240.7335 - c: 0.7849 - val_loss: 130697.5156 - val_c: 0.8493\n",
            "Epoch 154/1000\n",
            "186/186 [==============================] - 1s 3ms/step - loss: 149256.2538 - c: 0.8160 - val_loss: 130493.9141 - val_c: 0.8491\n",
            "Epoch 155/1000\n",
            "186/186 [==============================] - 1s 3ms/step - loss: 145871.1182 - c: 0.8222 - val_loss: 129885.3438 - val_c: 0.8497\n",
            "Epoch 156/1000\n",
            "186/186 [==============================] - 1s 3ms/step - loss: 150901.5525 - c: 0.8030 - val_loss: 129431.5156 - val_c: 0.8501\n",
            "Epoch 157/1000\n",
            "186/186 [==============================] - 1s 3ms/step - loss: 153772.3009 - c: 0.8032 - val_loss: 129506.0547 - val_c: 0.8503\n",
            "Epoch 158/1000\n",
            "186/186 [==============================] - 1s 3ms/step - loss: 144393.0229 - c: 0.8096 - val_loss: 129942.8984 - val_c: 0.8517\n",
            "Epoch 159/1000\n",
            "186/186 [==============================] - 1s 3ms/step - loss: 144090.7977 - c: 0.7994 - val_loss: 129043.5547 - val_c: 0.8499\n",
            "Epoch 160/1000\n",
            "186/186 [==============================] - 1s 3ms/step - loss: 153927.2334 - c: 0.8043 - val_loss: 128816.7422 - val_c: 0.8525\n",
            "Epoch 161/1000\n",
            "186/186 [==============================] - 1s 3ms/step - loss: 143462.0674 - c: 0.8329 - val_loss: 129572.2578 - val_c: 0.8536\n",
            "Epoch 162/1000\n",
            "186/186 [==============================] - 1s 3ms/step - loss: 154148.4342 - c: 0.8298 - val_loss: 129062.7812 - val_c: 0.8472\n",
            "Epoch 163/1000\n",
            "186/186 [==============================] - 1s 3ms/step - loss: 143005.5836 - c: 0.8294 - val_loss: 129012.6875 - val_c: 0.8522\n",
            "Epoch 164/1000\n",
            "186/186 [==============================] - 1s 3ms/step - loss: 146301.3179 - c: 0.8277 - val_loss: 128526.2969 - val_c: 0.8535\n",
            "Epoch 165/1000\n",
            "186/186 [==============================] - 1s 3ms/step - loss: 155280.5916 - c: 0.7813 - val_loss: 128048.3906 - val_c: 0.8529\n",
            "Epoch 166/1000\n",
            "186/186 [==============================] - 1s 3ms/step - loss: 151859.3483 - c: 0.8110 - val_loss: 127914.6719 - val_c: 0.8532\n",
            "Epoch 167/1000\n",
            "186/186 [==============================] - 1s 3ms/step - loss: 149120.6402 - c: 0.8275 - val_loss: 128012.5938 - val_c: 0.8548\n",
            "Epoch 168/1000\n",
            "186/186 [==============================] - 1s 3ms/step - loss: 152131.6350 - c: 0.7637 - val_loss: 127550.5938 - val_c: 0.8505\n",
            "Epoch 169/1000\n",
            "186/186 [==============================] - 1s 3ms/step - loss: 150371.1354 - c: 0.7767 - val_loss: 128012.5312 - val_c: 0.8572\n",
            "Epoch 170/1000\n",
            "186/186 [==============================] - 1s 3ms/step - loss: 147660.0315 - c: 0.8231 - val_loss: 127787.2422 - val_c: 0.8560\n",
            "Epoch 171/1000\n",
            "186/186 [==============================] - 1s 3ms/step - loss: 150295.4242 - c: 0.8155 - val_loss: 127985.9922 - val_c: 0.8567\n",
            "Epoch 172/1000\n",
            "186/186 [==============================] - 1s 3ms/step - loss: 151468.9433 - c: 0.8072 - val_loss: 127182.0469 - val_c: 0.8555\n",
            "Epoch 173/1000\n",
            "186/186 [==============================] - 1s 3ms/step - loss: 146606.0897 - c: 0.8135 - val_loss: 127476.1016 - val_c: 0.8561\n",
            "Epoch 174/1000\n",
            "186/186 [==============================] - 1s 3ms/step - loss: 150820.1786 - c: 0.8243 - val_loss: 127194.0703 - val_c: 0.8579\n",
            "Epoch 175/1000\n",
            "186/186 [==============================] - 1s 3ms/step - loss: 149377.4195 - c: 0.7828 - val_loss: 127263.5156 - val_c: 0.8591\n",
            "Epoch 176/1000\n",
            "186/186 [==============================] - 1s 3ms/step - loss: 149895.8305 - c: 0.8219 - val_loss: 127734.3672 - val_c: 0.8583\n",
            "Epoch 177/1000\n",
            "186/186 [==============================] - 1s 3ms/step - loss: 147314.1325 - c: 0.8237 - val_loss: 126697.6797 - val_c: 0.8583\n",
            "Epoch 178/1000\n",
            "186/186 [==============================] - 1s 3ms/step - loss: 147399.9467 - c: 0.8021 - val_loss: 127557.4453 - val_c: 0.8609\n",
            "Epoch 179/1000\n",
            "186/186 [==============================] - 1s 3ms/step - loss: 146483.8121 - c: 0.8241 - val_loss: 127446.6094 - val_c: 0.8612\n",
            "Epoch 180/1000\n",
            "186/186 [==============================] - 1s 3ms/step - loss: 145500.2486 - c: 0.8371 - val_loss: 125940.2031 - val_c: 0.8625\n",
            "Epoch 181/1000\n",
            "186/186 [==============================] - 1s 3ms/step - loss: 149015.6003 - c: 0.8048 - val_loss: 125967.5078 - val_c: 0.8610\n",
            "Epoch 182/1000\n",
            "186/186 [==============================] - 1s 3ms/step - loss: 150284.4828 - c: 0.8336 - val_loss: 125518.8047 - val_c: 0.8618\n",
            "Epoch 183/1000\n",
            "186/186 [==============================] - 1s 3ms/step - loss: 144828.4628 - c: 0.8191 - val_loss: 125838.1250 - val_c: 0.8611\n",
            "Epoch 184/1000\n",
            "186/186 [==============================] - 1s 3ms/step - loss: 149732.3679 - c: 0.7807 - val_loss: 126232.4062 - val_c: 0.8600\n",
            "Epoch 185/1000\n",
            "186/186 [==============================] - 1s 3ms/step - loss: 147855.1385 - c: 0.8307 - val_loss: 126694.5547 - val_c: 0.8618\n",
            "Epoch 186/1000\n",
            "186/186 [==============================] - 1s 3ms/step - loss: 149201.0472 - c: 0.8032 - val_loss: 125597.1016 - val_c: 0.8634\n",
            "Epoch 187/1000\n",
            "186/186 [==============================] - 1s 3ms/step - loss: 147875.4647 - c: 0.8217 - val_loss: 125124.5625 - val_c: 0.8650\n",
            "Epoch 188/1000\n",
            "186/186 [==============================] - 1s 3ms/step - loss: 147635.9405 - c: 0.7977 - val_loss: 125861.1484 - val_c: 0.8662\n",
            "Epoch 189/1000\n",
            "186/186 [==============================] - 1s 3ms/step - loss: 152934.2234 - c: 0.8323 - val_loss: 125325.5234 - val_c: 0.8651\n",
            "Epoch 190/1000\n",
            "186/186 [==============================] - 1s 3ms/step - loss: 149160.5349 - c: 0.7892 - val_loss: 125275.5000 - val_c: 0.8665\n",
            "Epoch 191/1000\n",
            "186/186 [==============================] - 1s 3ms/step - loss: 151268.1415 - c: 0.8120 - val_loss: 125578.1094 - val_c: 0.8663\n",
            "Epoch 192/1000\n",
            "186/186 [==============================] - 1s 3ms/step - loss: 154084.9621 - c: 0.8045 - val_loss: 124791.1875 - val_c: 0.8635\n",
            "Epoch 193/1000\n",
            "186/186 [==============================] - 1s 3ms/step - loss: 148576.9158 - c: 0.8386 - val_loss: 125893.9453 - val_c: 0.8681\n",
            "Epoch 194/1000\n",
            "186/186 [==============================] - 1s 3ms/step - loss: 151646.0173 - c: 0.8314 - val_loss: 124625.9688 - val_c: 0.8668\n",
            "Epoch 195/1000\n",
            "186/186 [==============================] - 1s 3ms/step - loss: 147971.3403 - c: 0.7912 - val_loss: 124992.1328 - val_c: 0.8683\n",
            "Epoch 196/1000\n",
            "186/186 [==============================] - 1s 3ms/step - loss: 145906.4143 - c: 0.8148 - val_loss: 124918.9766 - val_c: 0.8644\n",
            "Epoch 197/1000\n",
            "186/186 [==============================] - 1s 3ms/step - loss: 144516.5790 - c: 0.8155 - val_loss: 125051.5078 - val_c: 0.8704\n",
            "Epoch 198/1000\n",
            "186/186 [==============================] - 1s 3ms/step - loss: 149992.1999 - c: 0.8093 - val_loss: 125274.0234 - val_c: 0.8693\n",
            "Epoch 199/1000\n",
            "186/186 [==============================] - 1s 3ms/step - loss: 142931.9462 - c: 0.8307 - val_loss: 124566.9844 - val_c: 0.8686\n",
            "Epoch 200/1000\n",
            "186/186 [==============================] - 1s 3ms/step - loss: 140349.6908 - c: 0.8411 - val_loss: 124502.4609 - val_c: 0.8703\n",
            "Epoch 201/1000\n",
            "186/186 [==============================] - 1s 3ms/step - loss: 147062.4199 - c: 0.8035 - val_loss: 124330.9219 - val_c: 0.8720\n",
            "Epoch 202/1000\n",
            "186/186 [==============================] - 1s 3ms/step - loss: 142934.3555 - c: 0.8022 - val_loss: 124607.6719 - val_c: 0.8725\n",
            "Epoch 203/1000\n",
            "186/186 [==============================] - 1s 3ms/step - loss: 142787.2523 - c: 0.8083 - val_loss: 124328.4766 - val_c: 0.8719\n",
            "Epoch 204/1000\n",
            "186/186 [==============================] - 1s 3ms/step - loss: 147335.7793 - c: 0.8231 - val_loss: 124222.5312 - val_c: 0.8718\n",
            "Epoch 205/1000\n",
            "186/186 [==============================] - 1s 3ms/step - loss: 152987.1248 - c: 0.8167 - val_loss: 123999.7188 - val_c: 0.8702\n",
            "Epoch 206/1000\n",
            "186/186 [==============================] - 1s 3ms/step - loss: 144373.0851 - c: 0.8074 - val_loss: 123777.4062 - val_c: 0.8706\n",
            "Epoch 207/1000\n",
            "186/186 [==============================] - 1s 3ms/step - loss: 144821.1263 - c: 0.8326 - val_loss: 123609.9375 - val_c: 0.8713\n",
            "Epoch 208/1000\n",
            "186/186 [==============================] - 1s 3ms/step - loss: 146418.3657 - c: 0.8323 - val_loss: 124092.1250 - val_c: 0.8733\n",
            "Epoch 209/1000\n",
            "186/186 [==============================] - 1s 3ms/step - loss: 146215.6270 - c: 0.8294 - val_loss: 123796.7344 - val_c: 0.8757\n",
            "Epoch 210/1000\n",
            "186/186 [==============================] - 1s 3ms/step - loss: 149280.7061 - c: 0.8097 - val_loss: 123518.4688 - val_c: 0.8753\n",
            "Epoch 211/1000\n",
            "186/186 [==============================] - 1s 3ms/step - loss: 145855.7400 - c: 0.7782 - val_loss: 123507.7422 - val_c: 0.8741\n",
            "Epoch 212/1000\n",
            "186/186 [==============================] - 1s 3ms/step - loss: 147805.6670 - c: 0.8304 - val_loss: 122861.0703 - val_c: 0.8722\n",
            "Epoch 213/1000\n",
            "186/186 [==============================] - 1s 3ms/step - loss: 150321.3161 - c: 0.7597 - val_loss: 123266.6016 - val_c: 0.8765\n",
            "Epoch 214/1000\n",
            "186/186 [==============================] - 1s 3ms/step - loss: 143155.6182 - c: 0.8156 - val_loss: 124207.9531 - val_c: 0.8746\n",
            "Epoch 215/1000\n",
            "186/186 [==============================] - 1s 3ms/step - loss: 142671.8448 - c: 0.8198 - val_loss: 123395.1094 - val_c: 0.8767\n",
            "Epoch 216/1000\n",
            "186/186 [==============================] - 1s 3ms/step - loss: 148899.7322 - c: 0.8224 - val_loss: 122843.2344 - val_c: 0.8729\n",
            "Epoch 217/1000\n",
            "186/186 [==============================] - 1s 3ms/step - loss: 151532.9437 - c: 0.8307 - val_loss: 122670.1172 - val_c: 0.8781\n",
            "Epoch 218/1000\n",
            "186/186 [==============================] - 1s 3ms/step - loss: 146271.2491 - c: 0.8407 - val_loss: 122932.7656 - val_c: 0.8753\n",
            "Epoch 219/1000\n",
            "186/186 [==============================] - 1s 3ms/step - loss: 142475.1547 - c: 0.8218 - val_loss: 122900.5078 - val_c: 0.8775\n",
            "Epoch 220/1000\n",
            "186/186 [==============================] - 1s 3ms/step - loss: 143841.4316 - c: 0.7829 - val_loss: 122222.1641 - val_c: 0.8743\n",
            "Epoch 221/1000\n",
            "186/186 [==============================] - 1s 3ms/step - loss: 139090.1087 - c: 0.8123 - val_loss: 122708.1484 - val_c: 0.8770\n",
            "Epoch 222/1000\n",
            "186/186 [==============================] - 1s 3ms/step - loss: 146016.0304 - c: 0.8184 - val_loss: 121883.5547 - val_c: 0.8756\n",
            "Epoch 223/1000\n",
            "186/186 [==============================] - 1s 3ms/step - loss: 144450.8859 - c: 0.8198 - val_loss: 122371.5156 - val_c: 0.8799\n",
            "Epoch 224/1000\n",
            "186/186 [==============================] - 1s 3ms/step - loss: 140182.6537 - c: 0.8250 - val_loss: 122609.2656 - val_c: 0.8773\n",
            "Epoch 225/1000\n",
            "186/186 [==============================] - 1s 3ms/step - loss: 142311.8869 - c: 0.8246 - val_loss: 122363.2344 - val_c: 0.8791\n",
            "Epoch 226/1000\n",
            "186/186 [==============================] - 1s 3ms/step - loss: 147767.5895 - c: 0.8143 - val_loss: 122346.7500 - val_c: 0.8768\n",
            "Epoch 227/1000\n",
            "186/186 [==============================] - 1s 3ms/step - loss: 140918.3509 - c: 0.8320 - val_loss: 122103.3984 - val_c: 0.8800\n",
            "Epoch 228/1000\n",
            "186/186 [==============================] - 1s 3ms/step - loss: 149316.1028 - c: 0.8077 - val_loss: 121581.6172 - val_c: 0.8773\n",
            "Epoch 229/1000\n",
            "186/186 [==============================] - 1s 3ms/step - loss: 145649.5430 - c: 0.8168 - val_loss: 121865.2344 - val_c: 0.8767\n",
            "Epoch 230/1000\n",
            "186/186 [==============================] - 1s 3ms/step - loss: 143627.2530 - c: 0.8292 - val_loss: 121875.0000 - val_c: 0.8783\n",
            "Epoch 231/1000\n",
            "186/186 [==============================] - 1s 3ms/step - loss: 149914.7797 - c: 0.8056 - val_loss: 121823.7188 - val_c: 0.8805\n",
            "Epoch 232/1000\n",
            "186/186 [==============================] - 1s 3ms/step - loss: 140454.2848 - c: 0.8345 - val_loss: 121389.3438 - val_c: 0.8823\n",
            "Epoch 233/1000\n",
            "186/186 [==============================] - 1s 3ms/step - loss: 147160.9632 - c: 0.8137 - val_loss: 122306.4219 - val_c: 0.8824\n",
            "Epoch 234/1000\n",
            "186/186 [==============================] - 1s 3ms/step - loss: 147974.9256 - c: 0.8192 - val_loss: 121038.9141 - val_c: 0.8816\n",
            "Epoch 235/1000\n",
            "186/186 [==============================] - 1s 3ms/step - loss: 144713.6183 - c: 0.8379 - val_loss: 122012.7500 - val_c: 0.8826\n",
            "Epoch 236/1000\n",
            "186/186 [==============================] - 1s 3ms/step - loss: 145748.5783 - c: 0.8491 - val_loss: 121311.9297 - val_c: 0.8832\n",
            "Epoch 237/1000\n",
            "186/186 [==============================] - 1s 3ms/step - loss: 145049.1295 - c: 0.8189 - val_loss: 121031.1562 - val_c: 0.8841\n",
            "Epoch 238/1000\n",
            "186/186 [==============================] - 1s 3ms/step - loss: 146796.8719 - c: 0.8365 - val_loss: 121661.2188 - val_c: 0.8829\n",
            "Epoch 239/1000\n",
            "186/186 [==============================] - 1s 3ms/step - loss: 144872.7203 - c: 0.8317 - val_loss: 120835.5781 - val_c: 0.8812\n",
            "Epoch 240/1000\n",
            "186/186 [==============================] - 1s 3ms/step - loss: 146348.8206 - c: 0.8212 - val_loss: 121870.3281 - val_c: 0.8842\n",
            "Epoch 241/1000\n",
            "186/186 [==============================] - 1s 3ms/step - loss: 147144.8919 - c: 0.8156 - val_loss: 121624.1484 - val_c: 0.8843\n",
            "Epoch 242/1000\n",
            "186/186 [==============================] - 1s 3ms/step - loss: 143711.2878 - c: 0.8069 - val_loss: 122272.7734 - val_c: 0.8838\n",
            "Epoch 243/1000\n",
            "186/186 [==============================] - 1s 3ms/step - loss: 142683.0702 - c: 0.8249 - val_loss: 120913.1953 - val_c: 0.8831\n",
            "Epoch 244/1000\n",
            "186/186 [==============================] - 1s 3ms/step - loss: 146348.0935 - c: 0.8328 - val_loss: 120787.5000 - val_c: 0.8812\n",
            "Epoch 245/1000\n",
            "186/186 [==============================] - 1s 3ms/step - loss: 142613.6993 - c: 0.8123 - val_loss: 120828.2344 - val_c: 0.8828\n",
            "Epoch 246/1000\n",
            "186/186 [==============================] - 1s 3ms/step - loss: 142931.2243 - c: 0.8554 - val_loss: 121005.5312 - val_c: 0.8825\n",
            "Epoch 247/1000\n",
            "186/186 [==============================] - 1s 3ms/step - loss: 146166.3924 - c: 0.8364 - val_loss: 120320.3438 - val_c: 0.8829\n",
            "Epoch 248/1000\n",
            "186/186 [==============================] - 1s 3ms/step - loss: 146064.2579 - c: 0.8290 - val_loss: 121041.0312 - val_c: 0.8786\n",
            "Epoch 249/1000\n",
            "186/186 [==============================] - 1s 3ms/step - loss: 146056.9486 - c: 0.8333 - val_loss: 120693.7344 - val_c: 0.8849\n",
            "Epoch 250/1000\n",
            "186/186 [==============================] - 1s 3ms/step - loss: 143805.0085 - c: 0.8170 - val_loss: 120436.3594 - val_c: 0.8829\n",
            "Epoch 251/1000\n",
            "186/186 [==============================] - 1s 3ms/step - loss: 143039.4632 - c: 0.8220 - val_loss: 120785.2812 - val_c: 0.8837\n",
            "Epoch 252/1000\n",
            "186/186 [==============================] - 1s 3ms/step - loss: 143748.8196 - c: 0.8282 - val_loss: 119728.9375 - val_c: 0.8837\n",
            "Epoch 253/1000\n",
            "186/186 [==============================] - 1s 3ms/step - loss: 139887.6301 - c: 0.8159 - val_loss: 120162.8750 - val_c: 0.8829\n",
            "Epoch 254/1000\n",
            "186/186 [==============================] - 1s 3ms/step - loss: 140110.9949 - c: 0.8271 - val_loss: 120742.7422 - val_c: 0.8860\n",
            "Epoch 255/1000\n",
            "186/186 [==============================] - 1s 3ms/step - loss: 152836.1412 - c: 0.8054 - val_loss: 120231.8750 - val_c: 0.8841\n",
            "Epoch 256/1000\n",
            "186/186 [==============================] - 1s 3ms/step - loss: 146975.4253 - c: 0.8150 - val_loss: 120223.8516 - val_c: 0.8850\n",
            "Epoch 257/1000\n",
            "186/186 [==============================] - 1s 3ms/step - loss: 143861.7881 - c: 0.8159 - val_loss: 119781.4375 - val_c: 0.8860\n",
            "Epoch 258/1000\n",
            "186/186 [==============================] - 1s 3ms/step - loss: 143104.0733 - c: 0.8454 - val_loss: 120005.4922 - val_c: 0.8863\n",
            "Epoch 259/1000\n",
            "186/186 [==============================] - 1s 3ms/step - loss: 146858.3415 - c: 0.7902 - val_loss: 120475.9688 - val_c: 0.8847\n",
            "Epoch 260/1000\n",
            "186/186 [==============================] - 1s 3ms/step - loss: 145261.2649 - c: 0.8145 - val_loss: 119356.2266 - val_c: 0.8850\n",
            "Epoch 261/1000\n",
            "186/186 [==============================] - 1s 3ms/step - loss: 137321.4019 - c: 0.8424 - val_loss: 119769.4453 - val_c: 0.8854\n",
            "Epoch 262/1000\n",
            "186/186 [==============================] - 1s 3ms/step - loss: 142263.6179 - c: 0.8195 - val_loss: 118995.3438 - val_c: 0.8849\n",
            "Epoch 263/1000\n",
            "186/186 [==============================] - 1s 3ms/step - loss: 138272.3921 - c: 0.8649 - val_loss: 119660.7656 - val_c: 0.8859\n",
            "Epoch 264/1000\n",
            "186/186 [==============================] - 1s 3ms/step - loss: 146555.0062 - c: 0.8461 - val_loss: 118843.7188 - val_c: 0.8875\n",
            "Epoch 265/1000\n",
            "186/186 [==============================] - 1s 3ms/step - loss: 145442.4112 - c: 0.7865 - val_loss: 119135.6094 - val_c: 0.8872\n",
            "Epoch 266/1000\n",
            "186/186 [==============================] - 1s 3ms/step - loss: 143660.0382 - c: 0.8375 - val_loss: 118973.5000 - val_c: 0.8874\n",
            "Epoch 267/1000\n",
            "186/186 [==============================] - 1s 3ms/step - loss: 141574.5508 - c: 0.8403 - val_loss: 119065.1641 - val_c: 0.8862\n",
            "Epoch 268/1000\n",
            "186/186 [==============================] - 1s 3ms/step - loss: 141057.2828 - c: 0.8439 - val_loss: 119113.8516 - val_c: 0.8858\n",
            "Epoch 269/1000\n",
            "186/186 [==============================] - 1s 3ms/step - loss: 147950.1028 - c: 0.8262 - val_loss: 118889.2500 - val_c: 0.8879\n",
            "Epoch 270/1000\n",
            "186/186 [==============================] - 1s 3ms/step - loss: 140697.0158 - c: 0.8117 - val_loss: 119097.4375 - val_c: 0.8873\n",
            "Epoch 271/1000\n",
            "186/186 [==============================] - 1s 3ms/step - loss: 145737.9858 - c: 0.8406 - val_loss: 118951.5859 - val_c: 0.8872\n",
            "Epoch 272/1000\n",
            "186/186 [==============================] - 1s 3ms/step - loss: 141792.4550 - c: 0.7907 - val_loss: 119364.1406 - val_c: 0.8878\n",
            "Epoch 273/1000\n",
            "186/186 [==============================] - 1s 3ms/step - loss: 142919.0669 - c: 0.8373 - val_loss: 119028.3516 - val_c: 0.8884\n",
            "Epoch 274/1000\n",
            "186/186 [==============================] - 1s 3ms/step - loss: 141608.7518 - c: 0.8324 - val_loss: 118854.5547 - val_c: 0.8858\n"
          ],
          "name": "stdout"
        }
      ]
    },
    {
      "cell_type": "markdown",
      "metadata": {
        "id": "AW4SEP8kT2ls"
      },
      "source": [
        "## Question 6"
      ]
    },
    {
      "cell_type": "markdown",
      "metadata": {
        "id": "EJDoix_7JU61"
      },
      "source": [
        "### Evaluate the model\n",
        "- Evaluate the model on test data\n",
        "- Visualize the model's learning"
      ]
    },
    {
      "cell_type": "code",
      "metadata": {
        "colab": {
          "base_uri": "https://localhost:8080/"
        },
        "id": "MdO6dNgXgyCP",
        "outputId": "64912183-a98d-4b7e-e824-01bd3725a4c7"
      },
      "source": [
        "m.evaluate(xte,yte)"
      ],
      "execution_count": 38,
      "outputs": [
        {
          "output_type": "stream",
          "text": [
            "62/62 [==============================] - 0s 1ms/step - loss: 118843.7188 - c: 0.8875\n"
          ],
          "name": "stdout"
        },
        {
          "output_type": "execute_result",
          "data": {
            "text/plain": [
              "[118843.71875, 0.8875362277030945]"
            ]
          },
          "metadata": {
            "tags": []
          },
          "execution_count": 38
        }
      ]
    },
    {
      "cell_type": "markdown",
      "metadata": {
        "id": "E4-3G8h0KPS_"
      },
      "source": [
        "- Hint: The R2 score will get affected by batch size. \n",
        "\n",
        "**Batch Size**: Number of samples considered in one iteration"
      ]
    },
    {
      "cell_type": "markdown",
      "metadata": {
        "id": "MHmWkGM9E61i"
      },
      "source": [
        "### Check the R2 score on complete test data"
      ]
    },
    {
      "cell_type": "markdown",
      "metadata": {
        "id": "hUpDD74Xjh01"
      },
      "source": [
        "### Visualize model learning\n",
        "- Visualize model learning using train and test r2 score\n",
        "- Visualize model learning using train and test loss"
      ]
    },
    {
      "cell_type": "code",
      "metadata": {
        "id": "WSiMhJPpk3GO"
      },
      "source": [
        "import matplotlib.pyplot as pl\n",
        "import seaborn as s"
      ],
      "execution_count": 39,
      "outputs": []
    },
    {
      "cell_type": "code",
      "metadata": {
        "colab": {
          "base_uri": "https://localhost:8080/",
          "height": 479
        },
        "id": "h0600ZshgyCR",
        "outputId": "3b64b7a8-3898-4f08-df54-37dc2b67e059"
      },
      "source": [
        "pl.figure(figsize=(16, 8))\n",
        "s.lineplot(x=h.epoch, y=h.history['loss'])\n",
        "s.lineplot(x=h.epoch, y=h.history['val_loss'])\n",
        "pl.show()"
      ],
      "execution_count": 40,
      "outputs": [
        {
          "output_type": "display_data",
          "data": {
            "image/png": "[encoded data removed]",
            "text/plain": [
              "<Figure size 1152x576 with 1 Axes>"
            ]
          },
          "metadata": {
            "tags": [],
            "needs_background": "light"
          }
        }
      ]
    },
    {
      "cell_type": "code",
      "metadata": {
        "colab": {
          "base_uri": "https://localhost:8080/",
          "height": 483
        },
        "id": "X1aV-BpBgyCS",
        "outputId": "1a1a33f8-79a0-473b-8580-5accb7888af2"
      },
      "source": [
        "pl.figure(figsize=(16, 8))\n",
        "s.lineplot(x=h.epoch, y=h.history['c'])\n",
        "s.lineplot(x=h.epoch, y=h.history['val_c'])\n",
        "pl.show()"
      ],
      "execution_count": 42,
      "outputs": [
        {
          "output_type": "display_data",
          "data": {
            "image/png": "[encoded data removed]",
            "text/plain": [
              "<Figure size 1152x576 with 1 Axes>"
            ]
          },
          "metadata": {
            "tags": [],
            "needs_background": "light"
          }
        }
      ]
    },
    {
      "cell_type": "markdown",
      "metadata": {
        "id": "mLyDSOeh6KKc"
      },
      "source": [
        "##  Model tuning and Hyperparameter Tuning\n",
        "## Question 7 (Optional)"
      ]
    },
    {
      "cell_type": "markdown",
      "metadata": {
        "id": "U9_FYXve6TPD"
      },
      "source": [
        "### Create another Deep Neural Network Model for Regression to experiment with other hyper-parameters\n",
        "- Initialize a Sequential model\n",
        "- Add a batch normalization layer\n",
        "- Add 3 hidden layer with activation leaky-relu (Number of neurons = 64,128,32 respectively)\n",
        "- Add dropout layer after each hidden layer\n",
        "- Add a Dense layer with one neuron as output, use activation linear\n",
        "  \n"
      ]
    },
    {
      "cell_type": "code",
      "metadata": {
        "id": "smKhJZSx2EZk"
      },
      "source": [
        ""
      ],
      "execution_count": null,
      "outputs": []
    },
    {
      "cell_type": "code",
      "metadata": {
        "id": "k3YL1YQB2Fau"
      },
      "source": [
        ""
      ],
      "execution_count": null,
      "outputs": []
    },
    {
      "cell_type": "markdown",
      "metadata": {
        "id": "d-5tN-Wx8_8X"
      },
      "source": [
        "### Compile the model\n",
        "\n",
        "- Compile the model\n",
        "- Use \"adam\" optimizer \n",
        "- for calculating loss, use mean absolute error\n",
        "- use R2 score (coefficient of determination) as the metric"
      ]
    },
    {
      "cell_type": "code",
      "metadata": {
        "id": "v3RAGJxN8vq6"
      },
      "source": [
        ""
      ],
      "execution_count": null,
      "outputs": []
    },
    {
      "cell_type": "markdown",
      "metadata": {
        "id": "QjDCS5gy91KU"
      },
      "source": [
        "### Train your model\n",
        "\n",
        "- epochs: 1000\n",
        "- batch size: 16\n",
        "- Use test data as validation data\n",
        "- Also add callback, such that if validation loss doesn't decreases consecutively 10 times, stop the training and return the weights for the previous best model\n",
        "- Add checkpoints to save the model after every epoch\n"
      ]
    },
    {
      "cell_type": "code",
      "metadata": {
        "id": "amNM6S2w90So"
      },
      "source": [
        ""
      ],
      "execution_count": null,
      "outputs": []
    },
    {
      "cell_type": "markdown",
      "metadata": {
        "id": "GHbYwXdgDQhs"
      },
      "source": [
        "### Check the R2 score on complete test data"
      ]
    },
    {
      "cell_type": "code",
      "metadata": {
        "id": "p7Ly-csS90PM"
      },
      "source": [
        ""
      ],
      "execution_count": null,
      "outputs": []
    },
    {
      "cell_type": "markdown",
      "metadata": {
        "id": "mcZazFM7DiVr"
      },
      "source": [
        "### Visualize model learning\n",
        "- Visualize model learning using train and test r2 score\n",
        "- Visualize model learning using train and test loss"
      ]
    },
    {
      "cell_type": "code",
      "metadata": {
        "id": "cH-8qHgp90Jv"
      },
      "source": [
        ""
      ],
      "execution_count": null,
      "outputs": []
    },
    {
      "cell_type": "markdown",
      "metadata": {
        "id": "POU_v9owFLWp"
      },
      "source": [
        "### Create another Deep Neural Network Model for Regression to experiment with other hyper-parameters\n",
        "- Initialize a Sequential model\n",
        "- Add a batch normalization layer\n",
        "- Intialize weights using HeUniform with seed = 7\n",
        "- Add 4 hidden layer with activation relu (Number of neurons = 256,128,64,32 in each layer respectively)\n",
        "- Add dropout layer after each hidden layer\n",
        "- Add a Dense layer with one neuron as output, use activation linear\n",
        "  \n"
      ]
    },
    {
      "cell_type": "code",
      "metadata": {
        "id": "EJiZ1JZZECpm"
      },
      "source": [
        ""
      ],
      "execution_count": null,
      "outputs": []
    },
    {
      "cell_type": "markdown",
      "metadata": {
        "id": "yNoD20dGHKNk"
      },
      "source": [
        "### Compile the model\n",
        "\n",
        "- Compile the model\n",
        "- Use \"adam\" optimizer with learning rate = 0.002\n",
        "- for calculating loss, use mean squared error\n",
        "- use R2 score (coefficient of determination) as the metric"
      ]
    },
    {
      "cell_type": "code",
      "metadata": {
        "id": "EL--zAmbECm3"
      },
      "source": [
        ""
      ],
      "execution_count": null,
      "outputs": []
    },
    {
      "cell_type": "markdown",
      "metadata": {
        "id": "TNhawruvHgLR"
      },
      "source": [
        "### Train your model\n",
        "\n",
        "- epochs: 1000\n",
        "- batch size: 64\n",
        "- Use test data as validation data\n",
        "- Also add callback, such that if validation loss doesn't decreases consecutively 10 times, stop the training and return the weights for the previous best model\n",
        "\n"
      ]
    },
    {
      "cell_type": "code",
      "metadata": {
        "id": "rf_Y0p7yECiz"
      },
      "source": [
        ""
      ],
      "execution_count": null,
      "outputs": []
    },
    {
      "cell_type": "markdown",
      "metadata": {
        "id": "MR6_a6QxICXv"
      },
      "source": [
        "### Check the R2 score on complete test data"
      ]
    },
    {
      "cell_type": "code",
      "metadata": {
        "id": "eSNJsVwnECf-"
      },
      "source": [
        ""
      ],
      "execution_count": null,
      "outputs": []
    },
    {
      "cell_type": "markdown",
      "metadata": {
        "id": "xWZIMT2rIYDc"
      },
      "source": [
        "### Visualize model learning\n",
        "- Visualize model learning using train and test r2 score\n",
        "- Visualize model learning using train and test loss"
      ]
    },
    {
      "cell_type": "code",
      "metadata": {
        "id": "uDMefTaLECdK"
      },
      "source": [
        ""
      ],
      "execution_count": null,
      "outputs": []
    }
  ]
}