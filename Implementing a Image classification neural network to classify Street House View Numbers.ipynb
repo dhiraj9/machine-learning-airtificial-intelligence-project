{
  "nbformat": 4,
  "nbformat_minor": 0,
  "metadata": {
    "colab": {
      "name": "pgp-aiml-pune-feb20-NNDL_R7_ProjectNo2_SVHNDigitRecognitiion_Project.ipynb",
      "provenance": []
    },
    "kernelspec": {
      "name": "python3",
      "display_name": "Python 3"
    },
    "accelerator": "GPU"
  },
  "cells": [
    {
      "cell_type": "code",
      "metadata": {
        "colab": {
          "base_uri": "https://localhost:8080/"
        },
        "id": "QCzRmlQpQxI7",
        "outputId": "fcd31818-95bf-42b6-912b-a9d38d8e0fbc"
      },
      "source": [
        "from google.colab import drive\r\n",
        "drive.mount('/content/drive/')"
      ],
      "execution_count": 1,
      "outputs": [
        {
          "output_type": "stream",
          "text": [
            "Drive already mounted at /content/drive/; to attempt to forcibly remount, call drive.mount(\"/content/drive/\", force_remount=True).\n"
          ],
          "name": "stdout"
        }
      ]
    },
    {
      "cell_type": "code",
      "metadata": {
        "id": "8wE9iBy_RG0-"
      },
      "source": [
        "#Importing all the necessary libraries\r\n",
        "import os\r\n",
        "import h5py\r\n",
        "import numpy as np\r\n",
        "import pandas as pd\r\n",
        "import matplotlib.pyplot as plt\r\n",
        "%matplotlib inline\r\n",
        "import seaborn as sns\r\n",
        "\r\n",
        "import tensorflow as tf\r\n",
        "from tensorflow.keras.models import Sequential\r\n",
        "from tensorflow.keras.layers import Dense, Dropout, Activation, Flatten, BatchNormalization\r\n",
        "from tensorflow.keras import utils\r\n",
        "\r\n",
        "# Ignore the warnings\r\n",
        "import warnings\r\n",
        "warnings.filterwarnings(\"ignore\")"
      ],
      "execution_count": 2,
      "outputs": []
    },
    {
      "cell_type": "code",
      "metadata": {
        "colab": {
          "base_uri": "https://localhost:8080/",
          "height": 35
        },
        "id": "eOvXeoy0Rh0R",
        "outputId": "be72aaa6-4357-426b-b876-c591f7e9acfc"
      },
      "source": [
        "os.chdir(\"/content/drive/MyDrive/Colab Notebooks/Great_Learning/Intro to Neural Networks & Deep Learning/Project_2\")\r\n",
        "os.getcwd()"
      ],
      "execution_count": 3,
      "outputs": [
        {
          "output_type": "execute_result",
          "data": {
            "application/vnd.google.colaboratory.intrinsic+json": {
              "type": "string"
            },
            "text/plain": [
              "'/content/drive/MyDrive/Colab Notebooks/Great_Learning/Intro to Neural Networks & Deep Learning/Project_2'"
            ]
          },
          "metadata": {
            "tags": []
          },
          "execution_count": 3
        }
      ]
    },
    {
      "cell_type": "markdown",
      "metadata": {
        "id": "e-KJOEGvRZ71"
      },
      "source": [
        "# Read the data from the h5py file and understand the train/test splits (5 points)."
      ]
    },
    {
      "cell_type": "code",
      "metadata": {
        "colab": {
          "base_uri": "https://localhost:8080/"
        },
        "id": "wybtjcKQRd4z",
        "outputId": "4d26de00-6302-48d9-fad6-f59455b236e9"
      },
      "source": [
        "h5f = h5py.File('SVHN_single_grey1.h5','r')\r\n",
        "h5f.keys()"
      ],
      "execution_count": 4,
      "outputs": [
        {
          "output_type": "execute_result",
          "data": {
            "text/plain": [
              "<KeysViewHDF5 ['X_test', 'X_train', 'X_val', 'y_test', 'y_train', 'y_val']>"
            ]
          },
          "metadata": {
            "tags": []
          },
          "execution_count": 4
        }
      ]
    },
    {
      "cell_type": "code",
      "metadata": {
        "id": "z6p6GEanSKZI"
      },
      "source": [
        "#Loading the training, test and validation set\r\n",
        "X_train = h5f['X_train'][:]\r\n",
        "y_train = h5f['y_train'][:]\r\n",
        "X_val = h5f['X_val'][:]\r\n",
        "y_val = h5f['y_val'][:]\r\n",
        "X_test = h5f['X_test'][:]\r\n",
        "y_test = h5f['y_test'][:]"
      ],
      "execution_count": 5,
      "outputs": []
    },
    {
      "cell_type": "code",
      "metadata": {
        "colab": {
          "base_uri": "https://localhost:8080/"
        },
        "id": "613aGurSZoeY",
        "outputId": "e90997ba-5807-48b8-a2b7-2147094d0c63"
      },
      "source": [
        "#print the shape of training and testing data\r\n",
        "print('Training set:', X_train.shape, y_train.shape)\r\n",
        "print('Validation set:', X_val.shape, y_val.shape)\r\n",
        "print('Test set:', X_test.shape, y_test.shape)"
      ],
      "execution_count": 6,
      "outputs": [
        {
          "output_type": "stream",
          "text": [
            "Training set: (42000, 32, 32) (42000,)\n",
            "Validation set: (60000, 32, 32) (60000,)\n",
            "Test set: (18000, 32, 32) (18000,)\n"
          ],
          "name": "stdout"
        }
      ]
    },
    {
      "cell_type": "markdown",
      "metadata": {
        "id": "hyqyL7mcaksd"
      },
      "source": [
        "# Reshape and normalize the train and test features (5 points)."
      ]
    },
    {
      "cell_type": "code",
      "metadata": {
        "colab": {
          "base_uri": "https://localhost:8080/"
        },
        "id": "GzwdXx10uZqx",
        "outputId": "3e703882-8756-4d37-98bf-ed4019b54743"
      },
      "source": [
        "#using all the data for training to boost our testset score.\r\n",
        "X_train = np.concatenate([X_train, X_val])\r\n",
        "y_train = np.concatenate([y_train, y_val])\r\n",
        "\r\n",
        "print('New Training set:', X_train.shape, y_train.shape)"
      ],
      "execution_count": 7,
      "outputs": [
        {
          "output_type": "stream",
          "text": [
            "New Training set: (102000, 32, 32) (102000,)\n"
          ],
          "name": "stdout"
        }
      ]
    },
    {
      "cell_type": "code",
      "metadata": {
        "id": "VJKKQzAuakUT"
      },
      "source": [
        "#Reshape the features from 32*32 into a single dimensinal array of 1024 features\r\n",
        "X_train=X_train.reshape(102000,1024)\r\n",
        "X_test=X_test.reshape(18000,1024)\r\n",
        "X_train=X_train.astype('float32')#change the datatype from float to integer(0-255)\r\n",
        "X_test=X_test.astype('float32')"
      ],
      "execution_count": 8,
      "outputs": []
    },
    {
      "cell_type": "code",
      "metadata": {
        "id": "XpwlNCk9urRc"
      },
      "source": [
        "from sklearn.utils import shuffle\r\n",
        "\r\n",
        "# Randomly shuffle the training data\r\n",
        "X_train, y_train = shuffle(X_train, y_train)"
      ],
      "execution_count": 9,
      "outputs": []
    },
    {
      "cell_type": "markdown",
      "metadata": {
        "id": "fo8MitfJa3lu"
      },
      "source": [
        "# One hot encode the labels for train and test data (5 points)."
      ]
    },
    {
      "cell_type": "code",
      "metadata": {
        "colab": {
          "base_uri": "https://localhost:8080/"
        },
        "id": "4MDpCz9Ka67U",
        "outputId": "f3dff6fe-7b20-4226-95b8-80aca9409079"
      },
      "source": [
        "# one hot encode outputs\r\n",
        "y_train = tf.keras.utils.to_categorical(y_train)\r\n",
        "y_test = tf.keras.utils.to_categorical(y_test)\r\n",
        "num_classes = y_test.shape[1]\r\n",
        "num_classes"
      ],
      "execution_count": 10,
      "outputs": [
        {
          "output_type": "execute_result",
          "data": {
            "text/plain": [
              "10"
            ]
          },
          "metadata": {
            "tags": []
          },
          "execution_count": 10
        }
      ]
    },
    {
      "cell_type": "markdown",
      "metadata": {
        "id": "PZ723VmSa-gT"
      },
      "source": [
        "# Define the model architecture using TensorFlow with a flatten layer followed by dense layers with activation as ReLu and softmax (5 points)."
      ]
    },
    {
      "cell_type": "code",
      "metadata": {
        "id": "DZ9tUgDQa_FL"
      },
      "source": [
        "#Clear out tensorflow memory\r\n",
        "tf.keras.backend.clear_session()\r\n",
        "\r\n",
        "#Initialize Sequential model\r\n",
        "model=Sequential()\r\n",
        "\r\n",
        "#Normalize the data\r\n",
        "model.add(BatchNormalization())\r\n",
        "\r\n",
        "#Flatten layer\r\n",
        "model.add(Flatten(input_shape=(32, 32)))\r\n",
        "\r\n",
        "model.add(Dense(units=1024,activation='relu',input_shape=(1024,)))\r\n",
        "\r\n",
        "#Output layer\r\n",
        "model.add(Dense(num_classes,activation='softmax'))"
      ],
      "execution_count": 11,
      "outputs": []
    },
    {
      "cell_type": "markdown",
      "metadata": {
        "id": "AwlXtZ0WbItj"
      },
      "source": [
        "# Compile the model with loss as categorical cross-entropy and adam optimizers. Use accuracy as the metric for evaluation (5 points)."
      ]
    },
    {
      "cell_type": "code",
      "metadata": {
        "id": "g7CC8241bNt7"
      },
      "source": [
        "model.compile(optimizer='adam', loss='categorical_crossentropy', metrics=['accuracy'])"
      ],
      "execution_count": 12,
      "outputs": []
    },
    {
      "cell_type": "markdown",
      "metadata": {
        "id": "EjF1I93bbRVX"
      },
      "source": [
        "# Fit and evaluate the model. Print the loss and accuracy for the test data (5 points)."
      ]
    },
    {
      "cell_type": "code",
      "metadata": {
        "colab": {
          "base_uri": "https://localhost:8080/"
        },
        "id": "MQGHG4XWbVY7",
        "outputId": "0e902ac5-cde9-4a8d-da2b-2b0d6a82e41b"
      },
      "source": [
        "batch_size = 256\r\n",
        "epochs = 25\r\n",
        "\r\n",
        "history = model.fit(X_train, y_train, batch_size=batch_size, epochs=epochs, validation_split=.1, verbose=False)\r\n",
        "\r\n",
        "# Final evaluation of the model\r\n",
        "loss, acc = model.evaluate(X_train, y_train, verbose=0)\r\n",
        "print('Train Accuracy: %.3f%%' % (acc*100))\r\n",
        "print('Train Loss: %.3f'% loss)\r\n",
        "print()\r\n",
        "\r\n",
        "loss, acc = model.evaluate(X_test, y_test, verbose=0)\r\n",
        "print('Test Accuracy: %.3f%%' % (acc*100))\r\n",
        "print('Test Loss: %.3f'% loss)"
      ],
      "execution_count": 13,
      "outputs": [
        {
          "output_type": "stream",
          "text": [
            "Train Accuracy: 94.465%\n",
            "Train Loss: 0.193\n",
            "\n",
            "Test Accuracy: 92.167%\n",
            "Test Loss: 0.292\n"
          ],
          "name": "stdout"
        }
      ]
    },
    {
      "cell_type": "code",
      "metadata": {
        "colab": {
          "base_uri": "https://localhost:8080/",
          "height": 573
        },
        "id": "LfaiCYZYxTRK",
        "outputId": "d829b510-2212-4741-ad15-818292cf04aa"
      },
      "source": [
        "# summarize history for accuracy\r\n",
        "plt.plot(history.history['accuracy'])\r\n",
        "plt.plot(history.history['val_accuracy'])\r\n",
        "plt.title('Model Accuracy')\r\n",
        "plt.ylabel('Accuracy')\r\n",
        "plt.xlabel('Epoch')\r\n",
        "plt.legend(['Train', 'Test'], loc='upper left')\r\n",
        "plt.show()\r\n",
        "# summarize history for loss\r\n",
        "plt.plot(history.history['loss'])\r\n",
        "plt.plot(history.history['val_loss'])\r\n",
        "plt.title('Model Loss')\r\n",
        "plt.ylabel('Loss')\r\n",
        "plt.xlabel('Epoch')\r\n",
        "plt.legend(['Train', 'Test'], loc='upper right')\r\n",
        "plt.show()"
      ],
      "execution_count": 14,
      "outputs": [
        {
          "output_type": "display_data",
          "data": {
            "image/png": "[encoded data removed]",
            "text/plain": [
              "<Figure size 432x288 with 1 Axes>"
            ]
          },
          "metadata": {
            "tags": [],
            "needs_background": "light"
          }
        },
        {
          "output_type": "display_data",
          "data": {
            "image/png": "[encoded data removed]",
            "text/plain": [
              "<Figure size 432x288 with 1 Axes>"
            ]
          },
          "metadata": {
            "tags": [],
            "needs_background": "light"
          }
        }
      ]
    }
  ]
}