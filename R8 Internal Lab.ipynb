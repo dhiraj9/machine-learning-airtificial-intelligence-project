{
 "cells": [
  {
   "cell_type": "markdown",
   "metadata": {
    "id": "PHYs6Z84xV8E"
   },
   "source": [
    "<img src=\"http://drive.google.com/uc?export=view&id=1tpOCamr9aWz817atPnyXus8w5gJ3mIts\" width=500px>\n",
    "\n",
    "Proprietary content. © Great Learning. All Rights Reserved. Unauthorized use or distribution prohibited."
   ]
  },
  {
   "cell_type": "markdown",
   "metadata": {
    "id": "5QQxgAmWzSye"
   },
   "source": [
    "# Mobile Phone Review Analysis"
   ]
  },
  {
   "cell_type": "markdown",
   "metadata": {
    "id": "FbwHYUXhxaqD"
   },
   "source": [
    "## Context\n",
    "\n",
    "The product companies can utilize the detailed review comments to gather insights from the end user. Most of the products are sold via e-commerce sites like Flipkart or Amazon where customers can buy a product and give their review about the product on the web site. \n",
    "Product managers can identify the relevant reviews from the website and run a sentiment analysis tool to understand what the sentiments of the customer are. Based on their sentiments, they can identify what users think of the current product. Are they happy? Discontent? \n",
    "They can also come up with a document that lists the features, the team needs to focus on for making the product better. \n",
    "\n",
    "## Objective\n",
    "\n",
    "Given the review data rating label, we will try to get insights about various brands and their ratings using text analytics and build a model to predict the rating and overall sentiment. \n"
   ]
  },
  {
   "cell_type": "markdown",
   "metadata": {
    "id": "CI7usguRzeox"
   },
   "source": [
    "### Package version\n",
    "\n",
    "- tensorflow==2.3.0\n",
    "- scikit-learn==0.22.2.post1\n",
    "- pandas==1.0.5\n",
    "- numpy==1.18.5\n",
    "- matplotlib==3.2.2\n",
    "- google==2.0.3"
   ]
  },
  {
   "cell_type": "markdown",
   "metadata": {
    "id": "aiMdVjHRH7NR"
   },
   "source": [
    "### Data Dictionary \n",
    "\n",
    "product_data.csv - contains product details\n",
    "- 'asin',  - Product ASIN\n",
    "- 'brand', - Product Brand\n",
    "- 'title', - Product Title\n",
    "- 'url',  - Product URL\n",
    "- 'image', - Product Image URL\n",
    "- 'rating',- Product Avg. Rating\n",
    "- 'reviewUrl' - Product Review Page URL\n",
    "- 'totalReviews' - Product Total Reviews\n",
    "- ‘price’ - Product Price ($)\n",
    "- ‘originalPrice’ - Product Original Price ($)\n",
    " \n",
    "reviews.csv  - contains user review details\n",
    " \n",
    "- 'asin' - Product ASIN\n",
    "- 'name' - Reviewer Name\n",
    "- 'rating' - Reviewer Rating (scale 1 to 5)\n",
    "- 'date'  - Review Date\n",
    "- 'verified' - Valid Customer\n",
    "- 'title'  - Review Title\n",
    "- 'body'  - Review Content\n",
    "- 'helpfulVotes  - Helpful Feedbacks\n"
   ]
  },
  {
   "cell_type": "markdown",
   "metadata": {
    "id": "cEn52o8jznJK"
   },
   "source": [
    "## Table of Content\n",
    "\n",
    "1. Import Libraries\n",
    "\n",
    "2. Setting options\n",
    "\n",
    "3. Read Data\n",
    "\n",
    "4. Data Analysis and EDA\n",
    "\n",
    "5. Text preprocessing and Vectorization\n",
    "\n",
    "6. Model building\n",
    "\n",
    "7. Conclusion and Interpretation"
   ]
  },
  {
   "cell_type": "markdown",
   "metadata": {
    "id": "x_Lom6cXzqn7"
   },
   "source": [
    "## 1. Import Libraries"
   ]
  },
  {
   "cell_type": "markdown",
   "metadata": {
    "id": "FZtVstH8zre2"
   },
   "source": [
    "Let us start by mounting the drive"
   ]
  },
  {
   "cell_type": "code",
   "execution_count": 1,
   "metadata": {
    "colab": {
     "base_uri": "https://localhost:8080/",
     "height": 34
    },
    "id": "xv9jxv3-R5Xl",
    "outputId": "fb2b5df7-3220-47e5-8dbe-1f36dc5401e9"
   },
   "outputs": [],
   "source": [
    "# from google.colab import drive\n",
    "# drive.mount('/content/drive')"
   ]
  },
  {
   "cell_type": "markdown",
   "metadata": {
    "id": "Gv-tZoFjz2WD"
   },
   "source": [
    "Let us check for the version of installed tensorflow."
   ]
  },
  {
   "cell_type": "code",
   "execution_count": 2,
   "metadata": {
    "colab": {
     "base_uri": "https://localhost:8080/",
     "height": 88
    },
    "id": "eiuUVBuDzzn9",
    "outputId": "7e5656db-44e1-4392-a0fe-6442f6ee56c5"
   },
   "outputs": [
    {
     "name": "stdout",
     "output_type": "stream",
     "text": [
      "2.4.1\n"
     ]
    }
   ],
   "source": [
    "# used to supress display of warnings\n",
    "import warnings\n",
    "\n",
    "# os is used to provide a way of using operating system dependent functionality\n",
    "# We use it for setting working folder\n",
    "import os\n",
    "\n",
    "# Pandas is used for data manipulation and analysis\n",
    "import pandas as pd \n",
    "\n",
    "# Numpy is used for large, multi-dimensional arrays and matrices, along with mathematical operators on these arrays\n",
    "import numpy as np\n",
    "\n",
    "# Matplotlib is a data visualization library for 2D plots of arrays, built on NumPy arrays \n",
    "# and designed to work with the broader SciPy stack\n",
    "import matplotlib.pyplot as plt\n",
    "%matplotlib inline\n",
    "from matplotlib import pyplot\n",
    "\n",
    "# Seaborn is based on matplotlib, which aids in drawing attractive and informative statistical graphics.\n",
    "import seaborn as sns\n",
    "import tensorflow \n",
    "print(tensorflow.__version__)"
   ]
  },
  {
   "cell_type": "markdown",
   "metadata": {
    "id": "fze-aokU0ukH"
   },
   "source": [
    "## 2. Setting Options"
   ]
  },
  {
   "cell_type": "code",
   "execution_count": 3,
   "metadata": {
    "id": "T3FALggG0xXa"
   },
   "outputs": [],
   "source": [
    "# suppress display of warnings\n",
    "warnings.filterwarnings('ignore')\n",
    "\n",
    "# display all dataframe columns\n",
    "pd.options.display.max_columns = None\n",
    "\n",
    "# to set the limit to 3 decimals\n",
    "pd.options.display.float_format = '{:.7f}'.format\n",
    "\n",
    "# display all dataframe rows\n",
    "pd.options.display.max_rows = None"
   ]
  },
  {
   "cell_type": "markdown",
   "metadata": {
    "id": "ZT1P1WdK1vfZ"
   },
   "source": [
    "## 3. Read Data"
   ]
  },
  {
   "cell_type": "markdown",
   "metadata": {
    "id": "-UOW6zwww7L1"
   },
   "source": [
    "### 3.1 Read the provided CSVs and check 5 random samples and shape to understand the datasets"
   ]
  },
  {
   "cell_type": "code",
   "execution_count": 4,
   "metadata": {
    "id": "nxT2g284xF1W"
   },
   "outputs": [
    {
     "data": {
      "text/html": [
       "<div>\n",
       "<style scoped>\n",
       "    .dataframe tbody tr th:only-of-type {\n",
       "        vertical-align: middle;\n",
       "    }\n",
       "\n",
       "    .dataframe tbody tr th {\n",
       "        vertical-align: top;\n",
       "    }\n",
       "\n",
       "    .dataframe thead th {\n",
       "        text-align: right;\n",
       "    }\n",
       "</style>\n",
       "<table border=\"1\" class=\"dataframe\">\n",
       "  <thead>\n",
       "    <tr style=\"text-align: right;\">\n",
       "      <th></th>\n",
       "      <th>asin</th>\n",
       "      <th>name</th>\n",
       "      <th>rating</th>\n",
       "      <th>date</th>\n",
       "      <th>verified</th>\n",
       "      <th>title</th>\n",
       "      <th>body</th>\n",
       "      <th>helpfulVotes</th>\n",
       "    </tr>\n",
       "  </thead>\n",
       "  <tbody>\n",
       "    <tr>\n",
       "      <th>4251</th>\n",
       "      <td>B00A2V7BA4</td>\n",
       "      <td>Amsz zjazz x2Customer</td>\n",
       "      <td>1</td>\n",
       "      <td>April 12, 2016</td>\n",
       "      <td>False</td>\n",
       "      <td>Don't buy a Nokia phone I'm on my 2 phone ...</td>\n",
       "      <td>Don't buy a Nokia phone I'm on my 2 phone the ...</td>\n",
       "      <td>nan</td>\n",
       "    </tr>\n",
       "    <tr>\n",
       "      <th>57412</th>\n",
       "      <td>B07NP6R2RG</td>\n",
       "      <td>David G. Basinski</td>\n",
       "      <td>1</td>\n",
       "      <td>November 14, 2019</td>\n",
       "      <td>True</td>\n",
       "      <td>Forget this phone version on ATT in US</td>\n",
       "      <td>Using AT&amp;T as a carrier. Calls do not go throu...</td>\n",
       "      <td>nan</td>\n",
       "    </tr>\n",
       "    <tr>\n",
       "      <th>19270</th>\n",
       "      <td>B018OMP8ES</td>\n",
       "      <td>Laurie J. Hunter</td>\n",
       "      <td>5</td>\n",
       "      <td>June 18, 2018</td>\n",
       "      <td>True</td>\n",
       "      <td>Five Stars</td>\n",
       "      <td>Love it</td>\n",
       "      <td>nan</td>\n",
       "    </tr>\n",
       "    <tr>\n",
       "      <th>67060</th>\n",
       "      <td>B07XQJ33PL</td>\n",
       "      <td>kim bettencourt</td>\n",
       "      <td>1</td>\n",
       "      <td>December 5, 2019</td>\n",
       "      <td>True</td>\n",
       "      <td>These phones do not work with straight talk.</td>\n",
       "      <td>These phones do not work with straight talk. I...</td>\n",
       "      <td>nan</td>\n",
       "    </tr>\n",
       "    <tr>\n",
       "      <th>5434</th>\n",
       "      <td>B00CEKXZA6</td>\n",
       "      <td>Pablo</td>\n",
       "      <td>2</td>\n",
       "      <td>February 28, 2015</td>\n",
       "      <td>True</td>\n",
       "      <td>Nice phone, but shipped it back</td>\n",
       "      <td>Received the phone very quickly, and had no vi...</td>\n",
       "      <td>nan</td>\n",
       "    </tr>\n",
       "  </tbody>\n",
       "</table>\n",
       "</div>"
      ],
      "text/plain": [
       "             asin                   name  rating               date  verified  \\\n",
       "4251   B00A2V7BA4  Amsz zjazz x2Customer       1     April 12, 2016     False   \n",
       "57412  B07NP6R2RG      David G. Basinski       1  November 14, 2019      True   \n",
       "19270  B018OMP8ES       Laurie J. Hunter       5      June 18, 2018      True   \n",
       "67060  B07XQJ33PL        kim bettencourt       1   December 5, 2019      True   \n",
       "5434   B00CEKXZA6                  Pablo       2  February 28, 2015      True   \n",
       "\n",
       "                                               title  \\\n",
       "4251   Don't buy a Nokia phone I'm on my 2 phone ...   \n",
       "57412         Forget this phone version on ATT in US   \n",
       "19270                                     Five Stars   \n",
       "67060   These phones do not work with straight talk.   \n",
       "5434                 Nice phone, but shipped it back   \n",
       "\n",
       "                                                    body  helpfulVotes  \n",
       "4251   Don't buy a Nokia phone I'm on my 2 phone the ...           nan  \n",
       "57412  Using AT&T as a carrier. Calls do not go throu...           nan  \n",
       "19270                                            Love it           nan  \n",
       "67060  These phones do not work with straight talk. I...           nan  \n",
       "5434   Received the phone very quickly, and had no vi...           nan  "
      ]
     },
     "execution_count": 4,
     "metadata": {},
     "output_type": "execute_result"
    }
   ],
   "source": [
    "r=pd.read_csv('reviews.csv')\n",
    "r.sample(n=5)"
   ]
  },
  {
   "cell_type": "code",
   "execution_count": 5,
   "metadata": {
    "id": "GRjG44fRxGIq"
   },
   "outputs": [
    {
     "data": {
      "text/html": [
       "<div>\n",
       "<style scoped>\n",
       "    .dataframe tbody tr th:only-of-type {\n",
       "        vertical-align: middle;\n",
       "    }\n",
       "\n",
       "    .dataframe tbody tr th {\n",
       "        vertical-align: top;\n",
       "    }\n",
       "\n",
       "    .dataframe thead th {\n",
       "        text-align: right;\n",
       "    }\n",
       "</style>\n",
       "<table border=\"1\" class=\"dataframe\">\n",
       "  <thead>\n",
       "    <tr style=\"text-align: right;\">\n",
       "      <th></th>\n",
       "      <th>asin</th>\n",
       "      <th>brand</th>\n",
       "      <th>title</th>\n",
       "      <th>url</th>\n",
       "      <th>image</th>\n",
       "      <th>rating</th>\n",
       "      <th>reviewUrl</th>\n",
       "      <th>totalReviews</th>\n",
       "      <th>price</th>\n",
       "      <th>originalPrice</th>\n",
       "    </tr>\n",
       "  </thead>\n",
       "  <tbody>\n",
       "    <tr>\n",
       "      <th>656</th>\n",
       "      <td>B07VZL3L5V</td>\n",
       "      <td>Samsung</td>\n",
       "      <td>Samsung Galaxy A20 US Version Factory Unlocked...</td>\n",
       "      <td>https://www.amazon.com/Samsung-Unlocked-SM-A20...</td>\n",
       "      <td>https://m.media-amazon.com/images/I/51V-XG0uBD...</td>\n",
       "      <td>4.4000000</td>\n",
       "      <td>https://www.amazon.com/product-reviews/B07VZL3L5V</td>\n",
       "      <td>915</td>\n",
       "      <td>249.9900000</td>\n",
       "      <td>0.0000000</td>\n",
       "    </tr>\n",
       "    <tr>\n",
       "      <th>279</th>\n",
       "      <td>B074XF6JCD</td>\n",
       "      <td>Motorola</td>\n",
       "      <td>Motorola Moto Z2 Force XT1789 64GB ATT only (S...</td>\n",
       "      <td>https://www.amazon.com/Motorola-Force-XT1789-S...</td>\n",
       "      <td>https://m.media-amazon.com/images/I/71b9BtbvjM...</td>\n",
       "      <td>3.5000000</td>\n",
       "      <td>https://www.amazon.com/product-reviews/B074XF6JCD</td>\n",
       "      <td>20</td>\n",
       "      <td>0.0000000</td>\n",
       "      <td>0.0000000</td>\n",
       "    </tr>\n",
       "    <tr>\n",
       "      <th>108</th>\n",
       "      <td>B014VLTTC8</td>\n",
       "      <td>Samsung</td>\n",
       "      <td>Samsung Galaxy Mega 6.3 I527 16GB Unlocked GSM...</td>\n",
       "      <td>https://www.amazon.com/Samsung-Galaxy-Unlocked...</td>\n",
       "      <td>https://m.media-amazon.com/images/I/51b2GW++SD...</td>\n",
       "      <td>2.8000000</td>\n",
       "      <td>https://www.amazon.com/product-reviews/B014VLTTC8</td>\n",
       "      <td>32</td>\n",
       "      <td>290.0000000</td>\n",
       "      <td>399.9900000</td>\n",
       "    </tr>\n",
       "    <tr>\n",
       "      <th>306</th>\n",
       "      <td>B076KC34PM</td>\n",
       "      <td>Apple</td>\n",
       "      <td>Apple iPhone 8 64GB GSM Unlocked Smartphone, R...</td>\n",
       "      <td>https://www.amazon.com/Apple-iPhone-Unlocked-S...</td>\n",
       "      <td>https://m.media-amazon.com/images/I/61XjpQucvy...</td>\n",
       "      <td>4.1000000</td>\n",
       "      <td>https://www.amazon.com/product-reviews/B076KC34PM</td>\n",
       "      <td>26</td>\n",
       "      <td>334.9800000</td>\n",
       "      <td>499.9900000</td>\n",
       "    </tr>\n",
       "    <tr>\n",
       "      <th>417</th>\n",
       "      <td>B07FXYRG46</td>\n",
       "      <td>Samsung</td>\n",
       "      <td>Samsung Galaxy Note 5 N920A 64GB - Gold Platin...</td>\n",
       "      <td>https://www.amazon.com/Samsung-Galaxy-Note-N92...</td>\n",
       "      <td>https://m.media-amazon.com/images/I/71SVJgTZea...</td>\n",
       "      <td>4.0000000</td>\n",
       "      <td>https://www.amazon.com/product-reviews/B07FXYRG46</td>\n",
       "      <td>12</td>\n",
       "      <td>0.0000000</td>\n",
       "      <td>0.0000000</td>\n",
       "    </tr>\n",
       "  </tbody>\n",
       "</table>\n",
       "</div>"
      ],
      "text/plain": [
       "           asin     brand                                              title  \\\n",
       "656  B07VZL3L5V   Samsung  Samsung Galaxy A20 US Version Factory Unlocked...   \n",
       "279  B074XF6JCD  Motorola  Motorola Moto Z2 Force XT1789 64GB ATT only (S...   \n",
       "108  B014VLTTC8   Samsung  Samsung Galaxy Mega 6.3 I527 16GB Unlocked GSM...   \n",
       "306  B076KC34PM     Apple  Apple iPhone 8 64GB GSM Unlocked Smartphone, R...   \n",
       "417  B07FXYRG46   Samsung  Samsung Galaxy Note 5 N920A 64GB - Gold Platin...   \n",
       "\n",
       "                                                   url  \\\n",
       "656  https://www.amazon.com/Samsung-Unlocked-SM-A20...   \n",
       "279  https://www.amazon.com/Motorola-Force-XT1789-S...   \n",
       "108  https://www.amazon.com/Samsung-Galaxy-Unlocked...   \n",
       "306  https://www.amazon.com/Apple-iPhone-Unlocked-S...   \n",
       "417  https://www.amazon.com/Samsung-Galaxy-Note-N92...   \n",
       "\n",
       "                                                 image    rating  \\\n",
       "656  https://m.media-amazon.com/images/I/51V-XG0uBD... 4.4000000   \n",
       "279  https://m.media-amazon.com/images/I/71b9BtbvjM... 3.5000000   \n",
       "108  https://m.media-amazon.com/images/I/51b2GW++SD... 2.8000000   \n",
       "306  https://m.media-amazon.com/images/I/61XjpQucvy... 4.1000000   \n",
       "417  https://m.media-amazon.com/images/I/71SVJgTZea... 4.0000000   \n",
       "\n",
       "                                             reviewUrl  totalReviews  \\\n",
       "656  https://www.amazon.com/product-reviews/B07VZL3L5V           915   \n",
       "279  https://www.amazon.com/product-reviews/B074XF6JCD            20   \n",
       "108  https://www.amazon.com/product-reviews/B014VLTTC8            32   \n",
       "306  https://www.amazon.com/product-reviews/B076KC34PM            26   \n",
       "417  https://www.amazon.com/product-reviews/B07FXYRG46            12   \n",
       "\n",
       "          price  originalPrice  \n",
       "656 249.9900000      0.0000000  \n",
       "279   0.0000000      0.0000000  \n",
       "108 290.0000000    399.9900000  \n",
       "306 334.9800000    499.9900000  \n",
       "417   0.0000000      0.0000000  "
      ]
     },
     "execution_count": 5,
     "metadata": {},
     "output_type": "execute_result"
    }
   ],
   "source": [
    "p=pd.read_csv('product_data.csv')\n",
    "p.sample(n=5)"
   ]
  },
  {
   "cell_type": "markdown",
   "metadata": {
    "id": "rED6DbDBKTjM"
   },
   "source": [
    "## 4.  Data Analysis and EDA"
   ]
  },
  {
   "cell_type": "markdown",
   "metadata": {
    "id": "awlqmp40xMfc"
   },
   "source": [
    "### 4.1 Drop unnecessary columns like 'url', 'image' from the product_data"
   ]
  },
  {
   "cell_type": "code",
   "execution_count": 6,
   "metadata": {
    "id": "VT4d-6TCxZCm"
   },
   "outputs": [
    {
     "data": {
      "text/plain": [
       "Index(['asin', 'brand', 'title', 'rating', 'reviewUrl', 'totalReviews',\n",
       "       'price', 'originalPrice'],\n",
       "      dtype='object')"
      ]
     },
     "execution_count": 6,
     "metadata": {},
     "output_type": "execute_result"
    }
   ],
   "source": [
    "p.drop(columns=['url', 'image'],axis=1,inplace=True)\n",
    "p.columns"
   ]
  },
  {
   "cell_type": "markdown",
   "metadata": {
    "id": "Zk0WW5D5xZK9"
   },
   "source": [
    "### 4.2 Check statistical summary of both datasets. Note:- Include both numerical and object type columns."
   ]
  },
  {
   "cell_type": "code",
   "execution_count": 7,
   "metadata": {
    "id": "ylwcqQpcx_Tl"
   },
   "outputs": [
    {
     "data": {
      "text/html": [
       "<div>\n",
       "<style scoped>\n",
       "    .dataframe tbody tr th:only-of-type {\n",
       "        vertical-align: middle;\n",
       "    }\n",
       "\n",
       "    .dataframe tbody tr th {\n",
       "        vertical-align: top;\n",
       "    }\n",
       "\n",
       "    .dataframe thead th {\n",
       "        text-align: right;\n",
       "    }\n",
       "</style>\n",
       "<table border=\"1\" class=\"dataframe\">\n",
       "  <thead>\n",
       "    <tr style=\"text-align: right;\">\n",
       "      <th></th>\n",
       "      <th>asin</th>\n",
       "      <th>brand</th>\n",
       "      <th>title</th>\n",
       "      <th>rating</th>\n",
       "      <th>reviewUrl</th>\n",
       "      <th>totalReviews</th>\n",
       "      <th>price</th>\n",
       "      <th>originalPrice</th>\n",
       "    </tr>\n",
       "  </thead>\n",
       "  <tbody>\n",
       "    <tr>\n",
       "      <th>count</th>\n",
       "      <td>720</td>\n",
       "      <td>716</td>\n",
       "      <td>720</td>\n",
       "      <td>720.0000000</td>\n",
       "      <td>720</td>\n",
       "      <td>720.0000000</td>\n",
       "      <td>720.0000000</td>\n",
       "      <td>720.0000000</td>\n",
       "    </tr>\n",
       "    <tr>\n",
       "      <th>unique</th>\n",
       "      <td>720</td>\n",
       "      <td>10</td>\n",
       "      <td>718</td>\n",
       "      <td>nan</td>\n",
       "      <td>720</td>\n",
       "      <td>nan</td>\n",
       "      <td>nan</td>\n",
       "      <td>nan</td>\n",
       "    </tr>\n",
       "    <tr>\n",
       "      <th>top</th>\n",
       "      <td>B07Y4YJ98Z</td>\n",
       "      <td>Samsung</td>\n",
       "      <td>Google Pixel 2 XL 128GB Unlocked GSM/CDMA 4G L...</td>\n",
       "      <td>nan</td>\n",
       "      <td>https://www.amazon.com/product-reviews/B078RBVVCV</td>\n",
       "      <td>nan</td>\n",
       "      <td>nan</td>\n",
       "      <td>nan</td>\n",
       "    </tr>\n",
       "    <tr>\n",
       "      <th>freq</th>\n",
       "      <td>1</td>\n",
       "      <td>346</td>\n",
       "      <td>2</td>\n",
       "      <td>nan</td>\n",
       "      <td>1</td>\n",
       "      <td>nan</td>\n",
       "      <td>nan</td>\n",
       "      <td>nan</td>\n",
       "    </tr>\n",
       "    <tr>\n",
       "      <th>mean</th>\n",
       "      <td>NaN</td>\n",
       "      <td>NaN</td>\n",
       "      <td>NaN</td>\n",
       "      <td>3.7137500</td>\n",
       "      <td>NaN</td>\n",
       "      <td>105.6791667</td>\n",
       "      <td>234.9489306</td>\n",
       "      <td>63.6907778</td>\n",
       "    </tr>\n",
       "    <tr>\n",
       "      <th>std</th>\n",
       "      <td>NaN</td>\n",
       "      <td>NaN</td>\n",
       "      <td>NaN</td>\n",
       "      <td>0.7160138</td>\n",
       "      <td>NaN</td>\n",
       "      <td>167.6011014</td>\n",
       "      <td>200.0084407</td>\n",
       "      <td>172.4053696</td>\n",
       "    </tr>\n",
       "    <tr>\n",
       "      <th>min</th>\n",
       "      <td>NaN</td>\n",
       "      <td>NaN</td>\n",
       "      <td>NaN</td>\n",
       "      <td>1.0000000</td>\n",
       "      <td>NaN</td>\n",
       "      <td>1.0000000</td>\n",
       "      <td>0.0000000</td>\n",
       "      <td>0.0000000</td>\n",
       "    </tr>\n",
       "    <tr>\n",
       "      <th>25%</th>\n",
       "      <td>NaN</td>\n",
       "      <td>NaN</td>\n",
       "      <td>NaN</td>\n",
       "      <td>3.3000000</td>\n",
       "      <td>NaN</td>\n",
       "      <td>7.0000000</td>\n",
       "      <td>97.5125000</td>\n",
       "      <td>0.0000000</td>\n",
       "    </tr>\n",
       "    <tr>\n",
       "      <th>50%</th>\n",
       "      <td>NaN</td>\n",
       "      <td>NaN</td>\n",
       "      <td>NaN</td>\n",
       "      <td>3.8000000</td>\n",
       "      <td>NaN</td>\n",
       "      <td>32.0000000</td>\n",
       "      <td>188.9750000</td>\n",
       "      <td>0.0000000</td>\n",
       "    </tr>\n",
       "    <tr>\n",
       "      <th>75%</th>\n",
       "      <td>NaN</td>\n",
       "      <td>NaN</td>\n",
       "      <td>NaN</td>\n",
       "      <td>4.1000000</td>\n",
       "      <td>NaN</td>\n",
       "      <td>122.2500000</td>\n",
       "      <td>336.7250000</td>\n",
       "      <td>0.0000000</td>\n",
       "    </tr>\n",
       "    <tr>\n",
       "      <th>max</th>\n",
       "      <td>NaN</td>\n",
       "      <td>NaN</td>\n",
       "      <td>NaN</td>\n",
       "      <td>5.0000000</td>\n",
       "      <td>NaN</td>\n",
       "      <td>983.0000000</td>\n",
       "      <td>999.9900000</td>\n",
       "      <td>999.9900000</td>\n",
       "    </tr>\n",
       "  </tbody>\n",
       "</table>\n",
       "</div>"
      ],
      "text/plain": [
       "              asin    brand  \\\n",
       "count          720      716   \n",
       "unique         720       10   \n",
       "top     B07Y4YJ98Z  Samsung   \n",
       "freq             1      346   \n",
       "mean           NaN      NaN   \n",
       "std            NaN      NaN   \n",
       "min            NaN      NaN   \n",
       "25%            NaN      NaN   \n",
       "50%            NaN      NaN   \n",
       "75%            NaN      NaN   \n",
       "max            NaN      NaN   \n",
       "\n",
       "                                                    title      rating  \\\n",
       "count                                                 720 720.0000000   \n",
       "unique                                                718         nan   \n",
       "top     Google Pixel 2 XL 128GB Unlocked GSM/CDMA 4G L...         nan   \n",
       "freq                                                    2         nan   \n",
       "mean                                                  NaN   3.7137500   \n",
       "std                                                   NaN   0.7160138   \n",
       "min                                                   NaN   1.0000000   \n",
       "25%                                                   NaN   3.3000000   \n",
       "50%                                                   NaN   3.8000000   \n",
       "75%                                                   NaN   4.1000000   \n",
       "max                                                   NaN   5.0000000   \n",
       "\n",
       "                                                reviewUrl  totalReviews  \\\n",
       "count                                                 720   720.0000000   \n",
       "unique                                                720           nan   \n",
       "top     https://www.amazon.com/product-reviews/B078RBVVCV           nan   \n",
       "freq                                                    1           nan   \n",
       "mean                                                  NaN   105.6791667   \n",
       "std                                                   NaN   167.6011014   \n",
       "min                                                   NaN     1.0000000   \n",
       "25%                                                   NaN     7.0000000   \n",
       "50%                                                   NaN    32.0000000   \n",
       "75%                                                   NaN   122.2500000   \n",
       "max                                                   NaN   983.0000000   \n",
       "\n",
       "             price  originalPrice  \n",
       "count  720.0000000    720.0000000  \n",
       "unique         nan            nan  \n",
       "top            nan            nan  \n",
       "freq           nan            nan  \n",
       "mean   234.9489306     63.6907778  \n",
       "std    200.0084407    172.4053696  \n",
       "min      0.0000000      0.0000000  \n",
       "25%     97.5125000      0.0000000  \n",
       "50%    188.9750000      0.0000000  \n",
       "75%    336.7250000      0.0000000  \n",
       "max    999.9900000    999.9900000  "
      ]
     },
     "execution_count": 7,
     "metadata": {},
     "output_type": "execute_result"
    }
   ],
   "source": [
    "p.describe(include='all')"
   ]
  },
  {
   "cell_type": "code",
   "execution_count": 8,
   "metadata": {
    "id": "WFaDkvIjyDtG"
   },
   "outputs": [
    {
     "data": {
      "text/html": [
       "<div>\n",
       "<style scoped>\n",
       "    .dataframe tbody tr th:only-of-type {\n",
       "        vertical-align: middle;\n",
       "    }\n",
       "\n",
       "    .dataframe tbody tr th {\n",
       "        vertical-align: top;\n",
       "    }\n",
       "\n",
       "    .dataframe thead th {\n",
       "        text-align: right;\n",
       "    }\n",
       "</style>\n",
       "<table border=\"1\" class=\"dataframe\">\n",
       "  <thead>\n",
       "    <tr style=\"text-align: right;\">\n",
       "      <th></th>\n",
       "      <th>asin</th>\n",
       "      <th>name</th>\n",
       "      <th>rating</th>\n",
       "      <th>date</th>\n",
       "      <th>verified</th>\n",
       "      <th>title</th>\n",
       "      <th>body</th>\n",
       "      <th>helpfulVotes</th>\n",
       "    </tr>\n",
       "  </thead>\n",
       "  <tbody>\n",
       "    <tr>\n",
       "      <th>count</th>\n",
       "      <td>67986</td>\n",
       "      <td>67984</td>\n",
       "      <td>67986.0000000</td>\n",
       "      <td>67986</td>\n",
       "      <td>67986</td>\n",
       "      <td>67972</td>\n",
       "      <td>67965</td>\n",
       "      <td>27215.0000000</td>\n",
       "    </tr>\n",
       "    <tr>\n",
       "      <th>unique</th>\n",
       "      <td>720</td>\n",
       "      <td>47323</td>\n",
       "      <td>nan</td>\n",
       "      <td>2983</td>\n",
       "      <td>2</td>\n",
       "      <td>41489</td>\n",
       "      <td>59811</td>\n",
       "      <td>nan</td>\n",
       "    </tr>\n",
       "    <tr>\n",
       "      <th>top</th>\n",
       "      <td>B00F2SKPIM</td>\n",
       "      <td>Amazon Customer</td>\n",
       "      <td>nan</td>\n",
       "      <td>December 11, 2019</td>\n",
       "      <td>True</td>\n",
       "      <td>Five Stars</td>\n",
       "      <td>Good</td>\n",
       "      <td>nan</td>\n",
       "    </tr>\n",
       "    <tr>\n",
       "      <th>freq</th>\n",
       "      <td>981</td>\n",
       "      <td>6507</td>\n",
       "      <td>nan</td>\n",
       "      <td>234</td>\n",
       "      <td>61225</td>\n",
       "      <td>6043</td>\n",
       "      <td>303</td>\n",
       "      <td>nan</td>\n",
       "    </tr>\n",
       "    <tr>\n",
       "      <th>mean</th>\n",
       "      <td>NaN</td>\n",
       "      <td>NaN</td>\n",
       "      <td>3.8079163</td>\n",
       "      <td>NaN</td>\n",
       "      <td>NaN</td>\n",
       "      <td>NaN</td>\n",
       "      <td>NaN</td>\n",
       "      <td>8.2296895</td>\n",
       "    </tr>\n",
       "    <tr>\n",
       "      <th>std</th>\n",
       "      <td>NaN</td>\n",
       "      <td>NaN</td>\n",
       "      <td>1.5829058</td>\n",
       "      <td>NaN</td>\n",
       "      <td>NaN</td>\n",
       "      <td>NaN</td>\n",
       "      <td>NaN</td>\n",
       "      <td>31.9548772</td>\n",
       "    </tr>\n",
       "    <tr>\n",
       "      <th>min</th>\n",
       "      <td>NaN</td>\n",
       "      <td>NaN</td>\n",
       "      <td>1.0000000</td>\n",
       "      <td>NaN</td>\n",
       "      <td>NaN</td>\n",
       "      <td>NaN</td>\n",
       "      <td>NaN</td>\n",
       "      <td>1.0000000</td>\n",
       "    </tr>\n",
       "    <tr>\n",
       "      <th>25%</th>\n",
       "      <td>NaN</td>\n",
       "      <td>NaN</td>\n",
       "      <td>3.0000000</td>\n",
       "      <td>NaN</td>\n",
       "      <td>NaN</td>\n",
       "      <td>NaN</td>\n",
       "      <td>NaN</td>\n",
       "      <td>1.0000000</td>\n",
       "    </tr>\n",
       "    <tr>\n",
       "      <th>50%</th>\n",
       "      <td>NaN</td>\n",
       "      <td>NaN</td>\n",
       "      <td>5.0000000</td>\n",
       "      <td>NaN</td>\n",
       "      <td>NaN</td>\n",
       "      <td>NaN</td>\n",
       "      <td>NaN</td>\n",
       "      <td>2.0000000</td>\n",
       "    </tr>\n",
       "    <tr>\n",
       "      <th>75%</th>\n",
       "      <td>NaN</td>\n",
       "      <td>NaN</td>\n",
       "      <td>5.0000000</td>\n",
       "      <td>NaN</td>\n",
       "      <td>NaN</td>\n",
       "      <td>NaN</td>\n",
       "      <td>NaN</td>\n",
       "      <td>5.0000000</td>\n",
       "    </tr>\n",
       "    <tr>\n",
       "      <th>max</th>\n",
       "      <td>NaN</td>\n",
       "      <td>NaN</td>\n",
       "      <td>5.0000000</td>\n",
       "      <td>NaN</td>\n",
       "      <td>NaN</td>\n",
       "      <td>NaN</td>\n",
       "      <td>NaN</td>\n",
       "      <td>990.0000000</td>\n",
       "    </tr>\n",
       "  </tbody>\n",
       "</table>\n",
       "</div>"
      ],
      "text/plain": [
       "              asin             name        rating               date verified  \\\n",
       "count        67986            67984 67986.0000000              67986    67986   \n",
       "unique         720            47323           nan               2983        2   \n",
       "top     B00F2SKPIM  Amazon Customer           nan  December 11, 2019     True   \n",
       "freq           981             6507           nan                234    61225   \n",
       "mean           NaN              NaN     3.8079163                NaN      NaN   \n",
       "std            NaN              NaN     1.5829058                NaN      NaN   \n",
       "min            NaN              NaN     1.0000000                NaN      NaN   \n",
       "25%            NaN              NaN     3.0000000                NaN      NaN   \n",
       "50%            NaN              NaN     5.0000000                NaN      NaN   \n",
       "75%            NaN              NaN     5.0000000                NaN      NaN   \n",
       "max            NaN              NaN     5.0000000                NaN      NaN   \n",
       "\n",
       "             title   body  helpfulVotes  \n",
       "count        67972  67965 27215.0000000  \n",
       "unique       41489  59811           nan  \n",
       "top     Five Stars   Good           nan  \n",
       "freq          6043    303           nan  \n",
       "mean           NaN    NaN     8.2296895  \n",
       "std            NaN    NaN    31.9548772  \n",
       "min            NaN    NaN     1.0000000  \n",
       "25%            NaN    NaN     1.0000000  \n",
       "50%            NaN    NaN     2.0000000  \n",
       "75%            NaN    NaN     5.0000000  \n",
       "max            NaN    NaN   990.0000000  "
      ]
     },
     "execution_count": 8,
     "metadata": {},
     "output_type": "execute_result"
    }
   ],
   "source": [
    "r.describe(include='all')"
   ]
  },
  {
   "cell_type": "markdown",
   "metadata": {
    "id": "cSdGfadUyEdU"
   },
   "source": [
    "### 4.3 From the above statistical summary, write inferences like count of unique products, top brand, top title, range of rating, price range, etc"
   ]
  },
  {
   "cell_type": "markdown",
   "metadata": {
    "id": "Ddkn_hJmyKNb"
   },
   "source": [
    "count of unique products=720\n",
    "top brand=Samsung\n",
    "top title=Apple iPhone 6S, 64GB, Rose Gold - For AT&T / ...\t\n",
    "range of rating=4\n",
    "price range=999.99"
   ]
  },
  {
   "cell_type": "markdown",
   "metadata": {
    "id": "XMv_hXyxJKZK"
   },
   "source": [
    "### 4.4 Analyze the distribution of ratings and other categorical features like brand, etc"
   ]
  },
  {
   "cell_type": "code",
   "execution_count": 9,
   "metadata": {
    "id": "oEhjSsMcyirD"
   },
   "outputs": [
    {
     "data": {
      "text/plain": [
       "<AxesSubplot:xlabel='rating', ylabel='Density'>"
      ]
     },
     "execution_count": 9,
     "metadata": {},
     "output_type": "execute_result"
    },
    {
     "data": {
      "image/png": "[encoded data removed]",
      "text/plain": [
       "<Figure size 432x288 with 1 Axes>"
      ]
     },
     "metadata": {
      "needs_background": "light"
     },
     "output_type": "display_data"
    }
   ],
   "source": [
    "sns.distplot(p['rating'])"
   ]
  },
  {
   "cell_type": "code",
   "execution_count": 39,
   "metadata": {},
   "outputs": [
    {
     "data": {
      "text/plain": [
       "<AxesSubplot:xlabel='brand', ylabel='count'>"
      ]
     },
     "execution_count": 39,
     "metadata": {},
     "output_type": "execute_result"
    },
    {
     "data": {
      "image/png": "[encoded data removed]",
      "text/plain": [
       "<Figure size 432x288 with 1 Axes>"
      ]
     },
     "metadata": {
      "needs_background": "light"
     },
     "output_type": "display_data"
    }
   ],
   "source": [
    "sns.countplot(x='brand',data=p)"
   ]
  },
  {
   "cell_type": "markdown",
   "metadata": {
    "id": "jwZBGODgyi1a"
   },
   "source": [
    "### 4.5 Display average rating per brand"
   ]
  },
  {
   "cell_type": "code",
   "execution_count": 11,
   "metadata": {
    "id": "OSBBiAv8yscd"
   },
   "outputs": [
    {
     "data": {
      "text/html": [
       "<div>\n",
       "<style scoped>\n",
       "    .dataframe tbody tr th:only-of-type {\n",
       "        vertical-align: middle;\n",
       "    }\n",
       "\n",
       "    .dataframe tbody tr th {\n",
       "        vertical-align: top;\n",
       "    }\n",
       "\n",
       "    .dataframe thead th {\n",
       "        text-align: right;\n",
       "    }\n",
       "</style>\n",
       "<table border=\"1\" class=\"dataframe\">\n",
       "  <thead>\n",
       "    <tr style=\"text-align: right;\">\n",
       "      <th></th>\n",
       "      <th>rating</th>\n",
       "      <th>totalReviews</th>\n",
       "      <th>price</th>\n",
       "      <th>originalPrice</th>\n",
       "    </tr>\n",
       "    <tr>\n",
       "      <th>brand</th>\n",
       "      <th></th>\n",
       "      <th></th>\n",
       "      <th></th>\n",
       "      <th></th>\n",
       "    </tr>\n",
       "  </thead>\n",
       "  <tbody>\n",
       "    <tr>\n",
       "      <th>ASUS</th>\n",
       "      <td>3.8600000</td>\n",
       "      <td>52.6000000</td>\n",
       "      <td>309.6860000</td>\n",
       "      <td>19.8500000</td>\n",
       "    </tr>\n",
       "    <tr>\n",
       "      <th>Apple</th>\n",
       "      <td>3.7825397</td>\n",
       "      <td>100.2380952</td>\n",
       "      <td>303.5811111</td>\n",
       "      <td>137.4820635</td>\n",
       "    </tr>\n",
       "    <tr>\n",
       "      <th>Google</th>\n",
       "      <td>3.7710526</td>\n",
       "      <td>111.5263158</td>\n",
       "      <td>241.8676316</td>\n",
       "      <td>162.3228947</td>\n",
       "    </tr>\n",
       "    <tr>\n",
       "      <th>HUAWEI</th>\n",
       "      <td>4.0218750</td>\n",
       "      <td>77.0937500</td>\n",
       "      <td>218.8290625</td>\n",
       "      <td>38.9356250</td>\n",
       "    </tr>\n",
       "    <tr>\n",
       "      <th>Motorola</th>\n",
       "      <td>3.6438095</td>\n",
       "      <td>89.7047619</td>\n",
       "      <td>139.1210476</td>\n",
       "      <td>57.6346667</td>\n",
       "    </tr>\n",
       "    <tr>\n",
       "      <th>Nokia</th>\n",
       "      <td>3.3863636</td>\n",
       "      <td>140.5000000</td>\n",
       "      <td>111.4438636</td>\n",
       "      <td>37.8818182</td>\n",
       "    </tr>\n",
       "    <tr>\n",
       "      <th>OnePlus</th>\n",
       "      <td>3.5800000</td>\n",
       "      <td>40.6000000</td>\n",
       "      <td>426.1960000</td>\n",
       "      <td>133.0400000</td>\n",
       "    </tr>\n",
       "    <tr>\n",
       "      <th>Samsung</th>\n",
       "      <td>3.6326590</td>\n",
       "      <td>108.9624277</td>\n",
       "      <td>256.5272543</td>\n",
       "      <td>43.9742486</td>\n",
       "    </tr>\n",
       "    <tr>\n",
       "      <th>Sony</th>\n",
       "      <td>3.7888889</td>\n",
       "      <td>122.6666667</td>\n",
       "      <td>332.7248148</td>\n",
       "      <td>87.4059259</td>\n",
       "    </tr>\n",
       "    <tr>\n",
       "      <th>Xiaomi</th>\n",
       "      <td>4.4152174</td>\n",
       "      <td>121.1739130</td>\n",
       "      <td>214.9676087</td>\n",
       "      <td>53.4704348</td>\n",
       "    </tr>\n",
       "  </tbody>\n",
       "</table>\n",
       "</div>"
      ],
      "text/plain": [
       "            rating  totalReviews       price  originalPrice\n",
       "brand                                                      \n",
       "ASUS     3.8600000    52.6000000 309.6860000     19.8500000\n",
       "Apple    3.7825397   100.2380952 303.5811111    137.4820635\n",
       "Google   3.7710526   111.5263158 241.8676316    162.3228947\n",
       "HUAWEI   4.0218750    77.0937500 218.8290625     38.9356250\n",
       "Motorola 3.6438095    89.7047619 139.1210476     57.6346667\n",
       "Nokia    3.3863636   140.5000000 111.4438636     37.8818182\n",
       "OnePlus  3.5800000    40.6000000 426.1960000    133.0400000\n",
       "Samsung  3.6326590   108.9624277 256.5272543     43.9742486\n",
       "Sony     3.7888889   122.6666667 332.7248148     87.4059259\n",
       "Xiaomi   4.4152174   121.1739130 214.9676087     53.4704348"
      ]
     },
     "execution_count": 11,
     "metadata": {},
     "output_type": "execute_result"
    }
   ],
   "source": [
    "p.groupby('brand').mean('rating')"
   ]
  },
  {
   "cell_type": "markdown",
   "metadata": {
    "id": "vUXuEwlgyvB0"
   },
   "source": [
    "### 4.6 Display average price per brand"
   ]
  },
  {
   "cell_type": "code",
   "execution_count": null,
   "metadata": {
    "id": "ACgIwVlyy3Pu"
   },
   "outputs": [],
   "source": []
  },
  {
   "cell_type": "markdown",
   "metadata": {
    "id": "U0JfwL74y3a-"
   },
   "source": [
    "### 4.7 Display average 'totalReviews' per brand"
   ]
  },
  {
   "cell_type": "code",
   "execution_count": null,
   "metadata": {
    "id": "wfzciNxqzBYu"
   },
   "outputs": [],
   "source": []
  },
  {
   "cell_type": "markdown",
   "metadata": {
    "id": "x_fxI7OAeDUM"
   },
   "source": [
    "### 4.8 Merge two datasets using 'asin' and check the shape of the final dataset"
   ]
  },
  {
   "cell_type": "code",
   "execution_count": 12,
   "metadata": {
    "id": "svpHfWI9zNAP"
   },
   "outputs": [
    {
     "data": {
      "text/plain": [
       "(67986, 15)"
      ]
     },
     "execution_count": 12,
     "metadata": {},
     "output_type": "execute_result"
    }
   ],
   "source": [
    "p=p.merge(r,on='asin')\n",
    "p.shape"
   ]
  },
  {
   "cell_type": "markdown",
   "metadata": {
    "id": "zdTfwlL7fYpq"
   },
   "source": [
    "### 4.9 Rename important features with appropriate names.\n",
    "Imortant features - \"rating_x\": \"user_rating\", \"title_x\": \"review_title\", \"title_y\": \"item_title\", \"rating_y\": \"overall_rating\""
   ]
  },
  {
   "cell_type": "code",
   "execution_count": 13,
   "metadata": {
    "id": "KI-6FCkZztXM"
   },
   "outputs": [],
   "source": [
    "p=p.rename(columns={\"rating_x\": \"user_rating\", \"title_x\": \"review_title\", \"title_y\": \"item_title\", \"rating_y\": \"overall_rating\"},)\n"
   ]
  },
  {
   "cell_type": "markdown",
   "metadata": {
    "id": "hNHEElHszthc"
   },
   "source": [
    "### 4.10 Select rows having verified reviews and check the shape of the final dataset"
   ]
  },
  {
   "cell_type": "code",
   "execution_count": 14,
   "metadata": {
    "id": "Jyav9_Zoz-rT"
   },
   "outputs": [
    {
     "data": {
      "text/plain": [
       "(6761, 15)"
      ]
     },
     "execution_count": 14,
     "metadata": {},
     "output_type": "execute_result"
    }
   ],
   "source": [
    "p=p[p['verified']==False]\n",
    "p.shape"
   ]
  },
  {
   "cell_type": "markdown",
   "metadata": {
    "id": "EpKusPjdz-2q"
   },
   "source": [
    "### 4.11 Check the number of reviews for various brands and report the brand that have highest number of reviews"
   ]
  },
  {
   "cell_type": "code",
   "execution_count": 15,
   "metadata": {
    "id": "5tux6vwr0JDb"
   },
   "outputs": [
    {
     "data": {
      "text/html": [
       "<div>\n",
       "<style scoped>\n",
       "    .dataframe tbody tr th:only-of-type {\n",
       "        vertical-align: middle;\n",
       "    }\n",
       "\n",
       "    .dataframe tbody tr th {\n",
       "        vertical-align: top;\n",
       "    }\n",
       "\n",
       "    .dataframe thead th {\n",
       "        text-align: right;\n",
       "    }\n",
       "</style>\n",
       "<table border=\"1\" class=\"dataframe\">\n",
       "  <thead>\n",
       "    <tr style=\"text-align: right;\">\n",
       "      <th></th>\n",
       "      <th>user_rating</th>\n",
       "      <th>totalReviews</th>\n",
       "      <th>price</th>\n",
       "      <th>originalPrice</th>\n",
       "      <th>overall_rating</th>\n",
       "      <th>verified</th>\n",
       "      <th>helpfulVotes</th>\n",
       "    </tr>\n",
       "    <tr>\n",
       "      <th>brand</th>\n",
       "      <th></th>\n",
       "      <th></th>\n",
       "      <th></th>\n",
       "      <th></th>\n",
       "      <th></th>\n",
       "      <th></th>\n",
       "      <th></th>\n",
       "    </tr>\n",
       "  </thead>\n",
       "  <tbody>\n",
       "    <tr>\n",
       "      <th>ASUS</th>\n",
       "      <td>5.0000000</td>\n",
       "      <td>155</td>\n",
       "      <td>499.0000000</td>\n",
       "      <td>99.2500000</td>\n",
       "      <td>5</td>\n",
       "      <td>False</td>\n",
       "      <td>13.0000000</td>\n",
       "    </tr>\n",
       "    <tr>\n",
       "      <th>Apple</th>\n",
       "      <td>5.0000000</td>\n",
       "      <td>452</td>\n",
       "      <td>949.0000000</td>\n",
       "      <td>749.9900000</td>\n",
       "      <td>5</td>\n",
       "      <td>False</td>\n",
       "      <td>146.0000000</td>\n",
       "    </tr>\n",
       "    <tr>\n",
       "      <th>Google</th>\n",
       "      <td>4.5000000</td>\n",
       "      <td>455</td>\n",
       "      <td>668.8000000</td>\n",
       "      <td>899.0000000</td>\n",
       "      <td>5</td>\n",
       "      <td>False</td>\n",
       "      <td>728.0000000</td>\n",
       "    </tr>\n",
       "    <tr>\n",
       "      <th>HUAWEI</th>\n",
       "      <td>4.6000000</td>\n",
       "      <td>602</td>\n",
       "      <td>686.9900000</td>\n",
       "      <td>749.9900000</td>\n",
       "      <td>5</td>\n",
       "      <td>False</td>\n",
       "      <td>512.0000000</td>\n",
       "    </tr>\n",
       "    <tr>\n",
       "      <th>Motorola</th>\n",
       "      <td>4.5000000</td>\n",
       "      <td>836</td>\n",
       "      <td>449.0000000</td>\n",
       "      <td>699.9500000</td>\n",
       "      <td>5</td>\n",
       "      <td>False</td>\n",
       "      <td>324.0000000</td>\n",
       "    </tr>\n",
       "    <tr>\n",
       "      <th>Nokia</th>\n",
       "      <td>4.1000000</td>\n",
       "      <td>929</td>\n",
       "      <td>499.9900000</td>\n",
       "      <td>699.0000000</td>\n",
       "      <td>5</td>\n",
       "      <td>False</td>\n",
       "      <td>279.0000000</td>\n",
       "    </tr>\n",
       "    <tr>\n",
       "      <th>OnePlus</th>\n",
       "      <td>4.5000000</td>\n",
       "      <td>94</td>\n",
       "      <td>645.0000000</td>\n",
       "      <td>687.9000000</td>\n",
       "      <td>5</td>\n",
       "      <td>False</td>\n",
       "      <td>107.0000000</td>\n",
       "    </tr>\n",
       "    <tr>\n",
       "      <th>Samsung</th>\n",
       "      <td>5.0000000</td>\n",
       "      <td>983</td>\n",
       "      <td>999.9900000</td>\n",
       "      <td>999.9900000</td>\n",
       "      <td>5</td>\n",
       "      <td>False</td>\n",
       "      <td>597.0000000</td>\n",
       "    </tr>\n",
       "    <tr>\n",
       "      <th>Sony</th>\n",
       "      <td>4.5000000</td>\n",
       "      <td>441</td>\n",
       "      <td>948.0000000</td>\n",
       "      <td>949.9900000</td>\n",
       "      <td>5</td>\n",
       "      <td>False</td>\n",
       "      <td>210.0000000</td>\n",
       "    </tr>\n",
       "    <tr>\n",
       "      <th>Xiaomi</th>\n",
       "      <td>5.0000000</td>\n",
       "      <td>630</td>\n",
       "      <td>486.5700000</td>\n",
       "      <td>514.8200000</td>\n",
       "      <td>5</td>\n",
       "      <td>False</td>\n",
       "      <td>219.0000000</td>\n",
       "    </tr>\n",
       "  </tbody>\n",
       "</table>\n",
       "</div>"
      ],
      "text/plain": [
       "          user_rating  totalReviews       price  originalPrice  \\\n",
       "brand                                                            \n",
       "ASUS        5.0000000           155 499.0000000     99.2500000   \n",
       "Apple       5.0000000           452 949.0000000    749.9900000   \n",
       "Google      4.5000000           455 668.8000000    899.0000000   \n",
       "HUAWEI      4.6000000           602 686.9900000    749.9900000   \n",
       "Motorola    4.5000000           836 449.0000000    699.9500000   \n",
       "Nokia       4.1000000           929 499.9900000    699.0000000   \n",
       "OnePlus     4.5000000            94 645.0000000    687.9000000   \n",
       "Samsung     5.0000000           983 999.9900000    999.9900000   \n",
       "Sony        4.5000000           441 948.0000000    949.9900000   \n",
       "Xiaomi      5.0000000           630 486.5700000    514.8200000   \n",
       "\n",
       "          overall_rating  verified  helpfulVotes  \n",
       "brand                                             \n",
       "ASUS                   5     False    13.0000000  \n",
       "Apple                  5     False   146.0000000  \n",
       "Google                 5     False   728.0000000  \n",
       "HUAWEI                 5     False   512.0000000  \n",
       "Motorola               5     False   324.0000000  \n",
       "Nokia                  5     False   279.0000000  \n",
       "OnePlus                5     False   107.0000000  \n",
       "Samsung                5     False   597.0000000  \n",
       "Sony                   5     False   210.0000000  \n",
       "Xiaomi                 5     False   219.0000000  "
      ]
     },
     "execution_count": 15,
     "metadata": {},
     "output_type": "execute_result"
    }
   ],
   "source": [
    "p.groupby('brand').max('totalReviews')"
   ]
  },
  {
   "cell_type": "markdown",
   "metadata": {},
   "source": [
    "Samsung"
   ]
  },
  {
   "cell_type": "markdown",
   "metadata": {
    "id": "gPGjMFE-0Q5k"
   },
   "source": [
    "### 4.12 Drop irrelevant columns and keep important features like 'brand','body','price','user_rating','review_title' for further analysis"
   ]
  },
  {
   "cell_type": "code",
   "execution_count": 16,
   "metadata": {
    "id": "J_IvLN6e0e6z"
   },
   "outputs": [
    {
     "data": {
      "text/plain": [
       "Index(['brand', 'body', 'price', 'user_rating', 'review_title'], dtype='object')"
      ]
     },
     "execution_count": 16,
     "metadata": {},
     "output_type": "execute_result"
    }
   ],
   "source": [
    "p=p[['brand','body','price','user_rating','review_title' ]]\n",
    "p.columns"
   ]
  },
  {
   "cell_type": "markdown",
   "metadata": {
    "id": "Gzo_rVT60fDf"
   },
   "source": [
    "### 4.13 Perform univariate analysis. Check distribution of price, user_rating"
   ]
  },
  {
   "cell_type": "code",
   "execution_count": 17,
   "metadata": {
    "id": "F3vzILxZ0t0L"
   },
   "outputs": [
    {
     "data": {
      "text/plain": [
       "<AxesSubplot:xlabel='price', ylabel='Density'>"
      ]
     },
     "execution_count": 17,
     "metadata": {},
     "output_type": "execute_result"
    },
    {
     "data": {
      "image/png": "[encoded data removed]",
      "text/plain": [
       "<Figure size 432x288 with 1 Axes>"
      ]
     },
     "metadata": {
      "needs_background": "light"
     },
     "output_type": "display_data"
    }
   ],
   "source": [
    "sns.distplot(p['price'])"
   ]
  },
  {
   "cell_type": "code",
   "execution_count": 18,
   "metadata": {},
   "outputs": [
    {
     "data": {
      "text/plain": [
       "<AxesSubplot:xlabel='user_rating', ylabel='Density'>"
      ]
     },
     "execution_count": 18,
     "metadata": {},
     "output_type": "execute_result"
    },
    {
     "data": {
      "image/png": "[encoded data removed]",
      "text/plain": [
       "<Figure size 432x288 with 1 Axes>"
      ]
     },
     "metadata": {
      "needs_background": "light"
     },
     "output_type": "display_data"
    }
   ],
   "source": [
    "sns.distplot(p['user_rating'])"
   ]
  },
  {
   "cell_type": "markdown",
   "metadata": {
    "id": "x0Y_kE9T0uAf"
   },
   "source": [
    "### 4.14 Create a new column called \"sentiment\". It should have value as 1 (positive) if the user_Rating is greater than 3, value as 0 (neutral) if the user_Rating == 3, and -1 (negative) is the user_Rating is less than 3."
   ]
  },
  {
   "cell_type": "code",
   "execution_count": 19,
   "metadata": {
    "id": "jGon-2xU1Ujb"
   },
   "outputs": [],
   "source": [
    "c=[(p['user_rating']>3),(p['user_rating']==3),(p['user_rating']<3)]\n",
    "v=[1,0,-1]\n",
    "p['sentiment']=np.select(c,v)"
   ]
  },
  {
   "cell_type": "markdown",
   "metadata": {
    "id": "K4rxSZWp1VAb"
   },
   "source": [
    "### 4.15 Check frequency distribution of the 'sentiment'"
   ]
  },
  {
   "cell_type": "code",
   "execution_count": 20,
   "metadata": {
    "id": "yt3gH7Iz1dVP"
   },
   "outputs": [
    {
     "data": {
      "text/plain": [
       " 1    6185\n",
       " 0     342\n",
       "-1     234\n",
       "Name: sentiment, dtype: int64"
      ]
     },
     "execution_count": 20,
     "metadata": {},
     "output_type": "execute_result"
    }
   ],
   "source": [
    "p['sentiment'].value_counts()"
   ]
  },
  {
   "cell_type": "markdown",
   "metadata": {
    "id": "rK0KMghP1ddb"
   },
   "source": [
    "### 4.16 Perform bivariate analysis. Check correlation/crosstab between features and write your inferences."
   ]
  },
  {
   "cell_type": "code",
   "execution_count": 21,
   "metadata": {
    "id": "scAV4fRg1nX0"
   },
   "outputs": [
    {
     "data": {
      "text/html": [
       "<div>\n",
       "<style scoped>\n",
       "    .dataframe tbody tr th:only-of-type {\n",
       "        vertical-align: middle;\n",
       "    }\n",
       "\n",
       "    .dataframe tbody tr th {\n",
       "        vertical-align: top;\n",
       "    }\n",
       "\n",
       "    .dataframe thead th {\n",
       "        text-align: right;\n",
       "    }\n",
       "</style>\n",
       "<table border=\"1\" class=\"dataframe\">\n",
       "  <thead>\n",
       "    <tr style=\"text-align: right;\">\n",
       "      <th></th>\n",
       "      <th>price</th>\n",
       "      <th>user_rating</th>\n",
       "      <th>sentiment</th>\n",
       "    </tr>\n",
       "  </thead>\n",
       "  <tbody>\n",
       "    <tr>\n",
       "      <th>price</th>\n",
       "      <td>1.0000000</td>\n",
       "      <td>0.3934011</td>\n",
       "      <td>0.1197961</td>\n",
       "    </tr>\n",
       "    <tr>\n",
       "      <th>user_rating</th>\n",
       "      <td>0.3934011</td>\n",
       "      <td>1.0000000</td>\n",
       "      <td>0.5682841</td>\n",
       "    </tr>\n",
       "    <tr>\n",
       "      <th>sentiment</th>\n",
       "      <td>0.1197961</td>\n",
       "      <td>0.5682841</td>\n",
       "      <td>1.0000000</td>\n",
       "    </tr>\n",
       "  </tbody>\n",
       "</table>\n",
       "</div>"
      ],
      "text/plain": [
       "                price  user_rating  sentiment\n",
       "price       1.0000000    0.3934011  0.1197961\n",
       "user_rating 0.3934011    1.0000000  0.5682841\n",
       "sentiment   0.1197961    0.5682841  1.0000000"
      ]
     },
     "execution_count": 21,
     "metadata": {},
     "output_type": "execute_result"
    }
   ],
   "source": [
    "p.corr()"
   ]
  },
  {
   "cell_type": "markdown",
   "metadata": {
    "id": "2Nzj7ZXVLakx"
   },
   "source": [
    "## 5. Text Preprocessing and Vectorization"
   ]
  },
  {
   "cell_type": "markdown",
   "metadata": {
    "id": "ZbC_RPndnlf3"
   },
   "source": [
    "We will analyze the 'body' and 'review_title' to gain more understanding.\n",
    "\n",
    "We will ppeform the below tasks\n",
    "\n",
    "- Convert the text into lowercase\n",
    "- Remove punctuation\n",
    "- Remove stopwords (English, from nltk corpus)\n",
    "- Remove other keywords like \"phone\" and brand name"
   ]
  },
  {
   "cell_type": "markdown",
   "metadata": {
    "id": "XnhMQsxz2DJH"
   },
   "source": [
    "### 5.1 Change the datatype of the 'body' column to 'str' and convert it into lowercase. Print any two samples and check the output."
   ]
  },
  {
   "cell_type": "code",
   "execution_count": 22,
   "metadata": {
    "id": "1DbTf2yc2VOQ"
   },
   "outputs": [
    {
     "name": "stdout",
     "output_type": "stream",
     "text": [
      "<class 'pandas.core.frame.DataFrame'>\n",
      "Int64Index: 6761 entries, 0 to 67985\n",
      "Data columns (total 6 columns):\n",
      " #   Column        Non-Null Count  Dtype  \n",
      "---  ------        --------------  -----  \n",
      " 0   brand         6708 non-null   object \n",
      " 1   body          6758 non-null   object \n",
      " 2   price         6761 non-null   float64\n",
      " 3   user_rating   6761 non-null   float64\n",
      " 4   review_title  6761 non-null   object \n",
      " 5   sentiment     6761 non-null   int32  \n",
      "dtypes: float64(2), int32(1), object(3)\n",
      "memory usage: 343.3+ KB\n"
     ]
    }
   ],
   "source": [
    "p['body'].astype('str')\n",
    "p.info()"
   ]
  },
  {
   "cell_type": "code",
   "execution_count": 23,
   "metadata": {},
   "outputs": [
    {
     "data": {
      "text/html": [
       "<div>\n",
       "<style scoped>\n",
       "    .dataframe tbody tr th:only-of-type {\n",
       "        vertical-align: middle;\n",
       "    }\n",
       "\n",
       "    .dataframe tbody tr th {\n",
       "        vertical-align: top;\n",
       "    }\n",
       "\n",
       "    .dataframe thead th {\n",
       "        text-align: right;\n",
       "    }\n",
       "</style>\n",
       "<table border=\"1\" class=\"dataframe\">\n",
       "  <thead>\n",
       "    <tr style=\"text-align: right;\">\n",
       "      <th></th>\n",
       "      <th>brand</th>\n",
       "      <th>body</th>\n",
       "      <th>price</th>\n",
       "      <th>user_rating</th>\n",
       "      <th>review_title</th>\n",
       "      <th>sentiment</th>\n",
       "    </tr>\n",
       "  </thead>\n",
       "  <tbody>\n",
       "    <tr>\n",
       "      <th>0</th>\n",
       "      <td>NaN</td>\n",
       "      <td>i had the samsung a600 for awhile which is abs...</td>\n",
       "      <td>0.0000000</td>\n",
       "      <td>3.0000000</td>\n",
       "      <td>Dual-Band / Tri-Mode Sprint PCS Phone w/ Voice...</td>\n",
       "      <td>0</td>\n",
       "    </tr>\n",
       "    <tr>\n",
       "      <th>1</th>\n",
       "      <td>NaN</td>\n",
       "      <td>due to a software issue between nokia and spri...</td>\n",
       "      <td>0.0000000</td>\n",
       "      <td>3.0000000</td>\n",
       "      <td>Dual-Band / Tri-Mode Sprint PCS Phone w/ Voice...</td>\n",
       "      <td>0</td>\n",
       "    </tr>\n",
       "  </tbody>\n",
       "</table>\n",
       "</div>"
      ],
      "text/plain": [
       "  brand                                               body     price  \\\n",
       "0   NaN  i had the samsung a600 for awhile which is abs... 0.0000000   \n",
       "1   NaN  due to a software issue between nokia and spri... 0.0000000   \n",
       "\n",
       "   user_rating                                       review_title  sentiment  \n",
       "0    3.0000000  Dual-Band / Tri-Mode Sprint PCS Phone w/ Voice...          0  \n",
       "1    3.0000000  Dual-Band / Tri-Mode Sprint PCS Phone w/ Voice...          0  "
      ]
     },
     "execution_count": 23,
     "metadata": {},
     "output_type": "execute_result"
    }
   ],
   "source": [
    "p['body']=p['body'].str.lower()\n",
    "p.head(2)"
   ]
  },
  {
   "cell_type": "markdown",
   "metadata": {
    "id": "lsppV0X52VXf"
   },
   "source": [
    "### 5.2 Remove punctuations from the lowercased 'body' column and display at least two samples."
   ]
  },
  {
   "cell_type": "code",
   "execution_count": 24,
   "metadata": {
    "id": "lQXKc8et2onG"
   },
   "outputs": [],
   "source": [
    "p['body']=p['body'].str.replace('[^\\w\\s]','')"
   ]
  },
  {
   "cell_type": "code",
   "execution_count": 25,
   "metadata": {},
   "outputs": [
    {
     "data": {
      "text/html": [
       "<div>\n",
       "<style scoped>\n",
       "    .dataframe tbody tr th:only-of-type {\n",
       "        vertical-align: middle;\n",
       "    }\n",
       "\n",
       "    .dataframe tbody tr th {\n",
       "        vertical-align: top;\n",
       "    }\n",
       "\n",
       "    .dataframe thead th {\n",
       "        text-align: right;\n",
       "    }\n",
       "</style>\n",
       "<table border=\"1\" class=\"dataframe\">\n",
       "  <thead>\n",
       "    <tr style=\"text-align: right;\">\n",
       "      <th></th>\n",
       "      <th>brand</th>\n",
       "      <th>body</th>\n",
       "      <th>price</th>\n",
       "      <th>user_rating</th>\n",
       "      <th>review_title</th>\n",
       "      <th>sentiment</th>\n",
       "    </tr>\n",
       "  </thead>\n",
       "  <tbody>\n",
       "    <tr>\n",
       "      <th>3784</th>\n",
       "      <td>Motorola</td>\n",
       "      <td>bought this phone for my wife this weekend our...</td>\n",
       "      <td>349.9900000</td>\n",
       "      <td>3.0000000</td>\n",
       "      <td>Motorola Droid RAZR M XT907 Verizon Wireless, ...</td>\n",
       "      <td>0</td>\n",
       "    </tr>\n",
       "    <tr>\n",
       "      <th>27003</th>\n",
       "      <td>Google</td>\n",
       "      <td>does it work in south korea</td>\n",
       "      <td>201.4800000</td>\n",
       "      <td>3.4000000</td>\n",
       "      <td>Google Pixel XL G2PW210032GBBK Factory Unlocke...</td>\n",
       "      <td>1</td>\n",
       "    </tr>\n",
       "    <tr>\n",
       "      <th>56438</th>\n",
       "      <td>Sony</td>\n",
       "      <td>i have not had a smartphone before and have be...</td>\n",
       "      <td>327.9900000</td>\n",
       "      <td>3.5000000</td>\n",
       "      <td>Sony Xperia 10 Plus GSM Unlocked Smartphone - ...</td>\n",
       "      <td>1</td>\n",
       "    </tr>\n",
       "    <tr>\n",
       "      <th>20216</th>\n",
       "      <td>Samsung</td>\n",
       "      <td>arrived earlynice phonebe nice to get discount...</td>\n",
       "      <td>0.0000000</td>\n",
       "      <td>3.7000000</td>\n",
       "      <td>Samsung Galaxy S4 16GB Black SPH-L720T Tri-Ban...</td>\n",
       "      <td>1</td>\n",
       "    </tr>\n",
       "    <tr>\n",
       "      <th>30734</th>\n",
       "      <td>Sony</td>\n",
       "      <td>this phone got a software glitch 5 days after ...</td>\n",
       "      <td>249.9900000</td>\n",
       "      <td>3.0000000</td>\n",
       "      <td>Sony Xperia XA1 G3123 32GB Unlocked GSM LTE Oc...</td>\n",
       "      <td>0</td>\n",
       "    </tr>\n",
       "  </tbody>\n",
       "</table>\n",
       "</div>"
      ],
      "text/plain": [
       "          brand                                               body  \\\n",
       "3784   Motorola  bought this phone for my wife this weekend our...   \n",
       "27003    Google                        does it work in south korea   \n",
       "56438      Sony  i have not had a smartphone before and have be...   \n",
       "20216   Samsung  arrived earlynice phonebe nice to get discount...   \n",
       "30734      Sony  this phone got a software glitch 5 days after ...   \n",
       "\n",
       "            price  user_rating  \\\n",
       "3784  349.9900000    3.0000000   \n",
       "27003 201.4800000    3.4000000   \n",
       "56438 327.9900000    3.5000000   \n",
       "20216   0.0000000    3.7000000   \n",
       "30734 249.9900000    3.0000000   \n",
       "\n",
       "                                            review_title  sentiment  \n",
       "3784   Motorola Droid RAZR M XT907 Verizon Wireless, ...          0  \n",
       "27003  Google Pixel XL G2PW210032GBBK Factory Unlocke...          1  \n",
       "56438  Sony Xperia 10 Plus GSM Unlocked Smartphone - ...          1  \n",
       "20216  Samsung Galaxy S4 16GB Black SPH-L720T Tri-Ban...          1  \n",
       "30734  Sony Xperia XA1 G3123 32GB Unlocked GSM LTE Oc...          0  "
      ]
     },
     "execution_count": 25,
     "metadata": {},
     "output_type": "execute_result"
    }
   ],
   "source": [
    "p.sample(n=5)"
   ]
  },
  {
   "cell_type": "markdown",
   "metadata": {
    "id": "8Zk7ja6A2owN"
   },
   "source": [
    "### 5.3 Remove stop words from the above pre-processed 'body' column and display at least two samples."
   ]
  },
  {
   "cell_type": "code",
   "execution_count": 26,
   "metadata": {
    "id": "1d-DhX_e2yQ-"
   },
   "outputs": [
    {
     "data": {
      "text/html": [
       "<div>\n",
       "<style scoped>\n",
       "    .dataframe tbody tr th:only-of-type {\n",
       "        vertical-align: middle;\n",
       "    }\n",
       "\n",
       "    .dataframe tbody tr th {\n",
       "        vertical-align: top;\n",
       "    }\n",
       "\n",
       "    .dataframe thead th {\n",
       "        text-align: right;\n",
       "    }\n",
       "</style>\n",
       "<table border=\"1\" class=\"dataframe\">\n",
       "  <thead>\n",
       "    <tr style=\"text-align: right;\">\n",
       "      <th></th>\n",
       "      <th>brand</th>\n",
       "      <th>body</th>\n",
       "      <th>price</th>\n",
       "      <th>user_rating</th>\n",
       "      <th>review_title</th>\n",
       "      <th>sentiment</th>\n",
       "    </tr>\n",
       "  </thead>\n",
       "  <tbody>\n",
       "    <tr>\n",
       "      <th>0</th>\n",
       "      <td>NaN</td>\n",
       "      <td>[samsung, a600, awhile, absolute, doo, doo, re...</td>\n",
       "      <td>0.0000000</td>\n",
       "      <td>3.0000000</td>\n",
       "      <td>Dual-Band / Tri-Mode Sprint PCS Phone w/ Voice...</td>\n",
       "      <td>0</td>\n",
       "    </tr>\n",
       "    <tr>\n",
       "      <th>1</th>\n",
       "      <td>NaN</td>\n",
       "      <td>[due, software, issue, nokia, sprint, phones, ...</td>\n",
       "      <td>0.0000000</td>\n",
       "      <td>3.0000000</td>\n",
       "      <td>Dual-Band / Tri-Mode Sprint PCS Phone w/ Voice...</td>\n",
       "      <td>0</td>\n",
       "    </tr>\n",
       "  </tbody>\n",
       "</table>\n",
       "</div>"
      ],
      "text/plain": [
       "  brand                                               body     price  \\\n",
       "0   NaN  [samsung, a600, awhile, absolute, doo, doo, re... 0.0000000   \n",
       "1   NaN  [due, software, issue, nokia, sprint, phones, ... 0.0000000   \n",
       "\n",
       "   user_rating                                       review_title  sentiment  \n",
       "0    3.0000000  Dual-Band / Tri-Mode Sprint PCS Phone w/ Voice...          0  \n",
       "1    3.0000000  Dual-Band / Tri-Mode Sprint PCS Phone w/ Voice...          0  "
      ]
     },
     "execution_count": 26,
     "metadata": {},
     "output_type": "execute_result"
    }
   ],
   "source": [
    "from nltk.corpus import stopwords\n",
    "s=stopwords.words('english')\n",
    "p['body']=p['body'].apply(lambda x:[i for i in str(x).split() if i not in s])\n",
    "p.head(2)"
   ]
  },
  {
   "cell_type": "markdown",
   "metadata": {
    "id": "TQNvXay42yaQ"
   },
   "source": [
    "### 5.4 Apply lemmatisation on the above preprocessed text and display a few samples"
   ]
  },
  {
   "cell_type": "code",
   "execution_count": 27,
   "metadata": {
    "id": "oQ1VfFaa3DET"
   },
   "outputs": [
    {
     "data": {
      "text/html": [
       "<div>\n",
       "<style scoped>\n",
       "    .dataframe tbody tr th:only-of-type {\n",
       "        vertical-align: middle;\n",
       "    }\n",
       "\n",
       "    .dataframe tbody tr th {\n",
       "        vertical-align: top;\n",
       "    }\n",
       "\n",
       "    .dataframe thead th {\n",
       "        text-align: right;\n",
       "    }\n",
       "</style>\n",
       "<table border=\"1\" class=\"dataframe\">\n",
       "  <thead>\n",
       "    <tr style=\"text-align: right;\">\n",
       "      <th></th>\n",
       "      <th>brand</th>\n",
       "      <th>body</th>\n",
       "      <th>price</th>\n",
       "      <th>user_rating</th>\n",
       "      <th>review_title</th>\n",
       "      <th>sentiment</th>\n",
       "    </tr>\n",
       "  </thead>\n",
       "  <tbody>\n",
       "    <tr>\n",
       "      <th>0</th>\n",
       "      <td>NaN</td>\n",
       "      <td>[samsung, a600, awhile, absolute, doo, doo, re...</td>\n",
       "      <td>0.0000000</td>\n",
       "      <td>3.0000000</td>\n",
       "      <td>Dual-Band / Tri-Mode Sprint PCS Phone w/ Voice...</td>\n",
       "      <td>0</td>\n",
       "    </tr>\n",
       "    <tr>\n",
       "      <th>1</th>\n",
       "      <td>NaN</td>\n",
       "      <td>[due, software, issue, nokia, sprint, phone, t...</td>\n",
       "      <td>0.0000000</td>\n",
       "      <td>3.0000000</td>\n",
       "      <td>Dual-Band / Tri-Mode Sprint PCS Phone w/ Voice...</td>\n",
       "      <td>0</td>\n",
       "    </tr>\n",
       "    <tr>\n",
       "      <th>2</th>\n",
       "      <td>NaN</td>\n",
       "      <td>[great, reliable, phone, also, purchased, phon...</td>\n",
       "      <td>0.0000000</td>\n",
       "      <td>3.0000000</td>\n",
       "      <td>Dual-Band / Tri-Mode Sprint PCS Phone w/ Voice...</td>\n",
       "      <td>0</td>\n",
       "    </tr>\n",
       "    <tr>\n",
       "      <th>3</th>\n",
       "      <td>NaN</td>\n",
       "      <td>[love, phone, really, need, one, didnt, expect...</td>\n",
       "      <td>0.0000000</td>\n",
       "      <td>3.0000000</td>\n",
       "      <td>Dual-Band / Tri-Mode Sprint PCS Phone w/ Voice...</td>\n",
       "      <td>0</td>\n",
       "    </tr>\n",
       "    <tr>\n",
       "      <th>4</th>\n",
       "      <td>NaN</td>\n",
       "      <td>[phone, great, every, purpose, offer, except, ...</td>\n",
       "      <td>0.0000000</td>\n",
       "      <td>3.0000000</td>\n",
       "      <td>Dual-Band / Tri-Mode Sprint PCS Phone w/ Voice...</td>\n",
       "      <td>0</td>\n",
       "    </tr>\n",
       "  </tbody>\n",
       "</table>\n",
       "</div>"
      ],
      "text/plain": [
       "  brand                                               body     price  \\\n",
       "0   NaN  [samsung, a600, awhile, absolute, doo, doo, re... 0.0000000   \n",
       "1   NaN  [due, software, issue, nokia, sprint, phone, t... 0.0000000   \n",
       "2   NaN  [great, reliable, phone, also, purchased, phon... 0.0000000   \n",
       "3   NaN  [love, phone, really, need, one, didnt, expect... 0.0000000   \n",
       "4   NaN  [phone, great, every, purpose, offer, except, ... 0.0000000   \n",
       "\n",
       "   user_rating                                       review_title  sentiment  \n",
       "0    3.0000000  Dual-Band / Tri-Mode Sprint PCS Phone w/ Voice...          0  \n",
       "1    3.0000000  Dual-Band / Tri-Mode Sprint PCS Phone w/ Voice...          0  \n",
       "2    3.0000000  Dual-Band / Tri-Mode Sprint PCS Phone w/ Voice...          0  \n",
       "3    3.0000000  Dual-Band / Tri-Mode Sprint PCS Phone w/ Voice...          0  \n",
       "4    3.0000000  Dual-Band / Tri-Mode Sprint PCS Phone w/ Voice...          0  "
      ]
     },
     "execution_count": 27,
     "metadata": {},
     "output_type": "execute_result"
    }
   ],
   "source": [
    "import nltk\n",
    "# t=nltk.tokenize.WhitespaceTokenizer()\n",
    "l=nltk.stem.WordNetLemmatizer()\n",
    "def lt(te):\n",
    "    return [l.lemmatize(w) for w in te]\n",
    "p['body']=p.body.apply(lt)\n",
    "p.head()"
   ]
  },
  {
   "cell_type": "markdown",
   "metadata": {
    "id": "OzweL_fA3DiN"
   },
   "source": [
    "### 5.5 Write a function to check word frequency of the text"
   ]
  },
  {
   "cell_type": "code",
   "execution_count": 28,
   "metadata": {
    "id": "MzIAyX3N6lz5"
   },
   "outputs": [],
   "source": [
    "a=[]\n",
    "def f(s):\n",
    "    for i in s.split():\n",
    "        if i not in a:\n",
    "            a.append(i)\n",
    "    for i in a:\n",
    "        print(i,s.count(i))"
   ]
  },
  {
   "cell_type": "markdown",
   "metadata": {
    "id": "s0UgcEo_6l8O"
   },
   "source": [
    "### 5.6 Check word frequency of review having top ratings (sentiment = 1) and display output of few samples"
   ]
  },
  {
   "cell_type": "code",
   "execution_count": 29,
   "metadata": {
    "id": "BLEEFEmv60mU"
   },
   "outputs": [
    {
     "name": "stdout",
     "output_type": "stream",
     "text": [
      "Motorola 1\n",
      "i335 1\n",
      "Cell 1\n",
      "Phone 1\n",
      "Boost 1\n",
      "Mobile 1\n",
      "Motorola 1\n",
      "i335 1\n",
      "Cell 1\n",
      "Phone 1\n",
      "Boost 1\n",
      "Mobile 1\n"
     ]
    },
    {
     "data": {
      "text/plain": [
       "54    None\n",
       "55    None\n",
       "Name: review_title, dtype: object"
      ]
     },
     "execution_count": 29,
     "metadata": {},
     "output_type": "execute_result"
    }
   ],
   "source": [
    "d=p[p['sentiment']==1]\n",
    "d['review_title'][0:2].apply(f)"
   ]
  },
  {
   "cell_type": "markdown",
   "metadata": {
    "id": "9UbdTGsv60t1"
   },
   "source": [
    "### 5.7 Initialize tf-idf vectorizer and transform the preprocessed body text"
   ]
  },
  {
   "cell_type": "code",
   "execution_count": 30,
   "metadata": {
    "id": "_Jfo6go_69yh"
   },
   "outputs": [],
   "source": [
    "from sklearn.feature_extraction.text import TfidfVectorizer\n",
    "v=TfidfVectorizer()\n",
    "p['body']=[' '.join(i) for i in p['body'].values]\n",
    "a=p['body']\n",
    "x=v.fit_transform(a)"
   ]
  },
  {
   "cell_type": "markdown",
   "metadata": {
    "id": "5dqPXETLKN0h"
   },
   "source": [
    "### 5.8 Segregate the data into dependent (sentiment) and independent (transformed body using tf-idf) features for building a classifier. "
   ]
  },
  {
   "cell_type": "code",
   "execution_count": 31,
   "metadata": {
    "id": "mpOLAYn07W6F"
   },
   "outputs": [],
   "source": [
    "y=p['sentiment']"
   ]
  },
  {
   "cell_type": "markdown",
   "metadata": {
    "id": "4K03FO0q7XBP"
   },
   "source": [
    "### 5.9 Split the data into Train & Test Sets"
   ]
  },
  {
   "cell_type": "code",
   "execution_count": 32,
   "metadata": {
    "id": "D548-7cE7dZa"
   },
   "outputs": [],
   "source": [
    "from sklearn.model_selection import train_test_split\n",
    "xt,xte,yt,yte=train_test_split(x,y)"
   ]
  },
  {
   "cell_type": "markdown",
   "metadata": {
    "id": "rhD1a-beKvE7"
   },
   "source": [
    "## 6. Model building"
   ]
  },
  {
   "cell_type": "markdown",
   "metadata": {
    "id": "UPFovmN03exD"
   },
   "source": [
    "### 6.1 Build a random forest classifier to predict the 'sentiment'\n",
    "### 6.2 Predict on test set\n",
    "### 6.3 Check accuracy and confusion matrix"
   ]
  },
  {
   "cell_type": "code",
   "execution_count": 33,
   "metadata": {
    "id": "y0ytdD-_30P9"
   },
   "outputs": [
    {
     "data": {
      "text/plain": [
       "array([1, 1, 1, ..., 1, 1, 1])"
      ]
     },
     "execution_count": 33,
     "metadata": {},
     "output_type": "execute_result"
    }
   ],
   "source": [
    "from sklearn.ensemble import RandomForestClassifier\n",
    "m=RandomForestClassifier()\n",
    "m.fit(xt,yt)\n",
    "m.predict(xte)"
   ]
  },
  {
   "cell_type": "code",
   "execution_count": 34,
   "metadata": {
    "id": "NJ6Ke4hl30Zk"
   },
   "outputs": [
    {
     "data": {
      "text/plain": [
       "0.9183914843287996"
      ]
     },
     "execution_count": 34,
     "metadata": {},
     "output_type": "execute_result"
    }
   ],
   "source": [
    "m.score(xte,yte)"
   ]
  },
  {
   "cell_type": "code",
   "execution_count": 35,
   "metadata": {},
   "outputs": [],
   "source": [
    "from sklearn.metrics import confusion_matrix"
   ]
  },
  {
   "cell_type": "code",
   "execution_count": 37,
   "metadata": {},
   "outputs": [
    {
     "name": "stdout",
     "output_type": "stream",
     "text": [
      "[[   1    0   56]\n",
      " [   0    4   78]\n",
      " [   1    3 1548]]\n"
     ]
    }
   ],
   "source": [
    "print(confusion_matrix(yte,m.predict(xte)))"
   ]
  },
  {
   "cell_type": "markdown",
   "metadata": {
    "id": "Ey7an7ukLxWB"
   },
   "source": [
    "## 7. Write your conclusion"
   ]
  },
  {
   "cell_type": "markdown",
   "metadata": {
    "id": "0csFkbEJmSIe"
   },
   "source": [
    "getting accuracy of 91% on test data,which is good and most of the values in confusion matrix are on the diagonal which indicates correct classification and due to severe class imbalance it has got the majority class right most of the times and misclassified the other 2 minority classes as majority class"
   ]
  },
  {
   "cell_type": "code",
   "execution_count": null,
   "metadata": {},
   "outputs": [],
   "source": []
  }
 ],
 "metadata": {
  "colab": {
   "collapsed_sections": [
    "x_Lom6cXzqn7",
    "fze-aokU0ukH"
   ],
   "name": "R8 Internal Lab Question Notebook.ipynb",
   "provenance": []
  },
  "kernelspec": {
   "display_name": "Python 3",
   "language": "python",
   "name": "python3"
  },
  "language_info": {
   "codemirror_mode": {
    "name": "ipython",
    "version": 3
   },
   "file_extension": ".py",
   "mimetype": "text/x-python",
   "name": "python",
   "nbconvert_exporter": "python",
   "pygments_lexer": "ipython3",
   "version": "3.8.5"
  }
 },
 "nbformat": 4,
 "nbformat_minor": 1
}
